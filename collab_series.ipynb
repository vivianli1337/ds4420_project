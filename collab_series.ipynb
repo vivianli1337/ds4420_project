{
 "cells": [
  {
   "cell_type": "markdown",
   "id": "840f7667",
   "metadata": {},
   "source": [
    "Time Series Analysis\n",
    "- Sales trends over time for each item\n",
    "- forecasting:\n",
    "    - Built arima models for each individual item using monthly sales data.\n",
    "    - Forecasted future sales for the next 6 months.\n",
    "    - Visualized both historical and predicted values using Plotly charts.\n",
    "\n",
    "\n",
    "CF:\n",
    "- Created a user-item review matrix (customers × clothing items).\n",
    "- Used cosine similarity to compute item-item similarity based on review patterns.\n",
    "- Built a tool to recommend items similar to any given product.\n",
    "    - Hybrid Bundling (Co-purchase + Similarity):\n",
    "        - Constructed a co-purchase matrix to see which items are bought together.\n",
    "        - Combined this with cosine similarity scores to create a hybrid bundle ranking.\n",
    "        - Generated top 3 bundle suggestions for every item.\n"
   ]
  },
  {
   "cell_type": "code",
   "execution_count": 1,
   "id": "5a3f1056-6ec6-4092-a861-f78d9d88c1c7",
   "metadata": {},
   "outputs": [],
   "source": [
    "import pandas as pd\n",
    "from datetime import datetime\n",
    "import numpy as np\n",
    "from sklearn.metrics.pairwise import cosine_similarity\n",
    "import plotly.graph_objects as go\n",
    "import matplotlib.pyplot as plt\n",
    "import seaborn as sns\n"
   ]
  },
  {
   "cell_type": "code",
   "execution_count": 2,
   "id": "7bcc145f-7eb2-489c-97f2-f8e4f96aa768",
   "metadata": {},
   "outputs": [
    {
     "data": {
      "text/html": [
       "<div>\n",
       "<style scoped>\n",
       "    .dataframe tbody tr th:only-of-type {\n",
       "        vertical-align: middle;\n",
       "    }\n",
       "\n",
       "    .dataframe tbody tr th {\n",
       "        vertical-align: top;\n",
       "    }\n",
       "\n",
       "    .dataframe thead th {\n",
       "        text-align: right;\n",
       "    }\n",
       "</style>\n",
       "<table border=\"1\" class=\"dataframe\">\n",
       "  <thead>\n",
       "    <tr style=\"text-align: right;\">\n",
       "      <th></th>\n",
       "      <th>customerID</th>\n",
       "      <th>item</th>\n",
       "      <th>amount_usd</th>\n",
       "      <th>date</th>\n",
       "      <th>review</th>\n",
       "      <th>payment</th>\n",
       "      <th>month</th>\n",
       "    </tr>\n",
       "  </thead>\n",
       "  <tbody>\n",
       "    <tr>\n",
       "      <th>0</th>\n",
       "      <td>4115</td>\n",
       "      <td>Tunic</td>\n",
       "      <td>2456.0</td>\n",
       "      <td>2023-07-11</td>\n",
       "      <td>2.0</td>\n",
       "      <td>Credit Card</td>\n",
       "      <td>2023-07</td>\n",
       "    </tr>\n",
       "    <tr>\n",
       "      <th>1</th>\n",
       "      <td>4019</td>\n",
       "      <td>Tank Top</td>\n",
       "      <td>2102.0</td>\n",
       "      <td>2023-03-23</td>\n",
       "      <td>4.1</td>\n",
       "      <td>Cash</td>\n",
       "      <td>2023-03</td>\n",
       "    </tr>\n",
       "    <tr>\n",
       "      <th>2</th>\n",
       "      <td>4097</td>\n",
       "      <td>Leggings</td>\n",
       "      <td>3126.0</td>\n",
       "      <td>2023-03-15</td>\n",
       "      <td>3.2</td>\n",
       "      <td>Cash</td>\n",
       "      <td>2023-03</td>\n",
       "    </tr>\n",
       "    <tr>\n",
       "      <th>3</th>\n",
       "      <td>4080</td>\n",
       "      <td>Onesie</td>\n",
       "      <td>2914.0</td>\n",
       "      <td>2022-12-11</td>\n",
       "      <td>4.5</td>\n",
       "      <td>Credit Card</td>\n",
       "      <td>2022-12</td>\n",
       "    </tr>\n",
       "    <tr>\n",
       "      <th>4</th>\n",
       "      <td>4055</td>\n",
       "      <td>Jacket</td>\n",
       "      <td>2571.0</td>\n",
       "      <td>2023-07-08</td>\n",
       "      <td>1.3</td>\n",
       "      <td>Cash</td>\n",
       "      <td>2023-07</td>\n",
       "    </tr>\n",
       "  </tbody>\n",
       "</table>\n",
       "</div>"
      ],
      "text/plain": [
       "   customerID      item  amount_usd       date  review      payment    month\n",
       "0        4115     Tunic      2456.0 2023-07-11     2.0  Credit Card  2023-07\n",
       "1        4019  Tank Top      2102.0 2023-03-23     4.1         Cash  2023-03\n",
       "2        4097  Leggings      3126.0 2023-03-15     3.2         Cash  2023-03\n",
       "3        4080    Onesie      2914.0 2022-12-11     4.5  Credit Card  2022-12\n",
       "4        4055    Jacket      2571.0 2023-07-08     1.3         Cash  2023-07"
      ]
     },
     "execution_count": 2,
     "metadata": {},
     "output_type": "execute_result"
    }
   ],
   "source": [
    "retail_df = pd.read_csv(\"retail_sales.csv\")\n",
    "\n",
    "# Clean and preprocess based on new columns\n",
    "retail_df['date'] = pd.to_datetime(retail_df['date'])\n",
    "retail_df['review'] = retail_df.groupby('item')['review'].transform(lambda x: x.fillna(x.mean()))\n",
    "retail_df['month'] = retail_df['date'].dt.to_period('M')\n",
    "retail_df['amount_usd'] = retail_df.groupby('item')['amount_usd'].transform(\n",
    "    lambda x: x.fillna(x.mean())\n",
    ")\n",
    "\n",
    "# Define the actual clothing items without the extra things\n",
    "clothing_items = [\n",
    "    'Tunic', 'Tank Top', 'Leggings', 'Onesie', 'Jacket', 'Trousers', 'Jeans',\n",
    "    'Pajamas', 'Trench Coat', 'Poncho', 'Romper', 'T-shirt', 'Shorts',\n",
    "    'Blazer', 'Hoodie', 'Sweater', 'Blouse', 'Swimsuit', 'Kimono', 'Cardigan',\n",
    "    'Dress', 'Camisole', 'Flannel Shirt', 'Polo Shirt', 'Overalls', 'Coat',\n",
    "    'Vest', 'Jumpsuit', 'Raincoat', 'Skirt', 'Pants'\n",
    "]\n",
    "# Filter df so it only has clothing items\n",
    "retail_df = retail_df[retail_df['item'].isin(clothing_items)].reset_index(drop=True)\n",
    "retail_df.head()"
   ]
  },
  {
   "cell_type": "code",
   "execution_count": 3,
   "id": "f6bc268c-7059-4836-b752-ba45aafec353",
   "metadata": {},
   "outputs": [
    {
     "data": {
      "text/html": [
       "<div>\n",
       "<style scoped>\n",
       "    .dataframe tbody tr th:only-of-type {\n",
       "        vertical-align: middle;\n",
       "    }\n",
       "\n",
       "    .dataframe tbody tr th {\n",
       "        vertical-align: top;\n",
       "    }\n",
       "\n",
       "    .dataframe thead th {\n",
       "        text-align: right;\n",
       "    }\n",
       "</style>\n",
       "<table border=\"1\" class=\"dataframe\">\n",
       "  <thead>\n",
       "    <tr style=\"text-align: right;\">\n",
       "      <th>item</th>\n",
       "      <th>Blazer</th>\n",
       "      <th>Blouse</th>\n",
       "      <th>Camisole</th>\n",
       "      <th>Cardigan</th>\n",
       "      <th>Coat</th>\n",
       "      <th>Dress</th>\n",
       "      <th>Flannel Shirt</th>\n",
       "      <th>Hoodie</th>\n",
       "      <th>Jacket</th>\n",
       "      <th>Jeans</th>\n",
       "      <th>...</th>\n",
       "      <th>Shorts</th>\n",
       "      <th>Skirt</th>\n",
       "      <th>Sweater</th>\n",
       "      <th>Swimsuit</th>\n",
       "      <th>T-shirt</th>\n",
       "      <th>Tank Top</th>\n",
       "      <th>Trench Coat</th>\n",
       "      <th>Trousers</th>\n",
       "      <th>Tunic</th>\n",
       "      <th>Vest</th>\n",
       "    </tr>\n",
       "    <tr>\n",
       "      <th>item</th>\n",
       "      <th></th>\n",
       "      <th></th>\n",
       "      <th></th>\n",
       "      <th></th>\n",
       "      <th></th>\n",
       "      <th></th>\n",
       "      <th></th>\n",
       "      <th></th>\n",
       "      <th></th>\n",
       "      <th></th>\n",
       "      <th></th>\n",
       "      <th></th>\n",
       "      <th></th>\n",
       "      <th></th>\n",
       "      <th></th>\n",
       "      <th></th>\n",
       "      <th></th>\n",
       "      <th></th>\n",
       "      <th></th>\n",
       "      <th></th>\n",
       "      <th></th>\n",
       "    </tr>\n",
       "  </thead>\n",
       "  <tbody>\n",
       "    <tr>\n",
       "      <th>Blazer</th>\n",
       "      <td>1.000000</td>\n",
       "      <td>0.348284</td>\n",
       "      <td>0.349055</td>\n",
       "      <td>0.331050</td>\n",
       "      <td>0.360024</td>\n",
       "      <td>0.296403</td>\n",
       "      <td>0.309295</td>\n",
       "      <td>0.319999</td>\n",
       "      <td>0.413664</td>\n",
       "      <td>0.321822</td>\n",
       "      <td>...</td>\n",
       "      <td>0.396543</td>\n",
       "      <td>0.308012</td>\n",
       "      <td>0.306777</td>\n",
       "      <td>0.204395</td>\n",
       "      <td>0.343553</td>\n",
       "      <td>0.383639</td>\n",
       "      <td>0.384337</td>\n",
       "      <td>0.300074</td>\n",
       "      <td>0.323443</td>\n",
       "      <td>0.282703</td>\n",
       "    </tr>\n",
       "    <tr>\n",
       "      <th>Blouse</th>\n",
       "      <td>0.348284</td>\n",
       "      <td>1.000000</td>\n",
       "      <td>0.238680</td>\n",
       "      <td>0.402870</td>\n",
       "      <td>0.344008</td>\n",
       "      <td>0.208683</td>\n",
       "      <td>0.222139</td>\n",
       "      <td>0.313108</td>\n",
       "      <td>0.289283</td>\n",
       "      <td>0.241549</td>\n",
       "      <td>...</td>\n",
       "      <td>0.308749</td>\n",
       "      <td>0.218849</td>\n",
       "      <td>0.254768</td>\n",
       "      <td>0.274967</td>\n",
       "      <td>0.363666</td>\n",
       "      <td>0.284071</td>\n",
       "      <td>0.264691</td>\n",
       "      <td>0.337129</td>\n",
       "      <td>0.232938</td>\n",
       "      <td>0.339633</td>\n",
       "    </tr>\n",
       "    <tr>\n",
       "      <th>Camisole</th>\n",
       "      <td>0.349055</td>\n",
       "      <td>0.238680</td>\n",
       "      <td>1.000000</td>\n",
       "      <td>0.279480</td>\n",
       "      <td>0.356068</td>\n",
       "      <td>0.235960</td>\n",
       "      <td>0.310948</td>\n",
       "      <td>0.346384</td>\n",
       "      <td>0.289172</td>\n",
       "      <td>0.326837</td>\n",
       "      <td>...</td>\n",
       "      <td>0.238724</td>\n",
       "      <td>0.405355</td>\n",
       "      <td>0.409164</td>\n",
       "      <td>0.356844</td>\n",
       "      <td>0.227193</td>\n",
       "      <td>0.383605</td>\n",
       "      <td>0.277181</td>\n",
       "      <td>0.311930</td>\n",
       "      <td>0.187487</td>\n",
       "      <td>0.334823</td>\n",
       "    </tr>\n",
       "    <tr>\n",
       "      <th>Cardigan</th>\n",
       "      <td>0.331050</td>\n",
       "      <td>0.402870</td>\n",
       "      <td>0.279480</td>\n",
       "      <td>1.000000</td>\n",
       "      <td>0.262328</td>\n",
       "      <td>0.337319</td>\n",
       "      <td>0.259273</td>\n",
       "      <td>0.325190</td>\n",
       "      <td>0.453705</td>\n",
       "      <td>0.308793</td>\n",
       "      <td>...</td>\n",
       "      <td>0.344584</td>\n",
       "      <td>0.237715</td>\n",
       "      <td>0.319214</td>\n",
       "      <td>0.323505</td>\n",
       "      <td>0.314964</td>\n",
       "      <td>0.288567</td>\n",
       "      <td>0.411656</td>\n",
       "      <td>0.328496</td>\n",
       "      <td>0.292806</td>\n",
       "      <td>0.271826</td>\n",
       "    </tr>\n",
       "    <tr>\n",
       "      <th>Coat</th>\n",
       "      <td>0.360024</td>\n",
       "      <td>0.344008</td>\n",
       "      <td>0.356068</td>\n",
       "      <td>0.262328</td>\n",
       "      <td>1.000000</td>\n",
       "      <td>0.264551</td>\n",
       "      <td>0.251089</td>\n",
       "      <td>0.308847</td>\n",
       "      <td>0.377615</td>\n",
       "      <td>0.293886</td>\n",
       "      <td>...</td>\n",
       "      <td>0.294332</td>\n",
       "      <td>0.306071</td>\n",
       "      <td>0.230326</td>\n",
       "      <td>0.227414</td>\n",
       "      <td>0.286339</td>\n",
       "      <td>0.259628</td>\n",
       "      <td>0.163280</td>\n",
       "      <td>0.239888</td>\n",
       "      <td>0.272163</td>\n",
       "      <td>0.310335</td>\n",
       "    </tr>\n",
       "    <tr>\n",
       "      <th>Dress</th>\n",
       "      <td>0.296403</td>\n",
       "      <td>0.208683</td>\n",
       "      <td>0.235960</td>\n",
       "      <td>0.337319</td>\n",
       "      <td>0.264551</td>\n",
       "      <td>1.000000</td>\n",
       "      <td>0.212884</td>\n",
       "      <td>0.314027</td>\n",
       "      <td>0.295138</td>\n",
       "      <td>0.274082</td>\n",
       "      <td>...</td>\n",
       "      <td>0.314526</td>\n",
       "      <td>0.361259</td>\n",
       "      <td>0.295679</td>\n",
       "      <td>0.377742</td>\n",
       "      <td>0.327135</td>\n",
       "      <td>0.367897</td>\n",
       "      <td>0.305986</td>\n",
       "      <td>0.222672</td>\n",
       "      <td>0.322627</td>\n",
       "      <td>0.288862</td>\n",
       "    </tr>\n",
       "    <tr>\n",
       "      <th>Flannel Shirt</th>\n",
       "      <td>0.309295</td>\n",
       "      <td>0.222139</td>\n",
       "      <td>0.310948</td>\n",
       "      <td>0.259273</td>\n",
       "      <td>0.251089</td>\n",
       "      <td>0.212884</td>\n",
       "      <td>1.000000</td>\n",
       "      <td>0.227960</td>\n",
       "      <td>0.320544</td>\n",
       "      <td>0.249775</td>\n",
       "      <td>...</td>\n",
       "      <td>0.316524</td>\n",
       "      <td>0.319040</td>\n",
       "      <td>0.406242</td>\n",
       "      <td>0.281695</td>\n",
       "      <td>0.293643</td>\n",
       "      <td>0.266658</td>\n",
       "      <td>0.359449</td>\n",
       "      <td>0.291808</td>\n",
       "      <td>0.387098</td>\n",
       "      <td>0.222796</td>\n",
       "    </tr>\n",
       "    <tr>\n",
       "      <th>Hoodie</th>\n",
       "      <td>0.319999</td>\n",
       "      <td>0.313108</td>\n",
       "      <td>0.346384</td>\n",
       "      <td>0.325190</td>\n",
       "      <td>0.308847</td>\n",
       "      <td>0.314027</td>\n",
       "      <td>0.227960</td>\n",
       "      <td>1.000000</td>\n",
       "      <td>0.296034</td>\n",
       "      <td>0.208540</td>\n",
       "      <td>...</td>\n",
       "      <td>0.249011</td>\n",
       "      <td>0.399285</td>\n",
       "      <td>0.308826</td>\n",
       "      <td>0.308067</td>\n",
       "      <td>0.388699</td>\n",
       "      <td>0.372985</td>\n",
       "      <td>0.321582</td>\n",
       "      <td>0.269982</td>\n",
       "      <td>0.264777</td>\n",
       "      <td>0.309320</td>\n",
       "    </tr>\n",
       "    <tr>\n",
       "      <th>Jacket</th>\n",
       "      <td>0.413664</td>\n",
       "      <td>0.289283</td>\n",
       "      <td>0.289172</td>\n",
       "      <td>0.453705</td>\n",
       "      <td>0.377615</td>\n",
       "      <td>0.295138</td>\n",
       "      <td>0.320544</td>\n",
       "      <td>0.296034</td>\n",
       "      <td>1.000000</td>\n",
       "      <td>0.309526</td>\n",
       "      <td>...</td>\n",
       "      <td>0.234537</td>\n",
       "      <td>0.200932</td>\n",
       "      <td>0.260196</td>\n",
       "      <td>0.217484</td>\n",
       "      <td>0.263752</td>\n",
       "      <td>0.257613</td>\n",
       "      <td>0.274088</td>\n",
       "      <td>0.281532</td>\n",
       "      <td>0.257259</td>\n",
       "      <td>0.302168</td>\n",
       "    </tr>\n",
       "    <tr>\n",
       "      <th>Jeans</th>\n",
       "      <td>0.321822</td>\n",
       "      <td>0.241549</td>\n",
       "      <td>0.326837</td>\n",
       "      <td>0.308793</td>\n",
       "      <td>0.293886</td>\n",
       "      <td>0.274082</td>\n",
       "      <td>0.249775</td>\n",
       "      <td>0.208540</td>\n",
       "      <td>0.309526</td>\n",
       "      <td>1.000000</td>\n",
       "      <td>...</td>\n",
       "      <td>0.409888</td>\n",
       "      <td>0.407837</td>\n",
       "      <td>0.359441</td>\n",
       "      <td>0.273415</td>\n",
       "      <td>0.318778</td>\n",
       "      <td>0.346991</td>\n",
       "      <td>0.258726</td>\n",
       "      <td>0.154135</td>\n",
       "      <td>0.286091</td>\n",
       "      <td>0.374993</td>\n",
       "    </tr>\n",
       "    <tr>\n",
       "      <th>Jumpsuit</th>\n",
       "      <td>0.305533</td>\n",
       "      <td>0.249208</td>\n",
       "      <td>0.410152</td>\n",
       "      <td>0.288798</td>\n",
       "      <td>0.188870</td>\n",
       "      <td>0.330071</td>\n",
       "      <td>0.242423</td>\n",
       "      <td>0.280888</td>\n",
       "      <td>0.235637</td>\n",
       "      <td>0.246632</td>\n",
       "      <td>...</td>\n",
       "      <td>0.263242</td>\n",
       "      <td>0.309159</td>\n",
       "      <td>0.264223</td>\n",
       "      <td>0.328503</td>\n",
       "      <td>0.288006</td>\n",
       "      <td>0.338096</td>\n",
       "      <td>0.300243</td>\n",
       "      <td>0.317895</td>\n",
       "      <td>0.281579</td>\n",
       "      <td>0.259234</td>\n",
       "    </tr>\n",
       "    <tr>\n",
       "      <th>Kimono</th>\n",
       "      <td>0.357436</td>\n",
       "      <td>0.417925</td>\n",
       "      <td>0.368017</td>\n",
       "      <td>0.278200</td>\n",
       "      <td>0.253604</td>\n",
       "      <td>0.293232</td>\n",
       "      <td>0.266500</td>\n",
       "      <td>0.306240</td>\n",
       "      <td>0.251529</td>\n",
       "      <td>0.321655</td>\n",
       "      <td>...</td>\n",
       "      <td>0.300684</td>\n",
       "      <td>0.379733</td>\n",
       "      <td>0.308968</td>\n",
       "      <td>0.359955</td>\n",
       "      <td>0.303801</td>\n",
       "      <td>0.430088</td>\n",
       "      <td>0.211272</td>\n",
       "      <td>0.298060</td>\n",
       "      <td>0.286926</td>\n",
       "      <td>0.307479</td>\n",
       "    </tr>\n",
       "    <tr>\n",
       "      <th>Leggings</th>\n",
       "      <td>0.363921</td>\n",
       "      <td>0.356033</td>\n",
       "      <td>0.393968</td>\n",
       "      <td>0.290809</td>\n",
       "      <td>0.265641</td>\n",
       "      <td>0.323346</td>\n",
       "      <td>0.247066</td>\n",
       "      <td>0.277004</td>\n",
       "      <td>0.365364</td>\n",
       "      <td>0.359608</td>\n",
       "      <td>...</td>\n",
       "      <td>0.276909</td>\n",
       "      <td>0.346726</td>\n",
       "      <td>0.278253</td>\n",
       "      <td>0.276496</td>\n",
       "      <td>0.195001</td>\n",
       "      <td>0.352618</td>\n",
       "      <td>0.400186</td>\n",
       "      <td>0.332476</td>\n",
       "      <td>0.257488</td>\n",
       "      <td>0.370110</td>\n",
       "    </tr>\n",
       "    <tr>\n",
       "      <th>Onesie</th>\n",
       "      <td>0.303494</td>\n",
       "      <td>0.382367</td>\n",
       "      <td>0.381448</td>\n",
       "      <td>0.293654</td>\n",
       "      <td>0.306133</td>\n",
       "      <td>0.289877</td>\n",
       "      <td>0.167878</td>\n",
       "      <td>0.361937</td>\n",
       "      <td>0.316935</td>\n",
       "      <td>0.326321</td>\n",
       "      <td>...</td>\n",
       "      <td>0.343430</td>\n",
       "      <td>0.272675</td>\n",
       "      <td>0.305929</td>\n",
       "      <td>0.315767</td>\n",
       "      <td>0.323779</td>\n",
       "      <td>0.336321</td>\n",
       "      <td>0.236047</td>\n",
       "      <td>0.259102</td>\n",
       "      <td>0.189676</td>\n",
       "      <td>0.453385</td>\n",
       "    </tr>\n",
       "    <tr>\n",
       "      <th>Overalls</th>\n",
       "      <td>0.329608</td>\n",
       "      <td>0.312957</td>\n",
       "      <td>0.292699</td>\n",
       "      <td>0.277730</td>\n",
       "      <td>0.317480</td>\n",
       "      <td>0.303969</td>\n",
       "      <td>0.276709</td>\n",
       "      <td>0.330558</td>\n",
       "      <td>0.261673</td>\n",
       "      <td>0.191787</td>\n",
       "      <td>...</td>\n",
       "      <td>0.282067</td>\n",
       "      <td>0.359924</td>\n",
       "      <td>0.276017</td>\n",
       "      <td>0.282246</td>\n",
       "      <td>0.314754</td>\n",
       "      <td>0.361814</td>\n",
       "      <td>0.318436</td>\n",
       "      <td>0.324737</td>\n",
       "      <td>0.253909</td>\n",
       "      <td>0.253476</td>\n",
       "    </tr>\n",
       "    <tr>\n",
       "      <th>Pajamas</th>\n",
       "      <td>0.252601</td>\n",
       "      <td>0.350913</td>\n",
       "      <td>0.309034</td>\n",
       "      <td>0.352698</td>\n",
       "      <td>0.325364</td>\n",
       "      <td>0.337548</td>\n",
       "      <td>0.337108</td>\n",
       "      <td>0.322271</td>\n",
       "      <td>0.263321</td>\n",
       "      <td>0.271655</td>\n",
       "      <td>...</td>\n",
       "      <td>0.441418</td>\n",
       "      <td>0.421553</td>\n",
       "      <td>0.363720</td>\n",
       "      <td>0.336862</td>\n",
       "      <td>0.337168</td>\n",
       "      <td>0.346633</td>\n",
       "      <td>0.292982</td>\n",
       "      <td>0.356483</td>\n",
       "      <td>0.279037</td>\n",
       "      <td>0.299804</td>\n",
       "    </tr>\n",
       "    <tr>\n",
       "      <th>Pants</th>\n",
       "      <td>0.317360</td>\n",
       "      <td>0.285401</td>\n",
       "      <td>0.275124</td>\n",
       "      <td>0.341568</td>\n",
       "      <td>0.295758</td>\n",
       "      <td>0.301573</td>\n",
       "      <td>0.381295</td>\n",
       "      <td>0.284158</td>\n",
       "      <td>0.300264</td>\n",
       "      <td>0.343629</td>\n",
       "      <td>...</td>\n",
       "      <td>0.382775</td>\n",
       "      <td>0.326499</td>\n",
       "      <td>0.359466</td>\n",
       "      <td>0.352621</td>\n",
       "      <td>0.224903</td>\n",
       "      <td>0.346879</td>\n",
       "      <td>0.302216</td>\n",
       "      <td>0.255706</td>\n",
       "      <td>0.438037</td>\n",
       "      <td>0.307973</td>\n",
       "    </tr>\n",
       "    <tr>\n",
       "      <th>Polo Shirt</th>\n",
       "      <td>0.355332</td>\n",
       "      <td>0.269589</td>\n",
       "      <td>0.339420</td>\n",
       "      <td>0.346568</td>\n",
       "      <td>0.340872</td>\n",
       "      <td>0.163228</td>\n",
       "      <td>0.222556</td>\n",
       "      <td>0.379578</td>\n",
       "      <td>0.362734</td>\n",
       "      <td>0.276367</td>\n",
       "      <td>...</td>\n",
       "      <td>0.339176</td>\n",
       "      <td>0.247852</td>\n",
       "      <td>0.243147</td>\n",
       "      <td>0.223913</td>\n",
       "      <td>0.222238</td>\n",
       "      <td>0.333001</td>\n",
       "      <td>0.175594</td>\n",
       "      <td>0.230389</td>\n",
       "      <td>0.270751</td>\n",
       "      <td>0.236060</td>\n",
       "    </tr>\n",
       "    <tr>\n",
       "      <th>Poncho</th>\n",
       "      <td>0.378071</td>\n",
       "      <td>0.262151</td>\n",
       "      <td>0.246284</td>\n",
       "      <td>0.361638</td>\n",
       "      <td>0.340744</td>\n",
       "      <td>0.272787</td>\n",
       "      <td>0.311211</td>\n",
       "      <td>0.392291</td>\n",
       "      <td>0.413819</td>\n",
       "      <td>0.384128</td>\n",
       "      <td>...</td>\n",
       "      <td>0.347446</td>\n",
       "      <td>0.298284</td>\n",
       "      <td>0.286699</td>\n",
       "      <td>0.259557</td>\n",
       "      <td>0.278735</td>\n",
       "      <td>0.250098</td>\n",
       "      <td>0.311929</td>\n",
       "      <td>0.274243</td>\n",
       "      <td>0.266966</td>\n",
       "      <td>0.288019</td>\n",
       "    </tr>\n",
       "    <tr>\n",
       "      <th>Raincoat</th>\n",
       "      <td>0.306898</td>\n",
       "      <td>0.262093</td>\n",
       "      <td>0.250806</td>\n",
       "      <td>0.311891</td>\n",
       "      <td>0.280352</td>\n",
       "      <td>0.265207</td>\n",
       "      <td>0.377243</td>\n",
       "      <td>0.391665</td>\n",
       "      <td>0.309269</td>\n",
       "      <td>0.232052</td>\n",
       "      <td>...</td>\n",
       "      <td>0.384548</td>\n",
       "      <td>0.282688</td>\n",
       "      <td>0.353380</td>\n",
       "      <td>0.343760</td>\n",
       "      <td>0.278270</td>\n",
       "      <td>0.342064</td>\n",
       "      <td>0.269178</td>\n",
       "      <td>0.222368</td>\n",
       "      <td>0.287415</td>\n",
       "      <td>0.288484</td>\n",
       "    </tr>\n",
       "    <tr>\n",
       "      <th>Romper</th>\n",
       "      <td>0.275482</td>\n",
       "      <td>0.336842</td>\n",
       "      <td>0.307671</td>\n",
       "      <td>0.328779</td>\n",
       "      <td>0.303818</td>\n",
       "      <td>0.318694</td>\n",
       "      <td>0.353050</td>\n",
       "      <td>0.304808</td>\n",
       "      <td>0.277077</td>\n",
       "      <td>0.288995</td>\n",
       "      <td>...</td>\n",
       "      <td>0.377341</td>\n",
       "      <td>0.384266</td>\n",
       "      <td>0.277738</td>\n",
       "      <td>0.206319</td>\n",
       "      <td>0.354439</td>\n",
       "      <td>0.398336</td>\n",
       "      <td>0.323799</td>\n",
       "      <td>0.258089</td>\n",
       "      <td>0.199421</td>\n",
       "      <td>0.316484</td>\n",
       "    </tr>\n",
       "    <tr>\n",
       "      <th>Shorts</th>\n",
       "      <td>0.396543</td>\n",
       "      <td>0.308749</td>\n",
       "      <td>0.238724</td>\n",
       "      <td>0.344584</td>\n",
       "      <td>0.294332</td>\n",
       "      <td>0.314526</td>\n",
       "      <td>0.316524</td>\n",
       "      <td>0.249011</td>\n",
       "      <td>0.234537</td>\n",
       "      <td>0.409888</td>\n",
       "      <td>...</td>\n",
       "      <td>1.000000</td>\n",
       "      <td>0.295957</td>\n",
       "      <td>0.372391</td>\n",
       "      <td>0.299694</td>\n",
       "      <td>0.367603</td>\n",
       "      <td>0.416476</td>\n",
       "      <td>0.294052</td>\n",
       "      <td>0.322971</td>\n",
       "      <td>0.303531</td>\n",
       "      <td>0.323918</td>\n",
       "    </tr>\n",
       "    <tr>\n",
       "      <th>Skirt</th>\n",
       "      <td>0.308012</td>\n",
       "      <td>0.218849</td>\n",
       "      <td>0.405355</td>\n",
       "      <td>0.237715</td>\n",
       "      <td>0.306071</td>\n",
       "      <td>0.361259</td>\n",
       "      <td>0.319040</td>\n",
       "      <td>0.399285</td>\n",
       "      <td>0.200932</td>\n",
       "      <td>0.407837</td>\n",
       "      <td>...</td>\n",
       "      <td>0.295957</td>\n",
       "      <td>1.000000</td>\n",
       "      <td>0.299162</td>\n",
       "      <td>0.334891</td>\n",
       "      <td>0.262929</td>\n",
       "      <td>0.447376</td>\n",
       "      <td>0.336239</td>\n",
       "      <td>0.303777</td>\n",
       "      <td>0.393138</td>\n",
       "      <td>0.405213</td>\n",
       "    </tr>\n",
       "    <tr>\n",
       "      <th>Sweater</th>\n",
       "      <td>0.306777</td>\n",
       "      <td>0.254768</td>\n",
       "      <td>0.409164</td>\n",
       "      <td>0.319214</td>\n",
       "      <td>0.230326</td>\n",
       "      <td>0.295679</td>\n",
       "      <td>0.406242</td>\n",
       "      <td>0.308826</td>\n",
       "      <td>0.260196</td>\n",
       "      <td>0.359441</td>\n",
       "      <td>...</td>\n",
       "      <td>0.372391</td>\n",
       "      <td>0.299162</td>\n",
       "      <td>1.000000</td>\n",
       "      <td>0.248444</td>\n",
       "      <td>0.345435</td>\n",
       "      <td>0.287418</td>\n",
       "      <td>0.329887</td>\n",
       "      <td>0.241485</td>\n",
       "      <td>0.425782</td>\n",
       "      <td>0.340145</td>\n",
       "    </tr>\n",
       "    <tr>\n",
       "      <th>Swimsuit</th>\n",
       "      <td>0.204395</td>\n",
       "      <td>0.274967</td>\n",
       "      <td>0.356844</td>\n",
       "      <td>0.323505</td>\n",
       "      <td>0.227414</td>\n",
       "      <td>0.377742</td>\n",
       "      <td>0.281695</td>\n",
       "      <td>0.308067</td>\n",
       "      <td>0.217484</td>\n",
       "      <td>0.273415</td>\n",
       "      <td>...</td>\n",
       "      <td>0.299694</td>\n",
       "      <td>0.334891</td>\n",
       "      <td>0.248444</td>\n",
       "      <td>1.000000</td>\n",
       "      <td>0.299710</td>\n",
       "      <td>0.329118</td>\n",
       "      <td>0.344573</td>\n",
       "      <td>0.301003</td>\n",
       "      <td>0.259677</td>\n",
       "      <td>0.278165</td>\n",
       "    </tr>\n",
       "    <tr>\n",
       "      <th>T-shirt</th>\n",
       "      <td>0.343553</td>\n",
       "      <td>0.363666</td>\n",
       "      <td>0.227193</td>\n",
       "      <td>0.314964</td>\n",
       "      <td>0.286339</td>\n",
       "      <td>0.327135</td>\n",
       "      <td>0.293643</td>\n",
       "      <td>0.388699</td>\n",
       "      <td>0.263752</td>\n",
       "      <td>0.318778</td>\n",
       "      <td>...</td>\n",
       "      <td>0.367603</td>\n",
       "      <td>0.262929</td>\n",
       "      <td>0.345435</td>\n",
       "      <td>0.299710</td>\n",
       "      <td>1.000000</td>\n",
       "      <td>0.352817</td>\n",
       "      <td>0.276156</td>\n",
       "      <td>0.295898</td>\n",
       "      <td>0.325117</td>\n",
       "      <td>0.305788</td>\n",
       "    </tr>\n",
       "    <tr>\n",
       "      <th>Tank Top</th>\n",
       "      <td>0.383639</td>\n",
       "      <td>0.284071</td>\n",
       "      <td>0.383605</td>\n",
       "      <td>0.288567</td>\n",
       "      <td>0.259628</td>\n",
       "      <td>0.367897</td>\n",
       "      <td>0.266658</td>\n",
       "      <td>0.372985</td>\n",
       "      <td>0.257613</td>\n",
       "      <td>0.346991</td>\n",
       "      <td>...</td>\n",
       "      <td>0.416476</td>\n",
       "      <td>0.447376</td>\n",
       "      <td>0.287418</td>\n",
       "      <td>0.329118</td>\n",
       "      <td>0.352817</td>\n",
       "      <td>1.000000</td>\n",
       "      <td>0.323110</td>\n",
       "      <td>0.327867</td>\n",
       "      <td>0.333774</td>\n",
       "      <td>0.347470</td>\n",
       "    </tr>\n",
       "    <tr>\n",
       "      <th>Trench Coat</th>\n",
       "      <td>0.384337</td>\n",
       "      <td>0.264691</td>\n",
       "      <td>0.277181</td>\n",
       "      <td>0.411656</td>\n",
       "      <td>0.163280</td>\n",
       "      <td>0.305986</td>\n",
       "      <td>0.359449</td>\n",
       "      <td>0.321582</td>\n",
       "      <td>0.274088</td>\n",
       "      <td>0.258726</td>\n",
       "      <td>...</td>\n",
       "      <td>0.294052</td>\n",
       "      <td>0.336239</td>\n",
       "      <td>0.329887</td>\n",
       "      <td>0.344573</td>\n",
       "      <td>0.276156</td>\n",
       "      <td>0.323110</td>\n",
       "      <td>1.000000</td>\n",
       "      <td>0.288365</td>\n",
       "      <td>0.239216</td>\n",
       "      <td>0.302544</td>\n",
       "    </tr>\n",
       "    <tr>\n",
       "      <th>Trousers</th>\n",
       "      <td>0.300074</td>\n",
       "      <td>0.337129</td>\n",
       "      <td>0.311930</td>\n",
       "      <td>0.328496</td>\n",
       "      <td>0.239888</td>\n",
       "      <td>0.222672</td>\n",
       "      <td>0.291808</td>\n",
       "      <td>0.269982</td>\n",
       "      <td>0.281532</td>\n",
       "      <td>0.154135</td>\n",
       "      <td>...</td>\n",
       "      <td>0.322971</td>\n",
       "      <td>0.303777</td>\n",
       "      <td>0.241485</td>\n",
       "      <td>0.301003</td>\n",
       "      <td>0.295898</td>\n",
       "      <td>0.327867</td>\n",
       "      <td>0.288365</td>\n",
       "      <td>1.000000</td>\n",
       "      <td>0.179152</td>\n",
       "      <td>0.242825</td>\n",
       "    </tr>\n",
       "    <tr>\n",
       "      <th>Tunic</th>\n",
       "      <td>0.323443</td>\n",
       "      <td>0.232938</td>\n",
       "      <td>0.187487</td>\n",
       "      <td>0.292806</td>\n",
       "      <td>0.272163</td>\n",
       "      <td>0.322627</td>\n",
       "      <td>0.387098</td>\n",
       "      <td>0.264777</td>\n",
       "      <td>0.257259</td>\n",
       "      <td>0.286091</td>\n",
       "      <td>...</td>\n",
       "      <td>0.303531</td>\n",
       "      <td>0.393138</td>\n",
       "      <td>0.425782</td>\n",
       "      <td>0.259677</td>\n",
       "      <td>0.325117</td>\n",
       "      <td>0.333774</td>\n",
       "      <td>0.239216</td>\n",
       "      <td>0.179152</td>\n",
       "      <td>1.000000</td>\n",
       "      <td>0.259427</td>\n",
       "    </tr>\n",
       "    <tr>\n",
       "      <th>Vest</th>\n",
       "      <td>0.282703</td>\n",
       "      <td>0.339633</td>\n",
       "      <td>0.334823</td>\n",
       "      <td>0.271826</td>\n",
       "      <td>0.310335</td>\n",
       "      <td>0.288862</td>\n",
       "      <td>0.222796</td>\n",
       "      <td>0.309320</td>\n",
       "      <td>0.302168</td>\n",
       "      <td>0.374993</td>\n",
       "      <td>...</td>\n",
       "      <td>0.323918</td>\n",
       "      <td>0.405213</td>\n",
       "      <td>0.340145</td>\n",
       "      <td>0.278165</td>\n",
       "      <td>0.305788</td>\n",
       "      <td>0.347470</td>\n",
       "      <td>0.302544</td>\n",
       "      <td>0.242825</td>\n",
       "      <td>0.259427</td>\n",
       "      <td>1.000000</td>\n",
       "    </tr>\n",
       "  </tbody>\n",
       "</table>\n",
       "<p>31 rows × 31 columns</p>\n",
       "</div>"
      ],
      "text/plain": [
       "item             Blazer    Blouse  Camisole  Cardigan      Coat     Dress  \\\n",
       "item                                                                        \n",
       "Blazer         1.000000  0.348284  0.349055  0.331050  0.360024  0.296403   \n",
       "Blouse         0.348284  1.000000  0.238680  0.402870  0.344008  0.208683   \n",
       "Camisole       0.349055  0.238680  1.000000  0.279480  0.356068  0.235960   \n",
       "Cardigan       0.331050  0.402870  0.279480  1.000000  0.262328  0.337319   \n",
       "Coat           0.360024  0.344008  0.356068  0.262328  1.000000  0.264551   \n",
       "Dress          0.296403  0.208683  0.235960  0.337319  0.264551  1.000000   \n",
       "Flannel Shirt  0.309295  0.222139  0.310948  0.259273  0.251089  0.212884   \n",
       "Hoodie         0.319999  0.313108  0.346384  0.325190  0.308847  0.314027   \n",
       "Jacket         0.413664  0.289283  0.289172  0.453705  0.377615  0.295138   \n",
       "Jeans          0.321822  0.241549  0.326837  0.308793  0.293886  0.274082   \n",
       "Jumpsuit       0.305533  0.249208  0.410152  0.288798  0.188870  0.330071   \n",
       "Kimono         0.357436  0.417925  0.368017  0.278200  0.253604  0.293232   \n",
       "Leggings       0.363921  0.356033  0.393968  0.290809  0.265641  0.323346   \n",
       "Onesie         0.303494  0.382367  0.381448  0.293654  0.306133  0.289877   \n",
       "Overalls       0.329608  0.312957  0.292699  0.277730  0.317480  0.303969   \n",
       "Pajamas        0.252601  0.350913  0.309034  0.352698  0.325364  0.337548   \n",
       "Pants          0.317360  0.285401  0.275124  0.341568  0.295758  0.301573   \n",
       "Polo Shirt     0.355332  0.269589  0.339420  0.346568  0.340872  0.163228   \n",
       "Poncho         0.378071  0.262151  0.246284  0.361638  0.340744  0.272787   \n",
       "Raincoat       0.306898  0.262093  0.250806  0.311891  0.280352  0.265207   \n",
       "Romper         0.275482  0.336842  0.307671  0.328779  0.303818  0.318694   \n",
       "Shorts         0.396543  0.308749  0.238724  0.344584  0.294332  0.314526   \n",
       "Skirt          0.308012  0.218849  0.405355  0.237715  0.306071  0.361259   \n",
       "Sweater        0.306777  0.254768  0.409164  0.319214  0.230326  0.295679   \n",
       "Swimsuit       0.204395  0.274967  0.356844  0.323505  0.227414  0.377742   \n",
       "T-shirt        0.343553  0.363666  0.227193  0.314964  0.286339  0.327135   \n",
       "Tank Top       0.383639  0.284071  0.383605  0.288567  0.259628  0.367897   \n",
       "Trench Coat    0.384337  0.264691  0.277181  0.411656  0.163280  0.305986   \n",
       "Trousers       0.300074  0.337129  0.311930  0.328496  0.239888  0.222672   \n",
       "Tunic          0.323443  0.232938  0.187487  0.292806  0.272163  0.322627   \n",
       "Vest           0.282703  0.339633  0.334823  0.271826  0.310335  0.288862   \n",
       "\n",
       "item           Flannel Shirt    Hoodie    Jacket     Jeans  ...    Shorts  \\\n",
       "item                                                        ...             \n",
       "Blazer              0.309295  0.319999  0.413664  0.321822  ...  0.396543   \n",
       "Blouse              0.222139  0.313108  0.289283  0.241549  ...  0.308749   \n",
       "Camisole            0.310948  0.346384  0.289172  0.326837  ...  0.238724   \n",
       "Cardigan            0.259273  0.325190  0.453705  0.308793  ...  0.344584   \n",
       "Coat                0.251089  0.308847  0.377615  0.293886  ...  0.294332   \n",
       "Dress               0.212884  0.314027  0.295138  0.274082  ...  0.314526   \n",
       "Flannel Shirt       1.000000  0.227960  0.320544  0.249775  ...  0.316524   \n",
       "Hoodie              0.227960  1.000000  0.296034  0.208540  ...  0.249011   \n",
       "Jacket              0.320544  0.296034  1.000000  0.309526  ...  0.234537   \n",
       "Jeans               0.249775  0.208540  0.309526  1.000000  ...  0.409888   \n",
       "Jumpsuit            0.242423  0.280888  0.235637  0.246632  ...  0.263242   \n",
       "Kimono              0.266500  0.306240  0.251529  0.321655  ...  0.300684   \n",
       "Leggings            0.247066  0.277004  0.365364  0.359608  ...  0.276909   \n",
       "Onesie              0.167878  0.361937  0.316935  0.326321  ...  0.343430   \n",
       "Overalls            0.276709  0.330558  0.261673  0.191787  ...  0.282067   \n",
       "Pajamas             0.337108  0.322271  0.263321  0.271655  ...  0.441418   \n",
       "Pants               0.381295  0.284158  0.300264  0.343629  ...  0.382775   \n",
       "Polo Shirt          0.222556  0.379578  0.362734  0.276367  ...  0.339176   \n",
       "Poncho              0.311211  0.392291  0.413819  0.384128  ...  0.347446   \n",
       "Raincoat            0.377243  0.391665  0.309269  0.232052  ...  0.384548   \n",
       "Romper              0.353050  0.304808  0.277077  0.288995  ...  0.377341   \n",
       "Shorts              0.316524  0.249011  0.234537  0.409888  ...  1.000000   \n",
       "Skirt               0.319040  0.399285  0.200932  0.407837  ...  0.295957   \n",
       "Sweater             0.406242  0.308826  0.260196  0.359441  ...  0.372391   \n",
       "Swimsuit            0.281695  0.308067  0.217484  0.273415  ...  0.299694   \n",
       "T-shirt             0.293643  0.388699  0.263752  0.318778  ...  0.367603   \n",
       "Tank Top            0.266658  0.372985  0.257613  0.346991  ...  0.416476   \n",
       "Trench Coat         0.359449  0.321582  0.274088  0.258726  ...  0.294052   \n",
       "Trousers            0.291808  0.269982  0.281532  0.154135  ...  0.322971   \n",
       "Tunic               0.387098  0.264777  0.257259  0.286091  ...  0.303531   \n",
       "Vest                0.222796  0.309320  0.302168  0.374993  ...  0.323918   \n",
       "\n",
       "item              Skirt   Sweater  Swimsuit   T-shirt  Tank Top  Trench Coat  \\\n",
       "item                                                                           \n",
       "Blazer         0.308012  0.306777  0.204395  0.343553  0.383639     0.384337   \n",
       "Blouse         0.218849  0.254768  0.274967  0.363666  0.284071     0.264691   \n",
       "Camisole       0.405355  0.409164  0.356844  0.227193  0.383605     0.277181   \n",
       "Cardigan       0.237715  0.319214  0.323505  0.314964  0.288567     0.411656   \n",
       "Coat           0.306071  0.230326  0.227414  0.286339  0.259628     0.163280   \n",
       "Dress          0.361259  0.295679  0.377742  0.327135  0.367897     0.305986   \n",
       "Flannel Shirt  0.319040  0.406242  0.281695  0.293643  0.266658     0.359449   \n",
       "Hoodie         0.399285  0.308826  0.308067  0.388699  0.372985     0.321582   \n",
       "Jacket         0.200932  0.260196  0.217484  0.263752  0.257613     0.274088   \n",
       "Jeans          0.407837  0.359441  0.273415  0.318778  0.346991     0.258726   \n",
       "Jumpsuit       0.309159  0.264223  0.328503  0.288006  0.338096     0.300243   \n",
       "Kimono         0.379733  0.308968  0.359955  0.303801  0.430088     0.211272   \n",
       "Leggings       0.346726  0.278253  0.276496  0.195001  0.352618     0.400186   \n",
       "Onesie         0.272675  0.305929  0.315767  0.323779  0.336321     0.236047   \n",
       "Overalls       0.359924  0.276017  0.282246  0.314754  0.361814     0.318436   \n",
       "Pajamas        0.421553  0.363720  0.336862  0.337168  0.346633     0.292982   \n",
       "Pants          0.326499  0.359466  0.352621  0.224903  0.346879     0.302216   \n",
       "Polo Shirt     0.247852  0.243147  0.223913  0.222238  0.333001     0.175594   \n",
       "Poncho         0.298284  0.286699  0.259557  0.278735  0.250098     0.311929   \n",
       "Raincoat       0.282688  0.353380  0.343760  0.278270  0.342064     0.269178   \n",
       "Romper         0.384266  0.277738  0.206319  0.354439  0.398336     0.323799   \n",
       "Shorts         0.295957  0.372391  0.299694  0.367603  0.416476     0.294052   \n",
       "Skirt          1.000000  0.299162  0.334891  0.262929  0.447376     0.336239   \n",
       "Sweater        0.299162  1.000000  0.248444  0.345435  0.287418     0.329887   \n",
       "Swimsuit       0.334891  0.248444  1.000000  0.299710  0.329118     0.344573   \n",
       "T-shirt        0.262929  0.345435  0.299710  1.000000  0.352817     0.276156   \n",
       "Tank Top       0.447376  0.287418  0.329118  0.352817  1.000000     0.323110   \n",
       "Trench Coat    0.336239  0.329887  0.344573  0.276156  0.323110     1.000000   \n",
       "Trousers       0.303777  0.241485  0.301003  0.295898  0.327867     0.288365   \n",
       "Tunic          0.393138  0.425782  0.259677  0.325117  0.333774     0.239216   \n",
       "Vest           0.405213  0.340145  0.278165  0.305788  0.347470     0.302544   \n",
       "\n",
       "item           Trousers     Tunic      Vest  \n",
       "item                                         \n",
       "Blazer         0.300074  0.323443  0.282703  \n",
       "Blouse         0.337129  0.232938  0.339633  \n",
       "Camisole       0.311930  0.187487  0.334823  \n",
       "Cardigan       0.328496  0.292806  0.271826  \n",
       "Coat           0.239888  0.272163  0.310335  \n",
       "Dress          0.222672  0.322627  0.288862  \n",
       "Flannel Shirt  0.291808  0.387098  0.222796  \n",
       "Hoodie         0.269982  0.264777  0.309320  \n",
       "Jacket         0.281532  0.257259  0.302168  \n",
       "Jeans          0.154135  0.286091  0.374993  \n",
       "Jumpsuit       0.317895  0.281579  0.259234  \n",
       "Kimono         0.298060  0.286926  0.307479  \n",
       "Leggings       0.332476  0.257488  0.370110  \n",
       "Onesie         0.259102  0.189676  0.453385  \n",
       "Overalls       0.324737  0.253909  0.253476  \n",
       "Pajamas        0.356483  0.279037  0.299804  \n",
       "Pants          0.255706  0.438037  0.307973  \n",
       "Polo Shirt     0.230389  0.270751  0.236060  \n",
       "Poncho         0.274243  0.266966  0.288019  \n",
       "Raincoat       0.222368  0.287415  0.288484  \n",
       "Romper         0.258089  0.199421  0.316484  \n",
       "Shorts         0.322971  0.303531  0.323918  \n",
       "Skirt          0.303777  0.393138  0.405213  \n",
       "Sweater        0.241485  0.425782  0.340145  \n",
       "Swimsuit       0.301003  0.259677  0.278165  \n",
       "T-shirt        0.295898  0.325117  0.305788  \n",
       "Tank Top       0.327867  0.333774  0.347470  \n",
       "Trench Coat    0.288365  0.239216  0.302544  \n",
       "Trousers       1.000000  0.179152  0.242825  \n",
       "Tunic          0.179152  1.000000  0.259427  \n",
       "Vest           0.242825  0.259427  1.000000  \n",
       "\n",
       "[31 rows x 31 columns]"
      ]
     },
     "execution_count": 3,
     "metadata": {},
     "output_type": "execute_result"
    }
   ],
   "source": [
    "# Create matrix of user reviews\n",
    "user_item_matrix = retail_df.pivot_table(\n",
    "    index='customerID',\n",
    "    columns='item',\n",
    "    values='review',\n",
    "    aggfunc='mean'\n",
    ")\n",
    "\n",
    "# Fill missing values with 0 \n",
    "user_item_filled = user_item_matrix.fillna(0)\n",
    "\n",
    "# Transpose to get item-item matrix\n",
    "item_user_matrix = user_item_filled.T\n",
    "\n",
    "# Compute cosine similarity between items\n",
    "item_similarity_matrix = cosine_similarity(item_user_matrix)\n",
    "item_similarity_df = pd.DataFrame(item_similarity_matrix, index=item_user_matrix.index, columns=item_user_matrix.index)\n",
    "\n",
    "\n",
    "item_similarity_df"
   ]
  },
  {
   "cell_type": "code",
   "execution_count": 4,
   "id": "d014be20-9710-4e6a-ae9a-9f91c4829f71",
   "metadata": {},
   "outputs": [
    {
     "data": {
      "application/vnd.plotly.v1+json": {
       "config": {
        "plotlyServerURL": "https://plot.ly"
       },
       "data": [
        {
         "hoverinfo": "text",
         "line": {
          "width": 2
         },
         "mode": "lines+markers",
         "name": "Blazer",
         "opacity": 0.6,
         "text": [
          "Item: Blazer<br>Sales: $5246.0",
          "Item: Blazer<br>Sales: $1153.7222222222222",
          "Item: Blazer<br>Sales: $747.8148148148148",
          "Item: Blazer<br>Sales: $918.8148148148148",
          "Item: Blazer<br>Sales: $198.90740740740742",
          "Item: Blazer<br>Sales: $358.0",
          "Item: Blazer<br>Sales: $858.7222222222223",
          "Item: Blazer<br>Sales: $1001.9074074074074",
          "Item: Blazer<br>Sales: $885.9074074074074",
          "Item: Blazer<br>Sales: $369.81481481481484",
          "Item: Blazer<br>Sales: $911.9074074074074",
          "Item: Blazer<br>Sales: $476.9074074074074"
         ],
         "type": "scatter",
         "x": [
          "2022-10-01T00:00:00",
          "2022-11-01T00:00:00",
          "2022-12-01T00:00:00",
          "2023-01-01T00:00:00",
          "2023-02-01T00:00:00",
          "2023-03-01T00:00:00",
          "2023-04-01T00:00:00",
          "2023-05-01T00:00:00",
          "2023-06-01T00:00:00",
          "2023-07-01T00:00:00",
          "2023-08-01T00:00:00",
          "2023-09-01T00:00:00"
         ],
         "y": [
          5246,
          1153.7222222222222,
          747.8148148148148,
          918.8148148148148,
          198.90740740740742,
          358,
          858.7222222222223,
          1001.9074074074074,
          885.9074074074074,
          369.81481481481484,
          911.9074074074074,
          476.9074074074074
         ]
        },
        {
         "hoverinfo": "text",
         "line": {
          "width": 2
         },
         "mode": "lines+markers",
         "name": "Blouse",
         "opacity": 0.6,
         "text": [
          "Item: Blouse<br>Sales: $731.719298245614",
          "Item: Blouse<br>Sales: $349.719298245614",
          "Item: Blouse<br>Sales: $1751.438596491228",
          "Item: Blouse<br>Sales: $797.719298245614",
          "Item: Blouse<br>Sales: $596.438596491228",
          "Item: Blouse<br>Sales: $4385.7192982456145",
          "Item: Blouse<br>Sales: $1107.438596491228",
          "Item: Blouse<br>Sales: $1067.719298245614",
          "Item: Blouse<br>Sales: $58.0",
          "Item: Blouse<br>Sales: $673.438596491228",
          "Item: Blouse<br>Sales: $1133.0",
          "Item: Blouse<br>Sales: $759.1578947368421"
         ],
         "type": "scatter",
         "x": [
          "2022-10-01T00:00:00",
          "2022-11-01T00:00:00",
          "2022-12-01T00:00:00",
          "2023-01-01T00:00:00",
          "2023-02-01T00:00:00",
          "2023-03-01T00:00:00",
          "2023-04-01T00:00:00",
          "2023-05-01T00:00:00",
          "2023-06-01T00:00:00",
          "2023-07-01T00:00:00",
          "2023-08-01T00:00:00",
          "2023-09-01T00:00:00"
         ],
         "y": [
          731.719298245614,
          349.719298245614,
          1751.438596491228,
          797.719298245614,
          596.438596491228,
          4385.7192982456145,
          1107.438596491228,
          1067.719298245614,
          58,
          673.438596491228,
          1133,
          759.1578947368421
         ]
        },
        {
         "hoverinfo": "text",
         "line": {
          "width": 2
         },
         "mode": "lines+markers",
         "name": "Camisole",
         "opacity": 0.6,
         "text": [
          "Item: Camisole<br>Sales: $400.9677419354839",
          "Item: Camisole<br>Sales: $750.9354838709678",
          "Item: Camisole<br>Sales: $342.93548387096774",
          "Item: Camisole<br>Sales: $775.0",
          "Item: Camisole<br>Sales: $403.0",
          "Item: Camisole<br>Sales: $793.9677419354839",
          "Item: Camisole<br>Sales: $485.0",
          "Item: Camisole<br>Sales: $782.9354838709678",
          "Item: Camisole<br>Sales: $749.0",
          "Item: Camisole<br>Sales: $735.0",
          "Item: Camisole<br>Sales: $676.9032258064516",
          "Item: Camisole<br>Sales: $579.9032258064516",
          "Item: Camisole<br>Sales: $46.0"
         ],
         "type": "scatter",
         "x": [
          "2022-10-01T00:00:00",
          "2022-11-01T00:00:00",
          "2022-12-01T00:00:00",
          "2023-01-01T00:00:00",
          "2023-02-01T00:00:00",
          "2023-03-01T00:00:00",
          "2023-04-01T00:00:00",
          "2023-05-01T00:00:00",
          "2023-06-01T00:00:00",
          "2023-07-01T00:00:00",
          "2023-08-01T00:00:00",
          "2023-09-01T00:00:00",
          "2023-10-01T00:00:00"
         ],
         "y": [
          400.9677419354839,
          750.9354838709678,
          342.93548387096774,
          775,
          403,
          793.9677419354839,
          485,
          782.9354838709678,
          749,
          735,
          676.9032258064516,
          579.9032258064516,
          46
         ]
        },
        {
         "hoverinfo": "text",
         "line": {
          "width": 2
         },
         "mode": "lines+markers",
         "name": "Cardigan",
         "opacity": 0.6,
         "text": [
          "Item: Cardigan<br>Sales: $564.967213114754",
          "Item: Cardigan<br>Sales: $270.0",
          "Item: Cardigan<br>Sales: $538.967213114754",
          "Item: Cardigan<br>Sales: $1196.9016393442623",
          "Item: Cardigan<br>Sales: $713.967213114754",
          "Item: Cardigan<br>Sales: $566.0",
          "Item: Cardigan<br>Sales: $3156.967213114754",
          "Item: Cardigan<br>Sales: $1007.9344262295082",
          "Item: Cardigan<br>Sales: $731.0",
          "Item: Cardigan<br>Sales: $722.0",
          "Item: Cardigan<br>Sales: $581.9344262295082",
          "Item: Cardigan<br>Sales: $891.0"
         ],
         "type": "scatter",
         "x": [
          "2022-10-01T00:00:00",
          "2022-11-01T00:00:00",
          "2022-12-01T00:00:00",
          "2023-01-01T00:00:00",
          "2023-02-01T00:00:00",
          "2023-03-01T00:00:00",
          "2023-04-01T00:00:00",
          "2023-05-01T00:00:00",
          "2023-06-01T00:00:00",
          "2023-07-01T00:00:00",
          "2023-08-01T00:00:00",
          "2023-09-01T00:00:00"
         ],
         "y": [
          564.967213114754,
          270,
          538.967213114754,
          1196.9016393442623,
          713.967213114754,
          566,
          3156.967213114754,
          1007.9344262295082,
          731,
          722,
          581.9344262295082,
          891
         ]
        },
        {
         "hoverinfo": "text",
         "line": {
          "width": 2
         },
         "mode": "lines+markers",
         "name": "Coat",
         "opacity": 0.6,
         "text": [
          "Item: Coat<br>Sales: $475.61538461538464",
          "Item: Coat<br>Sales: $154.0",
          "Item: Coat<br>Sales: $592.8076923076924",
          "Item: Coat<br>Sales: $728.6153846153846",
          "Item: Coat<br>Sales: $627.0",
          "Item: Coat<br>Sales: $130.80769230769232",
          "Item: Coat<br>Sales: $634.8076923076923",
          "Item: Coat<br>Sales: $577.6153846153846",
          "Item: Coat<br>Sales: $850.8076923076924",
          "Item: Coat<br>Sales: $891.6153846153846",
          "Item: Coat<br>Sales: $607.8076923076924",
          "Item: Coat<br>Sales: $884.6153846153846"
         ],
         "type": "scatter",
         "x": [
          "2022-10-01T00:00:00",
          "2022-11-01T00:00:00",
          "2022-12-01T00:00:00",
          "2023-01-01T00:00:00",
          "2023-02-01T00:00:00",
          "2023-03-01T00:00:00",
          "2023-04-01T00:00:00",
          "2023-05-01T00:00:00",
          "2023-06-01T00:00:00",
          "2023-07-01T00:00:00",
          "2023-08-01T00:00:00",
          "2023-09-01T00:00:00"
         ],
         "y": [
          475.61538461538464,
          154,
          592.8076923076924,
          728.6153846153846,
          627,
          130.80769230769232,
          634.8076923076923,
          577.6153846153846,
          850.8076923076924,
          891.6153846153846,
          607.8076923076924,
          884.6153846153846
         ]
        },
        {
         "hoverinfo": "text",
         "line": {
          "width": 2
         },
         "mode": "lines+markers",
         "name": "Dress",
         "opacity": 0.6,
         "text": [
          "Item: Dress<br>Sales: $531.3409090909091",
          "Item: Dress<br>Sales: $191.3409090909091",
          "Item: Dress<br>Sales: $428.3409090909091",
          "Item: Dress<br>Sales: $577.3409090909091",
          "Item: Dress<br>Sales: $439.3409090909091",
          "Item: Dress<br>Sales: $301.0",
          "Item: Dress<br>Sales: $1167.0",
          "Item: Dress<br>Sales: $249.3409090909091",
          "Item: Dress<br>Sales: $93.3409090909091",
          "Item: Dress<br>Sales: $484.6818181818182",
          "Item: Dress<br>Sales: $345.6818181818182",
          "Item: Dress<br>Sales: $511.6818181818182"
         ],
         "type": "scatter",
         "x": [
          "2022-10-01T00:00:00",
          "2022-11-01T00:00:00",
          "2022-12-01T00:00:00",
          "2023-01-01T00:00:00",
          "2023-02-01T00:00:00",
          "2023-03-01T00:00:00",
          "2023-04-01T00:00:00",
          "2023-05-01T00:00:00",
          "2023-06-01T00:00:00",
          "2023-07-01T00:00:00",
          "2023-08-01T00:00:00",
          "2023-09-01T00:00:00"
         ],
         "y": [
          531.3409090909091,
          191.3409090909091,
          428.3409090909091,
          577.3409090909091,
          439.3409090909091,
          301,
          1167,
          249.3409090909091,
          93.3409090909091,
          484.6818181818182,
          345.6818181818182,
          511.6818181818182
         ]
        },
        {
         "hoverinfo": "text",
         "line": {
          "width": 2
         },
         "mode": "lines+markers",
         "name": "Flannel Shirt",
         "opacity": 0.6,
         "text": [
          "Item: Flannel Shirt<br>Sales: $559.377358490566",
          "Item: Flannel Shirt<br>Sales: $458.0",
          "Item: Flannel Shirt<br>Sales: $809.377358490566",
          "Item: Flannel Shirt<br>Sales: $183.0",
          "Item: Flannel Shirt<br>Sales: $609.7547169811321",
          "Item: Flannel Shirt<br>Sales: $1298.3773584905662",
          "Item: Flannel Shirt<br>Sales: $445.37735849056605",
          "Item: Flannel Shirt<br>Sales: $244.0",
          "Item: Flannel Shirt<br>Sales: $109.0",
          "Item: Flannel Shirt<br>Sales: $599.377358490566",
          "Item: Flannel Shirt<br>Sales: $598.7547169811321",
          "Item: Flannel Shirt<br>Sales: $535.377358490566"
         ],
         "type": "scatter",
         "x": [
          "2022-10-01T00:00:00",
          "2022-11-01T00:00:00",
          "2022-12-01T00:00:00",
          "2023-01-01T00:00:00",
          "2023-02-01T00:00:00",
          "2023-03-01T00:00:00",
          "2023-04-01T00:00:00",
          "2023-05-01T00:00:00",
          "2023-06-01T00:00:00",
          "2023-07-01T00:00:00",
          "2023-08-01T00:00:00",
          "2023-09-01T00:00:00"
         ],
         "y": [
          559.377358490566,
          458,
          809.377358490566,
          183,
          609.7547169811321,
          1298.3773584905662,
          445.37735849056605,
          244,
          109,
          599.377358490566,
          598.7547169811321,
          535.377358490566
         ]
        },
        {
         "hoverinfo": "text",
         "line": {
          "width": 2
         },
         "mode": "lines+markers",
         "name": "Hoodie",
         "opacity": 0.6,
         "text": [
          "Item: Hoodie<br>Sales: $3409.5",
          "Item: Hoodie<br>Sales: $588.0",
          "Item: Hoodie<br>Sales: $791.0",
          "Item: Hoodie<br>Sales: $887.0",
          "Item: Hoodie<br>Sales: $428.0",
          "Item: Hoodie<br>Sales: $716.5",
          "Item: Hoodie<br>Sales: $557.5",
          "Item: Hoodie<br>Sales: $791.0",
          "Item: Hoodie<br>Sales: $1017.0",
          "Item: Hoodie<br>Sales: $698.5",
          "Item: Hoodie<br>Sales: $1340.5",
          "Item: Hoodie<br>Sales: $363.0"
         ],
         "type": "scatter",
         "x": [
          "2022-10-01T00:00:00",
          "2022-11-01T00:00:00",
          "2022-12-01T00:00:00",
          "2023-01-01T00:00:00",
          "2023-02-01T00:00:00",
          "2023-03-01T00:00:00",
          "2023-04-01T00:00:00",
          "2023-05-01T00:00:00",
          "2023-06-01T00:00:00",
          "2023-07-01T00:00:00",
          "2023-08-01T00:00:00",
          "2023-09-01T00:00:00"
         ],
         "y": [
          3409.5,
          588,
          791,
          887,
          428,
          716.5,
          557.5,
          791,
          1017,
          698.5,
          1340.5,
          363
         ]
        },
        {
         "hoverinfo": "text",
         "line": {
          "width": 2
         },
         "mode": "lines+markers",
         "name": "Jacket",
         "opacity": 0.6,
         "text": [
          "Item: Jacket<br>Sales: $656.98",
          "Item: Jacket<br>Sales: $152.0",
          "Item: Jacket<br>Sales: $583.0",
          "Item: Jacket<br>Sales: $400.98",
          "Item: Jacket<br>Sales: $342.98",
          "Item: Jacket<br>Sales: $747.0",
          "Item: Jacket<br>Sales: $493.98",
          "Item: Jacket<br>Sales: $1323.0",
          "Item: Jacket<br>Sales: $315.96",
          "Item: Jacket<br>Sales: $3432.96",
          "Item: Jacket<br>Sales: $1001.9399999999999",
          "Item: Jacket<br>Sales: $659.9399999999999"
         ],
         "type": "scatter",
         "x": [
          "2022-10-01T00:00:00",
          "2022-11-01T00:00:00",
          "2022-12-01T00:00:00",
          "2023-01-01T00:00:00",
          "2023-02-01T00:00:00",
          "2023-03-01T00:00:00",
          "2023-04-01T00:00:00",
          "2023-05-01T00:00:00",
          "2023-06-01T00:00:00",
          "2023-07-01T00:00:00",
          "2023-08-01T00:00:00",
          "2023-09-01T00:00:00"
         ],
         "y": [
          656.98,
          152,
          583,
          400.98,
          342.98,
          747,
          493.98,
          1323,
          315.96,
          3432.96,
          1001.9399999999999,
          659.9399999999999
         ]
        },
        {
         "hoverinfo": "text",
         "line": {
          "width": 2
         },
         "mode": "lines+markers",
         "name": "Jeans",
         "opacity": 0.6,
         "text": [
          "Item: Jeans<br>Sales: $616.5",
          "Item: Jeans<br>Sales: $721.25",
          "Item: Jeans<br>Sales: $762.5",
          "Item: Jeans<br>Sales: $476.0",
          "Item: Jeans<br>Sales: $3555.25",
          "Item: Jeans<br>Sales: $226.0",
          "Item: Jeans<br>Sales: $482.0",
          "Item: Jeans<br>Sales: $6153.5",
          "Item: Jeans<br>Sales: $537.25",
          "Item: Jeans<br>Sales: $981.0",
          "Item: Jeans<br>Sales: $635.25",
          "Item: Jeans<br>Sales: $644.0"
         ],
         "type": "scatter",
         "x": [
          "2022-10-01T00:00:00",
          "2022-11-01T00:00:00",
          "2022-12-01T00:00:00",
          "2023-01-01T00:00:00",
          "2023-02-01T00:00:00",
          "2023-03-01T00:00:00",
          "2023-04-01T00:00:00",
          "2023-05-01T00:00:00",
          "2023-06-01T00:00:00",
          "2023-07-01T00:00:00",
          "2023-08-01T00:00:00",
          "2023-09-01T00:00:00"
         ],
         "y": [
          616.5,
          721.25,
          762.5,
          476,
          3555.25,
          226,
          482,
          6153.5,
          537.25,
          981,
          635.25,
          644
         ]
        },
        {
         "hoverinfo": "text",
         "line": {
          "width": 2
         },
         "mode": "lines+markers",
         "name": "Jumpsuit",
         "opacity": 0.6,
         "text": [
          "Item: Jumpsuit<br>Sales: $709.0",
          "Item: Jumpsuit<br>Sales: $890.2173913043479",
          "Item: Jumpsuit<br>Sales: $578.0",
          "Item: Jumpsuit<br>Sales: $683.4347826086956",
          "Item: Jumpsuit<br>Sales: $268.2173913043478",
          "Item: Jumpsuit<br>Sales: $367.0",
          "Item: Jumpsuit<br>Sales: $557.2173913043478",
          "Item: Jumpsuit<br>Sales: $320.0",
          "Item: Jumpsuit<br>Sales: $1237.4347826086957",
          "Item: Jumpsuit<br>Sales: $486.6521739130435",
          "Item: Jumpsuit<br>Sales: $133.0",
          "Item: Jumpsuit<br>Sales: $280.2173913043478"
         ],
         "type": "scatter",
         "x": [
          "2022-10-01T00:00:00",
          "2022-11-01T00:00:00",
          "2022-12-01T00:00:00",
          "2023-01-01T00:00:00",
          "2023-02-01T00:00:00",
          "2023-03-01T00:00:00",
          "2023-04-01T00:00:00",
          "2023-05-01T00:00:00",
          "2023-06-01T00:00:00",
          "2023-07-01T00:00:00",
          "2023-08-01T00:00:00",
          "2023-09-01T00:00:00"
         ],
         "y": [
          709,
          890.2173913043479,
          578,
          683.4347826086956,
          268.2173913043478,
          367,
          557.2173913043478,
          320,
          1237.4347826086957,
          486.6521739130435,
          133,
          280.2173913043478
         ]
        },
        {
         "hoverinfo": "text",
         "line": {
          "width": 2
         },
         "mode": "lines+markers",
         "name": "Kimono",
         "opacity": 0.6,
         "text": [
          "Item: Kimono<br>Sales: $614.672131147541",
          "Item: Kimono<br>Sales: $1296.672131147541",
          "Item: Kimono<br>Sales: $752.344262295082",
          "Item: Kimono<br>Sales: $316.0",
          "Item: Kimono<br>Sales: $609.672131147541",
          "Item: Kimono<br>Sales: $1035.344262295082",
          "Item: Kimono<br>Sales: $3856.344262295082",
          "Item: Kimono<br>Sales: $703.0",
          "Item: Kimono<br>Sales: $1004.344262295082",
          "Item: Kimono<br>Sales: $307.672131147541",
          "Item: Kimono<br>Sales: $384.0",
          "Item: Kimono<br>Sales: $46.0"
         ],
         "type": "scatter",
         "x": [
          "2022-10-01T00:00:00",
          "2022-12-01T00:00:00",
          "2023-01-01T00:00:00",
          "2023-02-01T00:00:00",
          "2023-03-01T00:00:00",
          "2023-04-01T00:00:00",
          "2023-05-01T00:00:00",
          "2023-06-01T00:00:00",
          "2023-07-01T00:00:00",
          "2023-08-01T00:00:00",
          "2023-09-01T00:00:00",
          "2023-10-01T00:00:00"
         ],
         "y": [
          614.672131147541,
          1296.672131147541,
          752.344262295082,
          316,
          609.672131147541,
          1035.344262295082,
          3856.344262295082,
          703,
          1004.344262295082,
          307.672131147541,
          384,
          46
         ]
        },
        {
         "hoverinfo": "text",
         "line": {
          "width": 2
         },
         "mode": "lines+markers",
         "name": "Leggings",
         "opacity": 0.6,
         "text": [
          "Item: Leggings<br>Sales: $382.0408163265306",
          "Item: Leggings<br>Sales: $199.0408163265306",
          "Item: Leggings<br>Sales: $99.0",
          "Item: Leggings<br>Sales: $147.0",
          "Item: Leggings<br>Sales: $648.1224489795918",
          "Item: Leggings<br>Sales: $3240.0",
          "Item: Leggings<br>Sales: $386.0408163265306",
          "Item: Leggings<br>Sales: $768.0408163265306",
          "Item: Leggings<br>Sales: $1798.0408163265306",
          "Item: Leggings<br>Sales: $605.0816326530612",
          "Item: Leggings<br>Sales: $950.0408163265306",
          "Item: Leggings<br>Sales: $1010.0816326530612"
         ],
         "type": "scatter",
         "x": [
          "2022-10-01T00:00:00",
          "2022-11-01T00:00:00",
          "2022-12-01T00:00:00",
          "2023-01-01T00:00:00",
          "2023-02-01T00:00:00",
          "2023-03-01T00:00:00",
          "2023-04-01T00:00:00",
          "2023-05-01T00:00:00",
          "2023-06-01T00:00:00",
          "2023-07-01T00:00:00",
          "2023-08-01T00:00:00",
          "2023-09-01T00:00:00"
         ],
         "y": [
          382.0408163265306,
          199.0408163265306,
          99,
          147,
          648.1224489795918,
          3240,
          386.0408163265306,
          768.0408163265306,
          1798.0408163265306,
          605.0816326530612,
          950.0408163265306,
          1010.0816326530612
         ]
        },
        {
         "hoverinfo": "text",
         "line": {
          "width": 2
         },
         "mode": "lines+markers",
         "name": "Onesie",
         "opacity": 0.6,
         "text": [
          "Item: Onesie<br>Sales: $951.6949152542372",
          "Item: Onesie<br>Sales: $850.6949152542372",
          "Item: Onesie<br>Sales: $3985.6949152542375",
          "Item: Onesie<br>Sales: $710.0",
          "Item: Onesie<br>Sales: $550.0",
          "Item: Onesie<br>Sales: $61.0",
          "Item: Onesie<br>Sales: $468.0",
          "Item: Onesie<br>Sales: $642.8474576271186",
          "Item: Onesie<br>Sales: $1085.8474576271187",
          "Item: Onesie<br>Sales: $727.8474576271186",
          "Item: Onesie<br>Sales: $776.6949152542372",
          "Item: Onesie<br>Sales: $680.8474576271186"
         ],
         "type": "scatter",
         "x": [
          "2022-10-01T00:00:00",
          "2022-11-01T00:00:00",
          "2022-12-01T00:00:00",
          "2023-01-01T00:00:00",
          "2023-02-01T00:00:00",
          "2023-03-01T00:00:00",
          "2023-04-01T00:00:00",
          "2023-05-01T00:00:00",
          "2023-06-01T00:00:00",
          "2023-07-01T00:00:00",
          "2023-08-01T00:00:00",
          "2023-09-01T00:00:00"
         ],
         "y": [
          951.6949152542372,
          850.6949152542372,
          3985.6949152542375,
          710,
          550,
          61,
          468,
          642.8474576271186,
          1085.8474576271187,
          727.8474576271186,
          776.6949152542372,
          680.8474576271186
         ]
        },
        {
         "hoverinfo": "text",
         "line": {
          "width": 2
         },
         "mode": "lines+markers",
         "name": "Overalls",
         "opacity": 0.6,
         "text": [
          "Item: Overalls<br>Sales: $396.22222222222223",
          "Item: Overalls<br>Sales: $993.4444444444445",
          "Item: Overalls<br>Sales: $595.0",
          "Item: Overalls<br>Sales: $388.0",
          "Item: Overalls<br>Sales: $263.0",
          "Item: Overalls<br>Sales: $656.2222222222222",
          "Item: Overalls<br>Sales: $308.22222222222223",
          "Item: Overalls<br>Sales: $755.2222222222222",
          "Item: Overalls<br>Sales: $555.2222222222222",
          "Item: Overalls<br>Sales: $706.0",
          "Item: Overalls<br>Sales: $406.0",
          "Item: Overalls<br>Sales: $274.0"
         ],
         "type": "scatter",
         "x": [
          "2022-10-01T00:00:00",
          "2022-11-01T00:00:00",
          "2022-12-01T00:00:00",
          "2023-01-01T00:00:00",
          "2023-02-01T00:00:00",
          "2023-03-01T00:00:00",
          "2023-04-01T00:00:00",
          "2023-05-01T00:00:00",
          "2023-06-01T00:00:00",
          "2023-07-01T00:00:00",
          "2023-08-01T00:00:00",
          "2023-09-01T00:00:00"
         ],
         "y": [
          396.22222222222223,
          993.4444444444445,
          595,
          388,
          263,
          656.2222222222222,
          308.22222222222223,
          755.2222222222222,
          555.2222222222222,
          706,
          406,
          274
         ]
        },
        {
         "hoverinfo": "text",
         "line": {
          "width": 2
         },
         "mode": "lines+markers",
         "name": "Pajamas",
         "opacity": 0.6,
         "text": [
          "Item: Pajamas<br>Sales: $861.6065573770492",
          "Item: Pajamas<br>Sales: $545.8032786885246",
          "Item: Pajamas<br>Sales: $4840.4098360655735",
          "Item: Pajamas<br>Sales: $495.8032786885246",
          "Item: Pajamas<br>Sales: $388.8032786885246",
          "Item: Pajamas<br>Sales: $1481.6065573770493",
          "Item: Pajamas<br>Sales: $1625.2131147540983",
          "Item: Pajamas<br>Sales: $3558.2131147540986",
          "Item: Pajamas<br>Sales: $669.8032786885246",
          "Item: Pajamas<br>Sales: $824.0",
          "Item: Pajamas<br>Sales: $669.0",
          "Item: Pajamas<br>Sales: $882.8032786885246",
          "Item: Pajamas<br>Sales: $151.0"
         ],
         "type": "scatter",
         "x": [
          "2022-10-01T00:00:00",
          "2022-11-01T00:00:00",
          "2022-12-01T00:00:00",
          "2023-01-01T00:00:00",
          "2023-02-01T00:00:00",
          "2023-03-01T00:00:00",
          "2023-04-01T00:00:00",
          "2023-05-01T00:00:00",
          "2023-06-01T00:00:00",
          "2023-07-01T00:00:00",
          "2023-08-01T00:00:00",
          "2023-09-01T00:00:00",
          "2023-10-01T00:00:00"
         ],
         "y": [
          861.6065573770492,
          545.8032786885246,
          4840.4098360655735,
          495.8032786885246,
          388.8032786885246,
          1481.6065573770493,
          1625.2131147540983,
          3558.2131147540986,
          669.8032786885246,
          824,
          669,
          882.8032786885246,
          151
         ]
        },
        {
         "hoverinfo": "text",
         "line": {
          "width": 2
         },
         "mode": "lines+markers",
         "name": "Pants",
         "opacity": 0.6,
         "text": [
          "Item: Pants<br>Sales: $1131.8309859154929",
          "Item: Pants<br>Sales: $412.0",
          "Item: Pants<br>Sales: $1012.9154929577464",
          "Item: Pants<br>Sales: $473.0",
          "Item: Pants<br>Sales: $283.91549295774644",
          "Item: Pants<br>Sales: $313.0",
          "Item: Pants<br>Sales: $1060.9154929577464",
          "Item: Pants<br>Sales: $4042.7464788732395",
          "Item: Pants<br>Sales: $682.9154929577464",
          "Item: Pants<br>Sales: $275.0",
          "Item: Pants<br>Sales: $968.7464788732394",
          "Item: Pants<br>Sales: $601.7464788732394"
         ],
         "type": "scatter",
         "x": [
          "2022-10-01T00:00:00",
          "2022-11-01T00:00:00",
          "2022-12-01T00:00:00",
          "2023-01-01T00:00:00",
          "2023-02-01T00:00:00",
          "2023-03-01T00:00:00",
          "2023-04-01T00:00:00",
          "2023-05-01T00:00:00",
          "2023-06-01T00:00:00",
          "2023-07-01T00:00:00",
          "2023-08-01T00:00:00",
          "2023-09-01T00:00:00"
         ],
         "y": [
          1131.8309859154929,
          412,
          1012.9154929577464,
          473,
          283.91549295774644,
          313,
          1060.9154929577464,
          4042.7464788732395,
          682.9154929577464,
          275,
          968.7464788732394,
          601.7464788732394
         ]
        },
        {
         "hoverinfo": "text",
         "line": {
          "width": 2
         },
         "mode": "lines+markers",
         "name": "Polo Shirt",
         "opacity": 0.6,
         "text": [
          "Item: Polo Shirt<br>Sales: $503.90697674418607",
          "Item: Polo Shirt<br>Sales: $819.0",
          "Item: Polo Shirt<br>Sales: $722.953488372093",
          "Item: Polo Shirt<br>Sales: $440.95348837209303",
          "Item: Polo Shirt<br>Sales: $497.95348837209303",
          "Item: Polo Shirt<br>Sales: $597.9069767441861",
          "Item: Polo Shirt<br>Sales: $466.86046511627904",
          "Item: Polo Shirt<br>Sales: $630.0",
          "Item: Polo Shirt<br>Sales: $628.8604651162791",
          "Item: Polo Shirt<br>Sales: $203.95348837209303",
          "Item: Polo Shirt<br>Sales: $297.95348837209303",
          "Item: Polo Shirt<br>Sales: $440.95348837209303"
         ],
         "type": "scatter",
         "x": [
          "2022-10-01T00:00:00",
          "2022-11-01T00:00:00",
          "2022-12-01T00:00:00",
          "2023-01-01T00:00:00",
          "2023-02-01T00:00:00",
          "2023-03-01T00:00:00",
          "2023-04-01T00:00:00",
          "2023-05-01T00:00:00",
          "2023-06-01T00:00:00",
          "2023-07-01T00:00:00",
          "2023-08-01T00:00:00",
          "2023-09-01T00:00:00"
         ],
         "y": [
          503.90697674418607,
          819,
          722.953488372093,
          440.95348837209303,
          497.95348837209303,
          597.9069767441861,
          466.86046511627904,
          630,
          628.8604651162791,
          203.95348837209303,
          297.95348837209303,
          440.95348837209303
         ]
        },
        {
         "hoverinfo": "text",
         "line": {
          "width": 2
         },
         "mode": "lines+markers",
         "name": "Poncho",
         "opacity": 0.6,
         "text": [
          "Item: Poncho<br>Sales: $317.0",
          "Item: Poncho<br>Sales: $558.3666666666667",
          "Item: Poncho<br>Sales: $1228.0",
          "Item: Poncho<br>Sales: $460.3666666666667",
          "Item: Poncho<br>Sales: $529.3666666666667",
          "Item: Poncho<br>Sales: $997.7333333333333",
          "Item: Poncho<br>Sales: $3428.366666666667",
          "Item: Poncho<br>Sales: $336.0",
          "Item: Poncho<br>Sales: $706.7333333333333",
          "Item: Poncho<br>Sales: $875.1",
          "Item: Poncho<br>Sales: $3828.7333333333336",
          "Item: Poncho<br>Sales: $631.0"
         ],
         "type": "scatter",
         "x": [
          "2022-10-01T00:00:00",
          "2022-11-01T00:00:00",
          "2022-12-01T00:00:00",
          "2023-01-01T00:00:00",
          "2023-02-01T00:00:00",
          "2023-03-01T00:00:00",
          "2023-04-01T00:00:00",
          "2023-05-01T00:00:00",
          "2023-06-01T00:00:00",
          "2023-07-01T00:00:00",
          "2023-08-01T00:00:00",
          "2023-09-01T00:00:00"
         ],
         "y": [
          317,
          558.3666666666667,
          1228,
          460.3666666666667,
          529.3666666666667,
          997.7333333333333,
          3428.366666666667,
          336,
          706.7333333333333,
          875.1,
          3828.7333333333336,
          631
         ]
        },
        {
         "hoverinfo": "text",
         "line": {
          "width": 2
         },
         "mode": "lines+markers",
         "name": "Raincoat",
         "opacity": 0.6,
         "text": [
          "Item: Raincoat<br>Sales: $839.6545454545454",
          "Item: Raincoat<br>Sales: $267.0",
          "Item: Raincoat<br>Sales: $630.2181818181818",
          "Item: Raincoat<br>Sales: $790.0",
          "Item: Raincoat<br>Sales: $853.4363636363637",
          "Item: Raincoat<br>Sales: $971.4363636363637",
          "Item: Raincoat<br>Sales: $568.6545454545454",
          "Item: Raincoat<br>Sales: $1085.0",
          "Item: Raincoat<br>Sales: $474.43636363636364",
          "Item: Raincoat<br>Sales: $1090.0",
          "Item: Raincoat<br>Sales: $299.21818181818185",
          "Item: Raincoat<br>Sales: $633.0"
         ],
         "type": "scatter",
         "x": [
          "2022-10-01T00:00:00",
          "2022-11-01T00:00:00",
          "2022-12-01T00:00:00",
          "2023-01-01T00:00:00",
          "2023-02-01T00:00:00",
          "2023-03-01T00:00:00",
          "2023-04-01T00:00:00",
          "2023-05-01T00:00:00",
          "2023-06-01T00:00:00",
          "2023-07-01T00:00:00",
          "2023-08-01T00:00:00",
          "2023-09-01T00:00:00"
         ],
         "y": [
          839.6545454545454,
          267,
          630.2181818181818,
          790,
          853.4363636363637,
          971.4363636363637,
          568.6545454545454,
          1085,
          474.43636363636364,
          1090,
          299.21818181818185,
          633
         ]
        },
        {
         "hoverinfo": "text",
         "line": {
          "width": 2
         },
         "mode": "lines+markers",
         "name": "Romper",
         "opacity": 0.6,
         "text": [
          "Item: Romper<br>Sales: $915.4166666666666",
          "Item: Romper<br>Sales: $5537.3125",
          "Item: Romper<br>Sales: $302.10416666666663",
          "Item: Romper<br>Sales: $426.0",
          "Item: Romper<br>Sales: $600.1041666666666",
          "Item: Romper<br>Sales: $1376.3125",
          "Item: Romper<br>Sales: $805.1041666666666",
          "Item: Romper<br>Sales: $190.0",
          "Item: Romper<br>Sales: $909.1041666666666",
          "Item: Romper<br>Sales: $409.0",
          "Item: Romper<br>Sales: $769.1041666666666",
          "Item: Romper<br>Sales: $375.10416666666663"
         ],
         "type": "scatter",
         "x": [
          "2022-10-01T00:00:00",
          "2022-11-01T00:00:00",
          "2022-12-01T00:00:00",
          "2023-01-01T00:00:00",
          "2023-02-01T00:00:00",
          "2023-03-01T00:00:00",
          "2023-04-01T00:00:00",
          "2023-05-01T00:00:00",
          "2023-06-01T00:00:00",
          "2023-07-01T00:00:00",
          "2023-08-01T00:00:00",
          "2023-09-01T00:00:00"
         ],
         "y": [
          915.4166666666666,
          5537.3125,
          302.10416666666663,
          426,
          600.1041666666666,
          1376.3125,
          805.1041666666666,
          190,
          909.1041666666666,
          409,
          769.1041666666666,
          375.10416666666663
         ]
        },
        {
         "hoverinfo": "text",
         "line": {
          "width": 2
         },
         "mode": "lines+markers",
         "name": "Shorts",
         "opacity": 0.6,
         "text": [
          "Item: Shorts<br>Sales: $1210.2972972972973",
          "Item: Shorts<br>Sales: $630.0",
          "Item: Shorts<br>Sales: $644.0",
          "Item: Shorts<br>Sales: $465.64864864864865",
          "Item: Shorts<br>Sales: $966.9459459459459",
          "Item: Shorts<br>Sales: $1031.0",
          "Item: Shorts<br>Sales: $820.6486486486486",
          "Item: Shorts<br>Sales: $1178.2972972972973",
          "Item: Shorts<br>Sales: $1169.9459459459458",
          "Item: Shorts<br>Sales: $651.0",
          "Item: Shorts<br>Sales: $5424.0",
          "Item: Shorts<br>Sales: $741.6486486486486"
         ],
         "type": "scatter",
         "x": [
          "2022-10-01T00:00:00",
          "2022-11-01T00:00:00",
          "2022-12-01T00:00:00",
          "2023-01-01T00:00:00",
          "2023-02-01T00:00:00",
          "2023-03-01T00:00:00",
          "2023-04-01T00:00:00",
          "2023-05-01T00:00:00",
          "2023-06-01T00:00:00",
          "2023-07-01T00:00:00",
          "2023-08-01T00:00:00",
          "2023-09-01T00:00:00"
         ],
         "y": [
          1210.2972972972973,
          630,
          644,
          465.64864864864865,
          966.9459459459459,
          1031,
          820.6486486486486,
          1178.2972972972973,
          1169.9459459459458,
          651,
          5424,
          741.6486486486486
         ]
        },
        {
         "hoverinfo": "text",
         "line": {
          "width": 2
         },
         "mode": "lines+markers",
         "name": "Skirt",
         "opacity": 0.6,
         "text": [
          "Item: Skirt<br>Sales: $438.2",
          "Item: Skirt<br>Sales: $612.2",
          "Item: Skirt<br>Sales: $701.1",
          "Item: Skirt<br>Sales: $495.0",
          "Item: Skirt<br>Sales: $893.3",
          "Item: Skirt<br>Sales: $554.1",
          "Item: Skirt<br>Sales: $1053.2",
          "Item: Skirt<br>Sales: $883.3",
          "Item: Skirt<br>Sales: $1057.0",
          "Item: Skirt<br>Sales: $978.2",
          "Item: Skirt<br>Sales: $1012.2",
          "Item: Skirt<br>Sales: $571.0"
         ],
         "type": "scatter",
         "x": [
          "2022-10-01T00:00:00",
          "2022-11-01T00:00:00",
          "2022-12-01T00:00:00",
          "2023-01-01T00:00:00",
          "2023-02-01T00:00:00",
          "2023-03-01T00:00:00",
          "2023-04-01T00:00:00",
          "2023-05-01T00:00:00",
          "2023-06-01T00:00:00",
          "2023-07-01T00:00:00",
          "2023-08-01T00:00:00",
          "2023-09-01T00:00:00"
         ],
         "y": [
          438.2,
          612.2,
          701.1,
          495,
          893.3,
          554.1,
          1053.2,
          883.3,
          1057,
          978.2,
          1012.2,
          571
         ]
        },
        {
         "hoverinfo": "text",
         "line": {
          "width": 2
         },
         "mode": "lines+markers",
         "name": "Sweater",
         "opacity": 0.6,
         "text": [
          "Item: Sweater<br>Sales: $147.0",
          "Item: Sweater<br>Sales: $128.0",
          "Item: Sweater<br>Sales: $6044.411764705882",
          "Item: Sweater<br>Sales: $1633.2745098039215",
          "Item: Sweater<br>Sales: $513.1372549019608",
          "Item: Sweater<br>Sales: $805.1372549019608",
          "Item: Sweater<br>Sales: $726.2745098039215",
          "Item: Sweater<br>Sales: $710.1372549019608",
          "Item: Sweater<br>Sales: $642.0",
          "Item: Sweater<br>Sales: $759.0",
          "Item: Sweater<br>Sales: $813.1372549019608",
          "Item: Sweater<br>Sales: $293.0"
         ],
         "type": "scatter",
         "x": [
          "2022-10-01T00:00:00",
          "2022-11-01T00:00:00",
          "2022-12-01T00:00:00",
          "2023-01-01T00:00:00",
          "2023-02-01T00:00:00",
          "2023-03-01T00:00:00",
          "2023-04-01T00:00:00",
          "2023-05-01T00:00:00",
          "2023-06-01T00:00:00",
          "2023-07-01T00:00:00",
          "2023-08-01T00:00:00",
          "2023-09-01T00:00:00"
         ],
         "y": [
          147,
          128,
          6044.411764705882,
          1633.2745098039215,
          513.1372549019608,
          805.1372549019608,
          726.2745098039215,
          710.1372549019608,
          642,
          759,
          813.1372549019608,
          293
         ]
        },
        {
         "hoverinfo": "text",
         "line": {
          "width": 2
         },
         "mode": "lines+markers",
         "name": "Swimsuit",
         "opacity": 0.6,
         "text": [
          "Item: Swimsuit<br>Sales: $428.2040816326531",
          "Item: Swimsuit<br>Sales: $572.0",
          "Item: Swimsuit<br>Sales: $576.204081632653",
          "Item: Swimsuit<br>Sales: $534.204081632653",
          "Item: Swimsuit<br>Sales: $3824.204081632653",
          "Item: Swimsuit<br>Sales: $924.4081632653061",
          "Item: Swimsuit<br>Sales: $1079.408163265306",
          "Item: Swimsuit<br>Sales: $535.4081632653061",
          "Item: Swimsuit<br>Sales: $552.6122448979593",
          "Item: Swimsuit<br>Sales: $1151.204081632653",
          "Item: Swimsuit<br>Sales: $1107.204081632653",
          "Item: Swimsuit<br>Sales: $872.4081632653061"
         ],
         "type": "scatter",
         "x": [
          "2022-10-01T00:00:00",
          "2022-11-01T00:00:00",
          "2022-12-01T00:00:00",
          "2023-01-01T00:00:00",
          "2023-02-01T00:00:00",
          "2023-03-01T00:00:00",
          "2023-04-01T00:00:00",
          "2023-05-01T00:00:00",
          "2023-06-01T00:00:00",
          "2023-07-01T00:00:00",
          "2023-08-01T00:00:00",
          "2023-09-01T00:00:00"
         ],
         "y": [
          428.2040816326531,
          572,
          576.204081632653,
          534.204081632653,
          3824.204081632653,
          924.4081632653061,
          1079.408163265306,
          535.4081632653061,
          552.6122448979593,
          1151.204081632653,
          1107.204081632653,
          872.4081632653061
         ]
        },
        {
         "hoverinfo": "text",
         "line": {
          "width": 2
         },
         "mode": "lines+markers",
         "name": "T-shirt",
         "opacity": 0.6,
         "text": [
          "Item: T-shirt<br>Sales: $1160.5396825396824",
          "Item: T-shirt<br>Sales: $1074.079365079365",
          "Item: T-shirt<br>Sales: $632.0793650793651",
          "Item: T-shirt<br>Sales: $545.5396825396825",
          "Item: T-shirt<br>Sales: $568.5396825396825",
          "Item: T-shirt<br>Sales: $2631.5396825396824",
          "Item: T-shirt<br>Sales: $528.5396825396825",
          "Item: T-shirt<br>Sales: $1176.5396825396824",
          "Item: T-shirt<br>Sales: $893.6190476190476",
          "Item: T-shirt<br>Sales: $770.0793650793651",
          "Item: T-shirt<br>Sales: $779.5396825396825",
          "Item: T-shirt<br>Sales: $1009.6190476190476"
         ],
         "type": "scatter",
         "x": [
          "2022-10-01T00:00:00",
          "2022-11-01T00:00:00",
          "2022-12-01T00:00:00",
          "2023-01-01T00:00:00",
          "2023-02-01T00:00:00",
          "2023-03-01T00:00:00",
          "2023-04-01T00:00:00",
          "2023-05-01T00:00:00",
          "2023-06-01T00:00:00",
          "2023-07-01T00:00:00",
          "2023-08-01T00:00:00",
          "2023-09-01T00:00:00"
         ],
         "y": [
          1160.5396825396824,
          1074.079365079365,
          632.0793650793651,
          545.5396825396825,
          568.5396825396825,
          2631.5396825396824,
          528.5396825396825,
          1176.5396825396824,
          893.6190476190476,
          770.0793650793651,
          779.5396825396825,
          1009.6190476190476
         ]
        },
        {
         "hoverinfo": "text",
         "line": {
          "width": 2
         },
         "mode": "lines+markers",
         "name": "Tank Top",
         "opacity": 0.6,
         "text": [
          "Item: Tank Top<br>Sales: $906.6969696969697",
          "Item: Tank Top<br>Sales: $556.0",
          "Item: Tank Top<br>Sales: $914.0909090909091",
          "Item: Tank Top<br>Sales: $1044.090909090909",
          "Item: Tank Top<br>Sales: $486.3939393939394",
          "Item: Tank Top<br>Sales: $2495.6969696969695",
          "Item: Tank Top<br>Sales: $947.0",
          "Item: Tank Top<br>Sales: $1302.6969696969697",
          "Item: Tank Top<br>Sales: $467.3939393939394",
          "Item: Tank Top<br>Sales: $466.6969696969697",
          "Item: Tank Top<br>Sales: $720.3939393939394"
         ],
         "type": "scatter",
         "x": [
          "2022-10-01T00:00:00",
          "2022-11-01T00:00:00",
          "2022-12-01T00:00:00",
          "2023-01-01T00:00:00",
          "2023-02-01T00:00:00",
          "2023-03-01T00:00:00",
          "2023-04-01T00:00:00",
          "2023-05-01T00:00:00",
          "2023-06-01T00:00:00",
          "2023-07-01T00:00:00",
          "2023-08-01T00:00:00"
         ],
         "y": [
          906.6969696969697,
          556,
          914.0909090909091,
          1044.090909090909,
          486.3939393939394,
          2495.6969696969695,
          947,
          1302.6969696969697,
          467.3939393939394,
          466.6969696969697,
          720.3939393939394
         ]
        },
        {
         "hoverinfo": "text",
         "line": {
          "width": 2
         },
         "mode": "lines+markers",
         "name": "Trench Coat",
         "opacity": 0.6,
         "text": [
          "Item: Trench Coat<br>Sales: $1044.2857142857142",
          "Item: Trench Coat<br>Sales: $420.42857142857144",
          "Item: Trench Coat<br>Sales: $455.42857142857144",
          "Item: Trench Coat<br>Sales: $2731.4285714285716",
          "Item: Trench Coat<br>Sales: $397.0",
          "Item: Trench Coat<br>Sales: $920.4285714285714",
          "Item: Trench Coat<br>Sales: $529.0",
          "Item: Trench Coat<br>Sales: $343.0",
          "Item: Trench Coat<br>Sales: $3755.4285714285716",
          "Item: Trench Coat<br>Sales: $272.0",
          "Item: Trench Coat<br>Sales: $639.4285714285714",
          "Item: Trench Coat<br>Sales: $625.2857142857142"
         ],
         "type": "scatter",
         "x": [
          "2022-10-01T00:00:00",
          "2022-11-01T00:00:00",
          "2022-12-01T00:00:00",
          "2023-01-01T00:00:00",
          "2023-02-01T00:00:00",
          "2023-03-01T00:00:00",
          "2023-04-01T00:00:00",
          "2023-05-01T00:00:00",
          "2023-06-01T00:00:00",
          "2023-07-01T00:00:00",
          "2023-08-01T00:00:00",
          "2023-09-01T00:00:00"
         ],
         "y": [
          1044.2857142857142,
          420.42857142857144,
          455.42857142857144,
          2731.4285714285716,
          397,
          920.4285714285714,
          529,
          343,
          3755.4285714285716,
          272,
          639.4285714285714,
          625.2857142857142
         ]
        },
        {
         "hoverinfo": "text",
         "line": {
          "width": 2
         },
         "mode": "lines+markers",
         "name": "Trousers",
         "opacity": 0.6,
         "text": [
          "Item: Trousers<br>Sales: $842.45",
          "Item: Trousers<br>Sales: $2696.0",
          "Item: Trousers<br>Sales: $924.3499999999999",
          "Item: Trousers<br>Sales: $534.0",
          "Item: Trousers<br>Sales: $313.45",
          "Item: Trousers<br>Sales: $645.3499999999999",
          "Item: Trousers<br>Sales: $161.45",
          "Item: Trousers<br>Sales: $942.8",
          "Item: Trousers<br>Sales: $432.45",
          "Item: Trousers<br>Sales: $569.9",
          "Item: Trousers<br>Sales: $599.9",
          "Item: Trousers<br>Sales: $702.0"
         ],
         "type": "scatter",
         "x": [
          "2022-10-01T00:00:00",
          "2022-11-01T00:00:00",
          "2022-12-01T00:00:00",
          "2023-01-01T00:00:00",
          "2023-02-01T00:00:00",
          "2023-03-01T00:00:00",
          "2023-04-01T00:00:00",
          "2023-05-01T00:00:00",
          "2023-06-01T00:00:00",
          "2023-07-01T00:00:00",
          "2023-08-01T00:00:00",
          "2023-09-01T00:00:00"
         ],
         "y": [
          842.45,
          2696,
          924.3499999999999,
          534,
          313.45,
          645.3499999999999,
          161.45,
          942.8,
          432.45,
          569.9,
          599.9,
          702
         ]
        },
        {
         "hoverinfo": "text",
         "line": {
          "width": 2
         },
         "mode": "lines+markers",
         "name": "Tunic",
         "opacity": 0.6,
         "text": [
          "Item: Tunic<br>Sales: $475.0",
          "Item: Tunic<br>Sales: $1229.8148148148148",
          "Item: Tunic<br>Sales: $4826.0",
          "Item: Tunic<br>Sales: $893.0",
          "Item: Tunic<br>Sales: $1037.9074074074074",
          "Item: Tunic<br>Sales: $325.0",
          "Item: Tunic<br>Sales: $5092.0",
          "Item: Tunic<br>Sales: $964.8148148148148",
          "Item: Tunic<br>Sales: $221.0",
          "Item: Tunic<br>Sales: $3370.814814814815",
          "Item: Tunic<br>Sales: $819.0",
          "Item: Tunic<br>Sales: $260.0"
         ],
         "type": "scatter",
         "x": [
          "2022-10-01T00:00:00",
          "2022-11-01T00:00:00",
          "2022-12-01T00:00:00",
          "2023-01-01T00:00:00",
          "2023-02-01T00:00:00",
          "2023-03-01T00:00:00",
          "2023-04-01T00:00:00",
          "2023-05-01T00:00:00",
          "2023-06-01T00:00:00",
          "2023-07-01T00:00:00",
          "2023-08-01T00:00:00",
          "2023-09-01T00:00:00"
         ],
         "y": [
          475,
          1229.8148148148148,
          4826,
          893,
          1037.9074074074074,
          325,
          5092,
          964.8148148148148,
          221,
          3370.814814814815,
          819,
          260
         ]
        },
        {
         "hoverinfo": "text",
         "line": {
          "width": 2
         },
         "mode": "lines+markers",
         "name": "Vest",
         "opacity": 0.6,
         "text": [
          "Item: Vest<br>Sales: $520.0",
          "Item: Vest<br>Sales: $227.72413793103448",
          "Item: Vest<br>Sales: $665.7241379310344",
          "Item: Vest<br>Sales: $521.0",
          "Item: Vest<br>Sales: $1166.7241379310344",
          "Item: Vest<br>Sales: $546.7241379310344",
          "Item: Vest<br>Sales: $268.7241379310345",
          "Item: Vest<br>Sales: $746.448275862069",
          "Item: Vest<br>Sales: $675.7241379310344",
          "Item: Vest<br>Sales: $753.1724137931035",
          "Item: Vest<br>Sales: $679.448275862069",
          "Item: Vest<br>Sales: $684.0",
          "Item: Vest<br>Sales: $122.0"
         ],
         "type": "scatter",
         "x": [
          "2022-10-01T00:00:00",
          "2022-11-01T00:00:00",
          "2022-12-01T00:00:00",
          "2023-01-01T00:00:00",
          "2023-02-01T00:00:00",
          "2023-03-01T00:00:00",
          "2023-04-01T00:00:00",
          "2023-05-01T00:00:00",
          "2023-06-01T00:00:00",
          "2023-07-01T00:00:00",
          "2023-08-01T00:00:00",
          "2023-09-01T00:00:00",
          "2023-10-01T00:00:00"
         ],
         "y": [
          520,
          227.72413793103448,
          665.7241379310344,
          521,
          1166.7241379310344,
          546.7241379310344,
          268.7241379310345,
          746.448275862069,
          675.7241379310344,
          753.1724137931035,
          679.448275862069,
          684,
          122
         ]
        }
       ],
       "layout": {
        "height": 500,
        "hovermode": "x unified",
        "template": {
         "data": {
          "bar": [
           {
            "error_x": {
             "color": "#2a3f5f"
            },
            "error_y": {
             "color": "#2a3f5f"
            },
            "marker": {
             "line": {
              "color": "white",
              "width": 0.5
             },
             "pattern": {
              "fillmode": "overlay",
              "size": 10,
              "solidity": 0.2
             }
            },
            "type": "bar"
           }
          ],
          "barpolar": [
           {
            "marker": {
             "line": {
              "color": "white",
              "width": 0.5
             },
             "pattern": {
              "fillmode": "overlay",
              "size": 10,
              "solidity": 0.2
             }
            },
            "type": "barpolar"
           }
          ],
          "carpet": [
           {
            "aaxis": {
             "endlinecolor": "#2a3f5f",
             "gridcolor": "#C8D4E3",
             "linecolor": "#C8D4E3",
             "minorgridcolor": "#C8D4E3",
             "startlinecolor": "#2a3f5f"
            },
            "baxis": {
             "endlinecolor": "#2a3f5f",
             "gridcolor": "#C8D4E3",
             "linecolor": "#C8D4E3",
             "minorgridcolor": "#C8D4E3",
             "startlinecolor": "#2a3f5f"
            },
            "type": "carpet"
           }
          ],
          "choropleth": [
           {
            "colorbar": {
             "outlinewidth": 0,
             "ticks": ""
            },
            "type": "choropleth"
           }
          ],
          "contour": [
           {
            "colorbar": {
             "outlinewidth": 0,
             "ticks": ""
            },
            "colorscale": [
             [
              0,
              "#0d0887"
             ],
             [
              0.1111111111111111,
              "#46039f"
             ],
             [
              0.2222222222222222,
              "#7201a8"
             ],
             [
              0.3333333333333333,
              "#9c179e"
             ],
             [
              0.4444444444444444,
              "#bd3786"
             ],
             [
              0.5555555555555556,
              "#d8576b"
             ],
             [
              0.6666666666666666,
              "#ed7953"
             ],
             [
              0.7777777777777778,
              "#fb9f3a"
             ],
             [
              0.8888888888888888,
              "#fdca26"
             ],
             [
              1,
              "#f0f921"
             ]
            ],
            "type": "contour"
           }
          ],
          "contourcarpet": [
           {
            "colorbar": {
             "outlinewidth": 0,
             "ticks": ""
            },
            "type": "contourcarpet"
           }
          ],
          "heatmap": [
           {
            "colorbar": {
             "outlinewidth": 0,
             "ticks": ""
            },
            "colorscale": [
             [
              0,
              "#0d0887"
             ],
             [
              0.1111111111111111,
              "#46039f"
             ],
             [
              0.2222222222222222,
              "#7201a8"
             ],
             [
              0.3333333333333333,
              "#9c179e"
             ],
             [
              0.4444444444444444,
              "#bd3786"
             ],
             [
              0.5555555555555556,
              "#d8576b"
             ],
             [
              0.6666666666666666,
              "#ed7953"
             ],
             [
              0.7777777777777778,
              "#fb9f3a"
             ],
             [
              0.8888888888888888,
              "#fdca26"
             ],
             [
              1,
              "#f0f921"
             ]
            ],
            "type": "heatmap"
           }
          ],
          "heatmapgl": [
           {
            "colorbar": {
             "outlinewidth": 0,
             "ticks": ""
            },
            "colorscale": [
             [
              0,
              "#0d0887"
             ],
             [
              0.1111111111111111,
              "#46039f"
             ],
             [
              0.2222222222222222,
              "#7201a8"
             ],
             [
              0.3333333333333333,
              "#9c179e"
             ],
             [
              0.4444444444444444,
              "#bd3786"
             ],
             [
              0.5555555555555556,
              "#d8576b"
             ],
             [
              0.6666666666666666,
              "#ed7953"
             ],
             [
              0.7777777777777778,
              "#fb9f3a"
             ],
             [
              0.8888888888888888,
              "#fdca26"
             ],
             [
              1,
              "#f0f921"
             ]
            ],
            "type": "heatmapgl"
           }
          ],
          "histogram": [
           {
            "marker": {
             "pattern": {
              "fillmode": "overlay",
              "size": 10,
              "solidity": 0.2
             }
            },
            "type": "histogram"
           }
          ],
          "histogram2d": [
           {
            "colorbar": {
             "outlinewidth": 0,
             "ticks": ""
            },
            "colorscale": [
             [
              0,
              "#0d0887"
             ],
             [
              0.1111111111111111,
              "#46039f"
             ],
             [
              0.2222222222222222,
              "#7201a8"
             ],
             [
              0.3333333333333333,
              "#9c179e"
             ],
             [
              0.4444444444444444,
              "#bd3786"
             ],
             [
              0.5555555555555556,
              "#d8576b"
             ],
             [
              0.6666666666666666,
              "#ed7953"
             ],
             [
              0.7777777777777778,
              "#fb9f3a"
             ],
             [
              0.8888888888888888,
              "#fdca26"
             ],
             [
              1,
              "#f0f921"
             ]
            ],
            "type": "histogram2d"
           }
          ],
          "histogram2dcontour": [
           {
            "colorbar": {
             "outlinewidth": 0,
             "ticks": ""
            },
            "colorscale": [
             [
              0,
              "#0d0887"
             ],
             [
              0.1111111111111111,
              "#46039f"
             ],
             [
              0.2222222222222222,
              "#7201a8"
             ],
             [
              0.3333333333333333,
              "#9c179e"
             ],
             [
              0.4444444444444444,
              "#bd3786"
             ],
             [
              0.5555555555555556,
              "#d8576b"
             ],
             [
              0.6666666666666666,
              "#ed7953"
             ],
             [
              0.7777777777777778,
              "#fb9f3a"
             ],
             [
              0.8888888888888888,
              "#fdca26"
             ],
             [
              1,
              "#f0f921"
             ]
            ],
            "type": "histogram2dcontour"
           }
          ],
          "mesh3d": [
           {
            "colorbar": {
             "outlinewidth": 0,
             "ticks": ""
            },
            "type": "mesh3d"
           }
          ],
          "parcoords": [
           {
            "line": {
             "colorbar": {
              "outlinewidth": 0,
              "ticks": ""
             }
            },
            "type": "parcoords"
           }
          ],
          "pie": [
           {
            "automargin": true,
            "type": "pie"
           }
          ],
          "scatter": [
           {
            "fillpattern": {
             "fillmode": "overlay",
             "size": 10,
             "solidity": 0.2
            },
            "type": "scatter"
           }
          ],
          "scatter3d": [
           {
            "line": {
             "colorbar": {
              "outlinewidth": 0,
              "ticks": ""
             }
            },
            "marker": {
             "colorbar": {
              "outlinewidth": 0,
              "ticks": ""
             }
            },
            "type": "scatter3d"
           }
          ],
          "scattercarpet": [
           {
            "marker": {
             "colorbar": {
              "outlinewidth": 0,
              "ticks": ""
             }
            },
            "type": "scattercarpet"
           }
          ],
          "scattergeo": [
           {
            "marker": {
             "colorbar": {
              "outlinewidth": 0,
              "ticks": ""
             }
            },
            "type": "scattergeo"
           }
          ],
          "scattergl": [
           {
            "marker": {
             "colorbar": {
              "outlinewidth": 0,
              "ticks": ""
             }
            },
            "type": "scattergl"
           }
          ],
          "scattermapbox": [
           {
            "marker": {
             "colorbar": {
              "outlinewidth": 0,
              "ticks": ""
             }
            },
            "type": "scattermapbox"
           }
          ],
          "scatterpolar": [
           {
            "marker": {
             "colorbar": {
              "outlinewidth": 0,
              "ticks": ""
             }
            },
            "type": "scatterpolar"
           }
          ],
          "scatterpolargl": [
           {
            "marker": {
             "colorbar": {
              "outlinewidth": 0,
              "ticks": ""
             }
            },
            "type": "scatterpolargl"
           }
          ],
          "scatterternary": [
           {
            "marker": {
             "colorbar": {
              "outlinewidth": 0,
              "ticks": ""
             }
            },
            "type": "scatterternary"
           }
          ],
          "surface": [
           {
            "colorbar": {
             "outlinewidth": 0,
             "ticks": ""
            },
            "colorscale": [
             [
              0,
              "#0d0887"
             ],
             [
              0.1111111111111111,
              "#46039f"
             ],
             [
              0.2222222222222222,
              "#7201a8"
             ],
             [
              0.3333333333333333,
              "#9c179e"
             ],
             [
              0.4444444444444444,
              "#bd3786"
             ],
             [
              0.5555555555555556,
              "#d8576b"
             ],
             [
              0.6666666666666666,
              "#ed7953"
             ],
             [
              0.7777777777777778,
              "#fb9f3a"
             ],
             [
              0.8888888888888888,
              "#fdca26"
             ],
             [
              1,
              "#f0f921"
             ]
            ],
            "type": "surface"
           }
          ],
          "table": [
           {
            "cells": {
             "fill": {
              "color": "#EBF0F8"
             },
             "line": {
              "color": "white"
             }
            },
            "header": {
             "fill": {
              "color": "#C8D4E3"
             },
             "line": {
              "color": "white"
             }
            },
            "type": "table"
           }
          ]
         },
         "layout": {
          "annotationdefaults": {
           "arrowcolor": "#2a3f5f",
           "arrowhead": 0,
           "arrowwidth": 1
          },
          "autotypenumbers": "strict",
          "coloraxis": {
           "colorbar": {
            "outlinewidth": 0,
            "ticks": ""
           }
          },
          "colorscale": {
           "diverging": [
            [
             0,
             "#8e0152"
            ],
            [
             0.1,
             "#c51b7d"
            ],
            [
             0.2,
             "#de77ae"
            ],
            [
             0.3,
             "#f1b6da"
            ],
            [
             0.4,
             "#fde0ef"
            ],
            [
             0.5,
             "#f7f7f7"
            ],
            [
             0.6,
             "#e6f5d0"
            ],
            [
             0.7,
             "#b8e186"
            ],
            [
             0.8,
             "#7fbc41"
            ],
            [
             0.9,
             "#4d9221"
            ],
            [
             1,
             "#276419"
            ]
           ],
           "sequential": [
            [
             0,
             "#0d0887"
            ],
            [
             0.1111111111111111,
             "#46039f"
            ],
            [
             0.2222222222222222,
             "#7201a8"
            ],
            [
             0.3333333333333333,
             "#9c179e"
            ],
            [
             0.4444444444444444,
             "#bd3786"
            ],
            [
             0.5555555555555556,
             "#d8576b"
            ],
            [
             0.6666666666666666,
             "#ed7953"
            ],
            [
             0.7777777777777778,
             "#fb9f3a"
            ],
            [
             0.8888888888888888,
             "#fdca26"
            ],
            [
             1,
             "#f0f921"
            ]
           ],
           "sequentialminus": [
            [
             0,
             "#0d0887"
            ],
            [
             0.1111111111111111,
             "#46039f"
            ],
            [
             0.2222222222222222,
             "#7201a8"
            ],
            [
             0.3333333333333333,
             "#9c179e"
            ],
            [
             0.4444444444444444,
             "#bd3786"
            ],
            [
             0.5555555555555556,
             "#d8576b"
            ],
            [
             0.6666666666666666,
             "#ed7953"
            ],
            [
             0.7777777777777778,
             "#fb9f3a"
            ],
            [
             0.8888888888888888,
             "#fdca26"
            ],
            [
             1,
             "#f0f921"
            ]
           ]
          },
          "colorway": [
           "#636efa",
           "#EF553B",
           "#00cc96",
           "#ab63fa",
           "#FFA15A",
           "#19d3f3",
           "#FF6692",
           "#B6E880",
           "#FF97FF",
           "#FECB52"
          ],
          "font": {
           "color": "#2a3f5f"
          },
          "geo": {
           "bgcolor": "white",
           "lakecolor": "white",
           "landcolor": "white",
           "showlakes": true,
           "showland": true,
           "subunitcolor": "#C8D4E3"
          },
          "hoverlabel": {
           "align": "left"
          },
          "hovermode": "closest",
          "mapbox": {
           "style": "light"
          },
          "paper_bgcolor": "white",
          "plot_bgcolor": "white",
          "polar": {
           "angularaxis": {
            "gridcolor": "#EBF0F8",
            "linecolor": "#EBF0F8",
            "ticks": ""
           },
           "bgcolor": "white",
           "radialaxis": {
            "gridcolor": "#EBF0F8",
            "linecolor": "#EBF0F8",
            "ticks": ""
           }
          },
          "scene": {
           "xaxis": {
            "backgroundcolor": "white",
            "gridcolor": "#DFE8F3",
            "gridwidth": 2,
            "linecolor": "#EBF0F8",
            "showbackground": true,
            "ticks": "",
            "zerolinecolor": "#EBF0F8"
           },
           "yaxis": {
            "backgroundcolor": "white",
            "gridcolor": "#DFE8F3",
            "gridwidth": 2,
            "linecolor": "#EBF0F8",
            "showbackground": true,
            "ticks": "",
            "zerolinecolor": "#EBF0F8"
           },
           "zaxis": {
            "backgroundcolor": "white",
            "gridcolor": "#DFE8F3",
            "gridwidth": 2,
            "linecolor": "#EBF0F8",
            "showbackground": true,
            "ticks": "",
            "zerolinecolor": "#EBF0F8"
           }
          },
          "shapedefaults": {
           "line": {
            "color": "#2a3f5f"
           }
          },
          "ternary": {
           "aaxis": {
            "gridcolor": "#DFE8F3",
            "linecolor": "#A2B1C6",
            "ticks": ""
           },
           "baxis": {
            "gridcolor": "#DFE8F3",
            "linecolor": "#A2B1C6",
            "ticks": ""
           },
           "bgcolor": "white",
           "caxis": {
            "gridcolor": "#DFE8F3",
            "linecolor": "#A2B1C6",
            "ticks": ""
           }
          },
          "title": {
           "x": 0.05
          },
          "xaxis": {
           "automargin": true,
           "gridcolor": "#EBF0F8",
           "linecolor": "#EBF0F8",
           "ticks": "",
           "title": {
            "standoff": 15
           },
           "zerolinecolor": "#EBF0F8",
           "zerolinewidth": 2
          },
          "yaxis": {
           "automargin": true,
           "gridcolor": "#EBF0F8",
           "linecolor": "#EBF0F8",
           "ticks": "",
           "title": {
            "standoff": 15
           },
           "zerolinecolor": "#EBF0F8",
           "zerolinewidth": 2
          }
         }
        },
        "title": {
         "text": "Total Sales Over Time by Item"
        },
        "xaxis": {
         "title": {
          "text": "Month"
         }
        },
        "yaxis": {
         "title": {
          "text": "Total Sales (USD)"
         }
        }
       }
      }
     },
     "metadata": {},
     "output_type": "display_data"
    }
   ],
   "source": [
    "retail_df['month'] = pd.to_datetime(retail_df['date']).dt.to_period(\"M\")\n",
    "ts_sales = retail_df.groupby(['item', 'month']).agg(\n",
    "    Total_Sales=('amount_usd', 'sum')\n",
    ").reset_index()\n",
    "ts_sales['month'] = ts_sales['month'].dt.to_timestamp()\n",
    "\n",
    "# Plotly graph Time Series\n",
    "fig = go.Figure()\n",
    "\n",
    "for item in ts_sales['item'].unique():\n",
    "    item_data = ts_sales[ts_sales['item'] == item]\n",
    "    fig.add_trace(go.Scatter(\n",
    "        x=item_data['month'],\n",
    "        y=item_data['Total_Sales'],\n",
    "        mode='lines+markers',\n",
    "        name=item,\n",
    "        hoverinfo='text',\n",
    "        text=[f\"Item: {item}<br>Sales: ${val}\" for val in item_data['Total_Sales']],\n",
    "        line=dict(width=2),\n",
    "        opacity=0.6\n",
    "    ))\n",
    "\n",
    "fig.update_layout(\n",
    "    title=\"Total Sales Over Time by Item\",\n",
    "    xaxis_title=\"Month\",\n",
    "    yaxis_title=\"Total Sales (USD)\",\n",
    "    hovermode='x unified',\n",
    "    template='plotly_white',\n",
    "    height=500\n",
    ")\n",
    "\n",
    "fig.show()\n"
   ]
  },
  {
   "cell_type": "code",
   "execution_count": 5,
   "id": "ca178d28",
   "metadata": {},
   "outputs": [
    {
     "data": {
      "image/png": "[encoded data removed]",
      "text/plain": [
       "<Figure size 1400x1000 with 2 Axes>"
      ]
     },
     "metadata": {},
     "output_type": "display_data"
    },
    {
     "data": {
      "text/plain": [
       "'item-item-heatmap.png'"
      ]
     },
     "execution_count": 5,
     "metadata": {},
     "output_type": "execute_result"
    },
    {
     "data": {
      "text/plain": [
       "<Figure size 640x480 with 0 Axes>"
      ]
     },
     "metadata": {},
     "output_type": "display_data"
    }
   ],
   "source": [
    "# Plot a heatmap based on cosine similarity between items\n",
    "plt.figure(figsize=(14, 10))\n",
    "sns.heatmap(item_similarity_df, \n",
    "            cmap=\"coolwarm\", \n",
    "            annot=False, \n",
    "            fmt=\".2f\", \n",
    "            linewidths=0.5, \n",
    "            xticklabels=item_similarity_df.columns, \n",
    "            yticklabels=item_similarity_df.index)\n",
    "\n",
    "plt.title(\"Item-Item Similarity Heatmap (Cosine Similarity)\")\n",
    "plt.xticks(rotation=90)\n",
    "plt.yticks(rotation=0)\n",
    "plt.tight_layout()\n",
    "plt.show()\n",
    "\n",
    "# Save as image\n",
    "heatmap_path = \"item-item-heatmap.png\"\n",
    "plt.savefig(heatmap_path, bbox_inches='tight')\n",
    "\n",
    "heatmap_path"
   ]
  },
  {
   "cell_type": "code",
   "execution_count": 6,
   "id": "21cf0d48",
   "metadata": {},
   "outputs": [
    {
     "name": "stdout",
     "output_type": "stream",
     "text": [
      "\n",
      "Top 3 items similar to 'Hoodie':\n",
      "Skirt: similarity score = 0.40\n",
      "Poncho: similarity score = 0.39\n",
      "Raincoat: similarity score = 0.39\n"
     ]
    }
   ],
   "source": [
    "def find_similar_items(item_name, top_n=5):\n",
    "    # Normalize casing\n",
    "    item_name_lower = item_name.lower()\n",
    "    all_items = [col for col in item_similarity_df.columns]\n",
    "    matched_items = [item for item in all_items if item.lower() == item_name_lower]\n",
    "    \n",
    "    if not matched_items:\n",
    "        print(f\"Item '{item_name}' not found. Please check the spelling or try another item.\")\n",
    "        return\n",
    "    \n",
    "    matched_item = matched_items[0]  \n",
    "    \n",
    "    similar_items = item_similarity_df[matched_item].drop(matched_item).sort_values(ascending=False).head(top_n)\n",
    "    print(f\"\\nTop {top_n} items similar to '{matched_item}':\")\n",
    "    for similar_item, score in similar_items.items():\n",
    "        print(f\"{similar_item}: similarity score = {score:.2f}\")\n",
    "\n",
    "# Prompt once per run\n",
    "user_input = input(\"Enter an item name to find similar products: \").strip()\n",
    "n = int(input(\"How many similar items do you want to see? (default 5): \") or 5)\n",
    "\n",
    "find_similar_items(user_input, top_n=n)\n",
    "\n",
    "\n"
   ]
  },
  {
   "cell_type": "code",
   "execution_count": 7,
   "id": "a2ac1dbb",
   "metadata": {},
   "outputs": [
    {
     "name": "stdout",
     "output_type": "stream",
     "text": [
      "\n",
      "Total number of sales: 3400\n",
      "Number of unique items: 50\n",
      "\n",
      "Items sold (sorted by quantity):\n",
      "item\n",
      "Belt             90\n",
      "Skirt            88\n",
      "Shorts           87\n",
      "Pants            86\n",
      "Tank Top         82\n",
      "T-shirt          82\n",
      "Pajamas          81\n",
      "Camisole         76\n",
      "Loafers          76\n",
      "Hoodie           75\n",
      "Poncho           73\n",
      "Socks            73\n",
      "Kimono           73\n",
      "Blouse           73\n",
      "Wallet           73\n",
      "Handbag          72\n",
      "Cardigan         72\n",
      "Vest             71\n",
      "Sneakers         71\n",
      "Onesie           71\n",
      "Backpack         71\n",
      "Blazer           71\n",
      "Umbrella         70\n",
      "Raincoat         69\n",
      "Trench Coat      68\n",
      "Hat              68\n",
      "Sunglasses       67\n",
      "Coat             67\n",
      "Scarf            66\n",
      "Swimsuit         66\n",
      "Boots            65\n",
      "Jacket           64\n",
      "Romper           64\n",
      "Flannel Shirt    63\n",
      "Leggings         62\n",
      "Sweater          62\n",
      "Overalls         61\n",
      "Tunic            61\n",
      "Polo Shirt       59\n",
      "Gloves           59\n",
      "Jeans            58\n",
      "Slippers         58\n",
      "Trousers         58\n",
      "Jumpsuit         57\n",
      "Dress            57\n",
      "Tie              57\n",
      "Sandals          54\n",
      "Bowtie           52\n",
      "Flip-Flops       51\n",
      "Sun Hat          50\n",
      "Name: count, dtype: int64\n"
     ]
    }
   ],
   "source": [
    "import pandas as pd\n",
    "\n",
    "# Load the data\n",
    "df = pd.read_csv('retail_sales.csv')\n",
    "\n",
    "# Count total number of sales\n",
    "total_sales = len(df)\n",
    "\n",
    "# Count unique items\n",
    "unique_items = df['item'].nunique()\n",
    "\n",
    "# Count items by category\n",
    "item_counts = df['item'].value_counts()\n",
    "\n",
    "# Print results\n",
    "print(f\"\\nTotal number of sales: {total_sales}\")\n",
    "print(f\"Number of unique items: {unique_items}\")\n",
    "print(\"\\nItems sold (sorted by quantity):\")\n",
    "print(item_counts) "
   ]
  },
  {
   "cell_type": "code",
   "execution_count": 8,
   "id": "843820cd",
   "metadata": {},
   "outputs": [
    {
     "data": {
      "application/vnd.jupyter.widget-view+json": {
       "model_id": "56c580fcb2c6416abd9857be9a542304",
       "version_major": 2,
       "version_minor": 0
      },
      "text/plain": [
       "interactive(children=(SelectMultiple(description='Choose Items:', layout=Layout(height='150px', width='50%'), …"
      ]
     },
     "execution_count": 8,
     "metadata": {},
     "output_type": "execute_result"
    }
   ],
   "source": [
    "from ipywidgets import widgets, interactive\n",
    "import plotly.graph_objects as go\n",
    "import pandas as pd\n",
    "\n",
    "# Group by item and month: sum of sales and count of sold entries\n",
    "ts_sales_full = retail_df.groupby(['item', 'month']).agg(\n",
    "    Total_Sales=('amount_usd', 'sum'),\n",
    "    Units_Sold=('item', 'count')\n",
    ").reset_index()\n",
    "ts_sales_full['month'] = ts_sales_full['month'].dt.to_timestamp()\n",
    "\n",
    "# Dropdown options\n",
    "items_list = sorted(ts_sales_full['item'].unique())\n",
    "\n",
    "# Plot function\n",
    "def plot_multiple_items(selected_items):\n",
    "    fig = go.Figure()\n",
    "    \n",
    "    for item in selected_items:\n",
    "        item_data = ts_sales_full[ts_sales_full['item'] == item]\n",
    "        fig.add_trace(go.Scatter(\n",
    "            x=item_data['month'],\n",
    "            y=item_data['Total_Sales'],\n",
    "            mode='lines+markers',\n",
    "            name=item,\n",
    "            customdata=item_data[['Units_Sold']],\n",
    "            hovertemplate=(\n",
    "                f\"<b>{item}</b><br>\" +\n",
    "                \"Month: %{x|%b %Y}<br>\" +\n",
    "                \"Sales: $%{y:.2f}<br>\" +\n",
    "                \"Units Sold: %{customdata[0]}<extra></extra>\"\n",
    "            ),\n",
    "            line=dict(width=2)\n",
    "        ))\n",
    "    \n",
    "    fig.update_layout(\n",
    "        title=\"Seasonal Sales Trends (Multiple Items)\",\n",
    "        xaxis_title=\"Month\",\n",
    "        yaxis_title=\"Total Sales (USD)\",\n",
    "        hovermode='closest',  # <- tooltips only on data points\n",
    "        template='plotly_white',\n",
    "        height=600\n",
    "    )\n",
    "    fig.show()\n",
    "\n",
    "# Dropdown-style multi-select using SelectMultiple\n",
    "multi_dropdown = widgets.SelectMultiple(\n",
    "    options=items_list,\n",
    "    description='Choose Items:',\n",
    "    style={'description_width': 'initial'},\n",
    "    layout={'width': '50%', 'height': '150px'}\n",
    ")\n",
    "\n",
    "interactive(plot_multiple_items, selected_items=multi_dropdown)\n",
    "\n",
    "# fig.write_html(\"item_trend.html\")"
   ]
  },
  {
   "cell_type": "code",
   "execution_count": 9,
   "id": "efc552f1",
   "metadata": {},
   "outputs": [
    {
     "data": {
      "application/vnd.jupyter.widget-view+json": {
       "model_id": "542ded8227dd4c7398bf535633133cb7",
       "version_major": 2,
       "version_minor": 0
      },
      "text/plain": [
       "interactive(children=(Dropdown(description='Select Item:', layout=Layout(width='50%'), options=('Backpack', 'B…"
      ]
     },
     "metadata": {},
     "output_type": "display_data"
    },
    {
     "data": {
      "text/plain": [
       "<function __main__.forecast_item(item_name, periods=6)>"
      ]
     },
     "execution_count": 9,
     "metadata": {},
     "output_type": "execute_result"
    }
   ],
   "source": [
    "import warnings\n",
    "import plotly.graph_objects as go\n",
    "import pandas as pd\n",
    "from statsmodels.tsa.arima.model import ARIMA\n",
    "from ipywidgets import interact, Dropdown\n",
    "warnings.filterwarnings(\"ignore\")\n",
    "\n",
    "\n",
    "# Prepare the monthly total sales per item\n",
    "ts_sales = df.copy()\n",
    "ts_sales['date'] = pd.to_datetime(ts_sales['date'])\n",
    "ts_sales['month'] = ts_sales['date'].dt.to_period('M').dt.to_timestamp()\n",
    "ts_sales = ts_sales.dropna(subset=['amount_usd'])\n",
    "\n",
    "monthly_sales = ts_sales.groupby(['item', 'month']).agg(\n",
    "    Total_Sales=('amount_usd', 'sum')\n",
    ").reset_index()\n",
    "\n",
    "# Define forecasting function\n",
    "def forecast_item(item_name, periods=6):\n",
    "    item_data = monthly_sales[monthly_sales['item'] == item_name].copy()\n",
    "    item_data = item_data.set_index('month').resample('M').sum().fillna(0)\n",
    "    \n",
    "    # Train ARIMA model\n",
    "    model = ARIMA(item_data['Total_Sales'], order=(1, 1, 1))\n",
    "    model_fit = model.fit()\n",
    "    forecast = model_fit.get_forecast(steps=periods)\n",
    "    forecast_index = pd.date_range(item_data.index[-1] + pd.DateOffset(months=1), periods=periods, freq='M')\n",
    "    \n",
    "    # Plot original + forecast\n",
    "    fig = go.Figure()\n",
    "    fig.add_trace(go.Scatter(x=item_data.index, y=item_data['Total_Sales'],\n",
    "                             mode='lines+markers', name='Historical Sales'))\n",
    "    fig.add_trace(go.Scatter(x=forecast_index, y=forecast.predicted_mean,\n",
    "                             mode='lines+markers', name='Forecasted Sales'))\n",
    "    \n",
    "    fig.update_layout(\n",
    "        title=f\"Sales Forecast for {item_name}\",\n",
    "        xaxis_title=\"Month\",\n",
    "        yaxis_title=\"Total Sales (USD)\",\n",
    "        template=\"plotly_white\"\n",
    "    )\n",
    "    fig.show()\n",
    "\n",
    "# Interactive widget for selecting item\n",
    "item_dropdown = Dropdown(\n",
    "    options=sorted(monthly_sales['item'].unique()),\n",
    "    description='Select Item:',\n",
    "    layout={'width': '50%'}\n",
    ")\n",
    "\n",
    "interact(forecast_item, item_name=item_dropdown)\n",
    "# fig.write_html(\"item_forecast.html\")"
   ]
  },
  {
   "cell_type": "code",
   "execution_count": null,
   "id": "bc0f091a",
   "metadata": {},
   "outputs": [
    {
     "name": "stdout",
     "output_type": "stream",
     "text": [
      "              item      month  Total_Sales\n",
      "24          Blazer 2022-10-01       5246.0\n",
      "179         Hoodie 2022-10-01       3255.0\n",
      "586         Wallet 2022-11-01       3412.0\n",
      "538       Trousers 2022-11-01       2696.0\n",
      "60          Bowtie 2022-11-01       4797.0\n",
      "360        Sandals 2022-11-01        910.0\n",
      "348         Romper 2022-11-01       4946.0\n",
      "312     Polo Shirt 2022-11-01        819.0\n",
      "275       Overalls 2022-11-01        787.0\n",
      "469        Sweater 2022-12-01       5405.0\n",
      "445        Sun Hat 2022-12-01        672.0\n",
      "264         Onesie 2022-12-01       3662.0\n",
      "288        Pajamas 2022-12-01       4211.0\n",
      "133     Flip-Flops 2022-12-01       5375.0\n",
      "74        Camisole 2023-01-01        775.0\n",
      "159        Handbag 2023-02-01       4878.0\n",
      "517            Tie 2023-02-01        825.0\n",
      "483       Swimsuit 2023-02-01       3640.0\n",
      "435          Socks 2023-02-01       3184.0\n",
      "576           Vest 2023-02-01       1060.0\n",
      "4         Backpack 2023-02-01        954.0\n",
      "124  Flannel Shirt 2023-03-01       1196.0\n",
      "507       Tank Top 2023-03-01       2370.0\n",
      "495        T-shirt 2023-03-01       2488.0\n",
      "40          Blouse 2023-03-01       4202.0\n",
      "460     Sunglasses 2023-03-01       1070.0\n",
      "243       Leggings 2023-03-01       3240.0\n",
      "114          Dress 2023-04-01       1167.0\n",
      "554          Tunic 2023-04-01       5092.0\n",
      "90        Cardigan 2023-04-01       3005.0\n",
      "149         Gloves 2023-04-01       4826.0\n",
      "378          Scarf 2023-05-01       3169.0\n",
      "232         Kimono 2023-05-01       3557.0\n",
      "306          Pants 2023-05-01       3650.0\n",
      "19            Belt 2023-05-01       4378.0\n",
      "209          Jeans 2023-05-01       5609.0\n",
      "533    Trench Coat 2023-06-01       3577.0\n",
      "258        Loafers 2023-06-01       4843.0\n",
      "415       Slippers 2023-06-01       4983.0\n",
      "403          Skirt 2023-06-01       1057.0\n",
      "222       Jumpsuit 2023-06-01       1009.0\n",
      "104           Coat 2023-06-01        744.0\n",
      "199         Jacket 2023-07-01       3117.0\n",
      "176            Hat 2023-07-01        933.0\n",
      "344       Raincoat 2023-07-01       1090.0\n",
      "569       Umbrella 2023-07-01        907.0\n",
      "393         Shorts 2023-08-01       5424.0\n",
      "333         Poncho 2023-08-01       3448.0\n",
      "58           Boots 2023-09-01       4014.0\n",
      "430       Sneakers 2023-09-01       1212.0\n"
     ]
    }
   ],
   "source": [
    "# Detect peak sales months for each item\n",
    "# This can help decide when to market each product\n",
    "\n",
    "\n",
    "# Step 2: Find peak sales month(s) for each item\n",
    "peak_months = monthly_sales.loc[\n",
    "    monthly_sales.groupby('item')['Total_Sales'].idxmax()\n",
    "][['item', 'month', 'Total_Sales']].sort_values(by='month')\n",
    "\n",
    "# Redefine monthly_sales since the variable was lost in prior cell\n",
    "df = pd.read_csv('retail_sales.csv')\n",
    "df['date'] = pd.to_datetime(df['date'])\n",
    "df = df.dropna(subset=['amount_usd'])\n",
    "df['month'] = df['date'].dt.to_period('M').dt.to_timestamp()\n",
    "\n",
    "monthly_sales = df.groupby(['item', 'month']).agg(\n",
    "    Total_Sales=('amount_usd', 'sum')\n",
    ").reset_index()\n",
    "\n",
    "# Find peak sales month for each item\n",
    "peak_months = monthly_sales.loc[\n",
    "    monthly_sales.groupby('item')['Total_Sales'].idxmax()\n",
    "][['item', 'month', 'Total_Sales']].sort_values(by='month')\n",
    "\n",
    "print(peak_months)\n",
    "\n",
    "# The single month when each item hit its highest total sales.\n",
    "\n",
    "# Ordered by month to see which items peak early in the year vs. later.\n",
    "# ➤ “When should I market this product?”\n",
    "# ➤ “Which items peak in summer vs. winter?”\n"
   ]
  },
  {
   "cell_type": "code",
   "execution_count": null,
   "id": "8f6ff3c1",
   "metadata": {},
   "outputs": [
    {
     "data": {
      "application/vnd.jupyter.widget-view+json": {
       "model_id": "504ab12e69e54618b5550894b07a90de",
       "version_major": 2,
       "version_minor": 0
      },
      "text/plain": [
       "interactive(children=(Dropdown(description='Item', options=('Blazer', 'Blouse', 'Camisole', 'Cardigan', 'Coat'…"
      ]
     },
     "metadata": {},
     "output_type": "display_data"
    }
   ],
   "source": [
    "# Calculate co-purchase frequency and combine with item similarity (cosine-based)\n",
    "\n",
    "# Step 1: Filter for clothing items only\n",
    "clothing_items = [\n",
    "    'Tunic', 'Tank Top', 'Leggings', 'Onesie', 'Jacket', 'Trousers', 'Jeans',\n",
    "    'Pajamas', 'Trench Coat', 'Poncho', 'Romper', 'T-shirt', 'Shorts',\n",
    "    'Blazer', 'Hoodie', 'Sweater', 'Blouse', 'Swimsuit', 'Kimono', 'Cardigan',\n",
    "    'Dress', 'Camisole', 'Flannel Shirt', 'Polo Shirt', 'Overalls', 'Coat',\n",
    "    'Vest', 'Jumpsuit', 'Raincoat', 'Skirt', 'Pants'\n",
    "]\n",
    "\n",
    "clothing_df = df[df['item'].isin(clothing_items)].copy()\n",
    "\n",
    "# Step 2: Create binary matrix of co-purchases (1 if customer bought the item)\n",
    "basket = clothing_df.groupby(['customerID', 'item']).size().unstack(fill_value=0)\n",
    "basket[basket > 0] = 1  # Convert to binary\n",
    "\n",
    "# Step 3: Compute co-purchase frequency (item-item)\n",
    "co_purchase = basket.T.dot(basket)\n",
    "co_purchase = co_purchase.fillna(0)\n",
    "\n",
    "# Step 4: Normalize cosine similarity (reuse logic)\n",
    "from sklearn.metrics.pairwise import cosine_similarity\n",
    "\n",
    "user_item_matrix = clothing_df.pivot_table(index='customerID', columns='item', values='review', aggfunc='mean')\n",
    "user_item_filled = user_item_matrix.fillna(0)\n",
    "item_similarity_matrix = cosine_similarity(user_item_filled.T)\n",
    "item_similarity_df = pd.DataFrame(item_similarity_matrix, index=user_item_filled.columns, columns=user_item_filled.columns)\n",
    "\n",
    "# Step 5: Combine both into a new DataFrame to recommend bundling\n",
    "bundle_recommendations = []\n",
    "\n",
    "for item in co_purchase.columns:\n",
    "    combined_score = (co_purchase[item] / co_purchase[item].max()) * 0.5 + \\\n",
    "                     (item_similarity_df[item] / item_similarity_df[item].max()) * 0.5\n",
    "    top_bundle = combined_score.drop(item).sort_values(ascending=False).head(3)\n",
    "    for related_item, score in top_bundle.items():\n",
    "        bundle_recommendations.append({\n",
    "            'Item': item,\n",
    "            'Recommended_Bundle': related_item,\n",
    "            'Bundle_Score': round(score, 3)\n",
    "        })\n",
    "\n",
    "bundle_df = pd.DataFrame(bundle_recommendations)\n",
    "bundle_df\n",
    "\n",
    "@interact(item=Dropdown(options=basket.columns, description=\"Item\"))\n",
    "def recommend_bundles(item):\n",
    "    top_related = bundle_df[bundle_df['Item'] == item].sort_values(by='Bundle_Score', ascending=False)\n",
    "    display(top_related[['Recommended_Bundle', 'Bundle_Score']])\n"
   ]
  },
  {
   "cell_type": "code",
   "execution_count": 12,
   "id": "713689dc",
   "metadata": {},
   "outputs": [
    {
     "name": "stdout",
     "output_type": "stream",
     "text": [
      "         item      payment    Review_Level  Total_Sales  Units_Sold  \\\n",
      "1    Backpack         Cash  Medium (2-3.5)       1347.0          12   \n",
      "4    Backpack  Credit Card  Medium (2-3.5)       1318.0          11   \n",
      "2    Backpack         Cash     High (>3.5)       1087.0           9   \n",
      "3    Backpack  Credit Card       Low (<=2)        970.0           8   \n",
      "5    Backpack  Credit Card     High (>3.5)        741.0           9   \n",
      "..        ...          ...             ...          ...         ...   \n",
      "298    Wallet  Credit Card  Medium (2-3.5)       1684.0          17   \n",
      "299    Wallet  Credit Card     High (>3.5)       1341.0          10   \n",
      "295    Wallet         Cash  Medium (2-3.5)       1115.0          13   \n",
      "297    Wallet  Credit Card       Low (<=2)        975.0           8   \n",
      "294    Wallet         Cash       Low (<=2)        210.0           2   \n",
      "\n",
      "     Avg_Review  \n",
      "1      2.878045  \n",
      "4      2.815734  \n",
      "2      4.566667  \n",
      "3      1.600000  \n",
      "5      4.400000  \n",
      "..          ...  \n",
      "298    2.911134  \n",
      "299    4.270000  \n",
      "295    2.714560  \n",
      "297    1.737500  \n",
      "294    1.100000  \n",
      "\n",
      "[300 rows x 6 columns]\n"
     ]
    }
   ],
   "source": [
    "# Segment sales by payment method and review score\n",
    "\n",
    "# 1. Clean data (ensure 'review' is filled where necessary)\n",
    "df['review'] = df.groupby('item')['review'].transform(lambda x: x.fillna(x.mean()))\n",
    "\n",
    "# 2. Bin review scores into categories\n",
    "bins = [0, 2, 3.5, 5]\n",
    "labels = ['Low (<=2)', 'Medium (2-3.5)', 'High (>3.5)']\n",
    "df['Review_Level'] = pd.cut(df['review'], bins=bins, labels=labels, include_lowest=True)\n",
    "\n",
    "# 3. Group by item, payment, and review level\n",
    "segmented_sales = df.groupby(['item', 'payment', 'Review_Level']).agg(\n",
    "    Total_Sales=('amount_usd', 'sum'),\n",
    "    Units_Sold=('item', 'count'),\n",
    "    Avg_Review=('review', 'mean')\n",
    ").reset_index().sort_values(['item', 'Total_Sales'], ascending=[True, False])\n",
    "\n",
    "print(segmented_sales)"
   ]
  },
  {
   "cell_type": "code",
   "execution_count": null,
   "id": "db4ccd2b",
   "metadata": {},
   "outputs": [
    {
     "data": {
      "application/vnd.jupyter.widget-view+json": {
       "model_id": "f1c1faa771cc442785a1534c228a6b5b",
       "version_major": 2,
       "version_minor": 0
      },
      "text/plain": [
       "interactive(children=(Dropdown(description='Item', options=('Handbag', 'Tunic', 'Tank Top', 'Leggings', 'Walle…"
      ]
     },
     "metadata": {},
     "output_type": "display_data"
    }
   ],
   "source": [
    "@interact(item=Dropdown(options=df['item'].unique(), description=\"Item\"))\n",
    "def segment_view(item):\n",
    "    seg_view = segmented_sales[segmented_sales['item'] == item]\n",
    "    display(seg_view[['payment', 'Review_Level', 'Total_Sales', 'Units_Sold', 'Avg_Review']])\n"
   ]
  },
  {
   "cell_type": "code",
   "execution_count": 14,
   "id": "0f03156e",
   "metadata": {},
   "outputs": [
    {
     "data": {
      "application/vnd.jupyter.widget-view+json": {
       "model_id": "e31d8af6566a496fbfee16d7aab22cd0",
       "version_major": 2,
       "version_minor": 0
      },
      "text/plain": [
       "interactive(children=(Dropdown(description='Customer ID:', options=(3957, 3958, 3959, 3960, 3961, 3962, 3963, …"
      ]
     },
     "metadata": {},
     "output_type": "display_data"
    }
   ],
   "source": [
    "import pandas as pd\n",
    "from ipywidgets import interact, Dropdown\n",
    "from IPython.display import display\n",
    "\n",
    "# Load and preprocess (if not already done)\n",
    "df = pd.read_csv(\"retail_sales.csv\")\n",
    "df['date'] = pd.to_datetime(df['date'])\n",
    "df['review'] = df.groupby('item')['review'].transform(lambda x: x.fillna(x.mean()))\n",
    "df['amount_usd'] = df.groupby('item')['amount_usd'].transform(lambda x: x.fillna(x.mean()))\n",
    "\n",
    "# Filter for clothing items only\n",
    "clothing_items = [\n",
    "    'Tunic', 'Tank Top', 'Leggings', 'Onesie', 'Jacket', 'Trousers', 'Jeans',\n",
    "    'Pajamas', 'Trench Coat', 'Poncho', 'Romper', 'T-shirt', 'Shorts',\n",
    "    'Blazer', 'Hoodie', 'Sweater', 'Blouse', 'Swimsuit', 'Kimono', 'Cardigan',\n",
    "    'Dress', 'Camisole', 'Flannel Shirt', 'Polo Shirt', 'Overalls', 'Coat',\n",
    "    'Vest', 'Jumpsuit', 'Raincoat', 'Skirt', 'Pants'\n",
    "]\n",
    "df = df[df['item'].isin(clothing_items)].copy()\n",
    "\n",
    "# Interactive function\n",
    "@interact(customer_id=Dropdown(options=sorted(df['customerID'].unique()), description='Customer ID:'))\n",
    "def show_customer_history(customer_id):\n",
    "    customer_data = df[df['customerID'] == customer_id].sort_values(by='date')\n",
    "    display(customer_data[['date', 'item', 'amount_usd', 'review', 'payment']].reset_index(drop=True))\n"
   ]
  },
  {
   "cell_type": "code",
   "execution_count": 15,
   "id": "eb248067",
   "metadata": {},
   "outputs": [
    {
     "data": {
      "application/vnd.jupyter.widget-view+json": {
       "model_id": "0dbf5d3c71514ee2a90fddc1ca0e5ec7",
       "version_major": 2,
       "version_minor": 0
      },
      "text/plain": [
       "interactive(children=(Dropdown(description='Customer ID:', options=(3957, 3958, 3959, 3960, 3961, 3962, 3963, …"
      ]
     },
     "metadata": {},
     "output_type": "display_data"
    }
   ],
   "source": [
    "import pandas as pd\n",
    "import plotly.graph_objects as go\n",
    "from ipywidgets import interact, Dropdown\n",
    "\n",
    "# Load & preprocess (skip if already done)\n",
    "df = pd.read_csv(\"retail_sales.csv\")\n",
    "df['date'] = pd.to_datetime(df['date'])\n",
    "df['review'] = df.groupby('item')['review'].transform(lambda x: x.fillna(x.mean()))\n",
    "df['amount_usd'] = df.groupby('item')['amount_usd'].transform(lambda x: x.fillna(x.mean()))\n",
    "\n",
    "# Filter to clothing only\n",
    "clothing_items = [\n",
    "    'Tunic', 'Tank Top', 'Leggings', 'Onesie', 'Jacket', 'Trousers', 'Jeans',\n",
    "    'Pajamas', 'Trench Coat', 'Poncho', 'Romper', 'T-shirt', 'Shorts',\n",
    "    'Blazer', 'Hoodie', 'Sweater', 'Blouse', 'Swimsuit', 'Kimono', 'Cardigan',\n",
    "    'Dress', 'Camisole', 'Flannel Shirt', 'Polo Shirt', 'Overalls', 'Coat',\n",
    "    'Vest', 'Jumpsuit', 'Raincoat', 'Skirt', 'Pants'\n",
    "]\n",
    "df = df[df['item'].isin(clothing_items)].copy()\n",
    "\n",
    "# Interactive plot function\n",
    "@interact(customer_id=Dropdown(options=sorted(df['customerID'].unique()), description='Customer ID:'))\n",
    "def plot_customer_reviews(customer_id):\n",
    "    cust_data = df[df['customerID'] == customer_id].sort_values('date')\n",
    "    \n",
    "    fig = go.Figure()\n",
    "    fig.add_trace(go.Scatter(\n",
    "        x=cust_data['date'],\n",
    "        y=cust_data['review'],\n",
    "        mode='lines+markers',\n",
    "        name=f\"Customer {customer_id}\",\n",
    "        text=[f\"Item: {item}<br>Amount: ${amt:.2f}\" \n",
    "              for item, amt in zip(cust_data['item'], cust_data['amount_usd'])],\n",
    "        hoverinfo='text+x+y',\n",
    "        line=dict(color='royalblue', width=2)\n",
    "    ))\n",
    "    \n",
    "    fig.update_layout(\n",
    "        title=f\"Review Ratings Over Time for Customer {customer_id}\",\n",
    "        xaxis_title='Purchase Date',\n",
    "        yaxis_title='Review Score',\n",
    "        yaxis=dict(range=[0, 5.5]),\n",
    "        template='plotly_white',\n",
    "        height=400\n",
    "    )\n",
    "    \n",
    "    fig.show()\n"
   ]
  },
  {
   "cell_type": "code",
   "execution_count": null,
   "id": "64655968",
   "metadata": {},
   "outputs": [
    {
     "name": "stdout",
     "output_type": "stream",
     "text": [
      "             item First_Month Peak_Month  Lead_Time_Months\n",
      "0          Blazer  2022-10-01 2022-10-01                 0\n",
      "1          Blouse  2022-10-01 2023-03-01                 5\n",
      "2        Camisole  2022-10-01 2023-01-01                 3\n",
      "3        Cardigan  2022-10-01 2023-04-01                 6\n",
      "4            Coat  2022-10-01 2023-06-01                 8\n",
      "5           Dress  2022-10-01 2023-04-01                 6\n",
      "6   Flannel Shirt  2022-10-01 2023-03-01                 5\n",
      "7          Hoodie  2022-10-01 2022-10-01                 0\n",
      "8          Jacket  2022-10-01 2023-07-01                 9\n",
      "9           Jeans  2022-10-01 2023-05-01                 7\n",
      "10       Jumpsuit  2022-10-01 2023-06-01                 8\n",
      "11         Kimono  2022-10-01 2023-05-01                 7\n",
      "12       Leggings  2022-10-01 2023-03-01                 5\n",
      "13         Onesie  2022-10-01 2022-12-01                 2\n",
      "14       Overalls  2022-10-01 2022-11-01                 1\n",
      "15        Pajamas  2022-10-01 2022-12-01                 2\n",
      "16          Pants  2022-10-01 2023-05-01                 7\n",
      "17     Polo Shirt  2022-10-01 2022-11-01                 1\n",
      "18         Poncho  2022-10-01 2023-08-01                10\n",
      "19       Raincoat  2022-10-01 2023-07-01                 9\n",
      "20         Romper  2022-10-01 2022-11-01                 1\n",
      "21         Shorts  2022-10-01 2023-08-01                10\n",
      "22          Skirt  2022-10-01 2023-06-01                 8\n",
      "23        Sweater  2022-10-01 2022-12-01                 2\n",
      "24       Swimsuit  2022-10-01 2023-02-01                 4\n",
      "25        T-shirt  2022-10-01 2023-03-01                 5\n",
      "26       Tank Top  2022-10-01 2023-03-01                 5\n",
      "27    Trench Coat  2022-10-01 2023-06-01                 8\n",
      "28       Trousers  2022-10-01 2022-11-01                 1\n",
      "29          Tunic  2022-10-01 2023-04-01                 6\n",
      "30           Vest  2022-10-01 2023-02-01                 4\n"
     ]
    }
   ],
   "source": [
    "# Redefine and clean base dataset\n",
    "df = pd.read_csv('retail_sales.csv')\n",
    "df['date'] = pd.to_datetime(df['date'])\n",
    "df = df.dropna(subset=['amount_usd'])\n",
    "df['month'] = df['date'].dt.to_period('M').dt.to_timestamp()\n",
    "\n",
    "# Filter to clothing items only\n",
    "clothing_items = [\n",
    "    'Tunic', 'Tank Top', 'Leggings', 'Onesie', 'Jacket', 'Trousers', 'Jeans',\n",
    "    'Pajamas', 'Trench Coat', 'Poncho', 'Romper', 'T-shirt', 'Shorts',\n",
    "    'Blazer', 'Hoodie', 'Sweater', 'Blouse', 'Swimsuit', 'Kimono', 'Cardigan',\n",
    "    'Dress', 'Camisole', 'Flannel Shirt', 'Polo Shirt', 'Overalls', 'Coat',\n",
    "    'Vest', 'Jumpsuit', 'Raincoat', 'Skirt', 'Pants'\n",
    "]\n",
    "df = df[df['item'].isin(clothing_items)]\n",
    "\n",
    "# Monthly sales aggregation\n",
    "monthly_sales = df.groupby(['item', 'month']).agg(Total_Sales=('amount_usd', 'sum')).reset_index()\n",
    "\n",
    "# Calculate first and peak month per item\n",
    "first_months = monthly_sales.groupby('item')['month'].min().reset_index(name='First_Month')\n",
    "peak_months = monthly_sales.loc[monthly_sales.groupby('item')['Total_Sales'].idxmax()][['item', 'month']].rename(columns={'month': 'Peak_Month'})\n",
    "\n",
    "# Merge and compute lead time\n",
    "timing_df = pd.merge(first_months, peak_months, on='item')\n",
    "timing_df['Lead_Time_Months'] = (\n",
    "    timing_df['Peak_Month'].dt.to_period('M') - timing_df['First_Month'].dt.to_period('M')\n",
    ").apply(lambda x: x.n)\n",
    "\n",
    "print(timing_df)\n",
    "\n",
    "# First_Month: When the item first appeared in the dataset\n",
    "\n",
    "# Peak_Month: When the item had its highest sales\n",
    "\n",
    "# Lead_Time_Months: How many months it took to reach peak sales\n",
    "\n",
    "# ➤ “How long after launch does this product usually take to become popular?”\n",
    "# ➤ “How early should I introduce it before expecting strong sales?”"
   ]
  },
  {
   "cell_type": "code",
   "execution_count": null,
   "id": "5d347c6a",
   "metadata": {},
   "outputs": [],
   "source": []
  }
 ],
 "metadata": {
  "kernelspec": {
   "display_name": "ds",
   "language": "python",
   "name": "python3"
  },
  "language_info": {
   "codemirror_mode": {
    "name": "ipython",
    "version": 3
   },
   "file_extension": ".py",
   "mimetype": "text/x-python",
   "name": "python",
   "nbconvert_exporter": "python",
   "pygments_lexer": "ipython3",
   "version": "3.11.8"
  }
 },
 "nbformat": 4,
 "nbformat_minor": 5
}

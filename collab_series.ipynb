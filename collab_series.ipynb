{
 "cells": [
  {
   "cell_type": "markdown",
   "id": "840f7667",
   "metadata": {},
   "source": [
    "Time Series Analysis\n",
    "- Sales trends over time for each item\n",
    "- forecasting:\n",
    "    - Built arima models for each individual item using monthly sales data.\n",
    "    - Forecasted future sales for the next 6 months.\n",
    "    - Visualized both historical and predicted values using Plotly charts.\n",
    "\n",
    "\n",
    "CF:\n",
    "- Created a user-item review matrix (customers × clothing items).\n",
    "- Used cosine similarity to compute item-item similarity based on review patterns.\n",
    "- Built a tool to recommend items similar to any given product.\n",
    "    - Hybrid Bundling (Co-purchase + Similarity):\n",
    "        - Constructed a co-purchase matrix to see which items are bought together.\n",
    "        - Combined this with cosine similarity scores to create a hybrid bundle ranking.\n",
    "        - Generated top 3 bundle suggestions for every item.\n"
   ]
  },
  {
   "cell_type": "markdown",
   "id": "c6c4be76",
   "metadata": {},
   "source": [
    "## CLEANED CODE"
   ]
  },
  {
   "cell_type": "code",
   "execution_count": 55,
   "id": "529d28a5",
   "metadata": {},
   "outputs": [],
   "source": [
    "# import libraries\n",
    "import pandas as pd\n",
    "import numpy as np\n",
    "from datetime import datetime\n",
    "from sklearn.metrics.pairwise import cosine_similarity\n",
    "import matplotlib.pyplot as plt\n",
    "import seaborn as sns\n",
    "import plotly.graph_objects as go\n",
    "from ipywidgets import interact, widgets, Dropdown, interactive, IntSlider\n",
    "from statsmodels.tsa.arima.model import ARIMA\n",
    "import warnings\n",
    "from IPython.display import display\n",
    "from sklearn.metrics import mean_absolute_error, mean_squared_error\n",
    "warnings.filterwarnings(\"ignore\")"
   ]
  },
  {
   "cell_type": "markdown",
   "id": "1da6154e-cf2a-4bad-99f8-f20558ca8d53",
   "metadata": {},
   "source": [
    "### Loading and Cleaning data"
   ]
  },
  {
   "cell_type": "code",
   "execution_count": 58,
   "id": "ac37f915-23a1-4791-a098-7b92b512f14c",
   "metadata": {},
   "outputs": [
    {
     "data": {
      "text/html": [
       "<div>\n",
       "<style scoped>\n",
       "    .dataframe tbody tr th:only-of-type {\n",
       "        vertical-align: middle;\n",
       "    }\n",
       "\n",
       "    .dataframe tbody tr th {\n",
       "        vertical-align: top;\n",
       "    }\n",
       "\n",
       "    .dataframe thead th {\n",
       "        text-align: right;\n",
       "    }\n",
       "</style>\n",
       "<table border=\"1\" class=\"dataframe\">\n",
       "  <thead>\n",
       "    <tr style=\"text-align: right;\">\n",
       "      <th></th>\n",
       "      <th>customerID</th>\n",
       "      <th>item</th>\n",
       "      <th>amount_usd</th>\n",
       "      <th>date</th>\n",
       "      <th>review</th>\n",
       "      <th>payment</th>\n",
       "      <th>month</th>\n",
       "    </tr>\n",
       "  </thead>\n",
       "  <tbody>\n",
       "    <tr>\n",
       "      <th>1</th>\n",
       "      <td>4115</td>\n",
       "      <td>Tunic</td>\n",
       "      <td>2456.0</td>\n",
       "      <td>2023-07-11</td>\n",
       "      <td>2.0</td>\n",
       "      <td>Credit Card</td>\n",
       "      <td>2023-07-01</td>\n",
       "    </tr>\n",
       "    <tr>\n",
       "      <th>2</th>\n",
       "      <td>4019</td>\n",
       "      <td>Tank Top</td>\n",
       "      <td>2102.0</td>\n",
       "      <td>2023-03-23</td>\n",
       "      <td>4.1</td>\n",
       "      <td>Cash</td>\n",
       "      <td>2023-03-01</td>\n",
       "    </tr>\n",
       "    <tr>\n",
       "      <th>3</th>\n",
       "      <td>4097</td>\n",
       "      <td>Leggings</td>\n",
       "      <td>3126.0</td>\n",
       "      <td>2023-03-15</td>\n",
       "      <td>3.2</td>\n",
       "      <td>Cash</td>\n",
       "      <td>2023-03-01</td>\n",
       "    </tr>\n",
       "    <tr>\n",
       "      <th>5</th>\n",
       "      <td>4080</td>\n",
       "      <td>Onesie</td>\n",
       "      <td>2914.0</td>\n",
       "      <td>2022-12-11</td>\n",
       "      <td>4.5</td>\n",
       "      <td>Credit Card</td>\n",
       "      <td>2022-12-01</td>\n",
       "    </tr>\n",
       "    <tr>\n",
       "      <th>6</th>\n",
       "      <td>4055</td>\n",
       "      <td>Jacket</td>\n",
       "      <td>2571.0</td>\n",
       "      <td>2023-07-08</td>\n",
       "      <td>1.3</td>\n",
       "      <td>Cash</td>\n",
       "      <td>2023-07-01</td>\n",
       "    </tr>\n",
       "    <tr>\n",
       "      <th>...</th>\n",
       "      <td>...</td>\n",
       "      <td>...</td>\n",
       "      <td>...</td>\n",
       "      <td>...</td>\n",
       "      <td>...</td>\n",
       "      <td>...</td>\n",
       "      <td>...</td>\n",
       "    </tr>\n",
       "    <tr>\n",
       "      <th>3388</th>\n",
       "      <td>4094</td>\n",
       "      <td>Trench Coat</td>\n",
       "      <td>17.0</td>\n",
       "      <td>2023-02-13</td>\n",
       "      <td>2.5</td>\n",
       "      <td>Credit Card</td>\n",
       "      <td>2023-02-01</td>\n",
       "    </tr>\n",
       "    <tr>\n",
       "      <th>3392</th>\n",
       "      <td>3981</td>\n",
       "      <td>Sweater</td>\n",
       "      <td>99.0</td>\n",
       "      <td>2022-10-25</td>\n",
       "      <td>4.5</td>\n",
       "      <td>Cash</td>\n",
       "      <td>2022-10-01</td>\n",
       "    </tr>\n",
       "    <tr>\n",
       "      <th>3393</th>\n",
       "      <td>4110</td>\n",
       "      <td>Polo Shirt</td>\n",
       "      <td>42.0</td>\n",
       "      <td>2022-10-15</td>\n",
       "      <td>4.0</td>\n",
       "      <td>Cash</td>\n",
       "      <td>2022-10-01</td>\n",
       "    </tr>\n",
       "    <tr>\n",
       "      <th>3394</th>\n",
       "      <td>4040</td>\n",
       "      <td>Tank Top</td>\n",
       "      <td>113.0</td>\n",
       "      <td>2023-01-20</td>\n",
       "      <td>1.2</td>\n",
       "      <td>Credit Card</td>\n",
       "      <td>2023-01-01</td>\n",
       "    </tr>\n",
       "    <tr>\n",
       "      <th>3395</th>\n",
       "      <td>4118</td>\n",
       "      <td>Shorts</td>\n",
       "      <td>37.0</td>\n",
       "      <td>2023-07-09</td>\n",
       "      <td>2.7</td>\n",
       "      <td>Cash</td>\n",
       "      <td>2023-07-01</td>\n",
       "    </tr>\n",
       "  </tbody>\n",
       "</table>\n",
       "<p>1731 rows × 7 columns</p>\n",
       "</div>"
      ],
      "text/plain": [
       "      customerID         item  amount_usd       date  review      payment  \\\n",
       "1           4115        Tunic      2456.0 2023-07-11     2.0  Credit Card   \n",
       "2           4019     Tank Top      2102.0 2023-03-23     4.1         Cash   \n",
       "3           4097     Leggings      3126.0 2023-03-15     3.2         Cash   \n",
       "5           4080       Onesie      2914.0 2022-12-11     4.5  Credit Card   \n",
       "6           4055       Jacket      2571.0 2023-07-08     1.3         Cash   \n",
       "...          ...          ...         ...        ...     ...          ...   \n",
       "3388        4094  Trench Coat        17.0 2023-02-13     2.5  Credit Card   \n",
       "3392        3981      Sweater        99.0 2022-10-25     4.5         Cash   \n",
       "3393        4110   Polo Shirt        42.0 2022-10-15     4.0         Cash   \n",
       "3394        4040     Tank Top       113.0 2023-01-20     1.2  Credit Card   \n",
       "3395        4118       Shorts        37.0 2023-07-09     2.7         Cash   \n",
       "\n",
       "          month  \n",
       "1    2023-07-01  \n",
       "2    2023-03-01  \n",
       "3    2023-03-01  \n",
       "5    2022-12-01  \n",
       "6    2023-07-01  \n",
       "...         ...  \n",
       "3388 2023-02-01  \n",
       "3392 2022-10-01  \n",
       "3393 2022-10-01  \n",
       "3394 2023-01-01  \n",
       "3395 2023-07-01  \n",
       "\n",
       "[1731 rows x 7 columns]"
      ]
     },
     "execution_count": 58,
     "metadata": {},
     "output_type": "execute_result"
    }
   ],
   "source": [
    "# define clothing items for filtering\n",
    "clothing_items = [\n",
    "    'Tunic', 'Tank Top', 'Leggings', 'Onesie', 'Jacket', 'Trousers', 'Jeans',\n",
    "    'Pajamas', 'Trench Coat', 'Poncho', 'Romper', 'T-shirt', 'Shorts',\n",
    "    'Blazer', 'Hoodie', 'Sweater', 'Blouse', 'Swimsuit', 'Kimono', 'Cardigan',\n",
    "    'Dress', 'Camisole', 'Flannel Shirt', 'Polo Shirt', 'Overalls', 'Coat',\n",
    "    'Vest', 'Jumpsuit', 'Raincoat', 'Skirt', 'Pants'\n",
    "]\n",
    "\n",
    "# function to load and preprocess dataset\n",
    "def load_and_clean_data(csv_path=\"retail_sales.csv\"):\n",
    "    df = pd.read_csv(csv_path)\n",
    "    df['date'] = pd.to_datetime(df['date'])\n",
    "    df = df.dropna(subset=['amount_usd'])\n",
    "    df['month'] = df['date'].dt.to_period('M').dt.to_timestamp()\n",
    "    df = df[df['item'].isin(clothing_items)].copy()\n",
    "    return df\n",
    "\n",
    "# load once and reuse\n",
    "df = load_and_clean_data()\n",
    "df"
   ]
  },
  {
   "cell_type": "markdown",
   "id": "21d5a1e2-22f6-40ce-96c5-c4cb52c5bfb6",
   "metadata": {},
   "source": [
    "### Manually scale and center data then apply cosine similarity"
   ]
  },
  {
   "cell_type": "code",
   "execution_count": 61,
   "id": "eb7ed9be",
   "metadata": {},
   "outputs": [
    {
     "data": {
      "text/html": [
       "<div>\n",
       "<style scoped>\n",
       "    .dataframe tbody tr th:only-of-type {\n",
       "        vertical-align: middle;\n",
       "    }\n",
       "\n",
       "    .dataframe tbody tr th {\n",
       "        vertical-align: top;\n",
       "    }\n",
       "\n",
       "    .dataframe thead th {\n",
       "        text-align: right;\n",
       "    }\n",
       "</style>\n",
       "<table border=\"1\" class=\"dataframe\">\n",
       "  <thead>\n",
       "    <tr style=\"text-align: right;\">\n",
       "      <th>item</th>\n",
       "      <th>Blazer</th>\n",
       "      <th>Blouse</th>\n",
       "      <th>Camisole</th>\n",
       "      <th>Cardigan</th>\n",
       "      <th>Coat</th>\n",
       "      <th>Dress</th>\n",
       "      <th>Flannel Shirt</th>\n",
       "      <th>Hoodie</th>\n",
       "      <th>Jacket</th>\n",
       "      <th>Jeans</th>\n",
       "      <th>...</th>\n",
       "      <th>Shorts</th>\n",
       "      <th>Skirt</th>\n",
       "      <th>Sweater</th>\n",
       "      <th>Swimsuit</th>\n",
       "      <th>T-shirt</th>\n",
       "      <th>Tank Top</th>\n",
       "      <th>Trench Coat</th>\n",
       "      <th>Trousers</th>\n",
       "      <th>Tunic</th>\n",
       "      <th>Vest</th>\n",
       "    </tr>\n",
       "    <tr>\n",
       "      <th>item</th>\n",
       "      <th></th>\n",
       "      <th></th>\n",
       "      <th></th>\n",
       "      <th></th>\n",
       "      <th></th>\n",
       "      <th></th>\n",
       "      <th></th>\n",
       "      <th></th>\n",
       "      <th></th>\n",
       "      <th></th>\n",
       "      <th></th>\n",
       "      <th></th>\n",
       "      <th></th>\n",
       "      <th></th>\n",
       "      <th></th>\n",
       "      <th></th>\n",
       "      <th></th>\n",
       "      <th></th>\n",
       "      <th></th>\n",
       "      <th></th>\n",
       "      <th></th>\n",
       "    </tr>\n",
       "  </thead>\n",
       "  <tbody>\n",
       "    <tr>\n",
       "      <th>Blazer</th>\n",
       "      <td>1.000000</td>\n",
       "      <td>0.677718</td>\n",
       "      <td>-0.037996</td>\n",
       "      <td>-0.381059</td>\n",
       "      <td>0.259027</td>\n",
       "      <td>0.075455</td>\n",
       "      <td>0.065506</td>\n",
       "      <td>0.129767</td>\n",
       "      <td>0.111952</td>\n",
       "      <td>0.444099</td>\n",
       "      <td>...</td>\n",
       "      <td>-0.041236</td>\n",
       "      <td>0.185372</td>\n",
       "      <td>0.316087</td>\n",
       "      <td>-0.815436</td>\n",
       "      <td>0.020859</td>\n",
       "      <td>0.375784</td>\n",
       "      <td>-0.414125</td>\n",
       "      <td>0.149659</td>\n",
       "      <td>0.173674</td>\n",
       "      <td>0.163911</td>\n",
       "    </tr>\n",
       "    <tr>\n",
       "      <th>Blouse</th>\n",
       "      <td>0.677718</td>\n",
       "      <td>1.000000</td>\n",
       "      <td>-0.132301</td>\n",
       "      <td>-0.099889</td>\n",
       "      <td>-0.019207</td>\n",
       "      <td>-0.237407</td>\n",
       "      <td>0.268434</td>\n",
       "      <td>0.192684</td>\n",
       "      <td>0.678368</td>\n",
       "      <td>0.420295</td>\n",
       "      <td>...</td>\n",
       "      <td>0.557906</td>\n",
       "      <td>-0.467093</td>\n",
       "      <td>0.145350</td>\n",
       "      <td>-0.354217</td>\n",
       "      <td>0.127414</td>\n",
       "      <td>-0.227700</td>\n",
       "      <td>-0.024790</td>\n",
       "      <td>0.265876</td>\n",
       "      <td>-0.011705</td>\n",
       "      <td>0.088511</td>\n",
       "    </tr>\n",
       "    <tr>\n",
       "      <th>Camisole</th>\n",
       "      <td>-0.037996</td>\n",
       "      <td>-0.132301</td>\n",
       "      <td>1.000000</td>\n",
       "      <td>0.551967</td>\n",
       "      <td>0.191293</td>\n",
       "      <td>0.370939</td>\n",
       "      <td>0.450536</td>\n",
       "      <td>0.142072</td>\n",
       "      <td>-0.127248</td>\n",
       "      <td>0.269746</td>\n",
       "      <td>...</td>\n",
       "      <td>0.291170</td>\n",
       "      <td>0.015149</td>\n",
       "      <td>-0.128844</td>\n",
       "      <td>0.244543</td>\n",
       "      <td>0.278620</td>\n",
       "      <td>0.076199</td>\n",
       "      <td>0.554679</td>\n",
       "      <td>0.530316</td>\n",
       "      <td>-0.100148</td>\n",
       "      <td>-0.215002</td>\n",
       "    </tr>\n",
       "    <tr>\n",
       "      <th>Cardigan</th>\n",
       "      <td>-0.381059</td>\n",
       "      <td>-0.099889</td>\n",
       "      <td>0.551967</td>\n",
       "      <td>1.000000</td>\n",
       "      <td>0.028160</td>\n",
       "      <td>0.503560</td>\n",
       "      <td>0.112417</td>\n",
       "      <td>-0.078554</td>\n",
       "      <td>-0.168655</td>\n",
       "      <td>-0.401371</td>\n",
       "      <td>...</td>\n",
       "      <td>-0.320418</td>\n",
       "      <td>-0.054592</td>\n",
       "      <td>-0.287373</td>\n",
       "      <td>-0.086917</td>\n",
       "      <td>0.307243</td>\n",
       "      <td>-0.106317</td>\n",
       "      <td>0.045457</td>\n",
       "      <td>-0.529594</td>\n",
       "      <td>-0.420337</td>\n",
       "      <td>-0.235136</td>\n",
       "    </tr>\n",
       "    <tr>\n",
       "      <th>Coat</th>\n",
       "      <td>0.259027</td>\n",
       "      <td>-0.019207</td>\n",
       "      <td>0.191293</td>\n",
       "      <td>0.028160</td>\n",
       "      <td>1.000000</td>\n",
       "      <td>-0.322930</td>\n",
       "      <td>0.232293</td>\n",
       "      <td>0.212548</td>\n",
       "      <td>-0.591009</td>\n",
       "      <td>-0.101388</td>\n",
       "      <td>...</td>\n",
       "      <td>0.401304</td>\n",
       "      <td>-0.097370</td>\n",
       "      <td>-0.746964</td>\n",
       "      <td>0.194417</td>\n",
       "      <td>0.400585</td>\n",
       "      <td>0.476120</td>\n",
       "      <td>-0.199583</td>\n",
       "      <td>-0.386298</td>\n",
       "      <td>0.514497</td>\n",
       "      <td>0.036707</td>\n",
       "    </tr>\n",
       "    <tr>\n",
       "      <th>Dress</th>\n",
       "      <td>0.075455</td>\n",
       "      <td>-0.237407</td>\n",
       "      <td>0.370939</td>\n",
       "      <td>0.503560</td>\n",
       "      <td>-0.322930</td>\n",
       "      <td>1.000000</td>\n",
       "      <td>0.460615</td>\n",
       "      <td>-0.147796</td>\n",
       "      <td>0.126762</td>\n",
       "      <td>-0.223350</td>\n",
       "      <td>...</td>\n",
       "      <td>-0.077824</td>\n",
       "      <td>0.177587</td>\n",
       "      <td>-0.200839</td>\n",
       "      <td>-0.247195</td>\n",
       "      <td>-0.274455</td>\n",
       "      <td>0.093641</td>\n",
       "      <td>-0.067333</td>\n",
       "      <td>-0.116785</td>\n",
       "      <td>-0.209936</td>\n",
       "      <td>-0.462404</td>\n",
       "    </tr>\n",
       "    <tr>\n",
       "      <th>Flannel Shirt</th>\n",
       "      <td>0.065506</td>\n",
       "      <td>0.268434</td>\n",
       "      <td>0.450536</td>\n",
       "      <td>0.112417</td>\n",
       "      <td>0.232293</td>\n",
       "      <td>0.460615</td>\n",
       "      <td>1.000000</td>\n",
       "      <td>-0.276135</td>\n",
       "      <td>0.250968</td>\n",
       "      <td>-0.079775</td>\n",
       "      <td>...</td>\n",
       "      <td>0.285695</td>\n",
       "      <td>0.381191</td>\n",
       "      <td>0.171085</td>\n",
       "      <td>0.313272</td>\n",
       "      <td>-0.349990</td>\n",
       "      <td>0.089183</td>\n",
       "      <td>-0.172733</td>\n",
       "      <td>0.332862</td>\n",
       "      <td>0.291815</td>\n",
       "      <td>0.102135</td>\n",
       "    </tr>\n",
       "    <tr>\n",
       "      <th>Hoodie</th>\n",
       "      <td>0.129767</td>\n",
       "      <td>0.192684</td>\n",
       "      <td>0.142072</td>\n",
       "      <td>-0.078554</td>\n",
       "      <td>0.212548</td>\n",
       "      <td>-0.147796</td>\n",
       "      <td>-0.276135</td>\n",
       "      <td>1.000000</td>\n",
       "      <td>0.079161</td>\n",
       "      <td>0.164329</td>\n",
       "      <td>...</td>\n",
       "      <td>0.060627</td>\n",
       "      <td>-0.108036</td>\n",
       "      <td>-0.049701</td>\n",
       "      <td>0.553818</td>\n",
       "      <td>0.105800</td>\n",
       "      <td>-0.233260</td>\n",
       "      <td>0.218107</td>\n",
       "      <td>-0.152044</td>\n",
       "      <td>-0.051573</td>\n",
       "      <td>-0.158084</td>\n",
       "    </tr>\n",
       "    <tr>\n",
       "      <th>Jacket</th>\n",
       "      <td>0.111952</td>\n",
       "      <td>0.678368</td>\n",
       "      <td>-0.127248</td>\n",
       "      <td>-0.168655</td>\n",
       "      <td>-0.591009</td>\n",
       "      <td>0.126762</td>\n",
       "      <td>0.250968</td>\n",
       "      <td>0.079161</td>\n",
       "      <td>1.000000</td>\n",
       "      <td>0.479647</td>\n",
       "      <td>...</td>\n",
       "      <td>-0.471869</td>\n",
       "      <td>-0.045201</td>\n",
       "      <td>0.425864</td>\n",
       "      <td>0.076841</td>\n",
       "      <td>-0.488099</td>\n",
       "      <td>-0.443067</td>\n",
       "      <td>-0.352852</td>\n",
       "      <td>0.323329</td>\n",
       "      <td>-0.109550</td>\n",
       "      <td>0.125123</td>\n",
       "    </tr>\n",
       "    <tr>\n",
       "      <th>Jeans</th>\n",
       "      <td>0.444099</td>\n",
       "      <td>0.420295</td>\n",
       "      <td>0.269746</td>\n",
       "      <td>-0.401371</td>\n",
       "      <td>-0.101388</td>\n",
       "      <td>-0.223350</td>\n",
       "      <td>-0.079775</td>\n",
       "      <td>0.164329</td>\n",
       "      <td>0.479647</td>\n",
       "      <td>1.000000</td>\n",
       "      <td>...</td>\n",
       "      <td>-0.533113</td>\n",
       "      <td>0.216594</td>\n",
       "      <td>0.240100</td>\n",
       "      <td>0.209902</td>\n",
       "      <td>0.045364</td>\n",
       "      <td>-0.005577</td>\n",
       "      <td>0.262024</td>\n",
       "      <td>0.402216</td>\n",
       "      <td>0.314313</td>\n",
       "      <td>-0.417492</td>\n",
       "    </tr>\n",
       "    <tr>\n",
       "      <th>Jumpsuit</th>\n",
       "      <td>-0.150634</td>\n",
       "      <td>-0.318639</td>\n",
       "      <td>0.014513</td>\n",
       "      <td>-0.154067</td>\n",
       "      <td>-0.364994</td>\n",
       "      <td>0.510326</td>\n",
       "      <td>-0.165780</td>\n",
       "      <td>-0.477214</td>\n",
       "      <td>0.072469</td>\n",
       "      <td>-0.465088</td>\n",
       "      <td>...</td>\n",
       "      <td>-0.324437</td>\n",
       "      <td>-0.255762</td>\n",
       "      <td>-0.487976</td>\n",
       "      <td>-0.039990</td>\n",
       "      <td>-0.484668</td>\n",
       "      <td>0.118661</td>\n",
       "      <td>0.289595</td>\n",
       "      <td>0.014624</td>\n",
       "      <td>-0.157531</td>\n",
       "      <td>0.161557</td>\n",
       "    </tr>\n",
       "    <tr>\n",
       "      <th>Kimono</th>\n",
       "      <td>0.185328</td>\n",
       "      <td>0.096508</td>\n",
       "      <td>0.416615</td>\n",
       "      <td>0.148701</td>\n",
       "      <td>-0.054695</td>\n",
       "      <td>0.318138</td>\n",
       "      <td>-0.200990</td>\n",
       "      <td>-0.010815</td>\n",
       "      <td>-0.486532</td>\n",
       "      <td>0.120936</td>\n",
       "      <td>...</td>\n",
       "      <td>-0.353803</td>\n",
       "      <td>-0.336792</td>\n",
       "      <td>-0.080777</td>\n",
       "      <td>-0.369460</td>\n",
       "      <td>-0.035608</td>\n",
       "      <td>-0.030249</td>\n",
       "      <td>0.004831</td>\n",
       "      <td>-0.228006</td>\n",
       "      <td>-0.029390</td>\n",
       "      <td>-0.216186</td>\n",
       "    </tr>\n",
       "    <tr>\n",
       "      <th>Leggings</th>\n",
       "      <td>-0.240919</td>\n",
       "      <td>-0.710322</td>\n",
       "      <td>-0.054352</td>\n",
       "      <td>-0.002359</td>\n",
       "      <td>0.082198</td>\n",
       "      <td>0.185240</td>\n",
       "      <td>-0.513706</td>\n",
       "      <td>0.122980</td>\n",
       "      <td>0.180225</td>\n",
       "      <td>-0.282655</td>\n",
       "      <td>...</td>\n",
       "      <td>-0.521608</td>\n",
       "      <td>0.048887</td>\n",
       "      <td>-0.103986</td>\n",
       "      <td>0.064062</td>\n",
       "      <td>-0.349545</td>\n",
       "      <td>0.267516</td>\n",
       "      <td>0.110588</td>\n",
       "      <td>-0.194241</td>\n",
       "      <td>-0.093953</td>\n",
       "      <td>0.130966</td>\n",
       "    </tr>\n",
       "    <tr>\n",
       "      <th>Onesie</th>\n",
       "      <td>-0.092144</td>\n",
       "      <td>-0.000843</td>\n",
       "      <td>0.057278</td>\n",
       "      <td>0.226179</td>\n",
       "      <td>-0.015171</td>\n",
       "      <td>0.065178</td>\n",
       "      <td>-0.388416</td>\n",
       "      <td>0.370086</td>\n",
       "      <td>0.389905</td>\n",
       "      <td>-0.044994</td>\n",
       "      <td>...</td>\n",
       "      <td>-0.270408</td>\n",
       "      <td>-0.310778</td>\n",
       "      <td>-0.012102</td>\n",
       "      <td>0.328096</td>\n",
       "      <td>0.091453</td>\n",
       "      <td>0.182967</td>\n",
       "      <td>0.559367</td>\n",
       "      <td>-0.536687</td>\n",
       "      <td>-0.464463</td>\n",
       "      <td>0.616544</td>\n",
       "    </tr>\n",
       "    <tr>\n",
       "      <th>Overalls</th>\n",
       "      <td>0.276387</td>\n",
       "      <td>-0.308922</td>\n",
       "      <td>-0.173105</td>\n",
       "      <td>0.437089</td>\n",
       "      <td>-0.249051</td>\n",
       "      <td>0.146838</td>\n",
       "      <td>-0.078783</td>\n",
       "      <td>-0.305357</td>\n",
       "      <td>-0.638008</td>\n",
       "      <td>-0.488330</td>\n",
       "      <td>...</td>\n",
       "      <td>-0.238630</td>\n",
       "      <td>0.041390</td>\n",
       "      <td>-0.197745</td>\n",
       "      <td>0.220330</td>\n",
       "      <td>-0.032427</td>\n",
       "      <td>-0.291465</td>\n",
       "      <td>0.130590</td>\n",
       "      <td>0.264409</td>\n",
       "      <td>0.348552</td>\n",
       "      <td>-0.213799</td>\n",
       "    </tr>\n",
       "    <tr>\n",
       "      <th>Pajamas</th>\n",
       "      <td>-0.166409</td>\n",
       "      <td>0.273339</td>\n",
       "      <td>-0.062717</td>\n",
       "      <td>0.174892</td>\n",
       "      <td>0.271324</td>\n",
       "      <td>-0.036664</td>\n",
       "      <td>0.107868</td>\n",
       "      <td>0.060855</td>\n",
       "      <td>-0.297235</td>\n",
       "      <td>-0.552078</td>\n",
       "      <td>...</td>\n",
       "      <td>0.120220</td>\n",
       "      <td>-0.073382</td>\n",
       "      <td>0.121229</td>\n",
       "      <td>0.181203</td>\n",
       "      <td>-0.189259</td>\n",
       "      <td>-0.001328</td>\n",
       "      <td>0.290916</td>\n",
       "      <td>-0.245974</td>\n",
       "      <td>0.069983</td>\n",
       "      <td>0.046574</td>\n",
       "    </tr>\n",
       "    <tr>\n",
       "      <th>Pants</th>\n",
       "      <td>0.282153</td>\n",
       "      <td>0.354615</td>\n",
       "      <td>-0.279811</td>\n",
       "      <td>-0.101120</td>\n",
       "      <td>-0.255445</td>\n",
       "      <td>0.342917</td>\n",
       "      <td>-0.365159</td>\n",
       "      <td>0.041888</td>\n",
       "      <td>0.421808</td>\n",
       "      <td>0.391416</td>\n",
       "      <td>...</td>\n",
       "      <td>0.311896</td>\n",
       "      <td>0.122390</td>\n",
       "      <td>-0.045796</td>\n",
       "      <td>-0.343234</td>\n",
       "      <td>0.397582</td>\n",
       "      <td>-0.052383</td>\n",
       "      <td>-0.239612</td>\n",
       "      <td>0.385375</td>\n",
       "      <td>0.093887</td>\n",
       "      <td>-0.030645</td>\n",
       "    </tr>\n",
       "    <tr>\n",
       "      <th>Polo Shirt</th>\n",
       "      <td>0.401042</td>\n",
       "      <td>0.077121</td>\n",
       "      <td>-0.396784</td>\n",
       "      <td>-0.010825</td>\n",
       "      <td>-0.124612</td>\n",
       "      <td>-0.240493</td>\n",
       "      <td>-0.199206</td>\n",
       "      <td>0.386182</td>\n",
       "      <td>-0.062982</td>\n",
       "      <td>-0.146358</td>\n",
       "      <td>...</td>\n",
       "      <td>-0.109899</td>\n",
       "      <td>-0.319868</td>\n",
       "      <td>0.206881</td>\n",
       "      <td>0.292786</td>\n",
       "      <td>-0.257295</td>\n",
       "      <td>-0.104087</td>\n",
       "      <td>-0.406903</td>\n",
       "      <td>-0.109227</td>\n",
       "      <td>-0.289960</td>\n",
       "      <td>-0.511483</td>\n",
       "    </tr>\n",
       "    <tr>\n",
       "      <th>Poncho</th>\n",
       "      <td>0.090183</td>\n",
       "      <td>-0.828640</td>\n",
       "      <td>0.086933</td>\n",
       "      <td>-0.080373</td>\n",
       "      <td>-0.288230</td>\n",
       "      <td>-0.314141</td>\n",
       "      <td>0.394308</td>\n",
       "      <td>-0.412405</td>\n",
       "      <td>0.480515</td>\n",
       "      <td>-0.192305</td>\n",
       "      <td>...</td>\n",
       "      <td>-0.092730</td>\n",
       "      <td>-0.614618</td>\n",
       "      <td>-0.314538</td>\n",
       "      <td>0.088790</td>\n",
       "      <td>-0.375091</td>\n",
       "      <td>-0.443581</td>\n",
       "      <td>0.243347</td>\n",
       "      <td>0.159755</td>\n",
       "      <td>0.244431</td>\n",
       "      <td>-0.029324</td>\n",
       "    </tr>\n",
       "    <tr>\n",
       "      <th>Raincoat</th>\n",
       "      <td>0.149754</td>\n",
       "      <td>0.555075</td>\n",
       "      <td>-0.474289</td>\n",
       "      <td>-0.277357</td>\n",
       "      <td>-0.062859</td>\n",
       "      <td>0.257258</td>\n",
       "      <td>0.214130</td>\n",
       "      <td>0.505103</td>\n",
       "      <td>0.360268</td>\n",
       "      <td>-0.046104</td>\n",
       "      <td>...</td>\n",
       "      <td>-0.036253</td>\n",
       "      <td>0.304502</td>\n",
       "      <td>0.563810</td>\n",
       "      <td>0.149926</td>\n",
       "      <td>-0.297535</td>\n",
       "      <td>0.028200</td>\n",
       "      <td>-0.449233</td>\n",
       "      <td>-0.357060</td>\n",
       "      <td>0.137369</td>\n",
       "      <td>-0.089046</td>\n",
       "    </tr>\n",
       "    <tr>\n",
       "      <th>Romper</th>\n",
       "      <td>0.077037</td>\n",
       "      <td>0.391661</td>\n",
       "      <td>0.198551</td>\n",
       "      <td>0.078477</td>\n",
       "      <td>0.167670</td>\n",
       "      <td>-0.100638</td>\n",
       "      <td>-0.191775</td>\n",
       "      <td>0.276528</td>\n",
       "      <td>-0.141111</td>\n",
       "      <td>0.854523</td>\n",
       "      <td>...</td>\n",
       "      <td>-0.091646</td>\n",
       "      <td>0.436075</td>\n",
       "      <td>0.130906</td>\n",
       "      <td>-0.764301</td>\n",
       "      <td>0.746306</td>\n",
       "      <td>-0.024477</td>\n",
       "      <td>0.294733</td>\n",
       "      <td>-0.195355</td>\n",
       "      <td>0.491026</td>\n",
       "      <td>-0.185600</td>\n",
       "    </tr>\n",
       "    <tr>\n",
       "      <th>Shorts</th>\n",
       "      <td>-0.041236</td>\n",
       "      <td>0.557906</td>\n",
       "      <td>0.291170</td>\n",
       "      <td>-0.320418</td>\n",
       "      <td>0.401304</td>\n",
       "      <td>-0.077824</td>\n",
       "      <td>0.285695</td>\n",
       "      <td>0.060627</td>\n",
       "      <td>-0.471869</td>\n",
       "      <td>-0.533113</td>\n",
       "      <td>...</td>\n",
       "      <td>1.000000</td>\n",
       "      <td>0.085780</td>\n",
       "      <td>-0.086226</td>\n",
       "      <td>0.069060</td>\n",
       "      <td>0.218608</td>\n",
       "      <td>-0.099910</td>\n",
       "      <td>-0.050127</td>\n",
       "      <td>-0.061833</td>\n",
       "      <td>0.151252</td>\n",
       "      <td>0.147619</td>\n",
       "    </tr>\n",
       "    <tr>\n",
       "      <th>Skirt</th>\n",
       "      <td>0.185372</td>\n",
       "      <td>-0.467093</td>\n",
       "      <td>0.015149</td>\n",
       "      <td>-0.054592</td>\n",
       "      <td>-0.097370</td>\n",
       "      <td>0.177587</td>\n",
       "      <td>0.381191</td>\n",
       "      <td>-0.108036</td>\n",
       "      <td>-0.045201</td>\n",
       "      <td>0.216594</td>\n",
       "      <td>...</td>\n",
       "      <td>0.085780</td>\n",
       "      <td>1.000000</td>\n",
       "      <td>0.108604</td>\n",
       "      <td>-0.651763</td>\n",
       "      <td>0.491676</td>\n",
       "      <td>0.376783</td>\n",
       "      <td>-0.017831</td>\n",
       "      <td>-0.135433</td>\n",
       "      <td>0.358848</td>\n",
       "      <td>-0.516372</td>\n",
       "    </tr>\n",
       "    <tr>\n",
       "      <th>Sweater</th>\n",
       "      <td>0.316087</td>\n",
       "      <td>0.145350</td>\n",
       "      <td>-0.128844</td>\n",
       "      <td>-0.287373</td>\n",
       "      <td>-0.746964</td>\n",
       "      <td>-0.200839</td>\n",
       "      <td>0.171085</td>\n",
       "      <td>-0.049701</td>\n",
       "      <td>0.425864</td>\n",
       "      <td>0.240100</td>\n",
       "      <td>...</td>\n",
       "      <td>-0.086226</td>\n",
       "      <td>0.108604</td>\n",
       "      <td>1.000000</td>\n",
       "      <td>0.092541</td>\n",
       "      <td>-0.715131</td>\n",
       "      <td>0.449709</td>\n",
       "      <td>-0.442639</td>\n",
       "      <td>-0.000824</td>\n",
       "      <td>0.130368</td>\n",
       "      <td>-0.257670</td>\n",
       "    </tr>\n",
       "    <tr>\n",
       "      <th>Swimsuit</th>\n",
       "      <td>-0.815436</td>\n",
       "      <td>-0.354217</td>\n",
       "      <td>0.244543</td>\n",
       "      <td>-0.086917</td>\n",
       "      <td>0.194417</td>\n",
       "      <td>-0.247195</td>\n",
       "      <td>0.313272</td>\n",
       "      <td>0.553818</td>\n",
       "      <td>0.076841</td>\n",
       "      <td>0.209902</td>\n",
       "      <td>...</td>\n",
       "      <td>0.069060</td>\n",
       "      <td>-0.651763</td>\n",
       "      <td>0.092541</td>\n",
       "      <td>1.000000</td>\n",
       "      <td>-0.845341</td>\n",
       "      <td>0.198316</td>\n",
       "      <td>-0.008449</td>\n",
       "      <td>0.152829</td>\n",
       "      <td>-0.539842</td>\n",
       "      <td>-0.025339</td>\n",
       "    </tr>\n",
       "    <tr>\n",
       "      <th>T-shirt</th>\n",
       "      <td>0.020859</td>\n",
       "      <td>0.127414</td>\n",
       "      <td>0.278620</td>\n",
       "      <td>0.307243</td>\n",
       "      <td>0.400585</td>\n",
       "      <td>-0.274455</td>\n",
       "      <td>-0.349990</td>\n",
       "      <td>0.105800</td>\n",
       "      <td>-0.488099</td>\n",
       "      <td>0.045364</td>\n",
       "      <td>...</td>\n",
       "      <td>0.218608</td>\n",
       "      <td>0.491676</td>\n",
       "      <td>-0.715131</td>\n",
       "      <td>-0.845341</td>\n",
       "      <td>1.000000</td>\n",
       "      <td>0.319134</td>\n",
       "      <td>0.201588</td>\n",
       "      <td>-0.334690</td>\n",
       "      <td>0.626992</td>\n",
       "      <td>0.180313</td>\n",
       "    </tr>\n",
       "    <tr>\n",
       "      <th>Tank Top</th>\n",
       "      <td>0.375784</td>\n",
       "      <td>-0.227700</td>\n",
       "      <td>0.076199</td>\n",
       "      <td>-0.106317</td>\n",
       "      <td>0.476120</td>\n",
       "      <td>0.093641</td>\n",
       "      <td>0.089183</td>\n",
       "      <td>-0.233260</td>\n",
       "      <td>-0.443067</td>\n",
       "      <td>-0.005577</td>\n",
       "      <td>...</td>\n",
       "      <td>-0.099910</td>\n",
       "      <td>0.376783</td>\n",
       "      <td>0.449709</td>\n",
       "      <td>0.198316</td>\n",
       "      <td>0.319134</td>\n",
       "      <td>1.000000</td>\n",
       "      <td>-0.007988</td>\n",
       "      <td>-0.304801</td>\n",
       "      <td>0.209372</td>\n",
       "      <td>0.199574</td>\n",
       "    </tr>\n",
       "    <tr>\n",
       "      <th>Trench Coat</th>\n",
       "      <td>-0.414125</td>\n",
       "      <td>-0.024790</td>\n",
       "      <td>0.554679</td>\n",
       "      <td>0.045457</td>\n",
       "      <td>-0.199583</td>\n",
       "      <td>-0.067333</td>\n",
       "      <td>-0.172733</td>\n",
       "      <td>0.218107</td>\n",
       "      <td>-0.352852</td>\n",
       "      <td>0.262024</td>\n",
       "      <td>...</td>\n",
       "      <td>-0.050127</td>\n",
       "      <td>-0.017831</td>\n",
       "      <td>-0.442639</td>\n",
       "      <td>-0.008449</td>\n",
       "      <td>0.201588</td>\n",
       "      <td>-0.007988</td>\n",
       "      <td>1.000000</td>\n",
       "      <td>-0.108318</td>\n",
       "      <td>0.082038</td>\n",
       "      <td>0.173000</td>\n",
       "    </tr>\n",
       "    <tr>\n",
       "      <th>Trousers</th>\n",
       "      <td>0.149659</td>\n",
       "      <td>0.265876</td>\n",
       "      <td>0.530316</td>\n",
       "      <td>-0.529594</td>\n",
       "      <td>-0.386298</td>\n",
       "      <td>-0.116785</td>\n",
       "      <td>0.332862</td>\n",
       "      <td>-0.152044</td>\n",
       "      <td>0.323329</td>\n",
       "      <td>0.402216</td>\n",
       "      <td>...</td>\n",
       "      <td>-0.061833</td>\n",
       "      <td>-0.135433</td>\n",
       "      <td>-0.000824</td>\n",
       "      <td>0.152829</td>\n",
       "      <td>-0.334690</td>\n",
       "      <td>-0.304801</td>\n",
       "      <td>-0.108318</td>\n",
       "      <td>1.000000</td>\n",
       "      <td>0.208091</td>\n",
       "      <td>-0.171731</td>\n",
       "    </tr>\n",
       "    <tr>\n",
       "      <th>Tunic</th>\n",
       "      <td>0.173674</td>\n",
       "      <td>-0.011705</td>\n",
       "      <td>-0.100148</td>\n",
       "      <td>-0.420337</td>\n",
       "      <td>0.514497</td>\n",
       "      <td>-0.209936</td>\n",
       "      <td>0.291815</td>\n",
       "      <td>-0.051573</td>\n",
       "      <td>-0.109550</td>\n",
       "      <td>0.314313</td>\n",
       "      <td>...</td>\n",
       "      <td>0.151252</td>\n",
       "      <td>0.358848</td>\n",
       "      <td>0.130368</td>\n",
       "      <td>-0.539842</td>\n",
       "      <td>0.626992</td>\n",
       "      <td>0.209372</td>\n",
       "      <td>0.082038</td>\n",
       "      <td>0.208091</td>\n",
       "      <td>1.000000</td>\n",
       "      <td>-0.388244</td>\n",
       "    </tr>\n",
       "    <tr>\n",
       "      <th>Vest</th>\n",
       "      <td>0.163911</td>\n",
       "      <td>0.088511</td>\n",
       "      <td>-0.215002</td>\n",
       "      <td>-0.235136</td>\n",
       "      <td>0.036707</td>\n",
       "      <td>-0.462404</td>\n",
       "      <td>0.102135</td>\n",
       "      <td>-0.158084</td>\n",
       "      <td>0.125123</td>\n",
       "      <td>-0.417492</td>\n",
       "      <td>...</td>\n",
       "      <td>0.147619</td>\n",
       "      <td>-0.516372</td>\n",
       "      <td>-0.257670</td>\n",
       "      <td>-0.025339</td>\n",
       "      <td>0.180313</td>\n",
       "      <td>0.199574</td>\n",
       "      <td>0.173000</td>\n",
       "      <td>-0.171731</td>\n",
       "      <td>-0.388244</td>\n",
       "      <td>1.000000</td>\n",
       "    </tr>\n",
       "  </tbody>\n",
       "</table>\n",
       "<p>31 rows × 31 columns</p>\n",
       "</div>"
      ],
      "text/plain": [
       "item             Blazer    Blouse  Camisole  Cardigan      Coat     Dress  \\\n",
       "item                                                                        \n",
       "Blazer         1.000000  0.677718 -0.037996 -0.381059  0.259027  0.075455   \n",
       "Blouse         0.677718  1.000000 -0.132301 -0.099889 -0.019207 -0.237407   \n",
       "Camisole      -0.037996 -0.132301  1.000000  0.551967  0.191293  0.370939   \n",
       "Cardigan      -0.381059 -0.099889  0.551967  1.000000  0.028160  0.503560   \n",
       "Coat           0.259027 -0.019207  0.191293  0.028160  1.000000 -0.322930   \n",
       "Dress          0.075455 -0.237407  0.370939  0.503560 -0.322930  1.000000   \n",
       "Flannel Shirt  0.065506  0.268434  0.450536  0.112417  0.232293  0.460615   \n",
       "Hoodie         0.129767  0.192684  0.142072 -0.078554  0.212548 -0.147796   \n",
       "Jacket         0.111952  0.678368 -0.127248 -0.168655 -0.591009  0.126762   \n",
       "Jeans          0.444099  0.420295  0.269746 -0.401371 -0.101388 -0.223350   \n",
       "Jumpsuit      -0.150634 -0.318639  0.014513 -0.154067 -0.364994  0.510326   \n",
       "Kimono         0.185328  0.096508  0.416615  0.148701 -0.054695  0.318138   \n",
       "Leggings      -0.240919 -0.710322 -0.054352 -0.002359  0.082198  0.185240   \n",
       "Onesie        -0.092144 -0.000843  0.057278  0.226179 -0.015171  0.065178   \n",
       "Overalls       0.276387 -0.308922 -0.173105  0.437089 -0.249051  0.146838   \n",
       "Pajamas       -0.166409  0.273339 -0.062717  0.174892  0.271324 -0.036664   \n",
       "Pants          0.282153  0.354615 -0.279811 -0.101120 -0.255445  0.342917   \n",
       "Polo Shirt     0.401042  0.077121 -0.396784 -0.010825 -0.124612 -0.240493   \n",
       "Poncho         0.090183 -0.828640  0.086933 -0.080373 -0.288230 -0.314141   \n",
       "Raincoat       0.149754  0.555075 -0.474289 -0.277357 -0.062859  0.257258   \n",
       "Romper         0.077037  0.391661  0.198551  0.078477  0.167670 -0.100638   \n",
       "Shorts        -0.041236  0.557906  0.291170 -0.320418  0.401304 -0.077824   \n",
       "Skirt          0.185372 -0.467093  0.015149 -0.054592 -0.097370  0.177587   \n",
       "Sweater        0.316087  0.145350 -0.128844 -0.287373 -0.746964 -0.200839   \n",
       "Swimsuit      -0.815436 -0.354217  0.244543 -0.086917  0.194417 -0.247195   \n",
       "T-shirt        0.020859  0.127414  0.278620  0.307243  0.400585 -0.274455   \n",
       "Tank Top       0.375784 -0.227700  0.076199 -0.106317  0.476120  0.093641   \n",
       "Trench Coat   -0.414125 -0.024790  0.554679  0.045457 -0.199583 -0.067333   \n",
       "Trousers       0.149659  0.265876  0.530316 -0.529594 -0.386298 -0.116785   \n",
       "Tunic          0.173674 -0.011705 -0.100148 -0.420337  0.514497 -0.209936   \n",
       "Vest           0.163911  0.088511 -0.215002 -0.235136  0.036707 -0.462404   \n",
       "\n",
       "item           Flannel Shirt    Hoodie    Jacket     Jeans  ...    Shorts  \\\n",
       "item                                                        ...             \n",
       "Blazer              0.065506  0.129767  0.111952  0.444099  ... -0.041236   \n",
       "Blouse              0.268434  0.192684  0.678368  0.420295  ...  0.557906   \n",
       "Camisole            0.450536  0.142072 -0.127248  0.269746  ...  0.291170   \n",
       "Cardigan            0.112417 -0.078554 -0.168655 -0.401371  ... -0.320418   \n",
       "Coat                0.232293  0.212548 -0.591009 -0.101388  ...  0.401304   \n",
       "Dress               0.460615 -0.147796  0.126762 -0.223350  ... -0.077824   \n",
       "Flannel Shirt       1.000000 -0.276135  0.250968 -0.079775  ...  0.285695   \n",
       "Hoodie             -0.276135  1.000000  0.079161  0.164329  ...  0.060627   \n",
       "Jacket              0.250968  0.079161  1.000000  0.479647  ... -0.471869   \n",
       "Jeans              -0.079775  0.164329  0.479647  1.000000  ... -0.533113   \n",
       "Jumpsuit           -0.165780 -0.477214  0.072469 -0.465088  ... -0.324437   \n",
       "Kimono             -0.200990 -0.010815 -0.486532  0.120936  ... -0.353803   \n",
       "Leggings           -0.513706  0.122980  0.180225 -0.282655  ... -0.521608   \n",
       "Onesie             -0.388416  0.370086  0.389905 -0.044994  ... -0.270408   \n",
       "Overalls           -0.078783 -0.305357 -0.638008 -0.488330  ... -0.238630   \n",
       "Pajamas             0.107868  0.060855 -0.297235 -0.552078  ...  0.120220   \n",
       "Pants              -0.365159  0.041888  0.421808  0.391416  ...  0.311896   \n",
       "Polo Shirt         -0.199206  0.386182 -0.062982 -0.146358  ... -0.109899   \n",
       "Poncho              0.394308 -0.412405  0.480515 -0.192305  ... -0.092730   \n",
       "Raincoat            0.214130  0.505103  0.360268 -0.046104  ... -0.036253   \n",
       "Romper             -0.191775  0.276528 -0.141111  0.854523  ... -0.091646   \n",
       "Shorts              0.285695  0.060627 -0.471869 -0.533113  ...  1.000000   \n",
       "Skirt               0.381191 -0.108036 -0.045201  0.216594  ...  0.085780   \n",
       "Sweater             0.171085 -0.049701  0.425864  0.240100  ... -0.086226   \n",
       "Swimsuit            0.313272  0.553818  0.076841  0.209902  ...  0.069060   \n",
       "T-shirt            -0.349990  0.105800 -0.488099  0.045364  ...  0.218608   \n",
       "Tank Top            0.089183 -0.233260 -0.443067 -0.005577  ... -0.099910   \n",
       "Trench Coat        -0.172733  0.218107 -0.352852  0.262024  ... -0.050127   \n",
       "Trousers            0.332862 -0.152044  0.323329  0.402216  ... -0.061833   \n",
       "Tunic               0.291815 -0.051573 -0.109550  0.314313  ...  0.151252   \n",
       "Vest                0.102135 -0.158084  0.125123 -0.417492  ...  0.147619   \n",
       "\n",
       "item              Skirt   Sweater  Swimsuit   T-shirt  Tank Top  Trench Coat  \\\n",
       "item                                                                           \n",
       "Blazer         0.185372  0.316087 -0.815436  0.020859  0.375784    -0.414125   \n",
       "Blouse        -0.467093  0.145350 -0.354217  0.127414 -0.227700    -0.024790   \n",
       "Camisole       0.015149 -0.128844  0.244543  0.278620  0.076199     0.554679   \n",
       "Cardigan      -0.054592 -0.287373 -0.086917  0.307243 -0.106317     0.045457   \n",
       "Coat          -0.097370 -0.746964  0.194417  0.400585  0.476120    -0.199583   \n",
       "Dress          0.177587 -0.200839 -0.247195 -0.274455  0.093641    -0.067333   \n",
       "Flannel Shirt  0.381191  0.171085  0.313272 -0.349990  0.089183    -0.172733   \n",
       "Hoodie        -0.108036 -0.049701  0.553818  0.105800 -0.233260     0.218107   \n",
       "Jacket        -0.045201  0.425864  0.076841 -0.488099 -0.443067    -0.352852   \n",
       "Jeans          0.216594  0.240100  0.209902  0.045364 -0.005577     0.262024   \n",
       "Jumpsuit      -0.255762 -0.487976 -0.039990 -0.484668  0.118661     0.289595   \n",
       "Kimono        -0.336792 -0.080777 -0.369460 -0.035608 -0.030249     0.004831   \n",
       "Leggings       0.048887 -0.103986  0.064062 -0.349545  0.267516     0.110588   \n",
       "Onesie        -0.310778 -0.012102  0.328096  0.091453  0.182967     0.559367   \n",
       "Overalls       0.041390 -0.197745  0.220330 -0.032427 -0.291465     0.130590   \n",
       "Pajamas       -0.073382  0.121229  0.181203 -0.189259 -0.001328     0.290916   \n",
       "Pants          0.122390 -0.045796 -0.343234  0.397582 -0.052383    -0.239612   \n",
       "Polo Shirt    -0.319868  0.206881  0.292786 -0.257295 -0.104087    -0.406903   \n",
       "Poncho        -0.614618 -0.314538  0.088790 -0.375091 -0.443581     0.243347   \n",
       "Raincoat       0.304502  0.563810  0.149926 -0.297535  0.028200    -0.449233   \n",
       "Romper         0.436075  0.130906 -0.764301  0.746306 -0.024477     0.294733   \n",
       "Shorts         0.085780 -0.086226  0.069060  0.218608 -0.099910    -0.050127   \n",
       "Skirt          1.000000  0.108604 -0.651763  0.491676  0.376783    -0.017831   \n",
       "Sweater        0.108604  1.000000  0.092541 -0.715131  0.449709    -0.442639   \n",
       "Swimsuit      -0.651763  0.092541  1.000000 -0.845341  0.198316    -0.008449   \n",
       "T-shirt        0.491676 -0.715131 -0.845341  1.000000  0.319134     0.201588   \n",
       "Tank Top       0.376783  0.449709  0.198316  0.319134  1.000000    -0.007988   \n",
       "Trench Coat   -0.017831 -0.442639 -0.008449  0.201588 -0.007988     1.000000   \n",
       "Trousers      -0.135433 -0.000824  0.152829 -0.334690 -0.304801    -0.108318   \n",
       "Tunic          0.358848  0.130368 -0.539842  0.626992  0.209372     0.082038   \n",
       "Vest          -0.516372 -0.257670 -0.025339  0.180313  0.199574     0.173000   \n",
       "\n",
       "item           Trousers     Tunic      Vest  \n",
       "item                                         \n",
       "Blazer         0.149659  0.173674  0.163911  \n",
       "Blouse         0.265876 -0.011705  0.088511  \n",
       "Camisole       0.530316 -0.100148 -0.215002  \n",
       "Cardigan      -0.529594 -0.420337 -0.235136  \n",
       "Coat          -0.386298  0.514497  0.036707  \n",
       "Dress         -0.116785 -0.209936 -0.462404  \n",
       "Flannel Shirt  0.332862  0.291815  0.102135  \n",
       "Hoodie        -0.152044 -0.051573 -0.158084  \n",
       "Jacket         0.323329 -0.109550  0.125123  \n",
       "Jeans          0.402216  0.314313 -0.417492  \n",
       "Jumpsuit       0.014624 -0.157531  0.161557  \n",
       "Kimono        -0.228006 -0.029390 -0.216186  \n",
       "Leggings      -0.194241 -0.093953  0.130966  \n",
       "Onesie        -0.536687 -0.464463  0.616544  \n",
       "Overalls       0.264409  0.348552 -0.213799  \n",
       "Pajamas       -0.245974  0.069983  0.046574  \n",
       "Pants          0.385375  0.093887 -0.030645  \n",
       "Polo Shirt    -0.109227 -0.289960 -0.511483  \n",
       "Poncho         0.159755  0.244431 -0.029324  \n",
       "Raincoat      -0.357060  0.137369 -0.089046  \n",
       "Romper        -0.195355  0.491026 -0.185600  \n",
       "Shorts        -0.061833  0.151252  0.147619  \n",
       "Skirt         -0.135433  0.358848 -0.516372  \n",
       "Sweater       -0.000824  0.130368 -0.257670  \n",
       "Swimsuit       0.152829 -0.539842 -0.025339  \n",
       "T-shirt       -0.334690  0.626992  0.180313  \n",
       "Tank Top      -0.304801  0.209372  0.199574  \n",
       "Trench Coat   -0.108318  0.082038  0.173000  \n",
       "Trousers       1.000000  0.208091 -0.171731  \n",
       "Tunic          0.208091  1.000000 -0.388244  \n",
       "Vest          -0.171731 -0.388244  1.000000  \n",
       "\n",
       "[31 rows x 31 columns]"
      ]
     },
     "execution_count": 61,
     "metadata": {},
     "output_type": "execute_result"
    }
   ],
   "source": [
    "user_item_matrix = df.pivot_table(index='customerID', columns='item', values='review', aggfunc='mean')\n",
    "\n",
    "# center by item, keeping NaN values\n",
    "item_mat = user_item_matrix.to_numpy()\n",
    "item_means = np.nanmean(item_mat, axis=0)\n",
    "item_mat_centered = item_mat - item_means  \n",
    "\n",
    "# get cosine similarity\n",
    "item_names = user_item_matrix.columns\n",
    "n_items = item_mat_centered.shape[1]\n",
    "item_similarity_df = pd.DataFrame(index=item_names, columns=item_names, dtype=float)\n",
    "\n",
    "for i in range(n_items):\n",
    "    for j in range(n_items):\n",
    "        vec_i = item_mat_centered[:, i]\n",
    "        vec_j = item_mat_centered[:, j]\n",
    "\n",
    "        shared = ~np.isnan(vec_i) & ~np.isnan(vec_j)\n",
    "\n",
    "        if np.sum(shared) > 1:\n",
    "            sim = cosine_similarity(vec_i[shared].reshape(1, -1), vec_j[shared].reshape(1, -1))[0, 0]\n",
    "        else:\n",
    "            sim = np.nan\n",
    "\n",
    "        item_similarity_df.iloc[i, j] = sim\n",
    "\n",
    "item_similarity_df"
   ]
  },
  {
   "cell_type": "markdown",
   "id": "ed1d8720-7b75-4dcd-9cbe-dc53d103675e",
   "metadata": {},
   "source": [
    "### Item-Item Matrix Error Testing:"
   ]
  },
  {
   "cell_type": "code",
   "execution_count": 63,
   "id": "b953e245-b94d-411d-ac85-9e9f8b3b9e84",
   "metadata": {},
   "outputs": [],
   "source": [
    "# copy the original user item matrix\n",
    "original_matrix = user_item_matrix.copy()\n",
    "\n",
    "# identify the known ratings and create a test set 80-20 split\n",
    "known_ratings = original_matrix.stack().reset_index()\n",
    "known_ratings.columns = ['customerID', 'item', 'rating']\n",
    "test_set = known_ratings.sample(frac=0.2, random_state=42)\n",
    "\n",
    "# mask ratings in the test matrix\n",
    "masked_matrix = original_matrix.copy()\n",
    "for idx, row in test_set.iterrows():\n",
    "    masked_matrix.loc[row['customerID'], row['item']] = np.nan"
   ]
  },
  {
   "cell_type": "code",
   "execution_count": 66,
   "id": "9c4aa168-c120-48c1-80e3-372214edc876",
   "metadata": {},
   "outputs": [],
   "source": [
    "def predict_rating(user_id, item_id, user_item_matrix, similarity_df, k=5):\n",
    "    if item_id not in similarity_df.columns or user_id not in user_item_matrix.index:\n",
    "        return np.nan\n",
    "\n",
    "    user_ratings = user_item_matrix.loc[user_id]\n",
    "    similarities = similarity_df[item_id]\n",
    "\n",
    "    # Only keep items this user has rated\n",
    "    rated_items = user_ratings.dropna().index\n",
    "    similarities = similarities[rated_items]\n",
    "\n",
    "    # Get top-k similar items that the user has rated\n",
    "    top_k = similarities.dropna().nlargest(k)\n",
    "\n",
    "    if top_k.empty:\n",
    "        return np.nan\n",
    "\n",
    "    weighted_sum = (user_ratings[top_k.index] * top_k).sum()\n",
    "    sim_sum = top_k.sum()\n",
    "\n",
    "    return weighted_sum / sim_sum if sim_sum != 0 else np.nan"
   ]
  },
  {
   "cell_type": "code",
   "execution_count": 68,
   "id": "ea7891e4-a21e-40b6-ae45-420dbf799a0d",
   "metadata": {},
   "outputs": [
    {
     "name": "stdout",
     "output_type": "stream",
     "text": [
      "MAE: 3.7478257090434246\n",
      "RMSE: 20.816931728659124\n"
     ]
    }
   ],
   "source": [
    "actuals = []\n",
    "preds = []\n",
    "\n",
    "for _, row in test_set.iterrows():\n",
    "    true_rating = row['rating']\n",
    "    pred_rating = predict_rating(row['customerID'], row['item'], masked_matrix, item_similarity_df, k=5)\n",
    "    if not np.isnan(pred_rating):\n",
    "        actuals.append(true_rating)\n",
    "        preds.append(pred_rating)\n",
    "\n",
    "mae = mean_absolute_error(actuals, preds)\n",
    "rmse = mean_squared_error(actuals, preds, squared=False)\n",
    "\n",
    "print(f\"MAE: {mae}\")\n",
    "print(f\"RMSE: {rmse}\")"
   ]
  },
  {
   "cell_type": "markdown",
   "id": "8185eb6c-6053-42e1-ad40-d53fdfe7578a",
   "metadata": {},
   "source": [
    "Similarity Matrix heatmap"
   ]
  },
  {
   "cell_type": "code",
   "execution_count": 71,
   "id": "63143157",
   "metadata": {
    "scrolled": true
   },
   "outputs": [
    {
     "data": {
      "image/png": "[encoded data removed]",
      "text/plain": [
       "<Figure size 1400x1000 with 2 Axes>"
      ]
     },
     "metadata": {},
     "output_type": "display_data"
    }
   ],
   "source": [
    "# plot heatmap of item similarity\n",
    "plt.figure(figsize=(14, 10))\n",
    "sns.heatmap(item_similarity_df, cmap=\"coolwarm\", annot=False, fmt=\".2f\", linewidths=0.5,\n",
    "            xticklabels=item_similarity_df.columns, yticklabels=item_similarity_df.index)\n",
    "plt.title(\"item-item similarity heatmap (cosine similarity)\")\n",
    "plt.xticks(rotation=90)\n",
    "plt.yticks(rotation=0)\n",
    "plt.tight_layout()\n",
    "plt.savefig(\"item-item-heatmap.png\", bbox_inches='tight')\n",
    "plt.show()"
   ]
  },
  {
   "cell_type": "markdown",
   "id": "fcc385d1-702b-4a92-a9f5-8358beb40ac6",
   "metadata": {},
   "source": [
    "### Allow user to put in an item, prints similar items"
   ]
  },
  {
   "cell_type": "code",
   "execution_count": 76,
   "id": "a4f69655",
   "metadata": {},
   "outputs": [
    {
     "name": "stdin",
     "output_type": "stream",
     "text": [
      "enter an item name to find similar products:  1\n",
      "how many similar items do you want to see? (default 5):  1\n"
     ]
    },
    {
     "name": "stdout",
     "output_type": "stream",
     "text": [
      "item '1' not found. please check the spelling or try another item.\n"
     ]
    }
   ],
   "source": [
    "# function to find and print top-n similar items based on cosine similarity\n",
    "def find_similar_items(item_name, top_n=5):\n",
    "    # convert input to lowercase for case-insensitive matching\n",
    "    item_name_lower = item_name.lower()\n",
    "    all_items = list(item_similarity_df.columns)\n",
    "    \n",
    "    # match the input item ignoring case\n",
    "    matched_items = [item for item in all_items if item.lower() == item_name_lower]\n",
    "    \n",
    "    if not matched_items:\n",
    "        print(f\"item '{item_name}' not found. please check the spelling or try another item.\")\n",
    "        return\n",
    "    \n",
    "    matched_item = matched_items[0]\n",
    "    \n",
    "    # get top n similar items\n",
    "    similar_items = item_similarity_df[matched_item].drop(matched_item).sort_values(ascending=False).head(top_n)\n",
    "    print(f\"\\ntop {top_n} items similar to '{matched_item}':\")\n",
    "    for similar_item, score in similar_items.items():\n",
    "        print(f\"{similar_item}: similarity score = {score:.2f}\")\n",
    "\n",
    "# prompt user to input item and number of similar items to display\n",
    "user_input = input(\"enter an item name to find similar products: \").strip()\n",
    "n = int(input(\"how many similar items do you want to see? (default 5): \") or 5)\n",
    "\n",
    "find_similar_items(user_input, top_n=n)\n"
   ]
  },
  {
   "cell_type": "markdown",
   "id": "97d88303-4dfb-49f3-ab57-376c599f7bd8",
   "metadata": {},
   "source": [
    "### Count items sold"
   ]
  },
  {
   "cell_type": "code",
   "execution_count": 78,
   "id": "b6fe1d2b",
   "metadata": {},
   "outputs": [
    {
     "name": "stdout",
     "output_type": "stream",
     "text": [
      "\n",
      "total number of sales: 1731\n",
      "number of unique items: 31\n",
      "\n",
      "items sold (sorted by quantity):\n",
      "item\n",
      "Shorts           74\n",
      "Pants            71\n",
      "Skirt            70\n",
      "Tank Top         66\n",
      "T-shirt          63\n",
      "Hoodie           62\n",
      "Camisole         62\n",
      "Cardigan         61\n",
      "Pajamas          61\n",
      "Kimono           61\n",
      "Poncho           60\n",
      "Onesie           59\n",
      "Vest             58\n",
      "Blouse           57\n",
      "Trench Coat      56\n",
      "Raincoat         55\n",
      "Overalls         54\n",
      "Tunic            54\n",
      "Blazer           54\n",
      "Flannel Shirt    53\n",
      "Coat             52\n",
      "Sweater          51\n",
      "Jacket           50\n",
      "Swimsuit         49\n",
      "Leggings         49\n",
      "Romper           48\n",
      "Jeans            48\n",
      "Jumpsuit         46\n",
      "Dress            44\n",
      "Polo Shirt       43\n",
      "Trousers         40\n",
      "Name: count, dtype: int64\n"
     ]
    }
   ],
   "source": [
    "# count total number of sales\n",
    "total_sales = len(df)\n",
    "\n",
    "# count number of unique items\n",
    "unique_items = df['item'].nunique()\n",
    "\n",
    "# count item frequency\n",
    "item_counts = df['item'].value_counts()\n",
    "\n",
    "# display results\n",
    "print(f\"\\ntotal number of sales: {total_sales}\")\n",
    "print(f\"number of unique items: {unique_items}\")\n",
    "print(\"\\nitems sold (sorted by quantity):\")\n",
    "print(item_counts)\n"
   ]
  },
  {
   "cell_type": "markdown",
   "id": "b5640310-fff4-4ec3-927b-6185d036dfc5",
   "metadata": {},
   "source": [
    "### Time Series for All Items"
   ]
  },
  {
   "cell_type": "code",
   "execution_count": 81,
   "id": "b079e61f-04e8-41df-ac80-0632561251eb",
   "metadata": {},
   "outputs": [
    {
     "data": {
      "application/vnd.plotly.v1+json": {
       "config": {
        "plotlyServerURL": "https://plot.ly"
       },
       "data": [
        {
         "hoverinfo": "text",
         "line": {
          "width": 2
         },
         "mode": "lines+markers",
         "name": "Blazer",
         "opacity": 0.6,
         "text": [
          "Item: Blazer<br>Sales: $5246.0",
          "Item: Blazer<br>Sales: $599.0",
          "Item: Blazer<br>Sales: $378.0",
          "Item: Blazer<br>Sales: $549.0",
          "Item: Blazer<br>Sales: $14.0",
          "Item: Blazer<br>Sales: $358.0",
          "Item: Blazer<br>Sales: $304.0",
          "Item: Blazer<br>Sales: $817.0",
          "Item: Blazer<br>Sales: $701.0",
          "Item: Blazer<br>Sales: $727.0",
          "Item: Blazer<br>Sales: $292.0"
         ],
         "type": "scatter",
         "x": [
          "2022-10-01T00:00:00",
          "2022-11-01T00:00:00",
          "2022-12-01T00:00:00",
          "2023-01-01T00:00:00",
          "2023-02-01T00:00:00",
          "2023-03-01T00:00:00",
          "2023-04-01T00:00:00",
          "2023-05-01T00:00:00",
          "2023-06-01T00:00:00",
          "2023-08-01T00:00:00",
          "2023-09-01T00:00:00"
         ],
         "y": [
          5246,
          599,
          378,
          549,
          14,
          358,
          304,
          817,
          701,
          727,
          292
         ]
        },
        {
         "hoverinfo": "text",
         "line": {
          "width": 2
         },
         "mode": "lines+markers",
         "name": "Blouse",
         "opacity": 0.6,
         "text": [
          "Item: Blouse<br>Sales: $548.0",
          "Item: Blouse<br>Sales: $166.0",
          "Item: Blouse<br>Sales: $1384.0",
          "Item: Blouse<br>Sales: $614.0",
          "Item: Blouse<br>Sales: $229.0",
          "Item: Blouse<br>Sales: $4202.0",
          "Item: Blouse<br>Sales: $740.0",
          "Item: Blouse<br>Sales: $884.0",
          "Item: Blouse<br>Sales: $58.0",
          "Item: Blouse<br>Sales: $306.0",
          "Item: Blouse<br>Sales: $1133.0",
          "Item: Blouse<br>Sales: $208.0"
         ],
         "type": "scatter",
         "x": [
          "2022-10-01T00:00:00",
          "2022-11-01T00:00:00",
          "2022-12-01T00:00:00",
          "2023-01-01T00:00:00",
          "2023-02-01T00:00:00",
          "2023-03-01T00:00:00",
          "2023-04-01T00:00:00",
          "2023-05-01T00:00:00",
          "2023-06-01T00:00:00",
          "2023-07-01T00:00:00",
          "2023-08-01T00:00:00",
          "2023-09-01T00:00:00"
         ],
         "y": [
          548,
          166,
          1384,
          614,
          229,
          4202,
          740,
          884,
          58,
          306,
          1133,
          208
         ]
        },
        {
         "hoverinfo": "text",
         "line": {
          "width": 2
         },
         "mode": "lines+markers",
         "name": "Camisole",
         "opacity": 0.6,
         "text": [
          "Item: Camisole<br>Sales: $302.0",
          "Item: Camisole<br>Sales: $553.0",
          "Item: Camisole<br>Sales: $145.0",
          "Item: Camisole<br>Sales: $775.0",
          "Item: Camisole<br>Sales: $403.0",
          "Item: Camisole<br>Sales: $695.0",
          "Item: Camisole<br>Sales: $485.0",
          "Item: Camisole<br>Sales: $585.0",
          "Item: Camisole<br>Sales: $749.0",
          "Item: Camisole<br>Sales: $735.0",
          "Item: Camisole<br>Sales: $380.0",
          "Item: Camisole<br>Sales: $283.0",
          "Item: Camisole<br>Sales: $46.0"
         ],
         "type": "scatter",
         "x": [
          "2022-10-01T00:00:00",
          "2022-11-01T00:00:00",
          "2022-12-01T00:00:00",
          "2023-01-01T00:00:00",
          "2023-02-01T00:00:00",
          "2023-03-01T00:00:00",
          "2023-04-01T00:00:00",
          "2023-05-01T00:00:00",
          "2023-06-01T00:00:00",
          "2023-07-01T00:00:00",
          "2023-08-01T00:00:00",
          "2023-09-01T00:00:00",
          "2023-10-01T00:00:00"
         ],
         "y": [
          302,
          553,
          145,
          775,
          403,
          695,
          485,
          585,
          749,
          735,
          380,
          283,
          46
         ]
        },
        {
         "hoverinfo": "text",
         "line": {
          "width": 2
         },
         "mode": "lines+markers",
         "name": "Cardigan",
         "opacity": 0.6,
         "text": [
          "Item: Cardigan<br>Sales: $413.0",
          "Item: Cardigan<br>Sales: $270.0",
          "Item: Cardigan<br>Sales: $387.0",
          "Item: Cardigan<br>Sales: $741.0",
          "Item: Cardigan<br>Sales: $562.0",
          "Item: Cardigan<br>Sales: $566.0",
          "Item: Cardigan<br>Sales: $3005.0",
          "Item: Cardigan<br>Sales: $704.0",
          "Item: Cardigan<br>Sales: $731.0",
          "Item: Cardigan<br>Sales: $722.0",
          "Item: Cardigan<br>Sales: $278.0",
          "Item: Cardigan<br>Sales: $891.0"
         ],
         "type": "scatter",
         "x": [
          "2022-10-01T00:00:00",
          "2022-11-01T00:00:00",
          "2022-12-01T00:00:00",
          "2023-01-01T00:00:00",
          "2023-02-01T00:00:00",
          "2023-03-01T00:00:00",
          "2023-04-01T00:00:00",
          "2023-05-01T00:00:00",
          "2023-06-01T00:00:00",
          "2023-07-01T00:00:00",
          "2023-08-01T00:00:00",
          "2023-09-01T00:00:00"
         ],
         "y": [
          413,
          270,
          387,
          741,
          562,
          566,
          3005,
          704,
          731,
          722,
          278,
          891
         ]
        },
        {
         "hoverinfo": "text",
         "line": {
          "width": 2
         },
         "mode": "lines+markers",
         "name": "Coat",
         "opacity": 0.6,
         "text": [
          "Item: Coat<br>Sales: $262.0",
          "Item: Coat<br>Sales: $154.0",
          "Item: Coat<br>Sales: $486.0",
          "Item: Coat<br>Sales: $515.0",
          "Item: Coat<br>Sales: $627.0",
          "Item: Coat<br>Sales: $24.0",
          "Item: Coat<br>Sales: $528.0",
          "Item: Coat<br>Sales: $364.0",
          "Item: Coat<br>Sales: $744.0",
          "Item: Coat<br>Sales: $678.0",
          "Item: Coat<br>Sales: $501.0",
          "Item: Coat<br>Sales: $671.0"
         ],
         "type": "scatter",
         "x": [
          "2022-10-01T00:00:00",
          "2022-11-01T00:00:00",
          "2022-12-01T00:00:00",
          "2023-01-01T00:00:00",
          "2023-02-01T00:00:00",
          "2023-03-01T00:00:00",
          "2023-04-01T00:00:00",
          "2023-05-01T00:00:00",
          "2023-06-01T00:00:00",
          "2023-07-01T00:00:00",
          "2023-08-01T00:00:00",
          "2023-09-01T00:00:00"
         ],
         "y": [
          262,
          154,
          486,
          515,
          627,
          24,
          528,
          364,
          744,
          678,
          501,
          671
         ]
        },
        {
         "hoverinfo": "text",
         "line": {
          "width": 2
         },
         "mode": "lines+markers",
         "name": "Dress",
         "opacity": 0.6,
         "text": [
          "Item: Dress<br>Sales: $438.0",
          "Item: Dress<br>Sales: $98.0",
          "Item: Dress<br>Sales: $335.0",
          "Item: Dress<br>Sales: $484.0",
          "Item: Dress<br>Sales: $346.0",
          "Item: Dress<br>Sales: $301.0",
          "Item: Dress<br>Sales: $1167.0",
          "Item: Dress<br>Sales: $156.0",
          "Item: Dress<br>Sales: $298.0",
          "Item: Dress<br>Sales: $159.0",
          "Item: Dress<br>Sales: $325.0"
         ],
         "type": "scatter",
         "x": [
          "2022-10-01T00:00:00",
          "2022-11-01T00:00:00",
          "2022-12-01T00:00:00",
          "2023-01-01T00:00:00",
          "2023-02-01T00:00:00",
          "2023-03-01T00:00:00",
          "2023-04-01T00:00:00",
          "2023-05-01T00:00:00",
          "2023-07-01T00:00:00",
          "2023-08-01T00:00:00",
          "2023-09-01T00:00:00"
         ],
         "y": [
          438,
          98,
          335,
          484,
          346,
          301,
          1167,
          156,
          298,
          159,
          325
         ]
        },
        {
         "hoverinfo": "text",
         "line": {
          "width": 2
         },
         "mode": "lines+markers",
         "name": "Flannel Shirt",
         "opacity": 0.6,
         "text": [
          "Item: Flannel Shirt<br>Sales: $457.0",
          "Item: Flannel Shirt<br>Sales: $458.0",
          "Item: Flannel Shirt<br>Sales: $707.0",
          "Item: Flannel Shirt<br>Sales: $183.0",
          "Item: Flannel Shirt<br>Sales: $405.0",
          "Item: Flannel Shirt<br>Sales: $1196.0",
          "Item: Flannel Shirt<br>Sales: $343.0",
          "Item: Flannel Shirt<br>Sales: $244.0",
          "Item: Flannel Shirt<br>Sales: $109.0",
          "Item: Flannel Shirt<br>Sales: $497.0",
          "Item: Flannel Shirt<br>Sales: $394.0",
          "Item: Flannel Shirt<br>Sales: $433.0"
         ],
         "type": "scatter",
         "x": [
          "2022-10-01T00:00:00",
          "2022-11-01T00:00:00",
          "2022-12-01T00:00:00",
          "2023-01-01T00:00:00",
          "2023-02-01T00:00:00",
          "2023-03-01T00:00:00",
          "2023-04-01T00:00:00",
          "2023-05-01T00:00:00",
          "2023-06-01T00:00:00",
          "2023-07-01T00:00:00",
          "2023-08-01T00:00:00",
          "2023-09-01T00:00:00"
         ],
         "y": [
          457,
          458,
          707,
          183,
          405,
          1196,
          343,
          244,
          109,
          497,
          394,
          433
         ]
        },
        {
         "hoverinfo": "text",
         "line": {
          "width": 2
         },
         "mode": "lines+markers",
         "name": "Hoodie",
         "opacity": 0.6,
         "text": [
          "Item: Hoodie<br>Sales: $3255.0",
          "Item: Hoodie<br>Sales: $588.0",
          "Item: Hoodie<br>Sales: $482.0",
          "Item: Hoodie<br>Sales: $887.0",
          "Item: Hoodie<br>Sales: $119.0",
          "Item: Hoodie<br>Sales: $562.0",
          "Item: Hoodie<br>Sales: $94.0",
          "Item: Hoodie<br>Sales: $791.0",
          "Item: Hoodie<br>Sales: $708.0",
          "Item: Hoodie<br>Sales: $544.0",
          "Item: Hoodie<br>Sales: $1186.0",
          "Item: Hoodie<br>Sales: $363.0"
         ],
         "type": "scatter",
         "x": [
          "2022-10-01T00:00:00",
          "2022-11-01T00:00:00",
          "2022-12-01T00:00:00",
          "2023-01-01T00:00:00",
          "2023-02-01T00:00:00",
          "2023-03-01T00:00:00",
          "2023-04-01T00:00:00",
          "2023-05-01T00:00:00",
          "2023-06-01T00:00:00",
          "2023-07-01T00:00:00",
          "2023-08-01T00:00:00",
          "2023-09-01T00:00:00"
         ],
         "y": [
          3255,
          588,
          482,
          887,
          119,
          562,
          94,
          791,
          708,
          544,
          1186,
          363
         ]
        },
        {
         "hoverinfo": "text",
         "line": {
          "width": 2
         },
         "mode": "lines+markers",
         "name": "Jacket",
         "opacity": 0.6,
         "text": [
          "Item: Jacket<br>Sales: $499.0",
          "Item: Jacket<br>Sales: $152.0",
          "Item: Jacket<br>Sales: $583.0",
          "Item: Jacket<br>Sales: $243.0",
          "Item: Jacket<br>Sales: $185.0",
          "Item: Jacket<br>Sales: $747.0",
          "Item: Jacket<br>Sales: $336.0",
          "Item: Jacket<br>Sales: $1323.0",
          "Item: Jacket<br>Sales: $3117.0",
          "Item: Jacket<br>Sales: $528.0",
          "Item: Jacket<br>Sales: $186.0"
         ],
         "type": "scatter",
         "x": [
          "2022-10-01T00:00:00",
          "2022-11-01T00:00:00",
          "2022-12-01T00:00:00",
          "2023-01-01T00:00:00",
          "2023-02-01T00:00:00",
          "2023-03-01T00:00:00",
          "2023-04-01T00:00:00",
          "2023-05-01T00:00:00",
          "2023-07-01T00:00:00",
          "2023-08-01T00:00:00",
          "2023-09-01T00:00:00"
         ],
         "y": [
          499,
          152,
          583,
          243,
          185,
          747,
          336,
          1323,
          3117,
          528,
          186
         ]
        },
        {
         "hoverinfo": "text",
         "line": {
          "width": 2
         },
         "mode": "lines+markers",
         "name": "Jeans",
         "opacity": 0.6,
         "text": [
          "Item: Jeans<br>Sales: $72.0",
          "Item: Jeans<br>Sales: $449.0",
          "Item: Jeans<br>Sales: $218.0",
          "Item: Jeans<br>Sales: $476.0",
          "Item: Jeans<br>Sales: $3283.0",
          "Item: Jeans<br>Sales: $226.0",
          "Item: Jeans<br>Sales: $482.0",
          "Item: Jeans<br>Sales: $5609.0",
          "Item: Jeans<br>Sales: $265.0",
          "Item: Jeans<br>Sales: $981.0",
          "Item: Jeans<br>Sales: $363.0",
          "Item: Jeans<br>Sales: $644.0"
         ],
         "type": "scatter",
         "x": [
          "2022-10-01T00:00:00",
          "2022-11-01T00:00:00",
          "2022-12-01T00:00:00",
          "2023-01-01T00:00:00",
          "2023-02-01T00:00:00",
          "2023-03-01T00:00:00",
          "2023-04-01T00:00:00",
          "2023-05-01T00:00:00",
          "2023-06-01T00:00:00",
          "2023-07-01T00:00:00",
          "2023-08-01T00:00:00",
          "2023-09-01T00:00:00"
         ],
         "y": [
          72,
          449,
          218,
          476,
          3283,
          226,
          482,
          5609,
          265,
          981,
          363,
          644
         ]
        },
        {
         "hoverinfo": "text",
         "line": {
          "width": 2
         },
         "mode": "lines+markers",
         "name": "Jumpsuit",
         "opacity": 0.6,
         "text": [
          "Item: Jumpsuit<br>Sales: $709.0",
          "Item: Jumpsuit<br>Sales: $776.0",
          "Item: Jumpsuit<br>Sales: $578.0",
          "Item: Jumpsuit<br>Sales: $455.0",
          "Item: Jumpsuit<br>Sales: $154.0",
          "Item: Jumpsuit<br>Sales: $367.0",
          "Item: Jumpsuit<br>Sales: $443.0",
          "Item: Jumpsuit<br>Sales: $320.0",
          "Item: Jumpsuit<br>Sales: $1009.0",
          "Item: Jumpsuit<br>Sales: $144.0",
          "Item: Jumpsuit<br>Sales: $133.0",
          "Item: Jumpsuit<br>Sales: $166.0"
         ],
         "type": "scatter",
         "x": [
          "2022-10-01T00:00:00",
          "2022-11-01T00:00:00",
          "2022-12-01T00:00:00",
          "2023-01-01T00:00:00",
          "2023-02-01T00:00:00",
          "2023-03-01T00:00:00",
          "2023-04-01T00:00:00",
          "2023-05-01T00:00:00",
          "2023-06-01T00:00:00",
          "2023-07-01T00:00:00",
          "2023-08-01T00:00:00",
          "2023-09-01T00:00:00"
         ],
         "y": [
          709,
          776,
          578,
          455,
          154,
          367,
          443,
          320,
          1009,
          144,
          133,
          166
         ]
        },
        {
         "hoverinfo": "text",
         "line": {
          "width": 2
         },
         "mode": "lines+markers",
         "name": "Kimono",
         "opacity": 0.6,
         "text": [
          "Item: Kimono<br>Sales: $465.0",
          "Item: Kimono<br>Sales: $1147.0",
          "Item: Kimono<br>Sales: $453.0",
          "Item: Kimono<br>Sales: $316.0",
          "Item: Kimono<br>Sales: $460.0",
          "Item: Kimono<br>Sales: $736.0",
          "Item: Kimono<br>Sales: $3557.0",
          "Item: Kimono<br>Sales: $703.0",
          "Item: Kimono<br>Sales: $705.0",
          "Item: Kimono<br>Sales: $158.0",
          "Item: Kimono<br>Sales: $384.0",
          "Item: Kimono<br>Sales: $46.0"
         ],
         "type": "scatter",
         "x": [
          "2022-10-01T00:00:00",
          "2022-12-01T00:00:00",
          "2023-01-01T00:00:00",
          "2023-02-01T00:00:00",
          "2023-03-01T00:00:00",
          "2023-04-01T00:00:00",
          "2023-05-01T00:00:00",
          "2023-06-01T00:00:00",
          "2023-07-01T00:00:00",
          "2023-08-01T00:00:00",
          "2023-09-01T00:00:00",
          "2023-10-01T00:00:00"
         ],
         "y": [
          465,
          1147,
          453,
          316,
          460,
          736,
          3557,
          703,
          705,
          158,
          384,
          46
         ]
        },
        {
         "hoverinfo": "text",
         "line": {
          "width": 2
         },
         "mode": "lines+markers",
         "name": "Leggings",
         "opacity": 0.6,
         "text": [
          "Item: Leggings<br>Sales: $217.0",
          "Item: Leggings<br>Sales: $34.0",
          "Item: Leggings<br>Sales: $99.0",
          "Item: Leggings<br>Sales: $147.0",
          "Item: Leggings<br>Sales: $153.0",
          "Item: Leggings<br>Sales: $3240.0",
          "Item: Leggings<br>Sales: $221.0",
          "Item: Leggings<br>Sales: $603.0",
          "Item: Leggings<br>Sales: $1633.0",
          "Item: Leggings<br>Sales: $275.0",
          "Item: Leggings<br>Sales: $785.0",
          "Item: Leggings<br>Sales: $680.0"
         ],
         "type": "scatter",
         "x": [
          "2022-10-01T00:00:00",
          "2022-11-01T00:00:00",
          "2022-12-01T00:00:00",
          "2023-01-01T00:00:00",
          "2023-02-01T00:00:00",
          "2023-03-01T00:00:00",
          "2023-04-01T00:00:00",
          "2023-05-01T00:00:00",
          "2023-06-01T00:00:00",
          "2023-07-01T00:00:00",
          "2023-08-01T00:00:00",
          "2023-09-01T00:00:00"
         ],
         "y": [
          217,
          34,
          99,
          147,
          153,
          3240,
          221,
          603,
          1633,
          275,
          785,
          680
         ]
        },
        {
         "hoverinfo": "text",
         "line": {
          "width": 2
         },
         "mode": "lines+markers",
         "name": "Onesie",
         "opacity": 0.6,
         "text": [
          "Item: Onesie<br>Sales: $628.0",
          "Item: Onesie<br>Sales: $527.0",
          "Item: Onesie<br>Sales: $3662.0",
          "Item: Onesie<br>Sales: $710.0",
          "Item: Onesie<br>Sales: $550.0",
          "Item: Onesie<br>Sales: $61.0",
          "Item: Onesie<br>Sales: $468.0",
          "Item: Onesie<br>Sales: $481.0",
          "Item: Onesie<br>Sales: $924.0",
          "Item: Onesie<br>Sales: $566.0",
          "Item: Onesie<br>Sales: $453.0",
          "Item: Onesie<br>Sales: $519.0"
         ],
         "type": "scatter",
         "x": [
          "2022-10-01T00:00:00",
          "2022-11-01T00:00:00",
          "2022-12-01T00:00:00",
          "2023-01-01T00:00:00",
          "2023-02-01T00:00:00",
          "2023-03-01T00:00:00",
          "2023-04-01T00:00:00",
          "2023-05-01T00:00:00",
          "2023-06-01T00:00:00",
          "2023-07-01T00:00:00",
          "2023-08-01T00:00:00",
          "2023-09-01T00:00:00"
         ],
         "y": [
          628,
          527,
          3662,
          710,
          550,
          61,
          468,
          481,
          924,
          566,
          453,
          519
         ]
        },
        {
         "hoverinfo": "text",
         "line": {
          "width": 2
         },
         "mode": "lines+markers",
         "name": "Overalls",
         "opacity": 0.6,
         "text": [
          "Item: Overalls<br>Sales: $293.0",
          "Item: Overalls<br>Sales: $787.0",
          "Item: Overalls<br>Sales: $595.0",
          "Item: Overalls<br>Sales: $388.0",
          "Item: Overalls<br>Sales: $263.0",
          "Item: Overalls<br>Sales: $553.0",
          "Item: Overalls<br>Sales: $205.0",
          "Item: Overalls<br>Sales: $652.0",
          "Item: Overalls<br>Sales: $452.0",
          "Item: Overalls<br>Sales: $706.0",
          "Item: Overalls<br>Sales: $406.0",
          "Item: Overalls<br>Sales: $274.0"
         ],
         "type": "scatter",
         "x": [
          "2022-10-01T00:00:00",
          "2022-11-01T00:00:00",
          "2022-12-01T00:00:00",
          "2023-01-01T00:00:00",
          "2023-02-01T00:00:00",
          "2023-03-01T00:00:00",
          "2023-04-01T00:00:00",
          "2023-05-01T00:00:00",
          "2023-06-01T00:00:00",
          "2023-07-01T00:00:00",
          "2023-08-01T00:00:00",
          "2023-09-01T00:00:00"
         ],
         "y": [
          293,
          787,
          595,
          388,
          263,
          553,
          205,
          652,
          452,
          706,
          406,
          274
         ]
        },
        {
         "hoverinfo": "text",
         "line": {
          "width": 2
         },
         "mode": "lines+markers",
         "name": "Pajamas",
         "opacity": 0.6,
         "text": [
          "Item: Pajamas<br>Sales: $442.0",
          "Item: Pajamas<br>Sales: $336.0",
          "Item: Pajamas<br>Sales: $4211.0",
          "Item: Pajamas<br>Sales: $286.0",
          "Item: Pajamas<br>Sales: $179.0",
          "Item: Pajamas<br>Sales: $1062.0",
          "Item: Pajamas<br>Sales: $786.0",
          "Item: Pajamas<br>Sales: $2719.0",
          "Item: Pajamas<br>Sales: $460.0",
          "Item: Pajamas<br>Sales: $824.0",
          "Item: Pajamas<br>Sales: $669.0",
          "Item: Pajamas<br>Sales: $673.0",
          "Item: Pajamas<br>Sales: $151.0"
         ],
         "type": "scatter",
         "x": [
          "2022-10-01T00:00:00",
          "2022-11-01T00:00:00",
          "2022-12-01T00:00:00",
          "2023-01-01T00:00:00",
          "2023-02-01T00:00:00",
          "2023-03-01T00:00:00",
          "2023-04-01T00:00:00",
          "2023-05-01T00:00:00",
          "2023-06-01T00:00:00",
          "2023-07-01T00:00:00",
          "2023-08-01T00:00:00",
          "2023-09-01T00:00:00",
          "2023-10-01T00:00:00"
         ],
         "y": [
          442,
          336,
          4211,
          286,
          179,
          1062,
          786,
          2719,
          460,
          824,
          669,
          673,
          151
         ]
        },
        {
         "hoverinfo": "text",
         "line": {
          "width": 2
         },
         "mode": "lines+markers",
         "name": "Pants",
         "opacity": 0.6,
         "text": [
          "Item: Pants<br>Sales: $870.0",
          "Item: Pants<br>Sales: $412.0",
          "Item: Pants<br>Sales: $882.0",
          "Item: Pants<br>Sales: $473.0",
          "Item: Pants<br>Sales: $153.0",
          "Item: Pants<br>Sales: $313.0",
          "Item: Pants<br>Sales: $930.0",
          "Item: Pants<br>Sales: $3650.0",
          "Item: Pants<br>Sales: $552.0",
          "Item: Pants<br>Sales: $275.0",
          "Item: Pants<br>Sales: $576.0",
          "Item: Pants<br>Sales: $209.0"
         ],
         "type": "scatter",
         "x": [
          "2022-10-01T00:00:00",
          "2022-11-01T00:00:00",
          "2022-12-01T00:00:00",
          "2023-01-01T00:00:00",
          "2023-02-01T00:00:00",
          "2023-03-01T00:00:00",
          "2023-04-01T00:00:00",
          "2023-05-01T00:00:00",
          "2023-06-01T00:00:00",
          "2023-07-01T00:00:00",
          "2023-08-01T00:00:00",
          "2023-09-01T00:00:00"
         ],
         "y": [
          870,
          412,
          882,
          473,
          153,
          313,
          930,
          3650,
          552,
          275,
          576,
          209
         ]
        },
        {
         "hoverinfo": "text",
         "line": {
          "width": 2
         },
         "mode": "lines+markers",
         "name": "Polo Shirt",
         "opacity": 0.6,
         "text": [
          "Item: Polo Shirt<br>Sales: $292.0",
          "Item: Polo Shirt<br>Sales: $819.0",
          "Item: Polo Shirt<br>Sales: $617.0",
          "Item: Polo Shirt<br>Sales: $335.0",
          "Item: Polo Shirt<br>Sales: $392.0",
          "Item: Polo Shirt<br>Sales: $386.0",
          "Item: Polo Shirt<br>Sales: $149.0",
          "Item: Polo Shirt<br>Sales: $630.0",
          "Item: Polo Shirt<br>Sales: $311.0",
          "Item: Polo Shirt<br>Sales: $98.0",
          "Item: Polo Shirt<br>Sales: $192.0",
          "Item: Polo Shirt<br>Sales: $335.0"
         ],
         "type": "scatter",
         "x": [
          "2022-10-01T00:00:00",
          "2022-11-01T00:00:00",
          "2022-12-01T00:00:00",
          "2023-01-01T00:00:00",
          "2023-02-01T00:00:00",
          "2023-03-01T00:00:00",
          "2023-04-01T00:00:00",
          "2023-05-01T00:00:00",
          "2023-06-01T00:00:00",
          "2023-07-01T00:00:00",
          "2023-08-01T00:00:00",
          "2023-09-01T00:00:00"
         ],
         "y": [
          292,
          819,
          617,
          335,
          392,
          386,
          149,
          630,
          311,
          98,
          192,
          335
         ]
        },
        {
         "hoverinfo": "text",
         "line": {
          "width": 2
         },
         "mode": "lines+markers",
         "name": "Poncho",
         "opacity": 0.6,
         "text": [
          "Item: Poncho<br>Sales: $317.0",
          "Item: Poncho<br>Sales: $368.0",
          "Item: Poncho<br>Sales: $1228.0",
          "Item: Poncho<br>Sales: $270.0",
          "Item: Poncho<br>Sales: $339.0",
          "Item: Poncho<br>Sales: $617.0",
          "Item: Poncho<br>Sales: $3238.0",
          "Item: Poncho<br>Sales: $336.0",
          "Item: Poncho<br>Sales: $326.0",
          "Item: Poncho<br>Sales: $304.0",
          "Item: Poncho<br>Sales: $3448.0",
          "Item: Poncho<br>Sales: $631.0"
         ],
         "type": "scatter",
         "x": [
          "2022-10-01T00:00:00",
          "2022-11-01T00:00:00",
          "2022-12-01T00:00:00",
          "2023-01-01T00:00:00",
          "2023-02-01T00:00:00",
          "2023-03-01T00:00:00",
          "2023-04-01T00:00:00",
          "2023-05-01T00:00:00",
          "2023-06-01T00:00:00",
          "2023-07-01T00:00:00",
          "2023-08-01T00:00:00",
          "2023-09-01T00:00:00"
         ],
         "y": [
          317,
          368,
          1228,
          270,
          339,
          617,
          3238,
          336,
          326,
          304,
          3448,
          631
         ]
        },
        {
         "hoverinfo": "text",
         "line": {
          "width": 2
         },
         "mode": "lines+markers",
         "name": "Raincoat",
         "opacity": 0.6,
         "text": [
          "Item: Raincoat<br>Sales: $470.0",
          "Item: Raincoat<br>Sales: $267.0",
          "Item: Raincoat<br>Sales: $507.0",
          "Item: Raincoat<br>Sales: $790.0",
          "Item: Raincoat<br>Sales: $607.0",
          "Item: Raincoat<br>Sales: $725.0",
          "Item: Raincoat<br>Sales: $199.0",
          "Item: Raincoat<br>Sales: $1085.0",
          "Item: Raincoat<br>Sales: $228.0",
          "Item: Raincoat<br>Sales: $1090.0",
          "Item: Raincoat<br>Sales: $176.0",
          "Item: Raincoat<br>Sales: $633.0"
         ],
         "type": "scatter",
         "x": [
          "2022-10-01T00:00:00",
          "2022-11-01T00:00:00",
          "2022-12-01T00:00:00",
          "2023-01-01T00:00:00",
          "2023-02-01T00:00:00",
          "2023-03-01T00:00:00",
          "2023-04-01T00:00:00",
          "2023-05-01T00:00:00",
          "2023-06-01T00:00:00",
          "2023-07-01T00:00:00",
          "2023-08-01T00:00:00",
          "2023-09-01T00:00:00"
         ],
         "y": [
          470,
          267,
          507,
          790,
          607,
          725,
          199,
          1085,
          228,
          1090,
          176,
          633
         ]
        },
        {
         "hoverinfo": "text",
         "line": {
          "width": 2
         },
         "mode": "lines+markers",
         "name": "Romper",
         "opacity": 0.6,
         "text": [
          "Item: Romper<br>Sales: $127.0",
          "Item: Romper<br>Sales: $4946.0",
          "Item: Romper<br>Sales: $105.0",
          "Item: Romper<br>Sales: $426.0",
          "Item: Romper<br>Sales: $403.0",
          "Item: Romper<br>Sales: $785.0",
          "Item: Romper<br>Sales: $608.0",
          "Item: Romper<br>Sales: $190.0",
          "Item: Romper<br>Sales: $712.0",
          "Item: Romper<br>Sales: $409.0",
          "Item: Romper<br>Sales: $572.0",
          "Item: Romper<br>Sales: $178.0"
         ],
         "type": "scatter",
         "x": [
          "2022-10-01T00:00:00",
          "2022-11-01T00:00:00",
          "2022-12-01T00:00:00",
          "2023-01-01T00:00:00",
          "2023-02-01T00:00:00",
          "2023-03-01T00:00:00",
          "2023-04-01T00:00:00",
          "2023-05-01T00:00:00",
          "2023-06-01T00:00:00",
          "2023-07-01T00:00:00",
          "2023-08-01T00:00:00",
          "2023-09-01T00:00:00"
         ],
         "y": [
          127,
          4946,
          105,
          426,
          403,
          785,
          608,
          190,
          712,
          409,
          572,
          178
         ]
        },
        {
         "hoverinfo": "text",
         "line": {
          "width": 2
         },
         "mode": "lines+markers",
         "name": "Shorts",
         "opacity": 0.6,
         "text": [
          "Item: Shorts<br>Sales: $867.0",
          "Item: Shorts<br>Sales: $630.0",
          "Item: Shorts<br>Sales: $644.0",
          "Item: Shorts<br>Sales: $294.0",
          "Item: Shorts<br>Sales: $452.0",
          "Item: Shorts<br>Sales: $1031.0",
          "Item: Shorts<br>Sales: $649.0",
          "Item: Shorts<br>Sales: $835.0",
          "Item: Shorts<br>Sales: $655.0",
          "Item: Shorts<br>Sales: $651.0",
          "Item: Shorts<br>Sales: $5424.0",
          "Item: Shorts<br>Sales: $570.0"
         ],
         "type": "scatter",
         "x": [
          "2022-10-01T00:00:00",
          "2022-11-01T00:00:00",
          "2022-12-01T00:00:00",
          "2023-01-01T00:00:00",
          "2023-02-01T00:00:00",
          "2023-03-01T00:00:00",
          "2023-04-01T00:00:00",
          "2023-05-01T00:00:00",
          "2023-06-01T00:00:00",
          "2023-07-01T00:00:00",
          "2023-08-01T00:00:00",
          "2023-09-01T00:00:00"
         ],
         "y": [
          867,
          630,
          644,
          294,
          452,
          1031,
          649,
          835,
          655,
          651,
          5424,
          570
         ]
        },
        {
         "hoverinfo": "text",
         "line": {
          "width": 2
         },
         "mode": "lines+markers",
         "name": "Skirt",
         "opacity": 0.6,
         "text": [
          "Item: Skirt<br>Sales: $228.0",
          "Item: Skirt<br>Sales: $402.0",
          "Item: Skirt<br>Sales: $596.0",
          "Item: Skirt<br>Sales: $495.0",
          "Item: Skirt<br>Sales: $578.0",
          "Item: Skirt<br>Sales: $449.0",
          "Item: Skirt<br>Sales: $843.0",
          "Item: Skirt<br>Sales: $568.0",
          "Item: Skirt<br>Sales: $1057.0",
          "Item: Skirt<br>Sales: $768.0",
          "Item: Skirt<br>Sales: $802.0",
          "Item: Skirt<br>Sales: $571.0"
         ],
         "type": "scatter",
         "x": [
          "2022-10-01T00:00:00",
          "2022-11-01T00:00:00",
          "2022-12-01T00:00:00",
          "2023-01-01T00:00:00",
          "2023-02-01T00:00:00",
          "2023-03-01T00:00:00",
          "2023-04-01T00:00:00",
          "2023-05-01T00:00:00",
          "2023-06-01T00:00:00",
          "2023-07-01T00:00:00",
          "2023-08-01T00:00:00",
          "2023-09-01T00:00:00"
         ],
         "y": [
          228,
          402,
          596,
          495,
          578,
          449,
          843,
          568,
          1057,
          768,
          802,
          571
         ]
        },
        {
         "hoverinfo": "text",
         "line": {
          "width": 2
         },
         "mode": "lines+markers",
         "name": "Sweater",
         "opacity": 0.6,
         "text": [
          "Item: Sweater<br>Sales: $147.0",
          "Item: Sweater<br>Sales: $128.0",
          "Item: Sweater<br>Sales: $5405.0",
          "Item: Sweater<br>Sales: $1207.0",
          "Item: Sweater<br>Sales: $300.0",
          "Item: Sweater<br>Sales: $592.0",
          "Item: Sweater<br>Sales: $300.0",
          "Item: Sweater<br>Sales: $497.0",
          "Item: Sweater<br>Sales: $642.0",
          "Item: Sweater<br>Sales: $759.0",
          "Item: Sweater<br>Sales: $600.0",
          "Item: Sweater<br>Sales: $293.0"
         ],
         "type": "scatter",
         "x": [
          "2022-10-01T00:00:00",
          "2022-11-01T00:00:00",
          "2022-12-01T00:00:00",
          "2023-01-01T00:00:00",
          "2023-02-01T00:00:00",
          "2023-03-01T00:00:00",
          "2023-04-01T00:00:00",
          "2023-05-01T00:00:00",
          "2023-06-01T00:00:00",
          "2023-07-01T00:00:00",
          "2023-08-01T00:00:00",
          "2023-09-01T00:00:00"
         ],
         "y": [
          147,
          128,
          5405,
          1207,
          300,
          592,
          300,
          497,
          642,
          759,
          600,
          293
         ]
        },
        {
         "hoverinfo": "text",
         "line": {
          "width": 2
         },
         "mode": "lines+markers",
         "name": "Swimsuit",
         "opacity": 0.6,
         "text": [
          "Item: Swimsuit<br>Sales: $244.0",
          "Item: Swimsuit<br>Sales: $572.0",
          "Item: Swimsuit<br>Sales: $392.0",
          "Item: Swimsuit<br>Sales: $350.0",
          "Item: Swimsuit<br>Sales: $3640.0",
          "Item: Swimsuit<br>Sales: $556.0",
          "Item: Swimsuit<br>Sales: $711.0",
          "Item: Swimsuit<br>Sales: $167.0",
          "Item: Swimsuit<br>Sales: $967.0",
          "Item: Swimsuit<br>Sales: $923.0",
          "Item: Swimsuit<br>Sales: $504.0"
         ],
         "type": "scatter",
         "x": [
          "2022-10-01T00:00:00",
          "2022-11-01T00:00:00",
          "2022-12-01T00:00:00",
          "2023-01-01T00:00:00",
          "2023-02-01T00:00:00",
          "2023-03-01T00:00:00",
          "2023-04-01T00:00:00",
          "2023-05-01T00:00:00",
          "2023-07-01T00:00:00",
          "2023-08-01T00:00:00",
          "2023-09-01T00:00:00"
         ],
         "y": [
          244,
          572,
          392,
          350,
          3640,
          556,
          711,
          167,
          967,
          923,
          504
         ]
        },
        {
         "hoverinfo": "text",
         "line": {
          "width": 2
         },
         "mode": "lines+markers",
         "name": "T-shirt",
         "opacity": 0.6,
         "text": [
          "Item: T-shirt<br>Sales: $1017.0",
          "Item: T-shirt<br>Sales: $787.0",
          "Item: T-shirt<br>Sales: $345.0",
          "Item: T-shirt<br>Sales: $402.0",
          "Item: T-shirt<br>Sales: $425.0",
          "Item: T-shirt<br>Sales: $2488.0",
          "Item: T-shirt<br>Sales: $385.0",
          "Item: T-shirt<br>Sales: $1033.0",
          "Item: T-shirt<br>Sales: $463.0",
          "Item: T-shirt<br>Sales: $483.0",
          "Item: T-shirt<br>Sales: $636.0",
          "Item: T-shirt<br>Sales: $579.0"
         ],
         "type": "scatter",
         "x": [
          "2022-10-01T00:00:00",
          "2022-11-01T00:00:00",
          "2022-12-01T00:00:00",
          "2023-01-01T00:00:00",
          "2023-02-01T00:00:00",
          "2023-03-01T00:00:00",
          "2023-04-01T00:00:00",
          "2023-05-01T00:00:00",
          "2023-06-01T00:00:00",
          "2023-07-01T00:00:00",
          "2023-08-01T00:00:00",
          "2023-09-01T00:00:00"
         ],
         "y": [
          1017,
          787,
          345,
          402,
          425,
          2488,
          385,
          1033,
          463,
          483,
          636,
          579
         ]
        },
        {
         "hoverinfo": "text",
         "line": {
          "width": 2
         },
         "mode": "lines+markers",
         "name": "Tank Top",
         "opacity": 0.6,
         "text": [
          "Item: Tank Top<br>Sales: $781.0",
          "Item: Tank Top<br>Sales: $556.0",
          "Item: Tank Top<br>Sales: $537.0",
          "Item: Tank Top<br>Sales: $667.0",
          "Item: Tank Top<br>Sales: $235.0",
          "Item: Tank Top<br>Sales: $2370.0",
          "Item: Tank Top<br>Sales: $947.0",
          "Item: Tank Top<br>Sales: $1177.0",
          "Item: Tank Top<br>Sales: $216.0",
          "Item: Tank Top<br>Sales: $341.0",
          "Item: Tank Top<br>Sales: $469.0"
         ],
         "type": "scatter",
         "x": [
          "2022-10-01T00:00:00",
          "2022-11-01T00:00:00",
          "2022-12-01T00:00:00",
          "2023-01-01T00:00:00",
          "2023-02-01T00:00:00",
          "2023-03-01T00:00:00",
          "2023-04-01T00:00:00",
          "2023-05-01T00:00:00",
          "2023-06-01T00:00:00",
          "2023-07-01T00:00:00",
          "2023-08-01T00:00:00"
         ],
         "y": [
          781,
          556,
          537,
          667,
          235,
          2370,
          947,
          1177,
          216,
          341,
          469
         ]
        },
        {
         "hoverinfo": "text",
         "line": {
          "width": 2
         },
         "mode": "lines+markers",
         "name": "Trench Coat",
         "opacity": 0.6,
         "text": [
          "Item: Trench Coat<br>Sales: $509.0",
          "Item: Trench Coat<br>Sales: $242.0",
          "Item: Trench Coat<br>Sales: $277.0",
          "Item: Trench Coat<br>Sales: $2553.0",
          "Item: Trench Coat<br>Sales: $397.0",
          "Item: Trench Coat<br>Sales: $742.0",
          "Item: Trench Coat<br>Sales: $529.0",
          "Item: Trench Coat<br>Sales: $343.0",
          "Item: Trench Coat<br>Sales: $3577.0",
          "Item: Trench Coat<br>Sales: $272.0",
          "Item: Trench Coat<br>Sales: $461.0",
          "Item: Trench Coat<br>Sales: $90.0"
         ],
         "type": "scatter",
         "x": [
          "2022-10-01T00:00:00",
          "2022-11-01T00:00:00",
          "2022-12-01T00:00:00",
          "2023-01-01T00:00:00",
          "2023-02-01T00:00:00",
          "2023-03-01T00:00:00",
          "2023-04-01T00:00:00",
          "2023-05-01T00:00:00",
          "2023-06-01T00:00:00",
          "2023-07-01T00:00:00",
          "2023-08-01T00:00:00",
          "2023-09-01T00:00:00"
         ],
         "y": [
          509,
          242,
          277,
          2553,
          397,
          742,
          529,
          343,
          3577,
          272,
          461,
          90
         ]
        },
        {
         "hoverinfo": "text",
         "line": {
          "width": 2
         },
         "mode": "lines+markers",
         "name": "Trousers",
         "opacity": 0.6,
         "text": [
          "Item: Trousers<br>Sales: $681.0",
          "Item: Trousers<br>Sales: $2696.0",
          "Item: Trousers<br>Sales: $440.0",
          "Item: Trousers<br>Sales: $534.0",
          "Item: Trousers<br>Sales: $152.0",
          "Item: Trousers<br>Sales: $161.0",
          "Item: Trousers<br>Sales: $297.0",
          "Item: Trousers<br>Sales: $271.0",
          "Item: Trousers<br>Sales: $247.0",
          "Item: Trousers<br>Sales: $277.0",
          "Item: Trousers<br>Sales: $702.0"
         ],
         "type": "scatter",
         "x": [
          "2022-10-01T00:00:00",
          "2022-11-01T00:00:00",
          "2022-12-01T00:00:00",
          "2023-01-01T00:00:00",
          "2023-02-01T00:00:00",
          "2023-03-01T00:00:00",
          "2023-05-01T00:00:00",
          "2023-06-01T00:00:00",
          "2023-07-01T00:00:00",
          "2023-08-01T00:00:00",
          "2023-09-01T00:00:00"
         ],
         "y": [
          681,
          2696,
          440,
          534,
          152,
          161,
          297,
          271,
          247,
          277,
          702
         ]
        },
        {
         "hoverinfo": "text",
         "line": {
          "width": 2
         },
         "mode": "lines+markers",
         "name": "Tunic",
         "opacity": 0.6,
         "text": [
          "Item: Tunic<br>Sales: $475.0",
          "Item: Tunic<br>Sales: $590.0",
          "Item: Tunic<br>Sales: $4826.0",
          "Item: Tunic<br>Sales: $893.0",
          "Item: Tunic<br>Sales: $718.0",
          "Item: Tunic<br>Sales: $325.0",
          "Item: Tunic<br>Sales: $5092.0",
          "Item: Tunic<br>Sales: $325.0",
          "Item: Tunic<br>Sales: $221.0",
          "Item: Tunic<br>Sales: $2731.0",
          "Item: Tunic<br>Sales: $819.0",
          "Item: Tunic<br>Sales: $260.0"
         ],
         "type": "scatter",
         "x": [
          "2022-10-01T00:00:00",
          "2022-11-01T00:00:00",
          "2022-12-01T00:00:00",
          "2023-01-01T00:00:00",
          "2023-02-01T00:00:00",
          "2023-03-01T00:00:00",
          "2023-04-01T00:00:00",
          "2023-05-01T00:00:00",
          "2023-06-01T00:00:00",
          "2023-07-01T00:00:00",
          "2023-08-01T00:00:00",
          "2023-09-01T00:00:00"
         ],
         "y": [
          475,
          590,
          4826,
          893,
          718,
          325,
          5092,
          325,
          221,
          2731,
          819,
          260
         ]
        },
        {
         "hoverinfo": "text",
         "line": {
          "width": 2
         },
         "mode": "lines+markers",
         "name": "Vest",
         "opacity": 0.6,
         "text": [
          "Item: Vest<br>Sales: $520.0",
          "Item: Vest<br>Sales: $121.0",
          "Item: Vest<br>Sales: $559.0",
          "Item: Vest<br>Sales: $521.0",
          "Item: Vest<br>Sales: $1060.0",
          "Item: Vest<br>Sales: $440.0",
          "Item: Vest<br>Sales: $162.0",
          "Item: Vest<br>Sales: $533.0",
          "Item: Vest<br>Sales: $569.0",
          "Item: Vest<br>Sales: $433.0",
          "Item: Vest<br>Sales: $466.0",
          "Item: Vest<br>Sales: $684.0",
          "Item: Vest<br>Sales: $122.0"
         ],
         "type": "scatter",
         "x": [
          "2022-10-01T00:00:00",
          "2022-11-01T00:00:00",
          "2022-12-01T00:00:00",
          "2023-01-01T00:00:00",
          "2023-02-01T00:00:00",
          "2023-03-01T00:00:00",
          "2023-04-01T00:00:00",
          "2023-05-01T00:00:00",
          "2023-06-01T00:00:00",
          "2023-07-01T00:00:00",
          "2023-08-01T00:00:00",
          "2023-09-01T00:00:00",
          "2023-10-01T00:00:00"
         ],
         "y": [
          520,
          121,
          559,
          521,
          1060,
          440,
          162,
          533,
          569,
          433,
          466,
          684,
          122
         ]
        }
       ],
       "layout": {
        "autosize": true,
        "hovermode": "x unified",
        "template": {
         "data": {
          "bar": [
           {
            "error_x": {
             "color": "#2a3f5f"
            },
            "error_y": {
             "color": "#2a3f5f"
            },
            "marker": {
             "line": {
              "color": "white",
              "width": 0.5
             },
             "pattern": {
              "fillmode": "overlay",
              "size": 10,
              "solidity": 0.2
             }
            },
            "type": "bar"
           }
          ],
          "barpolar": [
           {
            "marker": {
             "line": {
              "color": "white",
              "width": 0.5
             },
             "pattern": {
              "fillmode": "overlay",
              "size": 10,
              "solidity": 0.2
             }
            },
            "type": "barpolar"
           }
          ],
          "carpet": [
           {
            "aaxis": {
             "endlinecolor": "#2a3f5f",
             "gridcolor": "#C8D4E3",
             "linecolor": "#C8D4E3",
             "minorgridcolor": "#C8D4E3",
             "startlinecolor": "#2a3f5f"
            },
            "baxis": {
             "endlinecolor": "#2a3f5f",
             "gridcolor": "#C8D4E3",
             "linecolor": "#C8D4E3",
             "minorgridcolor": "#C8D4E3",
             "startlinecolor": "#2a3f5f"
            },
            "type": "carpet"
           }
          ],
          "choropleth": [
           {
            "colorbar": {
             "outlinewidth": 0,
             "ticks": ""
            },
            "type": "choropleth"
           }
          ],
          "contour": [
           {
            "colorbar": {
             "outlinewidth": 0,
             "ticks": ""
            },
            "colorscale": [
             [
              0,
              "#0d0887"
             ],
             [
              0.1111111111111111,
              "#46039f"
             ],
             [
              0.2222222222222222,
              "#7201a8"
             ],
             [
              0.3333333333333333,
              "#9c179e"
             ],
             [
              0.4444444444444444,
              "#bd3786"
             ],
             [
              0.5555555555555556,
              "#d8576b"
             ],
             [
              0.6666666666666666,
              "#ed7953"
             ],
             [
              0.7777777777777778,
              "#fb9f3a"
             ],
             [
              0.8888888888888888,
              "#fdca26"
             ],
             [
              1,
              "#f0f921"
             ]
            ],
            "type": "contour"
           }
          ],
          "contourcarpet": [
           {
            "colorbar": {
             "outlinewidth": 0,
             "ticks": ""
            },
            "type": "contourcarpet"
           }
          ],
          "heatmap": [
           {
            "colorbar": {
             "outlinewidth": 0,
             "ticks": ""
            },
            "colorscale": [
             [
              0,
              "#0d0887"
             ],
             [
              0.1111111111111111,
              "#46039f"
             ],
             [
              0.2222222222222222,
              "#7201a8"
             ],
             [
              0.3333333333333333,
              "#9c179e"
             ],
             [
              0.4444444444444444,
              "#bd3786"
             ],
             [
              0.5555555555555556,
              "#d8576b"
             ],
             [
              0.6666666666666666,
              "#ed7953"
             ],
             [
              0.7777777777777778,
              "#fb9f3a"
             ],
             [
              0.8888888888888888,
              "#fdca26"
             ],
             [
              1,
              "#f0f921"
             ]
            ],
            "type": "heatmap"
           }
          ],
          "heatmapgl": [
           {
            "colorbar": {
             "outlinewidth": 0,
             "ticks": ""
            },
            "colorscale": [
             [
              0,
              "#0d0887"
             ],
             [
              0.1111111111111111,
              "#46039f"
             ],
             [
              0.2222222222222222,
              "#7201a8"
             ],
             [
              0.3333333333333333,
              "#9c179e"
             ],
             [
              0.4444444444444444,
              "#bd3786"
             ],
             [
              0.5555555555555556,
              "#d8576b"
             ],
             [
              0.6666666666666666,
              "#ed7953"
             ],
             [
              0.7777777777777778,
              "#fb9f3a"
             ],
             [
              0.8888888888888888,
              "#fdca26"
             ],
             [
              1,
              "#f0f921"
             ]
            ],
            "type": "heatmapgl"
           }
          ],
          "histogram": [
           {
            "marker": {
             "pattern": {
              "fillmode": "overlay",
              "size": 10,
              "solidity": 0.2
             }
            },
            "type": "histogram"
           }
          ],
          "histogram2d": [
           {
            "colorbar": {
             "outlinewidth": 0,
             "ticks": ""
            },
            "colorscale": [
             [
              0,
              "#0d0887"
             ],
             [
              0.1111111111111111,
              "#46039f"
             ],
             [
              0.2222222222222222,
              "#7201a8"
             ],
             [
              0.3333333333333333,
              "#9c179e"
             ],
             [
              0.4444444444444444,
              "#bd3786"
             ],
             [
              0.5555555555555556,
              "#d8576b"
             ],
             [
              0.6666666666666666,
              "#ed7953"
             ],
             [
              0.7777777777777778,
              "#fb9f3a"
             ],
             [
              0.8888888888888888,
              "#fdca26"
             ],
             [
              1,
              "#f0f921"
             ]
            ],
            "type": "histogram2d"
           }
          ],
          "histogram2dcontour": [
           {
            "colorbar": {
             "outlinewidth": 0,
             "ticks": ""
            },
            "colorscale": [
             [
              0,
              "#0d0887"
             ],
             [
              0.1111111111111111,
              "#46039f"
             ],
             [
              0.2222222222222222,
              "#7201a8"
             ],
             [
              0.3333333333333333,
              "#9c179e"
             ],
             [
              0.4444444444444444,
              "#bd3786"
             ],
             [
              0.5555555555555556,
              "#d8576b"
             ],
             [
              0.6666666666666666,
              "#ed7953"
             ],
             [
              0.7777777777777778,
              "#fb9f3a"
             ],
             [
              0.8888888888888888,
              "#fdca26"
             ],
             [
              1,
              "#f0f921"
             ]
            ],
            "type": "histogram2dcontour"
           }
          ],
          "mesh3d": [
           {
            "colorbar": {
             "outlinewidth": 0,
             "ticks": ""
            },
            "type": "mesh3d"
           }
          ],
          "parcoords": [
           {
            "line": {
             "colorbar": {
              "outlinewidth": 0,
              "ticks": ""
             }
            },
            "type": "parcoords"
           }
          ],
          "pie": [
           {
            "automargin": true,
            "type": "pie"
           }
          ],
          "scatter": [
           {
            "fillpattern": {
             "fillmode": "overlay",
             "size": 10,
             "solidity": 0.2
            },
            "type": "scatter"
           }
          ],
          "scatter3d": [
           {
            "line": {
             "colorbar": {
              "outlinewidth": 0,
              "ticks": ""
             }
            },
            "marker": {
             "colorbar": {
              "outlinewidth": 0,
              "ticks": ""
             }
            },
            "type": "scatter3d"
           }
          ],
          "scattercarpet": [
           {
            "marker": {
             "colorbar": {
              "outlinewidth": 0,
              "ticks": ""
             }
            },
            "type": "scattercarpet"
           }
          ],
          "scattergeo": [
           {
            "marker": {
             "colorbar": {
              "outlinewidth": 0,
              "ticks": ""
             }
            },
            "type": "scattergeo"
           }
          ],
          "scattergl": [
           {
            "marker": {
             "colorbar": {
              "outlinewidth": 0,
              "ticks": ""
             }
            },
            "type": "scattergl"
           }
          ],
          "scattermapbox": [
           {
            "marker": {
             "colorbar": {
              "outlinewidth": 0,
              "ticks": ""
             }
            },
            "type": "scattermapbox"
           }
          ],
          "scatterpolar": [
           {
            "marker": {
             "colorbar": {
              "outlinewidth": 0,
              "ticks": ""
             }
            },
            "type": "scatterpolar"
           }
          ],
          "scatterpolargl": [
           {
            "marker": {
             "colorbar": {
              "outlinewidth": 0,
              "ticks": ""
             }
            },
            "type": "scatterpolargl"
           }
          ],
          "scatterternary": [
           {
            "marker": {
             "colorbar": {
              "outlinewidth": 0,
              "ticks": ""
             }
            },
            "type": "scatterternary"
           }
          ],
          "surface": [
           {
            "colorbar": {
             "outlinewidth": 0,
             "ticks": ""
            },
            "colorscale": [
             [
              0,
              "#0d0887"
             ],
             [
              0.1111111111111111,
              "#46039f"
             ],
             [
              0.2222222222222222,
              "#7201a8"
             ],
             [
              0.3333333333333333,
              "#9c179e"
             ],
             [
              0.4444444444444444,
              "#bd3786"
             ],
             [
              0.5555555555555556,
              "#d8576b"
             ],
             [
              0.6666666666666666,
              "#ed7953"
             ],
             [
              0.7777777777777778,
              "#fb9f3a"
             ],
             [
              0.8888888888888888,
              "#fdca26"
             ],
             [
              1,
              "#f0f921"
             ]
            ],
            "type": "surface"
           }
          ],
          "table": [
           {
            "cells": {
             "fill": {
              "color": "#EBF0F8"
             },
             "line": {
              "color": "white"
             }
            },
            "header": {
             "fill": {
              "color": "#C8D4E3"
             },
             "line": {
              "color": "white"
             }
            },
            "type": "table"
           }
          ]
         },
         "layout": {
          "annotationdefaults": {
           "arrowcolor": "#2a3f5f",
           "arrowhead": 0,
           "arrowwidth": 1
          },
          "autotypenumbers": "strict",
          "coloraxis": {
           "colorbar": {
            "outlinewidth": 0,
            "ticks": ""
           }
          },
          "colorscale": {
           "diverging": [
            [
             0,
             "#8e0152"
            ],
            [
             0.1,
             "#c51b7d"
            ],
            [
             0.2,
             "#de77ae"
            ],
            [
             0.3,
             "#f1b6da"
            ],
            [
             0.4,
             "#fde0ef"
            ],
            [
             0.5,
             "#f7f7f7"
            ],
            [
             0.6,
             "#e6f5d0"
            ],
            [
             0.7,
             "#b8e186"
            ],
            [
             0.8,
             "#7fbc41"
            ],
            [
             0.9,
             "#4d9221"
            ],
            [
             1,
             "#276419"
            ]
           ],
           "sequential": [
            [
             0,
             "#0d0887"
            ],
            [
             0.1111111111111111,
             "#46039f"
            ],
            [
             0.2222222222222222,
             "#7201a8"
            ],
            [
             0.3333333333333333,
             "#9c179e"
            ],
            [
             0.4444444444444444,
             "#bd3786"
            ],
            [
             0.5555555555555556,
             "#d8576b"
            ],
            [
             0.6666666666666666,
             "#ed7953"
            ],
            [
             0.7777777777777778,
             "#fb9f3a"
            ],
            [
             0.8888888888888888,
             "#fdca26"
            ],
            [
             1,
             "#f0f921"
            ]
           ],
           "sequentialminus": [
            [
             0,
             "#0d0887"
            ],
            [
             0.1111111111111111,
             "#46039f"
            ],
            [
             0.2222222222222222,
             "#7201a8"
            ],
            [
             0.3333333333333333,
             "#9c179e"
            ],
            [
             0.4444444444444444,
             "#bd3786"
            ],
            [
             0.5555555555555556,
             "#d8576b"
            ],
            [
             0.6666666666666666,
             "#ed7953"
            ],
            [
             0.7777777777777778,
             "#fb9f3a"
            ],
            [
             0.8888888888888888,
             "#fdca26"
            ],
            [
             1,
             "#f0f921"
            ]
           ]
          },
          "colorway": [
           "#636efa",
           "#EF553B",
           "#00cc96",
           "#ab63fa",
           "#FFA15A",
           "#19d3f3",
           "#FF6692",
           "#B6E880",
           "#FF97FF",
           "#FECB52"
          ],
          "font": {
           "color": "#2a3f5f"
          },
          "geo": {
           "bgcolor": "white",
           "lakecolor": "white",
           "landcolor": "white",
           "showlakes": true,
           "showland": true,
           "subunitcolor": "#C8D4E3"
          },
          "hoverlabel": {
           "align": "left"
          },
          "hovermode": "closest",
          "mapbox": {
           "style": "light"
          },
          "paper_bgcolor": "white",
          "plot_bgcolor": "white",
          "polar": {
           "angularaxis": {
            "gridcolor": "#EBF0F8",
            "linecolor": "#EBF0F8",
            "ticks": ""
           },
           "bgcolor": "white",
           "radialaxis": {
            "gridcolor": "#EBF0F8",
            "linecolor": "#EBF0F8",
            "ticks": ""
           }
          },
          "scene": {
           "xaxis": {
            "backgroundcolor": "white",
            "gridcolor": "#DFE8F3",
            "gridwidth": 2,
            "linecolor": "#EBF0F8",
            "showbackground": true,
            "ticks": "",
            "zerolinecolor": "#EBF0F8"
           },
           "yaxis": {
            "backgroundcolor": "white",
            "gridcolor": "#DFE8F3",
            "gridwidth": 2,
            "linecolor": "#EBF0F8",
            "showbackground": true,
            "ticks": "",
            "zerolinecolor": "#EBF0F8"
           },
           "zaxis": {
            "backgroundcolor": "white",
            "gridcolor": "#DFE8F3",
            "gridwidth": 2,
            "linecolor": "#EBF0F8",
            "showbackground": true,
            "ticks": "",
            "zerolinecolor": "#EBF0F8"
           }
          },
          "shapedefaults": {
           "line": {
            "color": "#2a3f5f"
           }
          },
          "ternary": {
           "aaxis": {
            "gridcolor": "#DFE8F3",
            "linecolor": "#A2B1C6",
            "ticks": ""
           },
           "baxis": {
            "gridcolor": "#DFE8F3",
            "linecolor": "#A2B1C6",
            "ticks": ""
           },
           "bgcolor": "white",
           "caxis": {
            "gridcolor": "#DFE8F3",
            "linecolor": "#A2B1C6",
            "ticks": ""
           }
          },
          "title": {
           "x": 0.05
          },
          "xaxis": {
           "automargin": true,
           "gridcolor": "#EBF0F8",
           "linecolor": "#EBF0F8",
           "ticks": "",
           "title": {
            "standoff": 15
           },
           "zerolinecolor": "#EBF0F8",
           "zerolinewidth": 2
          },
          "yaxis": {
           "automargin": true,
           "gridcolor": "#EBF0F8",
           "linecolor": "#EBF0F8",
           "ticks": "",
           "title": {
            "standoff": 15
           },
           "zerolinecolor": "#EBF0F8",
           "zerolinewidth": 2
          }
         }
        },
        "title": {
         "text": "Total Sales Over Time by Item"
        },
        "xaxis": {
         "autorange": true,
         "range": [
          "2022-09-08 18:22:33.2999",
          "2023-10-23 05:37:26.7001"
         ],
         "title": {
          "text": "Month"
         },
         "type": "date"
        },
        "yaxis": {
         "autorange": true,
         "range": [
          -379.9438502673797,
          6002.943850267379
         ],
         "title": {
          "text": "Total Sales (USD)"
         },
         "type": "linear"
        }
       }
      },
      "image/png": "[encoded data removed]",
      "text/html": [
       "<div>                            <div id=\"52e58a26-3d5a-472c-bb76-992dbd663bb4\" class=\"plotly-graph-div\" style=\"height:500px; width:100%;\"></div>            <script type=\"text/javascript\">                require([\"plotly\"], function(Plotly) {                    window.PLOTLYENV=window.PLOTLYENV || {};                                    if (document.getElementById(\"52e58a26-3d5a-472c-bb76-992dbd663bb4\")) {                    Plotly.newPlot(                        \"52e58a26-3d5a-472c-bb76-992dbd663bb4\",                        [{\"hoverinfo\":\"text\",\"line\":{\"width\":2},\"mode\":\"lines+markers\",\"name\":\"Blazer\",\"opacity\":0.6,\"text\":[\"Item: Blazer\\u003cbr\\u003eSales: $5246.0\",\"Item: Blazer\\u003cbr\\u003eSales: $599.0\",\"Item: Blazer\\u003cbr\\u003eSales: $378.0\",\"Item: Blazer\\u003cbr\\u003eSales: $549.0\",\"Item: Blazer\\u003cbr\\u003eSales: $14.0\",\"Item: Blazer\\u003cbr\\u003eSales: $358.0\",\"Item: Blazer\\u003cbr\\u003eSales: $304.0\",\"Item: Blazer\\u003cbr\\u003eSales: $817.0\",\"Item: Blazer\\u003cbr\\u003eSales: $701.0\",\"Item: Blazer\\u003cbr\\u003eSales: $727.0\",\"Item: Blazer\\u003cbr\\u003eSales: $292.0\"],\"x\":[\"2022-10-01T00:00:00\",\"2022-11-01T00:00:00\",\"2022-12-01T00:00:00\",\"2023-01-01T00:00:00\",\"2023-02-01T00:00:00\",\"2023-03-01T00:00:00\",\"2023-04-01T00:00:00\",\"2023-05-01T00:00:00\",\"2023-06-01T00:00:00\",\"2023-08-01T00:00:00\",\"2023-09-01T00:00:00\"],\"y\":[5246.0,599.0,378.0,549.0,14.0,358.0,304.0,817.0,701.0,727.0,292.0],\"type\":\"scatter\"},{\"hoverinfo\":\"text\",\"line\":{\"width\":2},\"mode\":\"lines+markers\",\"name\":\"Blouse\",\"opacity\":0.6,\"text\":[\"Item: Blouse\\u003cbr\\u003eSales: $548.0\",\"Item: Blouse\\u003cbr\\u003eSales: $166.0\",\"Item: Blouse\\u003cbr\\u003eSales: $1384.0\",\"Item: Blouse\\u003cbr\\u003eSales: $614.0\",\"Item: Blouse\\u003cbr\\u003eSales: $229.0\",\"Item: Blouse\\u003cbr\\u003eSales: $4202.0\",\"Item: Blouse\\u003cbr\\u003eSales: $740.0\",\"Item: Blouse\\u003cbr\\u003eSales: $884.0\",\"Item: Blouse\\u003cbr\\u003eSales: $58.0\",\"Item: Blouse\\u003cbr\\u003eSales: $306.0\",\"Item: Blouse\\u003cbr\\u003eSales: $1133.0\",\"Item: Blouse\\u003cbr\\u003eSales: $208.0\"],\"x\":[\"2022-10-01T00:00:00\",\"2022-11-01T00:00:00\",\"2022-12-01T00:00:00\",\"2023-01-01T00:00:00\",\"2023-02-01T00:00:00\",\"2023-03-01T00:00:00\",\"2023-04-01T00:00:00\",\"2023-05-01T00:00:00\",\"2023-06-01T00:00:00\",\"2023-07-01T00:00:00\",\"2023-08-01T00:00:00\",\"2023-09-01T00:00:00\"],\"y\":[548.0,166.0,1384.0,614.0,229.0,4202.0,740.0,884.0,58.0,306.0,1133.0,208.0],\"type\":\"scatter\"},{\"hoverinfo\":\"text\",\"line\":{\"width\":2},\"mode\":\"lines+markers\",\"name\":\"Camisole\",\"opacity\":0.6,\"text\":[\"Item: Camisole\\u003cbr\\u003eSales: $302.0\",\"Item: Camisole\\u003cbr\\u003eSales: $553.0\",\"Item: Camisole\\u003cbr\\u003eSales: $145.0\",\"Item: Camisole\\u003cbr\\u003eSales: $775.0\",\"Item: Camisole\\u003cbr\\u003eSales: $403.0\",\"Item: Camisole\\u003cbr\\u003eSales: $695.0\",\"Item: Camisole\\u003cbr\\u003eSales: $485.0\",\"Item: Camisole\\u003cbr\\u003eSales: $585.0\",\"Item: Camisole\\u003cbr\\u003eSales: $749.0\",\"Item: Camisole\\u003cbr\\u003eSales: $735.0\",\"Item: Camisole\\u003cbr\\u003eSales: $380.0\",\"Item: Camisole\\u003cbr\\u003eSales: $283.0\",\"Item: Camisole\\u003cbr\\u003eSales: $46.0\"],\"x\":[\"2022-10-01T00:00:00\",\"2022-11-01T00:00:00\",\"2022-12-01T00:00:00\",\"2023-01-01T00:00:00\",\"2023-02-01T00:00:00\",\"2023-03-01T00:00:00\",\"2023-04-01T00:00:00\",\"2023-05-01T00:00:00\",\"2023-06-01T00:00:00\",\"2023-07-01T00:00:00\",\"2023-08-01T00:00:00\",\"2023-09-01T00:00:00\",\"2023-10-01T00:00:00\"],\"y\":[302.0,553.0,145.0,775.0,403.0,695.0,485.0,585.0,749.0,735.0,380.0,283.0,46.0],\"type\":\"scatter\"},{\"hoverinfo\":\"text\",\"line\":{\"width\":2},\"mode\":\"lines+markers\",\"name\":\"Cardigan\",\"opacity\":0.6,\"text\":[\"Item: Cardigan\\u003cbr\\u003eSales: $413.0\",\"Item: Cardigan\\u003cbr\\u003eSales: $270.0\",\"Item: Cardigan\\u003cbr\\u003eSales: $387.0\",\"Item: Cardigan\\u003cbr\\u003eSales: $741.0\",\"Item: Cardigan\\u003cbr\\u003eSales: $562.0\",\"Item: Cardigan\\u003cbr\\u003eSales: $566.0\",\"Item: Cardigan\\u003cbr\\u003eSales: $3005.0\",\"Item: Cardigan\\u003cbr\\u003eSales: $704.0\",\"Item: Cardigan\\u003cbr\\u003eSales: $731.0\",\"Item: Cardigan\\u003cbr\\u003eSales: $722.0\",\"Item: Cardigan\\u003cbr\\u003eSales: $278.0\",\"Item: Cardigan\\u003cbr\\u003eSales: $891.0\"],\"x\":[\"2022-10-01T00:00:00\",\"2022-11-01T00:00:00\",\"2022-12-01T00:00:00\",\"2023-01-01T00:00:00\",\"2023-02-01T00:00:00\",\"2023-03-01T00:00:00\",\"2023-04-01T00:00:00\",\"2023-05-01T00:00:00\",\"2023-06-01T00:00:00\",\"2023-07-01T00:00:00\",\"2023-08-01T00:00:00\",\"2023-09-01T00:00:00\"],\"y\":[413.0,270.0,387.0,741.0,562.0,566.0,3005.0,704.0,731.0,722.0,278.0,891.0],\"type\":\"scatter\"},{\"hoverinfo\":\"text\",\"line\":{\"width\":2},\"mode\":\"lines+markers\",\"name\":\"Coat\",\"opacity\":0.6,\"text\":[\"Item: Coat\\u003cbr\\u003eSales: $262.0\",\"Item: Coat\\u003cbr\\u003eSales: $154.0\",\"Item: Coat\\u003cbr\\u003eSales: $486.0\",\"Item: Coat\\u003cbr\\u003eSales: $515.0\",\"Item: Coat\\u003cbr\\u003eSales: $627.0\",\"Item: Coat\\u003cbr\\u003eSales: $24.0\",\"Item: Coat\\u003cbr\\u003eSales: $528.0\",\"Item: Coat\\u003cbr\\u003eSales: $364.0\",\"Item: Coat\\u003cbr\\u003eSales: $744.0\",\"Item: Coat\\u003cbr\\u003eSales: $678.0\",\"Item: Coat\\u003cbr\\u003eSales: $501.0\",\"Item: Coat\\u003cbr\\u003eSales: $671.0\"],\"x\":[\"2022-10-01T00:00:00\",\"2022-11-01T00:00:00\",\"2022-12-01T00:00:00\",\"2023-01-01T00:00:00\",\"2023-02-01T00:00:00\",\"2023-03-01T00:00:00\",\"2023-04-01T00:00:00\",\"2023-05-01T00:00:00\",\"2023-06-01T00:00:00\",\"2023-07-01T00:00:00\",\"2023-08-01T00:00:00\",\"2023-09-01T00:00:00\"],\"y\":[262.0,154.0,486.0,515.0,627.0,24.0,528.0,364.0,744.0,678.0,501.0,671.0],\"type\":\"scatter\"},{\"hoverinfo\":\"text\",\"line\":{\"width\":2},\"mode\":\"lines+markers\",\"name\":\"Dress\",\"opacity\":0.6,\"text\":[\"Item: Dress\\u003cbr\\u003eSales: $438.0\",\"Item: Dress\\u003cbr\\u003eSales: $98.0\",\"Item: Dress\\u003cbr\\u003eSales: $335.0\",\"Item: Dress\\u003cbr\\u003eSales: $484.0\",\"Item: Dress\\u003cbr\\u003eSales: $346.0\",\"Item: Dress\\u003cbr\\u003eSales: $301.0\",\"Item: Dress\\u003cbr\\u003eSales: $1167.0\",\"Item: Dress\\u003cbr\\u003eSales: $156.0\",\"Item: Dress\\u003cbr\\u003eSales: $298.0\",\"Item: Dress\\u003cbr\\u003eSales: $159.0\",\"Item: Dress\\u003cbr\\u003eSales: $325.0\"],\"x\":[\"2022-10-01T00:00:00\",\"2022-11-01T00:00:00\",\"2022-12-01T00:00:00\",\"2023-01-01T00:00:00\",\"2023-02-01T00:00:00\",\"2023-03-01T00:00:00\",\"2023-04-01T00:00:00\",\"2023-05-01T00:00:00\",\"2023-07-01T00:00:00\",\"2023-08-01T00:00:00\",\"2023-09-01T00:00:00\"],\"y\":[438.0,98.0,335.0,484.0,346.0,301.0,1167.0,156.0,298.0,159.0,325.0],\"type\":\"scatter\"},{\"hoverinfo\":\"text\",\"line\":{\"width\":2},\"mode\":\"lines+markers\",\"name\":\"Flannel Shirt\",\"opacity\":0.6,\"text\":[\"Item: Flannel Shirt\\u003cbr\\u003eSales: $457.0\",\"Item: Flannel Shirt\\u003cbr\\u003eSales: $458.0\",\"Item: Flannel Shirt\\u003cbr\\u003eSales: $707.0\",\"Item: Flannel Shirt\\u003cbr\\u003eSales: $183.0\",\"Item: Flannel Shirt\\u003cbr\\u003eSales: $405.0\",\"Item: Flannel Shirt\\u003cbr\\u003eSales: $1196.0\",\"Item: Flannel Shirt\\u003cbr\\u003eSales: $343.0\",\"Item: Flannel Shirt\\u003cbr\\u003eSales: $244.0\",\"Item: Flannel Shirt\\u003cbr\\u003eSales: $109.0\",\"Item: Flannel Shirt\\u003cbr\\u003eSales: $497.0\",\"Item: Flannel Shirt\\u003cbr\\u003eSales: $394.0\",\"Item: Flannel Shirt\\u003cbr\\u003eSales: $433.0\"],\"x\":[\"2022-10-01T00:00:00\",\"2022-11-01T00:00:00\",\"2022-12-01T00:00:00\",\"2023-01-01T00:00:00\",\"2023-02-01T00:00:00\",\"2023-03-01T00:00:00\",\"2023-04-01T00:00:00\",\"2023-05-01T00:00:00\",\"2023-06-01T00:00:00\",\"2023-07-01T00:00:00\",\"2023-08-01T00:00:00\",\"2023-09-01T00:00:00\"],\"y\":[457.0,458.0,707.0,183.0,405.0,1196.0,343.0,244.0,109.0,497.0,394.0,433.0],\"type\":\"scatter\"},{\"hoverinfo\":\"text\",\"line\":{\"width\":2},\"mode\":\"lines+markers\",\"name\":\"Hoodie\",\"opacity\":0.6,\"text\":[\"Item: Hoodie\\u003cbr\\u003eSales: $3255.0\",\"Item: Hoodie\\u003cbr\\u003eSales: $588.0\",\"Item: Hoodie\\u003cbr\\u003eSales: $482.0\",\"Item: Hoodie\\u003cbr\\u003eSales: $887.0\",\"Item: Hoodie\\u003cbr\\u003eSales: $119.0\",\"Item: Hoodie\\u003cbr\\u003eSales: $562.0\",\"Item: Hoodie\\u003cbr\\u003eSales: $94.0\",\"Item: Hoodie\\u003cbr\\u003eSales: $791.0\",\"Item: Hoodie\\u003cbr\\u003eSales: $708.0\",\"Item: Hoodie\\u003cbr\\u003eSales: $544.0\",\"Item: Hoodie\\u003cbr\\u003eSales: $1186.0\",\"Item: Hoodie\\u003cbr\\u003eSales: $363.0\"],\"x\":[\"2022-10-01T00:00:00\",\"2022-11-01T00:00:00\",\"2022-12-01T00:00:00\",\"2023-01-01T00:00:00\",\"2023-02-01T00:00:00\",\"2023-03-01T00:00:00\",\"2023-04-01T00:00:00\",\"2023-05-01T00:00:00\",\"2023-06-01T00:00:00\",\"2023-07-01T00:00:00\",\"2023-08-01T00:00:00\",\"2023-09-01T00:00:00\"],\"y\":[3255.0,588.0,482.0,887.0,119.0,562.0,94.0,791.0,708.0,544.0,1186.0,363.0],\"type\":\"scatter\"},{\"hoverinfo\":\"text\",\"line\":{\"width\":2},\"mode\":\"lines+markers\",\"name\":\"Jacket\",\"opacity\":0.6,\"text\":[\"Item: Jacket\\u003cbr\\u003eSales: $499.0\",\"Item: Jacket\\u003cbr\\u003eSales: $152.0\",\"Item: Jacket\\u003cbr\\u003eSales: $583.0\",\"Item: Jacket\\u003cbr\\u003eSales: $243.0\",\"Item: Jacket\\u003cbr\\u003eSales: $185.0\",\"Item: Jacket\\u003cbr\\u003eSales: $747.0\",\"Item: Jacket\\u003cbr\\u003eSales: $336.0\",\"Item: Jacket\\u003cbr\\u003eSales: $1323.0\",\"Item: Jacket\\u003cbr\\u003eSales: $3117.0\",\"Item: Jacket\\u003cbr\\u003eSales: $528.0\",\"Item: Jacket\\u003cbr\\u003eSales: $186.0\"],\"x\":[\"2022-10-01T00:00:00\",\"2022-11-01T00:00:00\",\"2022-12-01T00:00:00\",\"2023-01-01T00:00:00\",\"2023-02-01T00:00:00\",\"2023-03-01T00:00:00\",\"2023-04-01T00:00:00\",\"2023-05-01T00:00:00\",\"2023-07-01T00:00:00\",\"2023-08-01T00:00:00\",\"2023-09-01T00:00:00\"],\"y\":[499.0,152.0,583.0,243.0,185.0,747.0,336.0,1323.0,3117.0,528.0,186.0],\"type\":\"scatter\"},{\"hoverinfo\":\"text\",\"line\":{\"width\":2},\"mode\":\"lines+markers\",\"name\":\"Jeans\",\"opacity\":0.6,\"text\":[\"Item: Jeans\\u003cbr\\u003eSales: $72.0\",\"Item: Jeans\\u003cbr\\u003eSales: $449.0\",\"Item: Jeans\\u003cbr\\u003eSales: $218.0\",\"Item: Jeans\\u003cbr\\u003eSales: $476.0\",\"Item: Jeans\\u003cbr\\u003eSales: $3283.0\",\"Item: Jeans\\u003cbr\\u003eSales: $226.0\",\"Item: Jeans\\u003cbr\\u003eSales: $482.0\",\"Item: Jeans\\u003cbr\\u003eSales: $5609.0\",\"Item: Jeans\\u003cbr\\u003eSales: $265.0\",\"Item: Jeans\\u003cbr\\u003eSales: $981.0\",\"Item: Jeans\\u003cbr\\u003eSales: $363.0\",\"Item: Jeans\\u003cbr\\u003eSales: $644.0\"],\"x\":[\"2022-10-01T00:00:00\",\"2022-11-01T00:00:00\",\"2022-12-01T00:00:00\",\"2023-01-01T00:00:00\",\"2023-02-01T00:00:00\",\"2023-03-01T00:00:00\",\"2023-04-01T00:00:00\",\"2023-05-01T00:00:00\",\"2023-06-01T00:00:00\",\"2023-07-01T00:00:00\",\"2023-08-01T00:00:00\",\"2023-09-01T00:00:00\"],\"y\":[72.0,449.0,218.0,476.0,3283.0,226.0,482.0,5609.0,265.0,981.0,363.0,644.0],\"type\":\"scatter\"},{\"hoverinfo\":\"text\",\"line\":{\"width\":2},\"mode\":\"lines+markers\",\"name\":\"Jumpsuit\",\"opacity\":0.6,\"text\":[\"Item: Jumpsuit\\u003cbr\\u003eSales: $709.0\",\"Item: Jumpsuit\\u003cbr\\u003eSales: $776.0\",\"Item: Jumpsuit\\u003cbr\\u003eSales: $578.0\",\"Item: Jumpsuit\\u003cbr\\u003eSales: $455.0\",\"Item: Jumpsuit\\u003cbr\\u003eSales: $154.0\",\"Item: Jumpsuit\\u003cbr\\u003eSales: $367.0\",\"Item: Jumpsuit\\u003cbr\\u003eSales: $443.0\",\"Item: Jumpsuit\\u003cbr\\u003eSales: $320.0\",\"Item: Jumpsuit\\u003cbr\\u003eSales: $1009.0\",\"Item: Jumpsuit\\u003cbr\\u003eSales: $144.0\",\"Item: Jumpsuit\\u003cbr\\u003eSales: $133.0\",\"Item: Jumpsuit\\u003cbr\\u003eSales: $166.0\"],\"x\":[\"2022-10-01T00:00:00\",\"2022-11-01T00:00:00\",\"2022-12-01T00:00:00\",\"2023-01-01T00:00:00\",\"2023-02-01T00:00:00\",\"2023-03-01T00:00:00\",\"2023-04-01T00:00:00\",\"2023-05-01T00:00:00\",\"2023-06-01T00:00:00\",\"2023-07-01T00:00:00\",\"2023-08-01T00:00:00\",\"2023-09-01T00:00:00\"],\"y\":[709.0,776.0,578.0,455.0,154.0,367.0,443.0,320.0,1009.0,144.0,133.0,166.0],\"type\":\"scatter\"},{\"hoverinfo\":\"text\",\"line\":{\"width\":2},\"mode\":\"lines+markers\",\"name\":\"Kimono\",\"opacity\":0.6,\"text\":[\"Item: Kimono\\u003cbr\\u003eSales: $465.0\",\"Item: Kimono\\u003cbr\\u003eSales: $1147.0\",\"Item: Kimono\\u003cbr\\u003eSales: $453.0\",\"Item: Kimono\\u003cbr\\u003eSales: $316.0\",\"Item: Kimono\\u003cbr\\u003eSales: $460.0\",\"Item: Kimono\\u003cbr\\u003eSales: $736.0\",\"Item: Kimono\\u003cbr\\u003eSales: $3557.0\",\"Item: Kimono\\u003cbr\\u003eSales: $703.0\",\"Item: Kimono\\u003cbr\\u003eSales: $705.0\",\"Item: Kimono\\u003cbr\\u003eSales: $158.0\",\"Item: Kimono\\u003cbr\\u003eSales: $384.0\",\"Item: Kimono\\u003cbr\\u003eSales: $46.0\"],\"x\":[\"2022-10-01T00:00:00\",\"2022-12-01T00:00:00\",\"2023-01-01T00:00:00\",\"2023-02-01T00:00:00\",\"2023-03-01T00:00:00\",\"2023-04-01T00:00:00\",\"2023-05-01T00:00:00\",\"2023-06-01T00:00:00\",\"2023-07-01T00:00:00\",\"2023-08-01T00:00:00\",\"2023-09-01T00:00:00\",\"2023-10-01T00:00:00\"],\"y\":[465.0,1147.0,453.0,316.0,460.0,736.0,3557.0,703.0,705.0,158.0,384.0,46.0],\"type\":\"scatter\"},{\"hoverinfo\":\"text\",\"line\":{\"width\":2},\"mode\":\"lines+markers\",\"name\":\"Leggings\",\"opacity\":0.6,\"text\":[\"Item: Leggings\\u003cbr\\u003eSales: $217.0\",\"Item: Leggings\\u003cbr\\u003eSales: $34.0\",\"Item: Leggings\\u003cbr\\u003eSales: $99.0\",\"Item: Leggings\\u003cbr\\u003eSales: $147.0\",\"Item: Leggings\\u003cbr\\u003eSales: $153.0\",\"Item: Leggings\\u003cbr\\u003eSales: $3240.0\",\"Item: Leggings\\u003cbr\\u003eSales: $221.0\",\"Item: Leggings\\u003cbr\\u003eSales: $603.0\",\"Item: Leggings\\u003cbr\\u003eSales: $1633.0\",\"Item: Leggings\\u003cbr\\u003eSales: $275.0\",\"Item: Leggings\\u003cbr\\u003eSales: $785.0\",\"Item: Leggings\\u003cbr\\u003eSales: $680.0\"],\"x\":[\"2022-10-01T00:00:00\",\"2022-11-01T00:00:00\",\"2022-12-01T00:00:00\",\"2023-01-01T00:00:00\",\"2023-02-01T00:00:00\",\"2023-03-01T00:00:00\",\"2023-04-01T00:00:00\",\"2023-05-01T00:00:00\",\"2023-06-01T00:00:00\",\"2023-07-01T00:00:00\",\"2023-08-01T00:00:00\",\"2023-09-01T00:00:00\"],\"y\":[217.0,34.0,99.0,147.0,153.0,3240.0,221.0,603.0,1633.0,275.0,785.0,680.0],\"type\":\"scatter\"},{\"hoverinfo\":\"text\",\"line\":{\"width\":2},\"mode\":\"lines+markers\",\"name\":\"Onesie\",\"opacity\":0.6,\"text\":[\"Item: Onesie\\u003cbr\\u003eSales: $628.0\",\"Item: Onesie\\u003cbr\\u003eSales: $527.0\",\"Item: Onesie\\u003cbr\\u003eSales: $3662.0\",\"Item: Onesie\\u003cbr\\u003eSales: $710.0\",\"Item: Onesie\\u003cbr\\u003eSales: $550.0\",\"Item: Onesie\\u003cbr\\u003eSales: $61.0\",\"Item: Onesie\\u003cbr\\u003eSales: $468.0\",\"Item: Onesie\\u003cbr\\u003eSales: $481.0\",\"Item: Onesie\\u003cbr\\u003eSales: $924.0\",\"Item: Onesie\\u003cbr\\u003eSales: $566.0\",\"Item: Onesie\\u003cbr\\u003eSales: $453.0\",\"Item: Onesie\\u003cbr\\u003eSales: $519.0\"],\"x\":[\"2022-10-01T00:00:00\",\"2022-11-01T00:00:00\",\"2022-12-01T00:00:00\",\"2023-01-01T00:00:00\",\"2023-02-01T00:00:00\",\"2023-03-01T00:00:00\",\"2023-04-01T00:00:00\",\"2023-05-01T00:00:00\",\"2023-06-01T00:00:00\",\"2023-07-01T00:00:00\",\"2023-08-01T00:00:00\",\"2023-09-01T00:00:00\"],\"y\":[628.0,527.0,3662.0,710.0,550.0,61.0,468.0,481.0,924.0,566.0,453.0,519.0],\"type\":\"scatter\"},{\"hoverinfo\":\"text\",\"line\":{\"width\":2},\"mode\":\"lines+markers\",\"name\":\"Overalls\",\"opacity\":0.6,\"text\":[\"Item: Overalls\\u003cbr\\u003eSales: $293.0\",\"Item: Overalls\\u003cbr\\u003eSales: $787.0\",\"Item: Overalls\\u003cbr\\u003eSales: $595.0\",\"Item: Overalls\\u003cbr\\u003eSales: $388.0\",\"Item: Overalls\\u003cbr\\u003eSales: $263.0\",\"Item: Overalls\\u003cbr\\u003eSales: $553.0\",\"Item: Overalls\\u003cbr\\u003eSales: $205.0\",\"Item: Overalls\\u003cbr\\u003eSales: $652.0\",\"Item: Overalls\\u003cbr\\u003eSales: $452.0\",\"Item: Overalls\\u003cbr\\u003eSales: $706.0\",\"Item: Overalls\\u003cbr\\u003eSales: $406.0\",\"Item: Overalls\\u003cbr\\u003eSales: $274.0\"],\"x\":[\"2022-10-01T00:00:00\",\"2022-11-01T00:00:00\",\"2022-12-01T00:00:00\",\"2023-01-01T00:00:00\",\"2023-02-01T00:00:00\",\"2023-03-01T00:00:00\",\"2023-04-01T00:00:00\",\"2023-05-01T00:00:00\",\"2023-06-01T00:00:00\",\"2023-07-01T00:00:00\",\"2023-08-01T00:00:00\",\"2023-09-01T00:00:00\"],\"y\":[293.0,787.0,595.0,388.0,263.0,553.0,205.0,652.0,452.0,706.0,406.0,274.0],\"type\":\"scatter\"},{\"hoverinfo\":\"text\",\"line\":{\"width\":2},\"mode\":\"lines+markers\",\"name\":\"Pajamas\",\"opacity\":0.6,\"text\":[\"Item: Pajamas\\u003cbr\\u003eSales: $442.0\",\"Item: Pajamas\\u003cbr\\u003eSales: $336.0\",\"Item: Pajamas\\u003cbr\\u003eSales: $4211.0\",\"Item: Pajamas\\u003cbr\\u003eSales: $286.0\",\"Item: Pajamas\\u003cbr\\u003eSales: $179.0\",\"Item: Pajamas\\u003cbr\\u003eSales: $1062.0\",\"Item: Pajamas\\u003cbr\\u003eSales: $786.0\",\"Item: Pajamas\\u003cbr\\u003eSales: $2719.0\",\"Item: Pajamas\\u003cbr\\u003eSales: $460.0\",\"Item: Pajamas\\u003cbr\\u003eSales: $824.0\",\"Item: Pajamas\\u003cbr\\u003eSales: $669.0\",\"Item: Pajamas\\u003cbr\\u003eSales: $673.0\",\"Item: Pajamas\\u003cbr\\u003eSales: $151.0\"],\"x\":[\"2022-10-01T00:00:00\",\"2022-11-01T00:00:00\",\"2022-12-01T00:00:00\",\"2023-01-01T00:00:00\",\"2023-02-01T00:00:00\",\"2023-03-01T00:00:00\",\"2023-04-01T00:00:00\",\"2023-05-01T00:00:00\",\"2023-06-01T00:00:00\",\"2023-07-01T00:00:00\",\"2023-08-01T00:00:00\",\"2023-09-01T00:00:00\",\"2023-10-01T00:00:00\"],\"y\":[442.0,336.0,4211.0,286.0,179.0,1062.0,786.0,2719.0,460.0,824.0,669.0,673.0,151.0],\"type\":\"scatter\"},{\"hoverinfo\":\"text\",\"line\":{\"width\":2},\"mode\":\"lines+markers\",\"name\":\"Pants\",\"opacity\":0.6,\"text\":[\"Item: Pants\\u003cbr\\u003eSales: $870.0\",\"Item: Pants\\u003cbr\\u003eSales: $412.0\",\"Item: Pants\\u003cbr\\u003eSales: $882.0\",\"Item: Pants\\u003cbr\\u003eSales: $473.0\",\"Item: Pants\\u003cbr\\u003eSales: $153.0\",\"Item: Pants\\u003cbr\\u003eSales: $313.0\",\"Item: Pants\\u003cbr\\u003eSales: $930.0\",\"Item: Pants\\u003cbr\\u003eSales: $3650.0\",\"Item: Pants\\u003cbr\\u003eSales: $552.0\",\"Item: Pants\\u003cbr\\u003eSales: $275.0\",\"Item: Pants\\u003cbr\\u003eSales: $576.0\",\"Item: Pants\\u003cbr\\u003eSales: $209.0\"],\"x\":[\"2022-10-01T00:00:00\",\"2022-11-01T00:00:00\",\"2022-12-01T00:00:00\",\"2023-01-01T00:00:00\",\"2023-02-01T00:00:00\",\"2023-03-01T00:00:00\",\"2023-04-01T00:00:00\",\"2023-05-01T00:00:00\",\"2023-06-01T00:00:00\",\"2023-07-01T00:00:00\",\"2023-08-01T00:00:00\",\"2023-09-01T00:00:00\"],\"y\":[870.0,412.0,882.0,473.0,153.0,313.0,930.0,3650.0,552.0,275.0,576.0,209.0],\"type\":\"scatter\"},{\"hoverinfo\":\"text\",\"line\":{\"width\":2},\"mode\":\"lines+markers\",\"name\":\"Polo Shirt\",\"opacity\":0.6,\"text\":[\"Item: Polo Shirt\\u003cbr\\u003eSales: $292.0\",\"Item: Polo Shirt\\u003cbr\\u003eSales: $819.0\",\"Item: Polo Shirt\\u003cbr\\u003eSales: $617.0\",\"Item: Polo Shirt\\u003cbr\\u003eSales: $335.0\",\"Item: Polo Shirt\\u003cbr\\u003eSales: $392.0\",\"Item: Polo Shirt\\u003cbr\\u003eSales: $386.0\",\"Item: Polo Shirt\\u003cbr\\u003eSales: $149.0\",\"Item: Polo Shirt\\u003cbr\\u003eSales: $630.0\",\"Item: Polo Shirt\\u003cbr\\u003eSales: $311.0\",\"Item: Polo Shirt\\u003cbr\\u003eSales: $98.0\",\"Item: Polo Shirt\\u003cbr\\u003eSales: $192.0\",\"Item: Polo Shirt\\u003cbr\\u003eSales: $335.0\"],\"x\":[\"2022-10-01T00:00:00\",\"2022-11-01T00:00:00\",\"2022-12-01T00:00:00\",\"2023-01-01T00:00:00\",\"2023-02-01T00:00:00\",\"2023-03-01T00:00:00\",\"2023-04-01T00:00:00\",\"2023-05-01T00:00:00\",\"2023-06-01T00:00:00\",\"2023-07-01T00:00:00\",\"2023-08-01T00:00:00\",\"2023-09-01T00:00:00\"],\"y\":[292.0,819.0,617.0,335.0,392.0,386.0,149.0,630.0,311.0,98.0,192.0,335.0],\"type\":\"scatter\"},{\"hoverinfo\":\"text\",\"line\":{\"width\":2},\"mode\":\"lines+markers\",\"name\":\"Poncho\",\"opacity\":0.6,\"text\":[\"Item: Poncho\\u003cbr\\u003eSales: $317.0\",\"Item: Poncho\\u003cbr\\u003eSales: $368.0\",\"Item: Poncho\\u003cbr\\u003eSales: $1228.0\",\"Item: Poncho\\u003cbr\\u003eSales: $270.0\",\"Item: Poncho\\u003cbr\\u003eSales: $339.0\",\"Item: Poncho\\u003cbr\\u003eSales: $617.0\",\"Item: Poncho\\u003cbr\\u003eSales: $3238.0\",\"Item: Poncho\\u003cbr\\u003eSales: $336.0\",\"Item: Poncho\\u003cbr\\u003eSales: $326.0\",\"Item: Poncho\\u003cbr\\u003eSales: $304.0\",\"Item: Poncho\\u003cbr\\u003eSales: $3448.0\",\"Item: Poncho\\u003cbr\\u003eSales: $631.0\"],\"x\":[\"2022-10-01T00:00:00\",\"2022-11-01T00:00:00\",\"2022-12-01T00:00:00\",\"2023-01-01T00:00:00\",\"2023-02-01T00:00:00\",\"2023-03-01T00:00:00\",\"2023-04-01T00:00:00\",\"2023-05-01T00:00:00\",\"2023-06-01T00:00:00\",\"2023-07-01T00:00:00\",\"2023-08-01T00:00:00\",\"2023-09-01T00:00:00\"],\"y\":[317.0,368.0,1228.0,270.0,339.0,617.0,3238.0,336.0,326.0,304.0,3448.0,631.0],\"type\":\"scatter\"},{\"hoverinfo\":\"text\",\"line\":{\"width\":2},\"mode\":\"lines+markers\",\"name\":\"Raincoat\",\"opacity\":0.6,\"text\":[\"Item: Raincoat\\u003cbr\\u003eSales: $470.0\",\"Item: Raincoat\\u003cbr\\u003eSales: $267.0\",\"Item: Raincoat\\u003cbr\\u003eSales: $507.0\",\"Item: Raincoat\\u003cbr\\u003eSales: $790.0\",\"Item: Raincoat\\u003cbr\\u003eSales: $607.0\",\"Item: Raincoat\\u003cbr\\u003eSales: $725.0\",\"Item: Raincoat\\u003cbr\\u003eSales: $199.0\",\"Item: Raincoat\\u003cbr\\u003eSales: $1085.0\",\"Item: Raincoat\\u003cbr\\u003eSales: $228.0\",\"Item: Raincoat\\u003cbr\\u003eSales: $1090.0\",\"Item: Raincoat\\u003cbr\\u003eSales: $176.0\",\"Item: Raincoat\\u003cbr\\u003eSales: $633.0\"],\"x\":[\"2022-10-01T00:00:00\",\"2022-11-01T00:00:00\",\"2022-12-01T00:00:00\",\"2023-01-01T00:00:00\",\"2023-02-01T00:00:00\",\"2023-03-01T00:00:00\",\"2023-04-01T00:00:00\",\"2023-05-01T00:00:00\",\"2023-06-01T00:00:00\",\"2023-07-01T00:00:00\",\"2023-08-01T00:00:00\",\"2023-09-01T00:00:00\"],\"y\":[470.0,267.0,507.0,790.0,607.0,725.0,199.0,1085.0,228.0,1090.0,176.0,633.0],\"type\":\"scatter\"},{\"hoverinfo\":\"text\",\"line\":{\"width\":2},\"mode\":\"lines+markers\",\"name\":\"Romper\",\"opacity\":0.6,\"text\":[\"Item: Romper\\u003cbr\\u003eSales: $127.0\",\"Item: Romper\\u003cbr\\u003eSales: $4946.0\",\"Item: Romper\\u003cbr\\u003eSales: $105.0\",\"Item: Romper\\u003cbr\\u003eSales: $426.0\",\"Item: Romper\\u003cbr\\u003eSales: $403.0\",\"Item: Romper\\u003cbr\\u003eSales: $785.0\",\"Item: Romper\\u003cbr\\u003eSales: $608.0\",\"Item: Romper\\u003cbr\\u003eSales: $190.0\",\"Item: Romper\\u003cbr\\u003eSales: $712.0\",\"Item: Romper\\u003cbr\\u003eSales: $409.0\",\"Item: Romper\\u003cbr\\u003eSales: $572.0\",\"Item: Romper\\u003cbr\\u003eSales: $178.0\"],\"x\":[\"2022-10-01T00:00:00\",\"2022-11-01T00:00:00\",\"2022-12-01T00:00:00\",\"2023-01-01T00:00:00\",\"2023-02-01T00:00:00\",\"2023-03-01T00:00:00\",\"2023-04-01T00:00:00\",\"2023-05-01T00:00:00\",\"2023-06-01T00:00:00\",\"2023-07-01T00:00:00\",\"2023-08-01T00:00:00\",\"2023-09-01T00:00:00\"],\"y\":[127.0,4946.0,105.0,426.0,403.0,785.0,608.0,190.0,712.0,409.0,572.0,178.0],\"type\":\"scatter\"},{\"hoverinfo\":\"text\",\"line\":{\"width\":2},\"mode\":\"lines+markers\",\"name\":\"Shorts\",\"opacity\":0.6,\"text\":[\"Item: Shorts\\u003cbr\\u003eSales: $867.0\",\"Item: Shorts\\u003cbr\\u003eSales: $630.0\",\"Item: Shorts\\u003cbr\\u003eSales: $644.0\",\"Item: Shorts\\u003cbr\\u003eSales: $294.0\",\"Item: Shorts\\u003cbr\\u003eSales: $452.0\",\"Item: Shorts\\u003cbr\\u003eSales: $1031.0\",\"Item: Shorts\\u003cbr\\u003eSales: $649.0\",\"Item: Shorts\\u003cbr\\u003eSales: $835.0\",\"Item: Shorts\\u003cbr\\u003eSales: $655.0\",\"Item: Shorts\\u003cbr\\u003eSales: $651.0\",\"Item: Shorts\\u003cbr\\u003eSales: $5424.0\",\"Item: Shorts\\u003cbr\\u003eSales: $570.0\"],\"x\":[\"2022-10-01T00:00:00\",\"2022-11-01T00:00:00\",\"2022-12-01T00:00:00\",\"2023-01-01T00:00:00\",\"2023-02-01T00:00:00\",\"2023-03-01T00:00:00\",\"2023-04-01T00:00:00\",\"2023-05-01T00:00:00\",\"2023-06-01T00:00:00\",\"2023-07-01T00:00:00\",\"2023-08-01T00:00:00\",\"2023-09-01T00:00:00\"],\"y\":[867.0,630.0,644.0,294.0,452.0,1031.0,649.0,835.0,655.0,651.0,5424.0,570.0],\"type\":\"scatter\"},{\"hoverinfo\":\"text\",\"line\":{\"width\":2},\"mode\":\"lines+markers\",\"name\":\"Skirt\",\"opacity\":0.6,\"text\":[\"Item: Skirt\\u003cbr\\u003eSales: $228.0\",\"Item: Skirt\\u003cbr\\u003eSales: $402.0\",\"Item: Skirt\\u003cbr\\u003eSales: $596.0\",\"Item: Skirt\\u003cbr\\u003eSales: $495.0\",\"Item: Skirt\\u003cbr\\u003eSales: $578.0\",\"Item: Skirt\\u003cbr\\u003eSales: $449.0\",\"Item: Skirt\\u003cbr\\u003eSales: $843.0\",\"Item: Skirt\\u003cbr\\u003eSales: $568.0\",\"Item: Skirt\\u003cbr\\u003eSales: $1057.0\",\"Item: Skirt\\u003cbr\\u003eSales: $768.0\",\"Item: Skirt\\u003cbr\\u003eSales: $802.0\",\"Item: Skirt\\u003cbr\\u003eSales: $571.0\"],\"x\":[\"2022-10-01T00:00:00\",\"2022-11-01T00:00:00\",\"2022-12-01T00:00:00\",\"2023-01-01T00:00:00\",\"2023-02-01T00:00:00\",\"2023-03-01T00:00:00\",\"2023-04-01T00:00:00\",\"2023-05-01T00:00:00\",\"2023-06-01T00:00:00\",\"2023-07-01T00:00:00\",\"2023-08-01T00:00:00\",\"2023-09-01T00:00:00\"],\"y\":[228.0,402.0,596.0,495.0,578.0,449.0,843.0,568.0,1057.0,768.0,802.0,571.0],\"type\":\"scatter\"},{\"hoverinfo\":\"text\",\"line\":{\"width\":2},\"mode\":\"lines+markers\",\"name\":\"Sweater\",\"opacity\":0.6,\"text\":[\"Item: Sweater\\u003cbr\\u003eSales: $147.0\",\"Item: Sweater\\u003cbr\\u003eSales: $128.0\",\"Item: Sweater\\u003cbr\\u003eSales: $5405.0\",\"Item: Sweater\\u003cbr\\u003eSales: $1207.0\",\"Item: Sweater\\u003cbr\\u003eSales: $300.0\",\"Item: Sweater\\u003cbr\\u003eSales: $592.0\",\"Item: Sweater\\u003cbr\\u003eSales: $300.0\",\"Item: Sweater\\u003cbr\\u003eSales: $497.0\",\"Item: Sweater\\u003cbr\\u003eSales: $642.0\",\"Item: Sweater\\u003cbr\\u003eSales: $759.0\",\"Item: Sweater\\u003cbr\\u003eSales: $600.0\",\"Item: Sweater\\u003cbr\\u003eSales: $293.0\"],\"x\":[\"2022-10-01T00:00:00\",\"2022-11-01T00:00:00\",\"2022-12-01T00:00:00\",\"2023-01-01T00:00:00\",\"2023-02-01T00:00:00\",\"2023-03-01T00:00:00\",\"2023-04-01T00:00:00\",\"2023-05-01T00:00:00\",\"2023-06-01T00:00:00\",\"2023-07-01T00:00:00\",\"2023-08-01T00:00:00\",\"2023-09-01T00:00:00\"],\"y\":[147.0,128.0,5405.0,1207.0,300.0,592.0,300.0,497.0,642.0,759.0,600.0,293.0],\"type\":\"scatter\"},{\"hoverinfo\":\"text\",\"line\":{\"width\":2},\"mode\":\"lines+markers\",\"name\":\"Swimsuit\",\"opacity\":0.6,\"text\":[\"Item: Swimsuit\\u003cbr\\u003eSales: $244.0\",\"Item: Swimsuit\\u003cbr\\u003eSales: $572.0\",\"Item: Swimsuit\\u003cbr\\u003eSales: $392.0\",\"Item: Swimsuit\\u003cbr\\u003eSales: $350.0\",\"Item: Swimsuit\\u003cbr\\u003eSales: $3640.0\",\"Item: Swimsuit\\u003cbr\\u003eSales: $556.0\",\"Item: Swimsuit\\u003cbr\\u003eSales: $711.0\",\"Item: Swimsuit\\u003cbr\\u003eSales: $167.0\",\"Item: Swimsuit\\u003cbr\\u003eSales: $967.0\",\"Item: Swimsuit\\u003cbr\\u003eSales: $923.0\",\"Item: Swimsuit\\u003cbr\\u003eSales: $504.0\"],\"x\":[\"2022-10-01T00:00:00\",\"2022-11-01T00:00:00\",\"2022-12-01T00:00:00\",\"2023-01-01T00:00:00\",\"2023-02-01T00:00:00\",\"2023-03-01T00:00:00\",\"2023-04-01T00:00:00\",\"2023-05-01T00:00:00\",\"2023-07-01T00:00:00\",\"2023-08-01T00:00:00\",\"2023-09-01T00:00:00\"],\"y\":[244.0,572.0,392.0,350.0,3640.0,556.0,711.0,167.0,967.0,923.0,504.0],\"type\":\"scatter\"},{\"hoverinfo\":\"text\",\"line\":{\"width\":2},\"mode\":\"lines+markers\",\"name\":\"T-shirt\",\"opacity\":0.6,\"text\":[\"Item: T-shirt\\u003cbr\\u003eSales: $1017.0\",\"Item: T-shirt\\u003cbr\\u003eSales: $787.0\",\"Item: T-shirt\\u003cbr\\u003eSales: $345.0\",\"Item: T-shirt\\u003cbr\\u003eSales: $402.0\",\"Item: T-shirt\\u003cbr\\u003eSales: $425.0\",\"Item: T-shirt\\u003cbr\\u003eSales: $2488.0\",\"Item: T-shirt\\u003cbr\\u003eSales: $385.0\",\"Item: T-shirt\\u003cbr\\u003eSales: $1033.0\",\"Item: T-shirt\\u003cbr\\u003eSales: $463.0\",\"Item: T-shirt\\u003cbr\\u003eSales: $483.0\",\"Item: T-shirt\\u003cbr\\u003eSales: $636.0\",\"Item: T-shirt\\u003cbr\\u003eSales: $579.0\"],\"x\":[\"2022-10-01T00:00:00\",\"2022-11-01T00:00:00\",\"2022-12-01T00:00:00\",\"2023-01-01T00:00:00\",\"2023-02-01T00:00:00\",\"2023-03-01T00:00:00\",\"2023-04-01T00:00:00\",\"2023-05-01T00:00:00\",\"2023-06-01T00:00:00\",\"2023-07-01T00:00:00\",\"2023-08-01T00:00:00\",\"2023-09-01T00:00:00\"],\"y\":[1017.0,787.0,345.0,402.0,425.0,2488.0,385.0,1033.0,463.0,483.0,636.0,579.0],\"type\":\"scatter\"},{\"hoverinfo\":\"text\",\"line\":{\"width\":2},\"mode\":\"lines+markers\",\"name\":\"Tank Top\",\"opacity\":0.6,\"text\":[\"Item: Tank Top\\u003cbr\\u003eSales: $781.0\",\"Item: Tank Top\\u003cbr\\u003eSales: $556.0\",\"Item: Tank Top\\u003cbr\\u003eSales: $537.0\",\"Item: Tank Top\\u003cbr\\u003eSales: $667.0\",\"Item: Tank Top\\u003cbr\\u003eSales: $235.0\",\"Item: Tank Top\\u003cbr\\u003eSales: $2370.0\",\"Item: Tank Top\\u003cbr\\u003eSales: $947.0\",\"Item: Tank Top\\u003cbr\\u003eSales: $1177.0\",\"Item: Tank Top\\u003cbr\\u003eSales: $216.0\",\"Item: Tank Top\\u003cbr\\u003eSales: $341.0\",\"Item: Tank Top\\u003cbr\\u003eSales: $469.0\"],\"x\":[\"2022-10-01T00:00:00\",\"2022-11-01T00:00:00\",\"2022-12-01T00:00:00\",\"2023-01-01T00:00:00\",\"2023-02-01T00:00:00\",\"2023-03-01T00:00:00\",\"2023-04-01T00:00:00\",\"2023-05-01T00:00:00\",\"2023-06-01T00:00:00\",\"2023-07-01T00:00:00\",\"2023-08-01T00:00:00\"],\"y\":[781.0,556.0,537.0,667.0,235.0,2370.0,947.0,1177.0,216.0,341.0,469.0],\"type\":\"scatter\"},{\"hoverinfo\":\"text\",\"line\":{\"width\":2},\"mode\":\"lines+markers\",\"name\":\"Trench Coat\",\"opacity\":0.6,\"text\":[\"Item: Trench Coat\\u003cbr\\u003eSales: $509.0\",\"Item: Trench Coat\\u003cbr\\u003eSales: $242.0\",\"Item: Trench Coat\\u003cbr\\u003eSales: $277.0\",\"Item: Trench Coat\\u003cbr\\u003eSales: $2553.0\",\"Item: Trench Coat\\u003cbr\\u003eSales: $397.0\",\"Item: Trench Coat\\u003cbr\\u003eSales: $742.0\",\"Item: Trench Coat\\u003cbr\\u003eSales: $529.0\",\"Item: Trench Coat\\u003cbr\\u003eSales: $343.0\",\"Item: Trench Coat\\u003cbr\\u003eSales: $3577.0\",\"Item: Trench Coat\\u003cbr\\u003eSales: $272.0\",\"Item: Trench Coat\\u003cbr\\u003eSales: $461.0\",\"Item: Trench Coat\\u003cbr\\u003eSales: $90.0\"],\"x\":[\"2022-10-01T00:00:00\",\"2022-11-01T00:00:00\",\"2022-12-01T00:00:00\",\"2023-01-01T00:00:00\",\"2023-02-01T00:00:00\",\"2023-03-01T00:00:00\",\"2023-04-01T00:00:00\",\"2023-05-01T00:00:00\",\"2023-06-01T00:00:00\",\"2023-07-01T00:00:00\",\"2023-08-01T00:00:00\",\"2023-09-01T00:00:00\"],\"y\":[509.0,242.0,277.0,2553.0,397.0,742.0,529.0,343.0,3577.0,272.0,461.0,90.0],\"type\":\"scatter\"},{\"hoverinfo\":\"text\",\"line\":{\"width\":2},\"mode\":\"lines+markers\",\"name\":\"Trousers\",\"opacity\":0.6,\"text\":[\"Item: Trousers\\u003cbr\\u003eSales: $681.0\",\"Item: Trousers\\u003cbr\\u003eSales: $2696.0\",\"Item: Trousers\\u003cbr\\u003eSales: $440.0\",\"Item: Trousers\\u003cbr\\u003eSales: $534.0\",\"Item: Trousers\\u003cbr\\u003eSales: $152.0\",\"Item: Trousers\\u003cbr\\u003eSales: $161.0\",\"Item: Trousers\\u003cbr\\u003eSales: $297.0\",\"Item: Trousers\\u003cbr\\u003eSales: $271.0\",\"Item: Trousers\\u003cbr\\u003eSales: $247.0\",\"Item: Trousers\\u003cbr\\u003eSales: $277.0\",\"Item: Trousers\\u003cbr\\u003eSales: $702.0\"],\"x\":[\"2022-10-01T00:00:00\",\"2022-11-01T00:00:00\",\"2022-12-01T00:00:00\",\"2023-01-01T00:00:00\",\"2023-02-01T00:00:00\",\"2023-03-01T00:00:00\",\"2023-05-01T00:00:00\",\"2023-06-01T00:00:00\",\"2023-07-01T00:00:00\",\"2023-08-01T00:00:00\",\"2023-09-01T00:00:00\"],\"y\":[681.0,2696.0,440.0,534.0,152.0,161.0,297.0,271.0,247.0,277.0,702.0],\"type\":\"scatter\"},{\"hoverinfo\":\"text\",\"line\":{\"width\":2},\"mode\":\"lines+markers\",\"name\":\"Tunic\",\"opacity\":0.6,\"text\":[\"Item: Tunic\\u003cbr\\u003eSales: $475.0\",\"Item: Tunic\\u003cbr\\u003eSales: $590.0\",\"Item: Tunic\\u003cbr\\u003eSales: $4826.0\",\"Item: Tunic\\u003cbr\\u003eSales: $893.0\",\"Item: Tunic\\u003cbr\\u003eSales: $718.0\",\"Item: Tunic\\u003cbr\\u003eSales: $325.0\",\"Item: Tunic\\u003cbr\\u003eSales: $5092.0\",\"Item: Tunic\\u003cbr\\u003eSales: $325.0\",\"Item: Tunic\\u003cbr\\u003eSales: $221.0\",\"Item: Tunic\\u003cbr\\u003eSales: $2731.0\",\"Item: Tunic\\u003cbr\\u003eSales: $819.0\",\"Item: Tunic\\u003cbr\\u003eSales: $260.0\"],\"x\":[\"2022-10-01T00:00:00\",\"2022-11-01T00:00:00\",\"2022-12-01T00:00:00\",\"2023-01-01T00:00:00\",\"2023-02-01T00:00:00\",\"2023-03-01T00:00:00\",\"2023-04-01T00:00:00\",\"2023-05-01T00:00:00\",\"2023-06-01T00:00:00\",\"2023-07-01T00:00:00\",\"2023-08-01T00:00:00\",\"2023-09-01T00:00:00\"],\"y\":[475.0,590.0,4826.0,893.0,718.0,325.0,5092.0,325.0,221.0,2731.0,819.0,260.0],\"type\":\"scatter\"},{\"hoverinfo\":\"text\",\"line\":{\"width\":2},\"mode\":\"lines+markers\",\"name\":\"Vest\",\"opacity\":0.6,\"text\":[\"Item: Vest\\u003cbr\\u003eSales: $520.0\",\"Item: Vest\\u003cbr\\u003eSales: $121.0\",\"Item: Vest\\u003cbr\\u003eSales: $559.0\",\"Item: Vest\\u003cbr\\u003eSales: $521.0\",\"Item: Vest\\u003cbr\\u003eSales: $1060.0\",\"Item: Vest\\u003cbr\\u003eSales: $440.0\",\"Item: Vest\\u003cbr\\u003eSales: $162.0\",\"Item: Vest\\u003cbr\\u003eSales: $533.0\",\"Item: Vest\\u003cbr\\u003eSales: $569.0\",\"Item: Vest\\u003cbr\\u003eSales: $433.0\",\"Item: Vest\\u003cbr\\u003eSales: $466.0\",\"Item: Vest\\u003cbr\\u003eSales: $684.0\",\"Item: Vest\\u003cbr\\u003eSales: $122.0\"],\"x\":[\"2022-10-01T00:00:00\",\"2022-11-01T00:00:00\",\"2022-12-01T00:00:00\",\"2023-01-01T00:00:00\",\"2023-02-01T00:00:00\",\"2023-03-01T00:00:00\",\"2023-04-01T00:00:00\",\"2023-05-01T00:00:00\",\"2023-06-01T00:00:00\",\"2023-07-01T00:00:00\",\"2023-08-01T00:00:00\",\"2023-09-01T00:00:00\",\"2023-10-01T00:00:00\"],\"y\":[520.0,121.0,559.0,521.0,1060.0,440.0,162.0,533.0,569.0,433.0,466.0,684.0,122.0],\"type\":\"scatter\"}],                        {\"template\":{\"data\":{\"barpolar\":[{\"marker\":{\"line\":{\"color\":\"white\",\"width\":0.5},\"pattern\":{\"fillmode\":\"overlay\",\"size\":10,\"solidity\":0.2}},\"type\":\"barpolar\"}],\"bar\":[{\"error_x\":{\"color\":\"#2a3f5f\"},\"error_y\":{\"color\":\"#2a3f5f\"},\"marker\":{\"line\":{\"color\":\"white\",\"width\":0.5},\"pattern\":{\"fillmode\":\"overlay\",\"size\":10,\"solidity\":0.2}},\"type\":\"bar\"}],\"carpet\":[{\"aaxis\":{\"endlinecolor\":\"#2a3f5f\",\"gridcolor\":\"#C8D4E3\",\"linecolor\":\"#C8D4E3\",\"minorgridcolor\":\"#C8D4E3\",\"startlinecolor\":\"#2a3f5f\"},\"baxis\":{\"endlinecolor\":\"#2a3f5f\",\"gridcolor\":\"#C8D4E3\",\"linecolor\":\"#C8D4E3\",\"minorgridcolor\":\"#C8D4E3\",\"startlinecolor\":\"#2a3f5f\"},\"type\":\"carpet\"}],\"choropleth\":[{\"colorbar\":{\"outlinewidth\":0,\"ticks\":\"\"},\"type\":\"choropleth\"}],\"contourcarpet\":[{\"colorbar\":{\"outlinewidth\":0,\"ticks\":\"\"},\"type\":\"contourcarpet\"}],\"contour\":[{\"colorbar\":{\"outlinewidth\":0,\"ticks\":\"\"},\"colorscale\":[[0.0,\"#0d0887\"],[0.1111111111111111,\"#46039f\"],[0.2222222222222222,\"#7201a8\"],[0.3333333333333333,\"#9c179e\"],[0.4444444444444444,\"#bd3786\"],[0.5555555555555556,\"#d8576b\"],[0.6666666666666666,\"#ed7953\"],[0.7777777777777778,\"#fb9f3a\"],[0.8888888888888888,\"#fdca26\"],[1.0,\"#f0f921\"]],\"type\":\"contour\"}],\"heatmapgl\":[{\"colorbar\":{\"outlinewidth\":0,\"ticks\":\"\"},\"colorscale\":[[0.0,\"#0d0887\"],[0.1111111111111111,\"#46039f\"],[0.2222222222222222,\"#7201a8\"],[0.3333333333333333,\"#9c179e\"],[0.4444444444444444,\"#bd3786\"],[0.5555555555555556,\"#d8576b\"],[0.6666666666666666,\"#ed7953\"],[0.7777777777777778,\"#fb9f3a\"],[0.8888888888888888,\"#fdca26\"],[1.0,\"#f0f921\"]],\"type\":\"heatmapgl\"}],\"heatmap\":[{\"colorbar\":{\"outlinewidth\":0,\"ticks\":\"\"},\"colorscale\":[[0.0,\"#0d0887\"],[0.1111111111111111,\"#46039f\"],[0.2222222222222222,\"#7201a8\"],[0.3333333333333333,\"#9c179e\"],[0.4444444444444444,\"#bd3786\"],[0.5555555555555556,\"#d8576b\"],[0.6666666666666666,\"#ed7953\"],[0.7777777777777778,\"#fb9f3a\"],[0.8888888888888888,\"#fdca26\"],[1.0,\"#f0f921\"]],\"type\":\"heatmap\"}],\"histogram2dcontour\":[{\"colorbar\":{\"outlinewidth\":0,\"ticks\":\"\"},\"colorscale\":[[0.0,\"#0d0887\"],[0.1111111111111111,\"#46039f\"],[0.2222222222222222,\"#7201a8\"],[0.3333333333333333,\"#9c179e\"],[0.4444444444444444,\"#bd3786\"],[0.5555555555555556,\"#d8576b\"],[0.6666666666666666,\"#ed7953\"],[0.7777777777777778,\"#fb9f3a\"],[0.8888888888888888,\"#fdca26\"],[1.0,\"#f0f921\"]],\"type\":\"histogram2dcontour\"}],\"histogram2d\":[{\"colorbar\":{\"outlinewidth\":0,\"ticks\":\"\"},\"colorscale\":[[0.0,\"#0d0887\"],[0.1111111111111111,\"#46039f\"],[0.2222222222222222,\"#7201a8\"],[0.3333333333333333,\"#9c179e\"],[0.4444444444444444,\"#bd3786\"],[0.5555555555555556,\"#d8576b\"],[0.6666666666666666,\"#ed7953\"],[0.7777777777777778,\"#fb9f3a\"],[0.8888888888888888,\"#fdca26\"],[1.0,\"#f0f921\"]],\"type\":\"histogram2d\"}],\"histogram\":[{\"marker\":{\"pattern\":{\"fillmode\":\"overlay\",\"size\":10,\"solidity\":0.2}},\"type\":\"histogram\"}],\"mesh3d\":[{\"colorbar\":{\"outlinewidth\":0,\"ticks\":\"\"},\"type\":\"mesh3d\"}],\"parcoords\":[{\"line\":{\"colorbar\":{\"outlinewidth\":0,\"ticks\":\"\"}},\"type\":\"parcoords\"}],\"pie\":[{\"automargin\":true,\"type\":\"pie\"}],\"scatter3d\":[{\"line\":{\"colorbar\":{\"outlinewidth\":0,\"ticks\":\"\"}},\"marker\":{\"colorbar\":{\"outlinewidth\":0,\"ticks\":\"\"}},\"type\":\"scatter3d\"}],\"scattercarpet\":[{\"marker\":{\"colorbar\":{\"outlinewidth\":0,\"ticks\":\"\"}},\"type\":\"scattercarpet\"}],\"scattergeo\":[{\"marker\":{\"colorbar\":{\"outlinewidth\":0,\"ticks\":\"\"}},\"type\":\"scattergeo\"}],\"scattergl\":[{\"marker\":{\"colorbar\":{\"outlinewidth\":0,\"ticks\":\"\"}},\"type\":\"scattergl\"}],\"scattermapbox\":[{\"marker\":{\"colorbar\":{\"outlinewidth\":0,\"ticks\":\"\"}},\"type\":\"scattermapbox\"}],\"scatterpolargl\":[{\"marker\":{\"colorbar\":{\"outlinewidth\":0,\"ticks\":\"\"}},\"type\":\"scatterpolargl\"}],\"scatterpolar\":[{\"marker\":{\"colorbar\":{\"outlinewidth\":0,\"ticks\":\"\"}},\"type\":\"scatterpolar\"}],\"scatter\":[{\"fillpattern\":{\"fillmode\":\"overlay\",\"size\":10,\"solidity\":0.2},\"type\":\"scatter\"}],\"scatterternary\":[{\"marker\":{\"colorbar\":{\"outlinewidth\":0,\"ticks\":\"\"}},\"type\":\"scatterternary\"}],\"surface\":[{\"colorbar\":{\"outlinewidth\":0,\"ticks\":\"\"},\"colorscale\":[[0.0,\"#0d0887\"],[0.1111111111111111,\"#46039f\"],[0.2222222222222222,\"#7201a8\"],[0.3333333333333333,\"#9c179e\"],[0.4444444444444444,\"#bd3786\"],[0.5555555555555556,\"#d8576b\"],[0.6666666666666666,\"#ed7953\"],[0.7777777777777778,\"#fb9f3a\"],[0.8888888888888888,\"#fdca26\"],[1.0,\"#f0f921\"]],\"type\":\"surface\"}],\"table\":[{\"cells\":{\"fill\":{\"color\":\"#EBF0F8\"},\"line\":{\"color\":\"white\"}},\"header\":{\"fill\":{\"color\":\"#C8D4E3\"},\"line\":{\"color\":\"white\"}},\"type\":\"table\"}]},\"layout\":{\"annotationdefaults\":{\"arrowcolor\":\"#2a3f5f\",\"arrowhead\":0,\"arrowwidth\":1},\"autotypenumbers\":\"strict\",\"coloraxis\":{\"colorbar\":{\"outlinewidth\":0,\"ticks\":\"\"}},\"colorscale\":{\"diverging\":[[0,\"#8e0152\"],[0.1,\"#c51b7d\"],[0.2,\"#de77ae\"],[0.3,\"#f1b6da\"],[0.4,\"#fde0ef\"],[0.5,\"#f7f7f7\"],[0.6,\"#e6f5d0\"],[0.7,\"#b8e186\"],[0.8,\"#7fbc41\"],[0.9,\"#4d9221\"],[1,\"#276419\"]],\"sequential\":[[0.0,\"#0d0887\"],[0.1111111111111111,\"#46039f\"],[0.2222222222222222,\"#7201a8\"],[0.3333333333333333,\"#9c179e\"],[0.4444444444444444,\"#bd3786\"],[0.5555555555555556,\"#d8576b\"],[0.6666666666666666,\"#ed7953\"],[0.7777777777777778,\"#fb9f3a\"],[0.8888888888888888,\"#fdca26\"],[1.0,\"#f0f921\"]],\"sequentialminus\":[[0.0,\"#0d0887\"],[0.1111111111111111,\"#46039f\"],[0.2222222222222222,\"#7201a8\"],[0.3333333333333333,\"#9c179e\"],[0.4444444444444444,\"#bd3786\"],[0.5555555555555556,\"#d8576b\"],[0.6666666666666666,\"#ed7953\"],[0.7777777777777778,\"#fb9f3a\"],[0.8888888888888888,\"#fdca26\"],[1.0,\"#f0f921\"]]},\"colorway\":[\"#636efa\",\"#EF553B\",\"#00cc96\",\"#ab63fa\",\"#FFA15A\",\"#19d3f3\",\"#FF6692\",\"#B6E880\",\"#FF97FF\",\"#FECB52\"],\"font\":{\"color\":\"#2a3f5f\"},\"geo\":{\"bgcolor\":\"white\",\"lakecolor\":\"white\",\"landcolor\":\"white\",\"showlakes\":true,\"showland\":true,\"subunitcolor\":\"#C8D4E3\"},\"hoverlabel\":{\"align\":\"left\"},\"hovermode\":\"closest\",\"mapbox\":{\"style\":\"light\"},\"paper_bgcolor\":\"white\",\"plot_bgcolor\":\"white\",\"polar\":{\"angularaxis\":{\"gridcolor\":\"#EBF0F8\",\"linecolor\":\"#EBF0F8\",\"ticks\":\"\"},\"bgcolor\":\"white\",\"radialaxis\":{\"gridcolor\":\"#EBF0F8\",\"linecolor\":\"#EBF0F8\",\"ticks\":\"\"}},\"scene\":{\"xaxis\":{\"backgroundcolor\":\"white\",\"gridcolor\":\"#DFE8F3\",\"gridwidth\":2,\"linecolor\":\"#EBF0F8\",\"showbackground\":true,\"ticks\":\"\",\"zerolinecolor\":\"#EBF0F8\"},\"yaxis\":{\"backgroundcolor\":\"white\",\"gridcolor\":\"#DFE8F3\",\"gridwidth\":2,\"linecolor\":\"#EBF0F8\",\"showbackground\":true,\"ticks\":\"\",\"zerolinecolor\":\"#EBF0F8\"},\"zaxis\":{\"backgroundcolor\":\"white\",\"gridcolor\":\"#DFE8F3\",\"gridwidth\":2,\"linecolor\":\"#EBF0F8\",\"showbackground\":true,\"ticks\":\"\",\"zerolinecolor\":\"#EBF0F8\"}},\"shapedefaults\":{\"line\":{\"color\":\"#2a3f5f\"}},\"ternary\":{\"aaxis\":{\"gridcolor\":\"#DFE8F3\",\"linecolor\":\"#A2B1C6\",\"ticks\":\"\"},\"baxis\":{\"gridcolor\":\"#DFE8F3\",\"linecolor\":\"#A2B1C6\",\"ticks\":\"\"},\"bgcolor\":\"white\",\"caxis\":{\"gridcolor\":\"#DFE8F3\",\"linecolor\":\"#A2B1C6\",\"ticks\":\"\"}},\"title\":{\"x\":0.05},\"xaxis\":{\"automargin\":true,\"gridcolor\":\"#EBF0F8\",\"linecolor\":\"#EBF0F8\",\"ticks\":\"\",\"title\":{\"standoff\":15},\"zerolinecolor\":\"#EBF0F8\",\"zerolinewidth\":2},\"yaxis\":{\"automargin\":true,\"gridcolor\":\"#EBF0F8\",\"linecolor\":\"#EBF0F8\",\"ticks\":\"\",\"title\":{\"standoff\":15},\"zerolinecolor\":\"#EBF0F8\",\"zerolinewidth\":2}}},\"title\":{\"text\":\"Total Sales Over Time by Item\"},\"xaxis\":{\"title\":{\"text\":\"Month\"}},\"yaxis\":{\"title\":{\"text\":\"Total Sales (USD)\"}},\"hovermode\":\"x unified\",\"height\":500},                        {\"responsive\": true}                    ).then(function(){\n",
       "                            \n",
       "var gd = document.getElementById('52e58a26-3d5a-472c-bb76-992dbd663bb4');\n",
       "var x = new MutationObserver(function (mutations, observer) {{\n",
       "        var display = window.getComputedStyle(gd).display;\n",
       "        if (!display || display === 'none') {{\n",
       "            console.log([gd, 'removed!']);\n",
       "            Plotly.purge(gd);\n",
       "            observer.disconnect();\n",
       "        }}\n",
       "}});\n",
       "\n",
       "// Listen for the removal of the full notebook cells\n",
       "var notebookContainer = gd.closest('#notebook-container');\n",
       "if (notebookContainer) {{\n",
       "    x.observe(notebookContainer, {childList: true});\n",
       "}}\n",
       "\n",
       "// Listen for the clearing of the current output cell\n",
       "var outputEl = gd.closest('.output');\n",
       "if (outputEl) {{\n",
       "    x.observe(outputEl, {childList: true});\n",
       "}}\n",
       "\n",
       "                        })                };                });            </script>        </div>"
      ]
     },
     "metadata": {},
     "output_type": "display_data"
    }
   ],
   "source": [
    "df['month'] = pd.to_datetime(df['date']).dt.to_period(\"M\")\n",
    "ts_sales = df.groupby(['item', 'month']).agg(\n",
    "    Total_Sales=('amount_usd', 'sum')\n",
    ").reset_index()\n",
    "ts_sales['month'] = ts_sales['month'].dt.to_timestamp()\n",
    "fig = go.Figure()\n",
    "\n",
    "for item in ts_sales['item'].unique():\n",
    "    item_data = ts_sales[ts_sales['item'] == item]\n",
    "    fig.add_trace(go.Scatter(\n",
    "        x=item_data['month'],\n",
    "        y=item_data['Total_Sales'],\n",
    "        mode='lines+markers',\n",
    "        name=item,\n",
    "        hoverinfo='text',\n",
    "        text=[f\"Item: {item}<br>Sales: ${val}\" for val in item_data['Total_Sales']],\n",
    "        line=dict(width=2),\n",
    "        opacity=0.6\n",
    "    ))\n",
    "\n",
    "fig.update_layout(\n",
    "    title=\"Total Sales Over Time by Item\",\n",
    "    xaxis_title=\"Month\",\n",
    "    yaxis_title=\"Total Sales (USD)\",\n",
    "    hovermode='x unified',\n",
    "    template='plotly_white',\n",
    "    height=500\n",
    ")\n",
    "\n",
    "fig.show()"
   ]
  },
  {
   "cell_type": "markdown",
   "id": "f4829716-c021-4d26-b962-30730425e64d",
   "metadata": {},
   "source": [
    "### Interactive Dropdown to Select Items Time Series"
   ]
  },
  {
   "cell_type": "code",
   "execution_count": 84,
   "id": "c71446ee",
   "metadata": {},
   "outputs": [
    {
     "data": {
      "application/vnd.jupyter.widget-view+json": {
       "model_id": "1823c59a79444c25ab85e2bb9b08faff",
       "version_major": 2,
       "version_minor": 0
      },
      "text/plain": [
       "interactive(children=(SelectMultiple(description='choose items:', layout=Layout(height='150px', width='50%'), …"
      ]
     },
     "metadata": {},
     "output_type": "display_data"
    }
   ],
   "source": [
    "# group by item and month: sum of sales and units sold\n",
    "ts_sales_full = df.groupby(['item', 'month']).agg(\n",
    "    Total_Sales=('amount_usd', 'sum'),\n",
    "    Units_Sold=('item', 'count')\n",
    ").reset_index()\n",
    "\n",
    "# dropdown options\n",
    "items_list = sorted(ts_sales_full['item'].unique())\n",
    "\n",
    "# plot function\n",
    "def plot_multiple_items(selected_items):\n",
    "    if not selected_items:\n",
    "        return  # avoid rendering if nothing is selected\n",
    "    \n",
    "    fig = go.Figure()\n",
    "    for item in selected_items:\n",
    "        item_data = ts_sales_full[ts_sales_full['item'] == item]\n",
    "        fig.add_trace(go.Scatter(\n",
    "            x=item_data['month'],\n",
    "            y=item_data['Total_Sales'],\n",
    "            mode='lines+markers',\n",
    "            name=item,\n",
    "            customdata=item_data[['Units_Sold']],\n",
    "            hovertemplate=(\n",
    "                f\"<b>{item}</b><br>\" +\n",
    "                \"month: %{x|%b %Y}<br>\" +\n",
    "                \"sales: $%{y:.2f}<br>\" +\n",
    "                \"units sold: %{customdata[0]}<extra></extra>\"\n",
    "            ),\n",
    "            line=dict(width=2)\n",
    "        ))\n",
    "    fig.update_layout(\n",
    "        title=\"seasonal sales trends (multiple items)\",\n",
    "        xaxis_title=\"month\",\n",
    "        yaxis_title=\"total sales (usd)\",\n",
    "        hovermode='closest',\n",
    "        template='plotly_white',\n",
    "        height=600\n",
    "    )\n",
    "    fig.show()\n",
    "\n",
    "# multi-select dropdown\n",
    "multi_dropdown = widgets.SelectMultiple(\n",
    "    options=items_list,\n",
    "    description='choose items:',\n",
    "    style={'description_width': 'initial'},\n",
    "    layout={'width': '50%', 'height': '150px'}\n",
    ")\n",
    "\n",
    "# connect and display the widget and output\n",
    "# interactive(plot_multiple_items, selected_items=multi_dropdown)\n",
    "plot_ui = interactive(plot_multiple_items, selected_items=multi_dropdown)\n",
    "display(plot_ui) \n"
   ]
  },
  {
   "cell_type": "markdown",
   "id": "8e47a5d3-29de-4f01-a49d-9700b9051ecc",
   "metadata": {},
   "source": [
    "### Future Forecasting Time Series"
   ]
  },
  {
   "cell_type": "code",
   "execution_count": 51,
   "id": "8e8dfde3",
   "metadata": {},
   "outputs": [
    {
     "data": {
      "application/vnd.jupyter.widget-view+json": {
       "model_id": "a12838da5f4f45d6853d0151c980582f",
       "version_major": 2,
       "version_minor": 0
      },
      "text/plain": [
       "interactive(children=(Dropdown(description='select item:', layout=Layout(width='50%'), options=('Blazer', 'Blo…"
      ]
     },
     "metadata": {},
     "output_type": "display_data"
    },
    {
     "data": {
      "text/plain": [
       "<function __main__.forecast_item(item_name, periods=6)>"
      ]
     },
     "execution_count": 51,
     "metadata": {},
     "output_type": "execute_result"
    }
   ],
   "source": [
    "# create monthly total sales dataframe (if not already defined)\n",
    "monthly_sales = df.groupby(['item', 'month']).agg(\n",
    "    Total_Sales=('amount_usd', 'sum')\n",
    ").reset_index()\n",
    "\n",
    "# define function to forecast item sales using arima\n",
    "def forecast_item(item_name, periods=6):\n",
    "    item_data = monthly_sales[monthly_sales['item'] == item_name].copy()\n",
    "    \n",
    "    # ensure monthly frequency and fill missing months with 0\n",
    "    item_data = item_data.set_index('month').resample('M').sum().fillna(0)\n",
    "    \n",
    "    # train arima model\n",
    "    model = ARIMA(item_data['Total_Sales'], order=(1, 1, 1))\n",
    "    model_fit = model.fit()\n",
    "    forecast = model_fit.get_forecast(steps=periods)\n",
    "    \n",
    "    # create future date index\n",
    "    forecast_index = pd.date_range(item_data.index[-1] + pd.DateOffset(months=1), periods=periods, freq='M')\n",
    "    \n",
    "    # plot historical and forecasted sales\n",
    "    fig = go.Figure()\n",
    "    fig.add_trace(go.Scatter(x=item_data.index, y=item_data['Total_Sales'],\n",
    "                             mode='lines+markers', name='historical sales'))\n",
    "    fig.add_trace(go.Scatter(x=forecast_index, y=forecast.predicted_mean,\n",
    "                             mode='lines+markers', name='forecasted sales'))\n",
    "    \n",
    "    fig.update_layout(\n",
    "        title=f\"sales forecast for {item_name}\",\n",
    "        xaxis_title=\"month\",\n",
    "        yaxis_title=\"total sales (usd)\",\n",
    "        template=\"plotly_white\"\n",
    "    )\n",
    "    return fig\n",
    "# create dropdown to select item for forecasting\n",
    "item_dropdown = Dropdown(\n",
    "    options=sorted(monthly_sales['item'].unique()),\n",
    "    description='select item:',\n",
    "    layout={'width': '50%'}\n",
    ")\n",
    "\n",
    "# display interactive forecast chart\n",
    "interact(forecast_item, item_name=item_dropdown)\n"
   ]
  },
  {
   "cell_type": "markdown",
   "id": "4080af10-69c0-4877-aed4-0c0293507081",
   "metadata": {},
   "source": [
    "### ARIMA Forecasting Error Testing"
   ]
  },
  {
   "cell_type": "code",
   "execution_count": null,
   "id": "9f45b0cf-9cdf-49f7-9224-4f59f81449d0",
   "metadata": {},
   "outputs": [],
   "source": [
    "# create monthly total sales dataframe (if not already defined)\n",
    "monthly_sales = df.groupby(['item', 'month']).agg(\n",
    "    Total_Sales=('amount_usd', 'sum')\n",
    ").reset_index()\n",
    "\n",
    "# define function to forecast item sales using arima with a train test split\n",
    "def forecast_item(item_name):\n",
    "    item_data = monthly_sales[monthly_sales['item'] == item_name].copy()\n",
    "    item_data = item_data.set_index('month').resample('M').sum().fillna(0)\n",
    "\n",
    "    if len(item_data) < 12:\n",
    "        print(f\"Not enough data for {item_name}\")\n",
    "        return\n",
    "        \n",
    "    split_idx = int(len(item_data) * 0.8)\n",
    "    train = item_data.iloc[:split_idx]\n",
    "    test = item_data.iloc[split_idx:]\n",
    "\n",
    "    try:\n",
    "        model = ARIMA(train['Total_Sales'], order=(0, 0, 1))\n",
    "        model_fit = model.fit()\n",
    "        forecast_result = model_fit.get_forecast(steps=len(test))\n",
    "    except Exception as e:\n",
    "        print(f\"Forecast failed for '{item_name}': {e}\")\n",
    "        return\n",
    "\n",
    "    forecast_mean = forecast_result.predicted_mean\n",
    "    conf_int = forecast_result.conf_int(alpha=0.05)\n",
    "    forecast_index = test.index\n",
    "\n",
    "    # get error\n",
    "    margin_error = ((conf_int.iloc[:, 1] - conf_int.iloc[:, 0]) / (2 * forecast_mean.abs())) * 100\n",
    "    abs_error = (forecast_mean - test['Total_Sales']).abs()\n",
    "    mape = (abs_error / test['Total_Sales'].replace(0, np.nan)).mean() * 100\n",
    "\n",
    "    fig = go.Figure()\n",
    "\n",
    "    fig.add_trace(go.Scatter(\n",
    "        x=item_data.index, y=item_data['Total_Sales'],\n",
    "        mode='lines+markers', name='Actual Sales'\n",
    "    ))\n",
    "\n",
    "    fig.add_trace(go.Scatter(\n",
    "        x=forecast_index, y=forecast_mean,\n",
    "        mode='lines+markers', name='Forecasted Sales',\n",
    "        hovertemplate='Forecast: %{y:.2f}<br>Date: %{x|%b %Y}<extra></extra>'\n",
    "    ))\n",
    "\n",
    "    fig.add_trace(go.Scatter(\n",
    "        x=forecast_index.tolist() + forecast_index[::-1].tolist(),\n",
    "        y=conf_int.iloc[:, 0].tolist() + conf_int.iloc[:, 1][::-1].tolist(),\n",
    "        fill='toself',\n",
    "        fillcolor='rgba(0,100,80,0.2)',\n",
    "        line=dict(color='rgba(255,255,255,0)'),\n",
    "        hoverinfo=\"skip\",\n",
    "        showlegend=True,\n",
    "        name='95% Confidence Interval'\n",
    "    ))\n",
    "\n",
    "    fig.add_trace(go.Scatter(\n",
    "        x=forecast_index, y=margin_error,\n",
    "        mode='markers',\n",
    "        name='Error Margin (%)',\n",
    "        marker=dict(symbol='x', color='orange'),\n",
    "        hovertemplate='Error Margin: %{y:.2f}%<br>Date: %{x|%b %Y}<extra></extra>'\n",
    "    ))\n",
    "\n",
    "    fig.update_layout(\n",
    "        title=f\"Backtest Forecast for {item_name} | MAPE: {mape:.2f}%\",\n",
    "        xaxis_title=\"Month\",\n",
    "        yaxis_title=\"Total Sales (USD)\",\n",
    "        template=\"plotly_white\"\n",
    "    )\n",
    "\n",
    "    fig.show()\n",
    "\n",
    "# Example usage\n",
    "forecast_item(\"Flannel Shirt\")"
   ]
  },
  {
   "cell_type": "code",
   "execution_count": null,
   "id": "61d9caf9-6df0-4bae-abdb-7496ff9f63d3",
   "metadata": {},
   "outputs": [],
   "source": [
    "# Set forecast horizon and prepare item list\n",
    "forecast_periods = 10\n",
    "items = monthly_sales['item'].unique()\n",
    "results = []\n",
    "\n",
    "# Loop through each clothing item\n",
    "for item in items:\n",
    "    item_data = monthly_sales[monthly_sales['item'] == item].copy()\n",
    "    item_data = item_data.set_index('month').resample('M').sum().fillna(0)\n",
    "\n",
    "    # Ensure there's enough data for a split and test set\n",
    "    if len(item_data) < forecast_periods + 2:\n",
    "        continue\n",
    "\n",
    "    # 80/20 split\n",
    "    split_idx = int(len(item_data) * 0.8)\n",
    "    train = item_data.iloc[:split_idx]\n",
    "    test = item_data.iloc[split_idx:]\n",
    "\n",
    "    if len(test) < 1:\n",
    "        continue\n",
    "\n",
    "    try:\n",
    "        # Fit ARIMA model\n",
    "        model = ARIMA(train['Total_Sales'], order=(0,1,1))\n",
    "        model_fit = model.fit()\n",
    "\n",
    "        # Forecast on test set\n",
    "        forecast_result = model_fit.get_forecast(steps=len(test))\n",
    "        forecast_mean = forecast_result.predicted_mean\n",
    "\n",
    "        # Compute MAPE (handle division by zero)\n",
    "        abs_error = (forecast_mean - test['Total_Sales']).abs()\n",
    "        mape = (abs_error / test['Total_Sales'].replace(0, np.nan)).mean() * 100\n",
    "\n",
    "        results.append({'Item': item, 'MAPE (%)': round(mape, 2)})\n",
    "    except:\n",
    "        # In case model fails, record as None\n",
    "        results.append({'Item': item, 'MAPE (%)': None})\n",
    "\n",
    "# Create DataFrame\n",
    "mape_table = pd.DataFrame(results)\n",
    "\n",
    "# Compute and print overall average MAPE\n",
    "overall_mape = mape_table['MAPE (%)'].mean()\n",
    "print(\"MAPE Table for ARIMA(3,1,2):\\n\")\n",
    "print(mape_table)\n",
    "print(\"\\nOverall Average MAPE Across All Items: {:.2f}%\".format(overall_mape))"
   ]
  },
  {
   "cell_type": "code",
   "execution_count": 87,
   "id": "12febbb9",
   "metadata": {},
   "outputs": [
    {
     "data": {
      "application/vnd.jupyter.widget-view+json": {
       "model_id": "e6f6ad48c7554f47a8bfdcd49f2eb95a",
       "version_major": 2,
       "version_minor": 0
      },
      "text/plain": [
       "interactive(children=(Dropdown(description='Select Item:', layout=Layout(width='50%'), options=('Blazer', 'Blo…"
      ]
     },
     "metadata": {},
     "output_type": "display_data"
    },
    {
     "data": {
      "text/plain": [
       "<function __main__.forecast_item(item_name, periods=6)>"
      ]
     },
     "execution_count": 87,
     "metadata": {},
     "output_type": "execute_result"
    }
   ],
   "source": [
    "# Create monthly total sales DataFrame (if not already defined)\n",
    "monthly_sales = df.groupby(['item', 'month']).agg(\n",
    "    Total_Sales=('amount_usd', 'sum')\n",
    ").reset_index()\n",
    "\n",
    "# Forecasting function with conf intervals\n",
    "def forecast_item(item_name, periods=6):\n",
    "    item_data = monthly_sales[monthly_sales['item'] == item_name].copy()\n",
    "    item_data = item_data.set_index('month').resample('M').sum().fillna(0)\n",
    "\n",
    "    if len(item_data) < 12:\n",
    "        print(f\"Not enough data for {item_name}\")\n",
    "        return\n",
    "\n",
    "    # Split into 80% train, 20% test\n",
    "    split_idx = int(len(item_data) * 0.8)\n",
    "    train = item_data.iloc[:split_idx]\n",
    "    test = item_data.iloc[split_idx:]\n",
    "\n",
    "    try:\n",
    "        model = ARIMA(train['Total_Sales'], order=(0, 0, 1))\n",
    "        model_fit = model.fit()\n",
    "        forecast_result = model_fit.get_forecast(steps=len(test))\n",
    "    except Exception as e:\n",
    "        print(f\"Forecast failed for '{item_name}': {e}\")\n",
    "        return\n",
    "\n",
    "    forecast_mean = forecast_result.predicted_mean\n",
    "    conf_int = forecast_result.conf_int(alpha=0.05)\n",
    "    forecast_index = test.index\n",
    "\n",
    "    # Error margin in %\n",
    "    margin_error = ((conf_int.iloc[:, 1] - conf_int.iloc[:, 0]) / (2 * forecast_mean.abs())) * 100\n",
    "    abs_error = (forecast_mean - test['Total_Sales']).abs()\n",
    "    mape = (abs_error / test['Total_Sales'].replace(0, np.nan)).mean() * 100\n",
    "\n",
    "    # Plot\n",
    "    fig = go.Figure()\n",
    "\n",
    "    fig.add_trace(go.Scatter(\n",
    "        x=item_data.index, y=item_data['Total_Sales'],\n",
    "        mode='lines+markers', name='Actual Sales'\n",
    "    ))\n",
    "\n",
    "    fig.add_trace(go.Scatter(\n",
    "        x=forecast_index, y=forecast_mean,\n",
    "        mode='lines+markers', name='Forecasted Sales',\n",
    "        hovertemplate='Forecast: %{y:.2f}<br>Date: %{x|%b %Y}<extra></extra>'\n",
    "    ))\n",
    "\n",
    "    fig.add_trace(go.Scatter(\n",
    "        x=forecast_index.tolist() + forecast_index[::-1].tolist(),\n",
    "        y=conf_int.iloc[:, 0].tolist() + conf_int.iloc[:, 1][::-1].tolist(),\n",
    "        fill='toself',\n",
    "        fillcolor='rgba(0,100,80,0.2)',\n",
    "        line=dict(color='rgba(255,255,255,0)'),\n",
    "        hoverinfo=\"skip\",\n",
    "        showlegend=True,\n",
    "        name='95% Confidence Interval'\n",
    "    ))\n",
    "\n",
    "    fig.add_trace(go.Scatter(\n",
    "        x=forecast_index, y=margin_error,\n",
    "        mode='markers',\n",
    "        name='Error Margin (%)',\n",
    "        marker=dict(symbol='x', color='orange'),\n",
    "        hovertemplate='Error Margin: %{y:.2f}%<br>Date: %{x|%b %Y}<extra></extra>'\n",
    "    ))\n",
    "\n",
    "    fig.update_layout(\n",
    "        title=f\"Backtest Forecast for {item_name} | MAPE: {mape:.2f}%\",\n",
    "        xaxis_title=\"Month\",\n",
    "        yaxis_title=\"Total Sales (USD)\",\n",
    "        template=\"plotly_white\"\n",
    "    )\n",
    "\n",
    "    return fig\n",
    "\n",
    "# Widgets for interactivity\n",
    "item_dropdown = Dropdown(\n",
    "    options=sorted(monthly_sales['item'].unique()),\n",
    "    description='Select Item:',\n",
    "    layout={'width': '50%'}\n",
    ")\n",
    "\n",
    "period_slider = IntSlider(\n",
    "    value=6,\n",
    "    min=3,\n",
    "    max=24,\n",
    "    step=1,\n",
    "    description='Forecast Months:',\n",
    "    layout={'width': '50%'}\n",
    ")\n",
    "\n",
    "# Display interactive forecast chart\n",
    "interact(forecast_item, item_name=item_dropdown, periods=period_slider)\n"
   ]
  },
  {
   "cell_type": "code",
   "execution_count": 12,
   "id": "f8479305",
   "metadata": {},
   "outputs": [
    {
     "name": "stdout",
     "output_type": "stream",
     "text": [
      "Forecast Error Margin Table (Next 10 Months):\n",
      "             Item  Avg Error Margin (%)\n",
      "0          Blazer               1664.95\n",
      "1          Blouse                269.14\n",
      "2        Camisole                742.29\n",
      "3        Cardigan                201.99\n",
      "4            Coat                 91.50\n",
      "5           Dress                176.33\n",
      "6   Flannel Shirt                127.49\n",
      "7          Hoodie               1412.95\n",
      "8          Jacket                215.74\n",
      "9           Jeans                322.09\n",
      "10       Jumpsuit                196.14\n",
      "11         Kimono                287.14\n",
      "12       Leggings                270.70\n",
      "13         Onesie                250.12\n",
      "14       Overalls                 80.76\n",
      "15        Pajamas                242.92\n",
      "16          Pants                268.15\n",
      "17     Polo Shirt                159.32\n",
      "18         Poncho                226.14\n",
      "19       Raincoat                103.06\n",
      "20         Romper                347.05\n",
      "21         Shorts                151.54\n",
      "22          Skirt                 96.93\n",
      "23        Sweater                352.98\n",
      "24       Swimsuit                269.70\n",
      "25        T-shirt                159.33\n",
      "26    Trench Coat                263.14\n",
      "27       Trousers                481.80\n",
      "28          Tunic                254.38\n",
      "29           Vest                105.67\n",
      "\n",
      "Overall Average Error Margin Across All Items: 326.38%\n"
     ]
    }
   ],
   "source": [
    "# Forecast horizon\n",
    "forecast_periods = 10  # you can change this\n",
    "\n",
    "# Prepare item list\n",
    "items = monthly_sales['item'].unique()\n",
    "results = []\n",
    "\n",
    "# Loop through each item\n",
    "for item in items:\n",
    "    item_data = monthly_sales[monthly_sales['item'] == item].copy()\n",
    "    \n",
    "    # Prepare monthly series\n",
    "    item_data = item_data.set_index('month').resample('M').sum().fillna(0)\n",
    "    \n",
    "    # Skip if not enough data points\n",
    "    if len(item_data) < forecast_periods + 2:\n",
    "        continue\n",
    "\n",
    "    try:\n",
    "        # Fit ARIMA\n",
    "        model = ARIMA(item_data['Total_Sales'], order=(1, 1, 1))\n",
    "        model_fit = model.fit()\n",
    "        forecast_result = model_fit.get_forecast(steps=forecast_periods)\n",
    "\n",
    "        # Confidence interval\n",
    "        forecast_mean = forecast_result.predicted_mean\n",
    "        conf_int = forecast_result.conf_int(alpha=0.05)\n",
    "        \n",
    "        # Calculate margin of error (absolute or percent)\n",
    "        margin_error_pct = ((conf_int.iloc[:, 1] - conf_int.iloc[:, 0]) / (2 * forecast_mean)).replace([float('inf'), -float('inf')], 0) * 100\n",
    "        \n",
    "        # Store results\n",
    "        avg_margin_error = margin_error_pct.mean()\n",
    "        results.append({'Item': item, 'Avg Error Margin (%)': round(avg_margin_error, 2)})\n",
    "\n",
    "    except:\n",
    "        # In case ARIMA fails to converge\n",
    "        results.append({'Item': item, 'Avg Error Margin (%)': None})\n",
    "\n",
    "# Final results DataFrame\n",
    "error_table = pd.DataFrame(results)\n",
    "\n",
    "# Overall model error margin\n",
    "overall_avg_error = error_table['Avg Error Margin (%)'].mean()\n",
    "\n",
    "# Show result\n",
    "print(\"Forecast Error Margin Table (Next\", forecast_periods, \"Months):\")\n",
    "print(error_table)\n",
    "\n",
    "print(\"\\nOverall Average Error Margin Across All Items: {:.2f}%\".format(overall_avg_error))"
   ]
  },
  {
   "cell_type": "code",
   "execution_count": 13,
   "id": "eb82fc7c",
   "metadata": {},
   "outputs": [
    {
     "name": "stdout",
     "output_type": "stream",
     "text": [
      "              item      month  Total_Sales\n",
      "0           Blazer 2022-10-01       5246.0\n",
      "83          Hoodie 2022-10-01       3255.0\n",
      "334       Trousers 2022-11-01       2696.0\n",
      "240         Romper 2022-11-01       4946.0\n",
      "204     Polo Shirt 2022-11-01        819.0\n",
      "167       Overalls 2022-11-01        787.0\n",
      "277        Sweater 2022-12-01       5405.0\n",
      "156         Onesie 2022-12-01       3662.0\n",
      "180        Pajamas 2022-12-01       4211.0\n",
      "26        Camisole 2023-01-01        775.0\n",
      "360           Vest 2023-02-01       1060.0\n",
      "291       Swimsuit 2023-02-01       3640.0\n",
      "16          Blouse 2023-03-01       4202.0\n",
      "315       Tank Top 2023-03-01       2370.0\n",
      "147       Leggings 2023-03-01       3240.0\n",
      "76   Flannel Shirt 2023-03-01       1196.0\n",
      "303        T-shirt 2023-03-01       2488.0\n",
      "66           Dress 2023-04-01       1167.0\n",
      "350          Tunic 2023-04-01       5092.0\n",
      "42        Cardigan 2023-04-01       3005.0\n",
      "113          Jeans 2023-05-01       5609.0\n",
      "198          Pants 2023-05-01       3650.0\n",
      "136         Kimono 2023-05-01       3557.0\n",
      "271          Skirt 2023-06-01       1057.0\n",
      "56            Coat 2023-06-01        744.0\n",
      "329    Trench Coat 2023-06-01       3577.0\n",
      "126       Jumpsuit 2023-06-01       1009.0\n",
      "103         Jacket 2023-07-01       3117.0\n",
      "236       Raincoat 2023-07-01       1090.0\n",
      "261         Shorts 2023-08-01       5424.0\n",
      "225         Poncho 2023-08-01       3448.0\n"
     ]
    }
   ],
   "source": [
    "# find peak sales month for each item\n",
    "peak_months = monthly_sales.loc[\n",
    "    monthly_sales.groupby('item')['Total_Sales'].idxmax()\n",
    "][['item', 'month', 'Total_Sales']].sort_values(by='month')\n",
    "\n",
    "# display peak month and sales value for each item\n",
    "print(peak_months)\n",
    "\n",
    "# this shows the single month each item had its highest total sales\n",
    "# useful for identifying when to market specific products\n",
    "\n",
    "# Ordered by month to see which items peak early in the year vs. later.\n",
    "# ➤ “When should I market this product?”\n",
    "# ➤ “Which items peak in summer vs. winter?”\n"
   ]
  },
  {
   "cell_type": "code",
   "execution_count": 14,
   "id": "c47c8526",
   "metadata": {},
   "outputs": [
    {
     "data": {
      "application/vnd.jupyter.widget-view+json": {
       "model_id": "09c4d648104e4d38a339216adeee6471",
       "version_major": 2,
       "version_minor": 0
      },
      "text/plain": [
       "interactive(children=(Dropdown(description='item', options=('Blazer', 'Blouse', 'Camisole', 'Cardigan', 'Coat'…"
      ]
     },
     "metadata": {},
     "output_type": "display_data"
    }
   ],
   "source": [
    "# calculate co-purchase frequency and combine with item similarity (cosine-based)\n",
    "# create binary matrix of co-purchases (1 if customer bought the item)\n",
    "basket = df.groupby(['customerID', 'item']).size().unstack(fill_value=0)\n",
    "basket[basket > 0] = 1  # convert to binary matrix\n",
    "\n",
    "# compute co-purchase frequency (item-item)\n",
    "co_purchase = basket.T.dot(basket).fillna(0)\n",
    "\n",
    "# combine co-purchase and cosine similarity to recommend bundles\n",
    "bundle_recommendations = []\n",
    "\n",
    "for item in co_purchase.columns:\n",
    "    combined_score = (\n",
    "        (co_purchase[item] / co_purchase[item].max()) * 0.5 +\n",
    "        (item_similarity_df[item] / item_similarity_df[item].max()) * 0.5\n",
    "    )\n",
    "    top_bundle = combined_score.drop(item).sort_values(ascending=False).head(3)\n",
    "    for related_item, score in top_bundle.items():\n",
    "        bundle_recommendations.append({\n",
    "            'item': item,\n",
    "            'recommended_bundle': related_item,\n",
    "            'bundle_score': round(score, 3)\n",
    "        })\n",
    "\n",
    "# create dataframe of top bundle suggestions\n",
    "bundle_df = pd.DataFrame(bundle_recommendations)\n",
    "\n",
    "# interactive dropdown to explore bundles\n",
    "@interact(item=Dropdown(options=bundle_df['item'].unique(), description=\"item\"))\n",
    "def recommend_bundles(item):\n",
    "    top_related = bundle_df[bundle_df['item'] == item].sort_values(by='bundle_score', ascending=False)\n",
    "    display(top_related[['recommended_bundle', 'bundle_score']])\n"
   ]
  },
  {
   "cell_type": "code",
   "execution_count": 15,
   "id": "6858232d",
   "metadata": {},
   "outputs": [
    {
     "name": "stdout",
     "output_type": "stream",
     "text": [
      "       item      payment    review_level  total_sales  units_sold  avg_review\n",
      "4    Blazer  Credit Card  medium (2-3.5)       5161.0          10    2.620000\n",
      "2    Blazer         Cash     high (>3.5)       1262.0          10    4.190000\n",
      "5    Blazer  Credit Card     high (>3.5)       1188.0          12    4.058333\n",
      "3    Blazer  Credit Card       low (<=2)        662.0           6    1.450000\n",
      "0    Blazer         Cash       low (<=2)        639.0           6    1.700000\n",
      "..      ...          ...             ...          ...         ...         ...\n",
      "183    Vest  Credit Card       low (<=2)       1124.0           9    1.522222\n",
      "181    Vest         Cash  medium (2-3.5)        892.0           8    3.037500\n",
      "184    Vest  Credit Card  medium (2-3.5)        843.0           9    2.677778\n",
      "180    Vest         Cash       low (<=2)        820.0           6    1.566667\n",
      "185    Vest  Credit Card     high (>3.5)        525.0           6    4.183333\n",
      "\n",
      "[186 rows x 6 columns]\n"
     ]
    },
    {
     "data": {
      "application/vnd.jupyter.widget-view+json": {
       "model_id": "3b2a2e5c0c704f56ba3317b76e814357",
       "version_major": 2,
       "version_minor": 0
      },
      "text/plain": [
       "interactive(children=(Dropdown(description='item', options=('Blazer', 'Blouse', 'Camisole', 'Cardigan', 'Coat'…"
      ]
     },
     "metadata": {},
     "output_type": "display_data"
    }
   ],
   "source": [
    "# segment sales by payment method and review score\n",
    "# categorize review scores into bins\n",
    "bins = [0, 2, 3.5, 5]\n",
    "labels = ['low (<=2)', 'medium (2-3.5)', 'high (>3.5)']\n",
    "df['review_level'] = pd.cut(df['review'], bins=bins, labels=labels, include_lowest=True)\n",
    "\n",
    "# group by item, payment method, and review level\n",
    "segmented_sales = df.groupby(['item', 'payment', 'review_level']).agg(\n",
    "    total_sales=('amount_usd', 'sum'),\n",
    "    units_sold=('item', 'count'),\n",
    "    avg_review=('review', 'mean')\n",
    ").reset_index().sort_values(['item', 'total_sales'], ascending=[True, False])\n",
    "\n",
    "# display segmented results\n",
    "print(segmented_sales)\n",
    "\n",
    "# interactive dropdown to view segmented sales by item\n",
    "@interact(item=Dropdown(options=sorted(segmented_sales['item'].unique()), description=\"item\"))\n",
    "def segment_view(item):\n",
    "    seg_view = segmented_sales[segmented_sales['item'] == item]\n",
    "    display(seg_view[['payment', 'review_level', 'total_sales', 'units_sold', 'avg_review']])\n"
   ]
  },
  {
   "cell_type": "code",
   "execution_count": 16,
   "id": "30aac1f3",
   "metadata": {},
   "outputs": [
    {
     "data": {
      "application/vnd.jupyter.widget-view+json": {
       "model_id": "95bd3634759a418ab2c8aaec51885410",
       "version_major": 2,
       "version_minor": 0
      },
      "text/plain": [
       "interactive(children=(Dropdown(description='customer id:', options=(3957, 3958, 3959, 3960, 3961, 3962, 3963, …"
      ]
     },
     "metadata": {},
     "output_type": "display_data"
    }
   ],
   "source": [
    "# interactive dropdown to view purchase history by customer\n",
    "@interact(customer_id=Dropdown(options=sorted(df['customerID'].unique()), description='customer id:'))\n",
    "def show_customer_history(customer_id):\n",
    "    customer_data = df[df['customerID'] == customer_id].sort_values(by='date')\n",
    "    display(customer_data[['date', 'item', 'amount_usd', 'review', 'payment']].reset_index(drop=True))\n"
   ]
  },
  {
   "cell_type": "code",
   "execution_count": 17,
   "id": "413baa66",
   "metadata": {},
   "outputs": [
    {
     "data": {
      "application/vnd.jupyter.widget-view+json": {
       "model_id": "c503131b46e942fa84c3cf58139da5ee",
       "version_major": 2,
       "version_minor": 0
      },
      "text/plain": [
       "interactive(children=(Dropdown(description='customer id:', options=(3957, 3958, 3959, 3960, 3961, 3962, 3963, …"
      ]
     },
     "metadata": {},
     "output_type": "display_data"
    }
   ],
   "source": [
    "# interactive dropdown to plot review scores over time for each customer\n",
    "@interact(customer_id=Dropdown(options=sorted(df['customerID'].unique()), description='customer id:'))\n",
    "def plot_customer_reviews(customer_id):\n",
    "    cust_data = df[df['customerID'] == customer_id].sort_values('date')\n",
    "    \n",
    "    fig = go.Figure()\n",
    "    fig.add_trace(go.Scatter(\n",
    "        x=cust_data['date'],\n",
    "        y=cust_data['review'],\n",
    "        mode='lines+markers',\n",
    "        name=f\"customer {customer_id}\",\n",
    "        text=[f\"item: {item}<br>amount: ${amt:.2f}\" \n",
    "              for item, amt in zip(cust_data['item'], cust_data['amount_usd'])],\n",
    "        hoverinfo='text+x+y',\n",
    "        line=dict(color='royalblue', width=2)\n",
    "    ))\n",
    "    \n",
    "    fig.update_layout(\n",
    "        title=f\"review ratings over time for customer {customer_id}\",\n",
    "        xaxis_title='purchase date',\n",
    "        yaxis_title='review score',\n",
    "        yaxis=dict(range=[0, 5.5]),\n",
    "        template='plotly_white',\n",
    "        height=400\n",
    "    )\n",
    "    \n",
    "    fig.show()\n"
   ]
  },
  {
   "cell_type": "code",
   "execution_count": 18,
   "id": "8045dca3",
   "metadata": {},
   "outputs": [
    {
     "name": "stdout",
     "output_type": "stream",
     "text": [
      "             item first_month peak_month  lead_time_months\n",
      "0          Blazer  2022-10-01 2022-10-01                 0\n",
      "1          Blouse  2022-10-01 2023-03-01                 5\n",
      "2        Camisole  2022-10-01 2023-01-01                 3\n",
      "3        Cardigan  2022-10-01 2023-04-01                 6\n",
      "4            Coat  2022-10-01 2023-06-01                 8\n",
      "5           Dress  2022-10-01 2023-04-01                 6\n",
      "6   Flannel Shirt  2022-10-01 2023-03-01                 5\n",
      "7          Hoodie  2022-10-01 2022-10-01                 0\n",
      "8          Jacket  2022-10-01 2023-07-01                 9\n",
      "9           Jeans  2022-10-01 2023-05-01                 7\n",
      "10       Jumpsuit  2022-10-01 2023-06-01                 8\n",
      "11         Kimono  2022-10-01 2023-05-01                 7\n",
      "12       Leggings  2022-10-01 2023-03-01                 5\n",
      "13         Onesie  2022-10-01 2022-12-01                 2\n",
      "14       Overalls  2022-10-01 2022-11-01                 1\n",
      "15        Pajamas  2022-10-01 2022-12-01                 2\n",
      "16          Pants  2022-10-01 2023-05-01                 7\n",
      "17     Polo Shirt  2022-10-01 2022-11-01                 1\n",
      "18         Poncho  2022-10-01 2023-08-01                10\n",
      "19       Raincoat  2022-10-01 2023-07-01                 9\n",
      "20         Romper  2022-10-01 2022-11-01                 1\n",
      "21         Shorts  2022-10-01 2023-08-01                10\n",
      "22          Skirt  2022-10-01 2023-06-01                 8\n",
      "23        Sweater  2022-10-01 2022-12-01                 2\n",
      "24       Swimsuit  2022-10-01 2023-02-01                 4\n",
      "25        T-shirt  2022-10-01 2023-03-01                 5\n",
      "26       Tank Top  2022-10-01 2023-03-01                 5\n",
      "27    Trench Coat  2022-10-01 2023-06-01                 8\n",
      "28       Trousers  2022-10-01 2022-11-01                 1\n",
      "29          Tunic  2022-10-01 2023-04-01                 6\n",
      "30           Vest  2022-10-01 2023-02-01                 4\n"
     ]
    }
   ],
   "source": [
    "# calculate first and peak month per item\n",
    "first_months = monthly_sales.groupby('item')['month'].min().reset_index(name='first_month')\n",
    "peak_months = monthly_sales.loc[\n",
    "    monthly_sales.groupby('item')['Total_Sales'].idxmax()\n",
    "][['item', 'month']].rename(columns={'month': 'peak_month'})\n",
    "\n",
    "# merge to compute lead time from first sale to peak sale\n",
    "timing_df = pd.merge(first_months, peak_months, on='item')\n",
    "timing_df['lead_time_months'] = (\n",
    "    timing_df['peak_month'].dt.to_period('M') - timing_df['first_month'].dt.to_period('M')\n",
    ").apply(lambda x: x.n)\n",
    "\n",
    "# display results\n",
    "print(timing_df)\n",
    "\n",
    "# first_month: when the item first appeared in the dataset\n",
    "# peak_month: when the item had its highest total sales\n",
    "# lead_time_months: number of months it took to reach peak\n",
    "\n",
    "# ➤ “How long after launch does this product usually take to become popular?”\n",
    "# ➤ “How early should I introduce it before expecting strong sales?”"
   ]
  }
 ],
 "metadata": {
  "kernelspec": {
   "display_name": "Python [conda env:base] *",
   "language": "python",
   "name": "conda-base-py"
  },
  "language_info": {
   "codemirror_mode": {
    "name": "ipython",
    "version": 3
   },
   "file_extension": ".py",
   "mimetype": "text/x-python",
   "name": "python",
   "nbconvert_exporter": "python",
   "pygments_lexer": "ipython3",
   "version": "3.12.7"
  }
 },
 "nbformat": 4,
 "nbformat_minor": 5
}

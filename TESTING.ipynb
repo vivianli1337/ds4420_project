{
 "cells": [
  {
   "cell_type": "markdown",
   "id": "19b16ad9-49be-4bcc-8130-7cee5420896e",
   "metadata": {},
   "source": [
    "Reformatted code blocks to allow graph viewing without interact (mines broken)"
   ]
  },
  {
   "cell_type": "code",
   "execution_count": 30,
   "id": "1548b3a0-a284-4547-96fa-3dc5da3f97de",
   "metadata": {},
   "outputs": [],
   "source": [
    "# import libraries\n",
    "import pandas as pd\n",
    "import numpy as np\n",
    "from datetime import datetime\n",
    "from sklearn.metrics.pairwise import cosine_similarity\n",
    "import matplotlib.pyplot as plt\n",
    "import seaborn as sns\n",
    "import plotly.graph_objects as go\n",
    "from ipywidgets import interact, widgets, Dropdown, interactive\n",
    "from statsmodels.tsa.arima.model import ARIMA\n",
    "import warnings\n",
    "from IPython.display import display\n",
    "warnings.filterwarnings(\"ignore\")"
   ]
  },
  {
   "cell_type": "code",
   "execution_count": null,
   "id": "b1bf6b89-98e7-4932-9d2b-6ae8bcc2e02d",
   "metadata": {},
   "outputs": [],
   "source": []
  },
  {
   "cell_type": "code",
   "execution_count": 31,
   "id": "169b90be-dcb0-4053-9433-637dff7d68cc",
   "metadata": {},
   "outputs": [
    {
     "data": {
      "text/html": [
       "<div>\n",
       "<style scoped>\n",
       "    .dataframe tbody tr th:only-of-type {\n",
       "        vertical-align: middle;\n",
       "    }\n",
       "\n",
       "    .dataframe tbody tr th {\n",
       "        vertical-align: top;\n",
       "    }\n",
       "\n",
       "    .dataframe thead th {\n",
       "        text-align: right;\n",
       "    }\n",
       "</style>\n",
       "<table border=\"1\" class=\"dataframe\">\n",
       "  <thead>\n",
       "    <tr style=\"text-align: right;\">\n",
       "      <th></th>\n",
       "      <th>customerID</th>\n",
       "      <th>item</th>\n",
       "      <th>amount_usd</th>\n",
       "      <th>date</th>\n",
       "      <th>review</th>\n",
       "      <th>payment</th>\n",
       "      <th>month</th>\n",
       "    </tr>\n",
       "  </thead>\n",
       "  <tbody>\n",
       "    <tr>\n",
       "      <th>1</th>\n",
       "      <td>4115</td>\n",
       "      <td>Tunic</td>\n",
       "      <td>2456.0</td>\n",
       "      <td>2023-07-11</td>\n",
       "      <td>2.0</td>\n",
       "      <td>Credit Card</td>\n",
       "      <td>2023-07-01</td>\n",
       "    </tr>\n",
       "    <tr>\n",
       "      <th>2</th>\n",
       "      <td>4019</td>\n",
       "      <td>Tank Top</td>\n",
       "      <td>2102.0</td>\n",
       "      <td>2023-03-23</td>\n",
       "      <td>4.1</td>\n",
       "      <td>Cash</td>\n",
       "      <td>2023-03-01</td>\n",
       "    </tr>\n",
       "    <tr>\n",
       "      <th>3</th>\n",
       "      <td>4097</td>\n",
       "      <td>Leggings</td>\n",
       "      <td>3126.0</td>\n",
       "      <td>2023-03-15</td>\n",
       "      <td>3.2</td>\n",
       "      <td>Cash</td>\n",
       "      <td>2023-03-01</td>\n",
       "    </tr>\n",
       "    <tr>\n",
       "      <th>5</th>\n",
       "      <td>4080</td>\n",
       "      <td>Onesie</td>\n",
       "      <td>2914.0</td>\n",
       "      <td>2022-12-11</td>\n",
       "      <td>4.5</td>\n",
       "      <td>Credit Card</td>\n",
       "      <td>2022-12-01</td>\n",
       "    </tr>\n",
       "    <tr>\n",
       "      <th>6</th>\n",
       "      <td>4055</td>\n",
       "      <td>Jacket</td>\n",
       "      <td>2571.0</td>\n",
       "      <td>2023-07-08</td>\n",
       "      <td>1.3</td>\n",
       "      <td>Cash</td>\n",
       "      <td>2023-07-01</td>\n",
       "    </tr>\n",
       "    <tr>\n",
       "      <th>...</th>\n",
       "      <td>...</td>\n",
       "      <td>...</td>\n",
       "      <td>...</td>\n",
       "      <td>...</td>\n",
       "      <td>...</td>\n",
       "      <td>...</td>\n",
       "      <td>...</td>\n",
       "    </tr>\n",
       "    <tr>\n",
       "      <th>3388</th>\n",
       "      <td>4094</td>\n",
       "      <td>Trench Coat</td>\n",
       "      <td>17.0</td>\n",
       "      <td>2023-02-13</td>\n",
       "      <td>2.5</td>\n",
       "      <td>Credit Card</td>\n",
       "      <td>2023-02-01</td>\n",
       "    </tr>\n",
       "    <tr>\n",
       "      <th>3392</th>\n",
       "      <td>3981</td>\n",
       "      <td>Sweater</td>\n",
       "      <td>99.0</td>\n",
       "      <td>2022-10-25</td>\n",
       "      <td>4.5</td>\n",
       "      <td>Cash</td>\n",
       "      <td>2022-10-01</td>\n",
       "    </tr>\n",
       "    <tr>\n",
       "      <th>3393</th>\n",
       "      <td>4110</td>\n",
       "      <td>Polo Shirt</td>\n",
       "      <td>42.0</td>\n",
       "      <td>2022-10-15</td>\n",
       "      <td>4.0</td>\n",
       "      <td>Cash</td>\n",
       "      <td>2022-10-01</td>\n",
       "    </tr>\n",
       "    <tr>\n",
       "      <th>3394</th>\n",
       "      <td>4040</td>\n",
       "      <td>Tank Top</td>\n",
       "      <td>113.0</td>\n",
       "      <td>2023-01-20</td>\n",
       "      <td>1.2</td>\n",
       "      <td>Credit Card</td>\n",
       "      <td>2023-01-01</td>\n",
       "    </tr>\n",
       "    <tr>\n",
       "      <th>3395</th>\n",
       "      <td>4118</td>\n",
       "      <td>Shorts</td>\n",
       "      <td>37.0</td>\n",
       "      <td>2023-07-09</td>\n",
       "      <td>2.7</td>\n",
       "      <td>Cash</td>\n",
       "      <td>2023-07-01</td>\n",
       "    </tr>\n",
       "  </tbody>\n",
       "</table>\n",
       "<p>1731 rows × 7 columns</p>\n",
       "</div>"
      ],
      "text/plain": [
       "      customerID         item  amount_usd       date  review      payment  \\\n",
       "1           4115        Tunic      2456.0 2023-07-11     2.0  Credit Card   \n",
       "2           4019     Tank Top      2102.0 2023-03-23     4.1         Cash   \n",
       "3           4097     Leggings      3126.0 2023-03-15     3.2         Cash   \n",
       "5           4080       Onesie      2914.0 2022-12-11     4.5  Credit Card   \n",
       "6           4055       Jacket      2571.0 2023-07-08     1.3         Cash   \n",
       "...          ...          ...         ...        ...     ...          ...   \n",
       "3388        4094  Trench Coat        17.0 2023-02-13     2.5  Credit Card   \n",
       "3392        3981      Sweater        99.0 2022-10-25     4.5         Cash   \n",
       "3393        4110   Polo Shirt        42.0 2022-10-15     4.0         Cash   \n",
       "3394        4040     Tank Top       113.0 2023-01-20     1.2  Credit Card   \n",
       "3395        4118       Shorts        37.0 2023-07-09     2.7         Cash   \n",
       "\n",
       "          month  \n",
       "1    2023-07-01  \n",
       "2    2023-03-01  \n",
       "3    2023-03-01  \n",
       "5    2022-12-01  \n",
       "6    2023-07-01  \n",
       "...         ...  \n",
       "3388 2023-02-01  \n",
       "3392 2022-10-01  \n",
       "3393 2022-10-01  \n",
       "3394 2023-01-01  \n",
       "3395 2023-07-01  \n",
       "\n",
       "[1731 rows x 7 columns]"
      ]
     },
     "execution_count": 31,
     "metadata": {},
     "output_type": "execute_result"
    }
   ],
   "source": [
    "# define clothing items for filtering\n",
    "clothing_items = [\n",
    "    'Tunic', 'Tank Top', 'Leggings', 'Onesie', 'Jacket', 'Trousers', 'Jeans',\n",
    "    'Pajamas', 'Trench Coat', 'Poncho', 'Romper', 'T-shirt', 'Shorts',\n",
    "    'Blazer', 'Hoodie', 'Sweater', 'Blouse', 'Swimsuit', 'Kimono', 'Cardigan',\n",
    "    'Dress', 'Camisole', 'Flannel Shirt', 'Polo Shirt', 'Overalls', 'Coat',\n",
    "    'Vest', 'Jumpsuit', 'Raincoat', 'Skirt', 'Pants'\n",
    "]\n",
    "\n",
    "# function to load and preprocess dataset\n",
    "def load_and_clean_data(csv_path=\"retail_sales.csv\"):\n",
    "    df = pd.read_csv(csv_path)\n",
    "    df['date'] = pd.to_datetime(df['date'])\n",
    "    df = df.dropna(subset=['amount_usd'])\n",
    "    #df['review'] = df.groupby('item')['review'].transform(lambda x: x.fillna(x.mean()))\n",
    "    df['month'] = df['date'].dt.to_period('M').dt.to_timestamp()\n",
    "    df = df[df['item'].isin(clothing_items)].copy()\n",
    "    return df\n",
    "\n",
    "# load once and reuse\n",
    "df = load_and_clean_data()\n",
    "df"
   ]
  },
  {
   "cell_type": "markdown",
   "id": "200303f9-1fe0-4db1-bbf8-c268faf55e4f",
   "metadata": {},
   "source": [
    "OUT OF DATE"
   ]
  },
  {
   "cell_type": "code",
   "execution_count": 32,
   "id": "6040fef3-bc76-49a9-97c8-332fdea13d71",
   "metadata": {},
   "outputs": [
    {
     "data": {
      "text/html": [
       "<div>\n",
       "<style scoped>\n",
       "    .dataframe tbody tr th:only-of-type {\n",
       "        vertical-align: middle;\n",
       "    }\n",
       "\n",
       "    .dataframe tbody tr th {\n",
       "        vertical-align: top;\n",
       "    }\n",
       "\n",
       "    .dataframe thead th {\n",
       "        text-align: right;\n",
       "    }\n",
       "</style>\n",
       "<table border=\"1\" class=\"dataframe\">\n",
       "  <thead>\n",
       "    <tr style=\"text-align: right;\">\n",
       "      <th></th>\n",
       "      <th>customerID</th>\n",
       "      <th>item</th>\n",
       "      <th>amount_usd</th>\n",
       "      <th>date</th>\n",
       "      <th>review</th>\n",
       "      <th>payment</th>\n",
       "      <th>month</th>\n",
       "    </tr>\n",
       "  </thead>\n",
       "  <tbody>\n",
       "    <tr>\n",
       "      <th>1</th>\n",
       "      <td>4115</td>\n",
       "      <td>Tunic</td>\n",
       "      <td>2456.0</td>\n",
       "      <td>2023-07-11</td>\n",
       "      <td>2.0</td>\n",
       "      <td>Credit Card</td>\n",
       "      <td>2023-07-01</td>\n",
       "    </tr>\n",
       "    <tr>\n",
       "      <th>2</th>\n",
       "      <td>4019</td>\n",
       "      <td>Tank Top</td>\n",
       "      <td>2102.0</td>\n",
       "      <td>2023-03-23</td>\n",
       "      <td>4.1</td>\n",
       "      <td>Cash</td>\n",
       "      <td>2023-03-01</td>\n",
       "    </tr>\n",
       "    <tr>\n",
       "      <th>3</th>\n",
       "      <td>4097</td>\n",
       "      <td>Leggings</td>\n",
       "      <td>3126.0</td>\n",
       "      <td>2023-03-15</td>\n",
       "      <td>3.2</td>\n",
       "      <td>Cash</td>\n",
       "      <td>2023-03-01</td>\n",
       "    </tr>\n",
       "    <tr>\n",
       "      <th>5</th>\n",
       "      <td>4080</td>\n",
       "      <td>Onesie</td>\n",
       "      <td>2914.0</td>\n",
       "      <td>2022-12-11</td>\n",
       "      <td>4.5</td>\n",
       "      <td>Credit Card</td>\n",
       "      <td>2022-12-01</td>\n",
       "    </tr>\n",
       "    <tr>\n",
       "      <th>6</th>\n",
       "      <td>4055</td>\n",
       "      <td>Jacket</td>\n",
       "      <td>2571.0</td>\n",
       "      <td>2023-07-08</td>\n",
       "      <td>1.3</td>\n",
       "      <td>Cash</td>\n",
       "      <td>2023-07-01</td>\n",
       "    </tr>\n",
       "    <tr>\n",
       "      <th>...</th>\n",
       "      <td>...</td>\n",
       "      <td>...</td>\n",
       "      <td>...</td>\n",
       "      <td>...</td>\n",
       "      <td>...</td>\n",
       "      <td>...</td>\n",
       "      <td>...</td>\n",
       "    </tr>\n",
       "    <tr>\n",
       "      <th>3388</th>\n",
       "      <td>4094</td>\n",
       "      <td>Trench Coat</td>\n",
       "      <td>17.0</td>\n",
       "      <td>2023-02-13</td>\n",
       "      <td>2.5</td>\n",
       "      <td>Credit Card</td>\n",
       "      <td>2023-02-01</td>\n",
       "    </tr>\n",
       "    <tr>\n",
       "      <th>3392</th>\n",
       "      <td>3981</td>\n",
       "      <td>Sweater</td>\n",
       "      <td>99.0</td>\n",
       "      <td>2022-10-25</td>\n",
       "      <td>4.5</td>\n",
       "      <td>Cash</td>\n",
       "      <td>2022-10-01</td>\n",
       "    </tr>\n",
       "    <tr>\n",
       "      <th>3393</th>\n",
       "      <td>4110</td>\n",
       "      <td>Polo Shirt</td>\n",
       "      <td>42.0</td>\n",
       "      <td>2022-10-15</td>\n",
       "      <td>4.0</td>\n",
       "      <td>Cash</td>\n",
       "      <td>2022-10-01</td>\n",
       "    </tr>\n",
       "    <tr>\n",
       "      <th>3394</th>\n",
       "      <td>4040</td>\n",
       "      <td>Tank Top</td>\n",
       "      <td>113.0</td>\n",
       "      <td>2023-01-20</td>\n",
       "      <td>1.2</td>\n",
       "      <td>Credit Card</td>\n",
       "      <td>2023-01-01</td>\n",
       "    </tr>\n",
       "    <tr>\n",
       "      <th>3395</th>\n",
       "      <td>4118</td>\n",
       "      <td>Shorts</td>\n",
       "      <td>37.0</td>\n",
       "      <td>2023-07-09</td>\n",
       "      <td>2.7</td>\n",
       "      <td>Cash</td>\n",
       "      <td>2023-07-01</td>\n",
       "    </tr>\n",
       "  </tbody>\n",
       "</table>\n",
       "<p>1731 rows × 7 columns</p>\n",
       "</div>"
      ],
      "text/plain": [
       "      customerID         item  amount_usd       date  review      payment  \\\n",
       "1           4115        Tunic      2456.0 2023-07-11     2.0  Credit Card   \n",
       "2           4019     Tank Top      2102.0 2023-03-23     4.1         Cash   \n",
       "3           4097     Leggings      3126.0 2023-03-15     3.2         Cash   \n",
       "5           4080       Onesie      2914.0 2022-12-11     4.5  Credit Card   \n",
       "6           4055       Jacket      2571.0 2023-07-08     1.3         Cash   \n",
       "...          ...          ...         ...        ...     ...          ...   \n",
       "3388        4094  Trench Coat        17.0 2023-02-13     2.5  Credit Card   \n",
       "3392        3981      Sweater        99.0 2022-10-25     4.5         Cash   \n",
       "3393        4110   Polo Shirt        42.0 2022-10-15     4.0         Cash   \n",
       "3394        4040     Tank Top       113.0 2023-01-20     1.2  Credit Card   \n",
       "3395        4118       Shorts        37.0 2023-07-09     2.7         Cash   \n",
       "\n",
       "          month  \n",
       "1    2023-07-01  \n",
       "2    2023-03-01  \n",
       "3    2023-03-01  \n",
       "5    2022-12-01  \n",
       "6    2023-07-01  \n",
       "...         ...  \n",
       "3388 2023-02-01  \n",
       "3392 2022-10-01  \n",
       "3393 2022-10-01  \n",
       "3394 2023-01-01  \n",
       "3395 2023-07-01  \n",
       "\n",
       "[1731 rows x 7 columns]"
      ]
     },
     "execution_count": 32,
     "metadata": {},
     "output_type": "execute_result"
    }
   ],
   "source": [
    "# define clothing items for filtering\n",
    "clothing_items = [\n",
    "    'Tunic', 'Tank Top', 'Leggings', 'Onesie', 'Jacket', 'Trousers', 'Jeans',\n",
    "    'Pajamas', 'Trench Coat', 'Poncho', 'Romper', 'T-shirt', 'Shorts',\n",
    "    'Blazer', 'Hoodie', 'Sweater', 'Blouse', 'Swimsuit', 'Kimono', 'Cardigan',\n",
    "    'Dress', 'Camisole', 'Flannel Shirt', 'Polo Shirt', 'Overalls', 'Coat',\n",
    "    'Vest', 'Jumpsuit', 'Raincoat', 'Skirt', 'Pants'\n",
    "]\n",
    "\n",
    "# function to load and preprocess dataset\n",
    "def load_and_clean_data(csv_path=\"retail_sales.csv\"):\n",
    "    df = pd.read_csv(csv_path)\n",
    "    df['date'] = pd.to_datetime(df['date'])\n",
    "    df = df.dropna(subset=['amount_usd'])\n",
    "    df['review'] = df.groupby('item')['review'].transform(lambda x: x.fillna(x.mean()))\n",
    "    df['amount_usd'] = df.groupby('item')['amount_usd'].transform(lambda x: x.fillna(x.mean()))\n",
    "    df['month'] = df['date'].dt.to_period('M').dt.to_timestamp()\n",
    "    df = df[df['item'].isin(clothing_items)].copy()\n",
    "    return df\n",
    "\n",
    "# load once and reuse\n",
    "df = load_and_clean_data()\n",
    "df"
   ]
  },
  {
   "cell_type": "code",
   "execution_count": 35,
   "id": "76bfa4c1-8041-4013-8c91-6e94b76cb685",
   "metadata": {},
   "outputs": [
    {
     "data": {
      "text/html": [
       "<div>\n",
       "<style scoped>\n",
       "    .dataframe tbody tr th:only-of-type {\n",
       "        vertical-align: middle;\n",
       "    }\n",
       "\n",
       "    .dataframe tbody tr th {\n",
       "        vertical-align: top;\n",
       "    }\n",
       "\n",
       "    .dataframe thead th {\n",
       "        text-align: right;\n",
       "    }\n",
       "</style>\n",
       "<table border=\"1\" class=\"dataframe\">\n",
       "  <thead>\n",
       "    <tr style=\"text-align: right;\">\n",
       "      <th>item</th>\n",
       "      <th>Blazer</th>\n",
       "      <th>Blouse</th>\n",
       "      <th>Camisole</th>\n",
       "      <th>Cardigan</th>\n",
       "      <th>Coat</th>\n",
       "      <th>Dress</th>\n",
       "      <th>Flannel Shirt</th>\n",
       "      <th>Hoodie</th>\n",
       "      <th>Jacket</th>\n",
       "      <th>Jeans</th>\n",
       "      <th>...</th>\n",
       "      <th>Shorts</th>\n",
       "      <th>Skirt</th>\n",
       "      <th>Sweater</th>\n",
       "      <th>Swimsuit</th>\n",
       "      <th>T-shirt</th>\n",
       "      <th>Tank Top</th>\n",
       "      <th>Trench Coat</th>\n",
       "      <th>Trousers</th>\n",
       "      <th>Tunic</th>\n",
       "      <th>Vest</th>\n",
       "    </tr>\n",
       "    <tr>\n",
       "      <th>item</th>\n",
       "      <th></th>\n",
       "      <th></th>\n",
       "      <th></th>\n",
       "      <th></th>\n",
       "      <th></th>\n",
       "      <th></th>\n",
       "      <th></th>\n",
       "      <th></th>\n",
       "      <th></th>\n",
       "      <th></th>\n",
       "      <th></th>\n",
       "      <th></th>\n",
       "      <th></th>\n",
       "      <th></th>\n",
       "      <th></th>\n",
       "      <th></th>\n",
       "      <th></th>\n",
       "      <th></th>\n",
       "      <th></th>\n",
       "      <th></th>\n",
       "      <th></th>\n",
       "    </tr>\n",
       "  </thead>\n",
       "  <tbody>\n",
       "    <tr>\n",
       "      <th>Blazer</th>\n",
       "      <td>1.000000</td>\n",
       "      <td>0.269034</td>\n",
       "      <td>0.295436</td>\n",
       "      <td>0.242722</td>\n",
       "      <td>0.299525</td>\n",
       "      <td>0.251524</td>\n",
       "      <td>0.282525</td>\n",
       "      <td>0.319720</td>\n",
       "      <td>0.364543</td>\n",
       "      <td>0.195559</td>\n",
       "      <td>...</td>\n",
       "      <td>0.338580</td>\n",
       "      <td>0.258742</td>\n",
       "      <td>0.285589</td>\n",
       "      <td>0.123033</td>\n",
       "      <td>0.210132</td>\n",
       "      <td>0.320071</td>\n",
       "      <td>0.357494</td>\n",
       "      <td>0.269032</td>\n",
       "      <td>0.266801</td>\n",
       "      <td>0.260543</td>\n",
       "    </tr>\n",
       "    <tr>\n",
       "      <th>Blouse</th>\n",
       "      <td>0.269034</td>\n",
       "      <td>1.000000</td>\n",
       "      <td>0.209378</td>\n",
       "      <td>0.328976</td>\n",
       "      <td>0.297133</td>\n",
       "      <td>0.194275</td>\n",
       "      <td>0.170113</td>\n",
       "      <td>0.245565</td>\n",
       "      <td>0.192634</td>\n",
       "      <td>0.145043</td>\n",
       "      <td>...</td>\n",
       "      <td>0.281821</td>\n",
       "      <td>0.203784</td>\n",
       "      <td>0.223863</td>\n",
       "      <td>0.260894</td>\n",
       "      <td>0.278332</td>\n",
       "      <td>0.262419</td>\n",
       "      <td>0.249910</td>\n",
       "      <td>0.195779</td>\n",
       "      <td>0.195182</td>\n",
       "      <td>0.299700</td>\n",
       "    </tr>\n",
       "    <tr>\n",
       "      <th>Camisole</th>\n",
       "      <td>0.295436</td>\n",
       "      <td>0.209378</td>\n",
       "      <td>1.000000</td>\n",
       "      <td>0.292431</td>\n",
       "      <td>0.344939</td>\n",
       "      <td>0.200492</td>\n",
       "      <td>0.246504</td>\n",
       "      <td>0.313322</td>\n",
       "      <td>0.282745</td>\n",
       "      <td>0.269769</td>\n",
       "      <td>...</td>\n",
       "      <td>0.193334</td>\n",
       "      <td>0.318110</td>\n",
       "      <td>0.310471</td>\n",
       "      <td>0.314169</td>\n",
       "      <td>0.242314</td>\n",
       "      <td>0.318242</td>\n",
       "      <td>0.224845</td>\n",
       "      <td>0.195373</td>\n",
       "      <td>0.168815</td>\n",
       "      <td>0.320797</td>\n",
       "    </tr>\n",
       "    <tr>\n",
       "      <th>Cardigan</th>\n",
       "      <td>0.242722</td>\n",
       "      <td>0.328976</td>\n",
       "      <td>0.292431</td>\n",
       "      <td>1.000000</td>\n",
       "      <td>0.163898</td>\n",
       "      <td>0.225151</td>\n",
       "      <td>0.214330</td>\n",
       "      <td>0.313503</td>\n",
       "      <td>0.376980</td>\n",
       "      <td>0.143659</td>\n",
       "      <td>...</td>\n",
       "      <td>0.256129</td>\n",
       "      <td>0.199026</td>\n",
       "      <td>0.263105</td>\n",
       "      <td>0.302722</td>\n",
       "      <td>0.318166</td>\n",
       "      <td>0.288822</td>\n",
       "      <td>0.293961</td>\n",
       "      <td>0.290540</td>\n",
       "      <td>0.293223</td>\n",
       "      <td>0.166311</td>\n",
       "    </tr>\n",
       "    <tr>\n",
       "      <th>Coat</th>\n",
       "      <td>0.299525</td>\n",
       "      <td>0.297133</td>\n",
       "      <td>0.344939</td>\n",
       "      <td>0.163898</td>\n",
       "      <td>1.000000</td>\n",
       "      <td>0.233803</td>\n",
       "      <td>0.171412</td>\n",
       "      <td>0.245120</td>\n",
       "      <td>0.273791</td>\n",
       "      <td>0.279755</td>\n",
       "      <td>...</td>\n",
       "      <td>0.205922</td>\n",
       "      <td>0.288875</td>\n",
       "      <td>0.157241</td>\n",
       "      <td>0.184416</td>\n",
       "      <td>0.194902</td>\n",
       "      <td>0.173814</td>\n",
       "      <td>0.139846</td>\n",
       "      <td>0.230629</td>\n",
       "      <td>0.266812</td>\n",
       "      <td>0.337774</td>\n",
       "    </tr>\n",
       "    <tr>\n",
       "      <th>Dress</th>\n",
       "      <td>0.251524</td>\n",
       "      <td>0.194275</td>\n",
       "      <td>0.200492</td>\n",
       "      <td>0.225151</td>\n",
       "      <td>0.233803</td>\n",
       "      <td>1.000000</td>\n",
       "      <td>0.202205</td>\n",
       "      <td>0.269103</td>\n",
       "      <td>0.209228</td>\n",
       "      <td>0.236610</td>\n",
       "      <td>...</td>\n",
       "      <td>0.240913</td>\n",
       "      <td>0.314591</td>\n",
       "      <td>0.217736</td>\n",
       "      <td>0.262293</td>\n",
       "      <td>0.256921</td>\n",
       "      <td>0.371892</td>\n",
       "      <td>0.184842</td>\n",
       "      <td>0.180716</td>\n",
       "      <td>0.329242</td>\n",
       "      <td>0.264302</td>\n",
       "    </tr>\n",
       "    <tr>\n",
       "      <th>Flannel Shirt</th>\n",
       "      <td>0.282525</td>\n",
       "      <td>0.170113</td>\n",
       "      <td>0.246504</td>\n",
       "      <td>0.214330</td>\n",
       "      <td>0.171412</td>\n",
       "      <td>0.202205</td>\n",
       "      <td>1.000000</td>\n",
       "      <td>0.189765</td>\n",
       "      <td>0.282555</td>\n",
       "      <td>0.235418</td>\n",
       "      <td>...</td>\n",
       "      <td>0.308304</td>\n",
       "      <td>0.272351</td>\n",
       "      <td>0.399347</td>\n",
       "      <td>0.175329</td>\n",
       "      <td>0.265681</td>\n",
       "      <td>0.160423</td>\n",
       "      <td>0.319639</td>\n",
       "      <td>0.271641</td>\n",
       "      <td>0.336158</td>\n",
       "      <td>0.178089</td>\n",
       "    </tr>\n",
       "    <tr>\n",
       "      <th>Hoodie</th>\n",
       "      <td>0.319720</td>\n",
       "      <td>0.245565</td>\n",
       "      <td>0.313322</td>\n",
       "      <td>0.313503</td>\n",
       "      <td>0.245120</td>\n",
       "      <td>0.269103</td>\n",
       "      <td>0.189765</td>\n",
       "      <td>1.000000</td>\n",
       "      <td>0.252810</td>\n",
       "      <td>0.164609</td>\n",
       "      <td>...</td>\n",
       "      <td>0.205073</td>\n",
       "      <td>0.284394</td>\n",
       "      <td>0.282427</td>\n",
       "      <td>0.219530</td>\n",
       "      <td>0.277828</td>\n",
       "      <td>0.255405</td>\n",
       "      <td>0.287033</td>\n",
       "      <td>0.216589</td>\n",
       "      <td>0.227414</td>\n",
       "      <td>0.268333</td>\n",
       "    </tr>\n",
       "    <tr>\n",
       "      <th>Jacket</th>\n",
       "      <td>0.364543</td>\n",
       "      <td>0.192634</td>\n",
       "      <td>0.282745</td>\n",
       "      <td>0.376980</td>\n",
       "      <td>0.273791</td>\n",
       "      <td>0.209228</td>\n",
       "      <td>0.282555</td>\n",
       "      <td>0.252810</td>\n",
       "      <td>1.000000</td>\n",
       "      <td>0.177811</td>\n",
       "      <td>...</td>\n",
       "      <td>0.208519</td>\n",
       "      <td>0.199531</td>\n",
       "      <td>0.241310</td>\n",
       "      <td>0.197381</td>\n",
       "      <td>0.173454</td>\n",
       "      <td>0.240491</td>\n",
       "      <td>0.267008</td>\n",
       "      <td>0.184581</td>\n",
       "      <td>0.219295</td>\n",
       "      <td>0.224277</td>\n",
       "    </tr>\n",
       "    <tr>\n",
       "      <th>Jeans</th>\n",
       "      <td>0.195559</td>\n",
       "      <td>0.145043</td>\n",
       "      <td>0.269769</td>\n",
       "      <td>0.143659</td>\n",
       "      <td>0.279755</td>\n",
       "      <td>0.236610</td>\n",
       "      <td>0.235418</td>\n",
       "      <td>0.164609</td>\n",
       "      <td>0.177811</td>\n",
       "      <td>1.000000</td>\n",
       "      <td>...</td>\n",
       "      <td>0.410164</td>\n",
       "      <td>0.377378</td>\n",
       "      <td>0.246530</td>\n",
       "      <td>0.128058</td>\n",
       "      <td>0.252231</td>\n",
       "      <td>0.329185</td>\n",
       "      <td>0.170409</td>\n",
       "      <td>0.088180</td>\n",
       "      <td>0.228394</td>\n",
       "      <td>0.404409</td>\n",
       "    </tr>\n",
       "    <tr>\n",
       "      <th>Jumpsuit</th>\n",
       "      <td>0.257565</td>\n",
       "      <td>0.218718</td>\n",
       "      <td>0.374811</td>\n",
       "      <td>0.317824</td>\n",
       "      <td>0.163246</td>\n",
       "      <td>0.323268</td>\n",
       "      <td>0.232856</td>\n",
       "      <td>0.266454</td>\n",
       "      <td>0.231921</td>\n",
       "      <td>0.250551</td>\n",
       "      <td>...</td>\n",
       "      <td>0.227222</td>\n",
       "      <td>0.249986</td>\n",
       "      <td>0.212309</td>\n",
       "      <td>0.244497</td>\n",
       "      <td>0.299524</td>\n",
       "      <td>0.253958</td>\n",
       "      <td>0.251641</td>\n",
       "      <td>0.195326</td>\n",
       "      <td>0.263636</td>\n",
       "      <td>0.241632</td>\n",
       "    </tr>\n",
       "    <tr>\n",
       "      <th>Kimono</th>\n",
       "      <td>0.279608</td>\n",
       "      <td>0.416800</td>\n",
       "      <td>0.333972</td>\n",
       "      <td>0.215204</td>\n",
       "      <td>0.246974</td>\n",
       "      <td>0.319720</td>\n",
       "      <td>0.123186</td>\n",
       "      <td>0.288823</td>\n",
       "      <td>0.156545</td>\n",
       "      <td>0.305925</td>\n",
       "      <td>...</td>\n",
       "      <td>0.275931</td>\n",
       "      <td>0.311807</td>\n",
       "      <td>0.265658</td>\n",
       "      <td>0.333218</td>\n",
       "      <td>0.249657</td>\n",
       "      <td>0.362300</td>\n",
       "      <td>0.176642</td>\n",
       "      <td>0.208640</td>\n",
       "      <td>0.226523</td>\n",
       "      <td>0.299834</td>\n",
       "    </tr>\n",
       "    <tr>\n",
       "      <th>Leggings</th>\n",
       "      <td>0.320197</td>\n",
       "      <td>0.234189</td>\n",
       "      <td>0.377528</td>\n",
       "      <td>0.270246</td>\n",
       "      <td>0.249041</td>\n",
       "      <td>0.219692</td>\n",
       "      <td>0.246064</td>\n",
       "      <td>0.215311</td>\n",
       "      <td>0.438457</td>\n",
       "      <td>0.232372</td>\n",
       "      <td>...</td>\n",
       "      <td>0.288671</td>\n",
       "      <td>0.296209</td>\n",
       "      <td>0.240950</td>\n",
       "      <td>0.240927</td>\n",
       "      <td>0.197235</td>\n",
       "      <td>0.284464</td>\n",
       "      <td>0.343736</td>\n",
       "      <td>0.182825</td>\n",
       "      <td>0.274820</td>\n",
       "      <td>0.248426</td>\n",
       "    </tr>\n",
       "    <tr>\n",
       "      <th>Onesie</th>\n",
       "      <td>0.219085</td>\n",
       "      <td>0.324443</td>\n",
       "      <td>0.375798</td>\n",
       "      <td>0.238671</td>\n",
       "      <td>0.297077</td>\n",
       "      <td>0.222296</td>\n",
       "      <td>0.131161</td>\n",
       "      <td>0.346718</td>\n",
       "      <td>0.270033</td>\n",
       "      <td>0.252107</td>\n",
       "      <td>...</td>\n",
       "      <td>0.289162</td>\n",
       "      <td>0.236052</td>\n",
       "      <td>0.223193</td>\n",
       "      <td>0.307726</td>\n",
       "      <td>0.209466</td>\n",
       "      <td>0.270057</td>\n",
       "      <td>0.205852</td>\n",
       "      <td>0.186440</td>\n",
       "      <td>0.206525</td>\n",
       "      <td>0.435640</td>\n",
       "    </tr>\n",
       "    <tr>\n",
       "      <th>Overalls</th>\n",
       "      <td>0.276765</td>\n",
       "      <td>0.289977</td>\n",
       "      <td>0.282264</td>\n",
       "      <td>0.280861</td>\n",
       "      <td>0.262974</td>\n",
       "      <td>0.270018</td>\n",
       "      <td>0.267221</td>\n",
       "      <td>0.267016</td>\n",
       "      <td>0.257024</td>\n",
       "      <td>0.159984</td>\n",
       "      <td>...</td>\n",
       "      <td>0.286773</td>\n",
       "      <td>0.302136</td>\n",
       "      <td>0.246803</td>\n",
       "      <td>0.234519</td>\n",
       "      <td>0.230406</td>\n",
       "      <td>0.318336</td>\n",
       "      <td>0.274961</td>\n",
       "      <td>0.286665</td>\n",
       "      <td>0.240898</td>\n",
       "      <td>0.207719</td>\n",
       "    </tr>\n",
       "    <tr>\n",
       "      <th>Pajamas</th>\n",
       "      <td>0.208874</td>\n",
       "      <td>0.279963</td>\n",
       "      <td>0.272800</td>\n",
       "      <td>0.255494</td>\n",
       "      <td>0.289049</td>\n",
       "      <td>0.283165</td>\n",
       "      <td>0.331204</td>\n",
       "      <td>0.285215</td>\n",
       "      <td>0.195740</td>\n",
       "      <td>0.243272</td>\n",
       "      <td>...</td>\n",
       "      <td>0.388383</td>\n",
       "      <td>0.355063</td>\n",
       "      <td>0.340559</td>\n",
       "      <td>0.285392</td>\n",
       "      <td>0.273944</td>\n",
       "      <td>0.246279</td>\n",
       "      <td>0.197354</td>\n",
       "      <td>0.317379</td>\n",
       "      <td>0.251790</td>\n",
       "      <td>0.219386</td>\n",
       "    </tr>\n",
       "    <tr>\n",
       "      <th>Pants</th>\n",
       "      <td>0.287652</td>\n",
       "      <td>0.280571</td>\n",
       "      <td>0.239374</td>\n",
       "      <td>0.282767</td>\n",
       "      <td>0.219199</td>\n",
       "      <td>0.255760</td>\n",
       "      <td>0.343336</td>\n",
       "      <td>0.254673</td>\n",
       "      <td>0.254975</td>\n",
       "      <td>0.294312</td>\n",
       "      <td>...</td>\n",
       "      <td>0.273134</td>\n",
       "      <td>0.296310</td>\n",
       "      <td>0.269131</td>\n",
       "      <td>0.284342</td>\n",
       "      <td>0.197473</td>\n",
       "      <td>0.325218</td>\n",
       "      <td>0.305208</td>\n",
       "      <td>0.199358</td>\n",
       "      <td>0.392477</td>\n",
       "      <td>0.242852</td>\n",
       "    </tr>\n",
       "    <tr>\n",
       "      <th>Polo Shirt</th>\n",
       "      <td>0.232725</td>\n",
       "      <td>0.132279</td>\n",
       "      <td>0.288646</td>\n",
       "      <td>0.272498</td>\n",
       "      <td>0.210580</td>\n",
       "      <td>0.179095</td>\n",
       "      <td>0.257112</td>\n",
       "      <td>0.347868</td>\n",
       "      <td>0.326316</td>\n",
       "      <td>0.179699</td>\n",
       "      <td>...</td>\n",
       "      <td>0.246437</td>\n",
       "      <td>0.180785</td>\n",
       "      <td>0.121345</td>\n",
       "      <td>0.140974</td>\n",
       "      <td>0.194913</td>\n",
       "      <td>0.231797</td>\n",
       "      <td>0.117704</td>\n",
       "      <td>0.177517</td>\n",
       "      <td>0.230633</td>\n",
       "      <td>0.198624</td>\n",
       "    </tr>\n",
       "    <tr>\n",
       "      <th>Poncho</th>\n",
       "      <td>0.235361</td>\n",
       "      <td>0.166361</td>\n",
       "      <td>0.196405</td>\n",
       "      <td>0.337770</td>\n",
       "      <td>0.217300</td>\n",
       "      <td>0.215950</td>\n",
       "      <td>0.236773</td>\n",
       "      <td>0.320877</td>\n",
       "      <td>0.399676</td>\n",
       "      <td>0.113809</td>\n",
       "      <td>...</td>\n",
       "      <td>0.257917</td>\n",
       "      <td>0.223619</td>\n",
       "      <td>0.211274</td>\n",
       "      <td>0.221952</td>\n",
       "      <td>0.149181</td>\n",
       "      <td>0.249593</td>\n",
       "      <td>0.214657</td>\n",
       "      <td>0.224823</td>\n",
       "      <td>0.215461</td>\n",
       "      <td>0.194149</td>\n",
       "    </tr>\n",
       "    <tr>\n",
       "      <th>Raincoat</th>\n",
       "      <td>0.265506</td>\n",
       "      <td>0.264954</td>\n",
       "      <td>0.212492</td>\n",
       "      <td>0.293366</td>\n",
       "      <td>0.162458</td>\n",
       "      <td>0.218186</td>\n",
       "      <td>0.319133</td>\n",
       "      <td>0.266916</td>\n",
       "      <td>0.278619</td>\n",
       "      <td>0.159222</td>\n",
       "      <td>...</td>\n",
       "      <td>0.253614</td>\n",
       "      <td>0.225578</td>\n",
       "      <td>0.202345</td>\n",
       "      <td>0.263609</td>\n",
       "      <td>0.216248</td>\n",
       "      <td>0.316617</td>\n",
       "      <td>0.240841</td>\n",
       "      <td>0.178579</td>\n",
       "      <td>0.269692</td>\n",
       "      <td>0.251439</td>\n",
       "    </tr>\n",
       "    <tr>\n",
       "      <th>Romper</th>\n",
       "      <td>0.266774</td>\n",
       "      <td>0.228520</td>\n",
       "      <td>0.236243</td>\n",
       "      <td>0.259279</td>\n",
       "      <td>0.226276</td>\n",
       "      <td>0.240096</td>\n",
       "      <td>0.246830</td>\n",
       "      <td>0.235827</td>\n",
       "      <td>0.282602</td>\n",
       "      <td>0.133951</td>\n",
       "      <td>...</td>\n",
       "      <td>0.240018</td>\n",
       "      <td>0.360151</td>\n",
       "      <td>0.250605</td>\n",
       "      <td>0.174655</td>\n",
       "      <td>0.294584</td>\n",
       "      <td>0.367361</td>\n",
       "      <td>0.301577</td>\n",
       "      <td>0.192361</td>\n",
       "      <td>0.153114</td>\n",
       "      <td>0.199112</td>\n",
       "    </tr>\n",
       "    <tr>\n",
       "      <th>Shorts</th>\n",
       "      <td>0.338580</td>\n",
       "      <td>0.281821</td>\n",
       "      <td>0.193334</td>\n",
       "      <td>0.256129</td>\n",
       "      <td>0.205922</td>\n",
       "      <td>0.240913</td>\n",
       "      <td>0.308304</td>\n",
       "      <td>0.205073</td>\n",
       "      <td>0.208519</td>\n",
       "      <td>0.410164</td>\n",
       "      <td>...</td>\n",
       "      <td>1.000000</td>\n",
       "      <td>0.226729</td>\n",
       "      <td>0.309184</td>\n",
       "      <td>0.211193</td>\n",
       "      <td>0.279954</td>\n",
       "      <td>0.348661</td>\n",
       "      <td>0.254170</td>\n",
       "      <td>0.279022</td>\n",
       "      <td>0.279046</td>\n",
       "      <td>0.323950</td>\n",
       "    </tr>\n",
       "    <tr>\n",
       "      <th>Skirt</th>\n",
       "      <td>0.258742</td>\n",
       "      <td>0.203784</td>\n",
       "      <td>0.318110</td>\n",
       "      <td>0.199026</td>\n",
       "      <td>0.288875</td>\n",
       "      <td>0.314591</td>\n",
       "      <td>0.272351</td>\n",
       "      <td>0.284394</td>\n",
       "      <td>0.199531</td>\n",
       "      <td>0.377378</td>\n",
       "      <td>...</td>\n",
       "      <td>0.226729</td>\n",
       "      <td>1.000000</td>\n",
       "      <td>0.279904</td>\n",
       "      <td>0.251020</td>\n",
       "      <td>0.248754</td>\n",
       "      <td>0.402607</td>\n",
       "      <td>0.217321</td>\n",
       "      <td>0.283723</td>\n",
       "      <td>0.367199</td>\n",
       "      <td>0.339399</td>\n",
       "    </tr>\n",
       "    <tr>\n",
       "      <th>Sweater</th>\n",
       "      <td>0.285589</td>\n",
       "      <td>0.223863</td>\n",
       "      <td>0.310471</td>\n",
       "      <td>0.263105</td>\n",
       "      <td>0.157241</td>\n",
       "      <td>0.217736</td>\n",
       "      <td>0.399347</td>\n",
       "      <td>0.282427</td>\n",
       "      <td>0.241310</td>\n",
       "      <td>0.246530</td>\n",
       "      <td>...</td>\n",
       "      <td>0.309184</td>\n",
       "      <td>0.279904</td>\n",
       "      <td>1.000000</td>\n",
       "      <td>0.121269</td>\n",
       "      <td>0.195523</td>\n",
       "      <td>0.231060</td>\n",
       "      <td>0.261297</td>\n",
       "      <td>0.190645</td>\n",
       "      <td>0.377072</td>\n",
       "      <td>0.312934</td>\n",
       "    </tr>\n",
       "    <tr>\n",
       "      <th>Swimsuit</th>\n",
       "      <td>0.123033</td>\n",
       "      <td>0.260894</td>\n",
       "      <td>0.314169</td>\n",
       "      <td>0.302722</td>\n",
       "      <td>0.184416</td>\n",
       "      <td>0.262293</td>\n",
       "      <td>0.175329</td>\n",
       "      <td>0.219530</td>\n",
       "      <td>0.197381</td>\n",
       "      <td>0.128058</td>\n",
       "      <td>...</td>\n",
       "      <td>0.211193</td>\n",
       "      <td>0.251020</td>\n",
       "      <td>0.121269</td>\n",
       "      <td>1.000000</td>\n",
       "      <td>0.313579</td>\n",
       "      <td>0.226964</td>\n",
       "      <td>0.327010</td>\n",
       "      <td>0.224270</td>\n",
       "      <td>0.168844</td>\n",
       "      <td>0.221270</td>\n",
       "    </tr>\n",
       "    <tr>\n",
       "      <th>T-shirt</th>\n",
       "      <td>0.210132</td>\n",
       "      <td>0.278332</td>\n",
       "      <td>0.242314</td>\n",
       "      <td>0.318166</td>\n",
       "      <td>0.194902</td>\n",
       "      <td>0.256921</td>\n",
       "      <td>0.265681</td>\n",
       "      <td>0.277828</td>\n",
       "      <td>0.173454</td>\n",
       "      <td>0.252231</td>\n",
       "      <td>...</td>\n",
       "      <td>0.279954</td>\n",
       "      <td>0.248754</td>\n",
       "      <td>0.195523</td>\n",
       "      <td>0.313579</td>\n",
       "      <td>1.000000</td>\n",
       "      <td>0.315534</td>\n",
       "      <td>0.263421</td>\n",
       "      <td>0.265997</td>\n",
       "      <td>0.274709</td>\n",
       "      <td>0.255391</td>\n",
       "    </tr>\n",
       "    <tr>\n",
       "      <th>Tank Top</th>\n",
       "      <td>0.320071</td>\n",
       "      <td>0.262419</td>\n",
       "      <td>0.318242</td>\n",
       "      <td>0.288822</td>\n",
       "      <td>0.173814</td>\n",
       "      <td>0.371892</td>\n",
       "      <td>0.160423</td>\n",
       "      <td>0.255405</td>\n",
       "      <td>0.240491</td>\n",
       "      <td>0.329185</td>\n",
       "      <td>...</td>\n",
       "      <td>0.348661</td>\n",
       "      <td>0.402607</td>\n",
       "      <td>0.231060</td>\n",
       "      <td>0.226964</td>\n",
       "      <td>0.315534</td>\n",
       "      <td>1.000000</td>\n",
       "      <td>0.275720</td>\n",
       "      <td>0.242427</td>\n",
       "      <td>0.270793</td>\n",
       "      <td>0.273075</td>\n",
       "    </tr>\n",
       "    <tr>\n",
       "      <th>Trench Coat</th>\n",
       "      <td>0.357494</td>\n",
       "      <td>0.249910</td>\n",
       "      <td>0.224845</td>\n",
       "      <td>0.293961</td>\n",
       "      <td>0.139846</td>\n",
       "      <td>0.184842</td>\n",
       "      <td>0.319639</td>\n",
       "      <td>0.287033</td>\n",
       "      <td>0.267008</td>\n",
       "      <td>0.170409</td>\n",
       "      <td>...</td>\n",
       "      <td>0.254170</td>\n",
       "      <td>0.217321</td>\n",
       "      <td>0.261297</td>\n",
       "      <td>0.327010</td>\n",
       "      <td>0.263421</td>\n",
       "      <td>0.275720</td>\n",
       "      <td>1.000000</td>\n",
       "      <td>0.249658</td>\n",
       "      <td>0.178491</td>\n",
       "      <td>0.255114</td>\n",
       "    </tr>\n",
       "    <tr>\n",
       "      <th>Trousers</th>\n",
       "      <td>0.269032</td>\n",
       "      <td>0.195779</td>\n",
       "      <td>0.195373</td>\n",
       "      <td>0.290540</td>\n",
       "      <td>0.230629</td>\n",
       "      <td>0.180716</td>\n",
       "      <td>0.271641</td>\n",
       "      <td>0.216589</td>\n",
       "      <td>0.184581</td>\n",
       "      <td>0.088180</td>\n",
       "      <td>...</td>\n",
       "      <td>0.279022</td>\n",
       "      <td>0.283723</td>\n",
       "      <td>0.190645</td>\n",
       "      <td>0.224270</td>\n",
       "      <td>0.265997</td>\n",
       "      <td>0.242427</td>\n",
       "      <td>0.249658</td>\n",
       "      <td>1.000000</td>\n",
       "      <td>0.157790</td>\n",
       "      <td>0.172856</td>\n",
       "    </tr>\n",
       "    <tr>\n",
       "      <th>Tunic</th>\n",
       "      <td>0.266801</td>\n",
       "      <td>0.195182</td>\n",
       "      <td>0.168815</td>\n",
       "      <td>0.293223</td>\n",
       "      <td>0.266812</td>\n",
       "      <td>0.329242</td>\n",
       "      <td>0.336158</td>\n",
       "      <td>0.227414</td>\n",
       "      <td>0.219295</td>\n",
       "      <td>0.228394</td>\n",
       "      <td>...</td>\n",
       "      <td>0.279046</td>\n",
       "      <td>0.367199</td>\n",
       "      <td>0.377072</td>\n",
       "      <td>0.168844</td>\n",
       "      <td>0.274709</td>\n",
       "      <td>0.270793</td>\n",
       "      <td>0.178491</td>\n",
       "      <td>0.157790</td>\n",
       "      <td>1.000000</td>\n",
       "      <td>0.253796</td>\n",
       "    </tr>\n",
       "    <tr>\n",
       "      <th>Vest</th>\n",
       "      <td>0.260543</td>\n",
       "      <td>0.299700</td>\n",
       "      <td>0.320797</td>\n",
       "      <td>0.166311</td>\n",
       "      <td>0.337774</td>\n",
       "      <td>0.264302</td>\n",
       "      <td>0.178089</td>\n",
       "      <td>0.268333</td>\n",
       "      <td>0.224277</td>\n",
       "      <td>0.404409</td>\n",
       "      <td>...</td>\n",
       "      <td>0.323950</td>\n",
       "      <td>0.339399</td>\n",
       "      <td>0.312934</td>\n",
       "      <td>0.221270</td>\n",
       "      <td>0.255391</td>\n",
       "      <td>0.273075</td>\n",
       "      <td>0.255114</td>\n",
       "      <td>0.172856</td>\n",
       "      <td>0.253796</td>\n",
       "      <td>1.000000</td>\n",
       "    </tr>\n",
       "  </tbody>\n",
       "</table>\n",
       "<p>31 rows × 31 columns</p>\n",
       "</div>"
      ],
      "text/plain": [
       "item             Blazer    Blouse  Camisole  Cardigan      Coat     Dress  \\\n",
       "item                                                                        \n",
       "Blazer         1.000000  0.269034  0.295436  0.242722  0.299525  0.251524   \n",
       "Blouse         0.269034  1.000000  0.209378  0.328976  0.297133  0.194275   \n",
       "Camisole       0.295436  0.209378  1.000000  0.292431  0.344939  0.200492   \n",
       "Cardigan       0.242722  0.328976  0.292431  1.000000  0.163898  0.225151   \n",
       "Coat           0.299525  0.297133  0.344939  0.163898  1.000000  0.233803   \n",
       "Dress          0.251524  0.194275  0.200492  0.225151  0.233803  1.000000   \n",
       "Flannel Shirt  0.282525  0.170113  0.246504  0.214330  0.171412  0.202205   \n",
       "Hoodie         0.319720  0.245565  0.313322  0.313503  0.245120  0.269103   \n",
       "Jacket         0.364543  0.192634  0.282745  0.376980  0.273791  0.209228   \n",
       "Jeans          0.195559  0.145043  0.269769  0.143659  0.279755  0.236610   \n",
       "Jumpsuit       0.257565  0.218718  0.374811  0.317824  0.163246  0.323268   \n",
       "Kimono         0.279608  0.416800  0.333972  0.215204  0.246974  0.319720   \n",
       "Leggings       0.320197  0.234189  0.377528  0.270246  0.249041  0.219692   \n",
       "Onesie         0.219085  0.324443  0.375798  0.238671  0.297077  0.222296   \n",
       "Overalls       0.276765  0.289977  0.282264  0.280861  0.262974  0.270018   \n",
       "Pajamas        0.208874  0.279963  0.272800  0.255494  0.289049  0.283165   \n",
       "Pants          0.287652  0.280571  0.239374  0.282767  0.219199  0.255760   \n",
       "Polo Shirt     0.232725  0.132279  0.288646  0.272498  0.210580  0.179095   \n",
       "Poncho         0.235361  0.166361  0.196405  0.337770  0.217300  0.215950   \n",
       "Raincoat       0.265506  0.264954  0.212492  0.293366  0.162458  0.218186   \n",
       "Romper         0.266774  0.228520  0.236243  0.259279  0.226276  0.240096   \n",
       "Shorts         0.338580  0.281821  0.193334  0.256129  0.205922  0.240913   \n",
       "Skirt          0.258742  0.203784  0.318110  0.199026  0.288875  0.314591   \n",
       "Sweater        0.285589  0.223863  0.310471  0.263105  0.157241  0.217736   \n",
       "Swimsuit       0.123033  0.260894  0.314169  0.302722  0.184416  0.262293   \n",
       "T-shirt        0.210132  0.278332  0.242314  0.318166  0.194902  0.256921   \n",
       "Tank Top       0.320071  0.262419  0.318242  0.288822  0.173814  0.371892   \n",
       "Trench Coat    0.357494  0.249910  0.224845  0.293961  0.139846  0.184842   \n",
       "Trousers       0.269032  0.195779  0.195373  0.290540  0.230629  0.180716   \n",
       "Tunic          0.266801  0.195182  0.168815  0.293223  0.266812  0.329242   \n",
       "Vest           0.260543  0.299700  0.320797  0.166311  0.337774  0.264302   \n",
       "\n",
       "item           Flannel Shirt    Hoodie    Jacket     Jeans  ...    Shorts  \\\n",
       "item                                                        ...             \n",
       "Blazer              0.282525  0.319720  0.364543  0.195559  ...  0.338580   \n",
       "Blouse              0.170113  0.245565  0.192634  0.145043  ...  0.281821   \n",
       "Camisole            0.246504  0.313322  0.282745  0.269769  ...  0.193334   \n",
       "Cardigan            0.214330  0.313503  0.376980  0.143659  ...  0.256129   \n",
       "Coat                0.171412  0.245120  0.273791  0.279755  ...  0.205922   \n",
       "Dress               0.202205  0.269103  0.209228  0.236610  ...  0.240913   \n",
       "Flannel Shirt       1.000000  0.189765  0.282555  0.235418  ...  0.308304   \n",
       "Hoodie              0.189765  1.000000  0.252810  0.164609  ...  0.205073   \n",
       "Jacket              0.282555  0.252810  1.000000  0.177811  ...  0.208519   \n",
       "Jeans               0.235418  0.164609  0.177811  1.000000  ...  0.410164   \n",
       "Jumpsuit            0.232856  0.266454  0.231921  0.250551  ...  0.227222   \n",
       "Kimono              0.123186  0.288823  0.156545  0.305925  ...  0.275931   \n",
       "Leggings            0.246064  0.215311  0.438457  0.232372  ...  0.288671   \n",
       "Onesie              0.131161  0.346718  0.270033  0.252107  ...  0.289162   \n",
       "Overalls            0.267221  0.267016  0.257024  0.159984  ...  0.286773   \n",
       "Pajamas             0.331204  0.285215  0.195740  0.243272  ...  0.388383   \n",
       "Pants               0.343336  0.254673  0.254975  0.294312  ...  0.273134   \n",
       "Polo Shirt          0.257112  0.347868  0.326316  0.179699  ...  0.246437   \n",
       "Poncho              0.236773  0.320877  0.399676  0.113809  ...  0.257917   \n",
       "Raincoat            0.319133  0.266916  0.278619  0.159222  ...  0.253614   \n",
       "Romper              0.246830  0.235827  0.282602  0.133951  ...  0.240018   \n",
       "Shorts              0.308304  0.205073  0.208519  0.410164  ...  1.000000   \n",
       "Skirt               0.272351  0.284394  0.199531  0.377378  ...  0.226729   \n",
       "Sweater             0.399347  0.282427  0.241310  0.246530  ...  0.309184   \n",
       "Swimsuit            0.175329  0.219530  0.197381  0.128058  ...  0.211193   \n",
       "T-shirt             0.265681  0.277828  0.173454  0.252231  ...  0.279954   \n",
       "Tank Top            0.160423  0.255405  0.240491  0.329185  ...  0.348661   \n",
       "Trench Coat         0.319639  0.287033  0.267008  0.170409  ...  0.254170   \n",
       "Trousers            0.271641  0.216589  0.184581  0.088180  ...  0.279022   \n",
       "Tunic               0.336158  0.227414  0.219295  0.228394  ...  0.279046   \n",
       "Vest                0.178089  0.268333  0.224277  0.404409  ...  0.323950   \n",
       "\n",
       "item              Skirt   Sweater  Swimsuit   T-shirt  Tank Top  Trench Coat  \\\n",
       "item                                                                           \n",
       "Blazer         0.258742  0.285589  0.123033  0.210132  0.320071     0.357494   \n",
       "Blouse         0.203784  0.223863  0.260894  0.278332  0.262419     0.249910   \n",
       "Camisole       0.318110  0.310471  0.314169  0.242314  0.318242     0.224845   \n",
       "Cardigan       0.199026  0.263105  0.302722  0.318166  0.288822     0.293961   \n",
       "Coat           0.288875  0.157241  0.184416  0.194902  0.173814     0.139846   \n",
       "Dress          0.314591  0.217736  0.262293  0.256921  0.371892     0.184842   \n",
       "Flannel Shirt  0.272351  0.399347  0.175329  0.265681  0.160423     0.319639   \n",
       "Hoodie         0.284394  0.282427  0.219530  0.277828  0.255405     0.287033   \n",
       "Jacket         0.199531  0.241310  0.197381  0.173454  0.240491     0.267008   \n",
       "Jeans          0.377378  0.246530  0.128058  0.252231  0.329185     0.170409   \n",
       "Jumpsuit       0.249986  0.212309  0.244497  0.299524  0.253958     0.251641   \n",
       "Kimono         0.311807  0.265658  0.333218  0.249657  0.362300     0.176642   \n",
       "Leggings       0.296209  0.240950  0.240927  0.197235  0.284464     0.343736   \n",
       "Onesie         0.236052  0.223193  0.307726  0.209466  0.270057     0.205852   \n",
       "Overalls       0.302136  0.246803  0.234519  0.230406  0.318336     0.274961   \n",
       "Pajamas        0.355063  0.340559  0.285392  0.273944  0.246279     0.197354   \n",
       "Pants          0.296310  0.269131  0.284342  0.197473  0.325218     0.305208   \n",
       "Polo Shirt     0.180785  0.121345  0.140974  0.194913  0.231797     0.117704   \n",
       "Poncho         0.223619  0.211274  0.221952  0.149181  0.249593     0.214657   \n",
       "Raincoat       0.225578  0.202345  0.263609  0.216248  0.316617     0.240841   \n",
       "Romper         0.360151  0.250605  0.174655  0.294584  0.367361     0.301577   \n",
       "Shorts         0.226729  0.309184  0.211193  0.279954  0.348661     0.254170   \n",
       "Skirt          1.000000  0.279904  0.251020  0.248754  0.402607     0.217321   \n",
       "Sweater        0.279904  1.000000  0.121269  0.195523  0.231060     0.261297   \n",
       "Swimsuit       0.251020  0.121269  1.000000  0.313579  0.226964     0.327010   \n",
       "T-shirt        0.248754  0.195523  0.313579  1.000000  0.315534     0.263421   \n",
       "Tank Top       0.402607  0.231060  0.226964  0.315534  1.000000     0.275720   \n",
       "Trench Coat    0.217321  0.261297  0.327010  0.263421  0.275720     1.000000   \n",
       "Trousers       0.283723  0.190645  0.224270  0.265997  0.242427     0.249658   \n",
       "Tunic          0.367199  0.377072  0.168844  0.274709  0.270793     0.178491   \n",
       "Vest           0.339399  0.312934  0.221270  0.255391  0.273075     0.255114   \n",
       "\n",
       "item           Trousers     Tunic      Vest  \n",
       "item                                         \n",
       "Blazer         0.269032  0.266801  0.260543  \n",
       "Blouse         0.195779  0.195182  0.299700  \n",
       "Camisole       0.195373  0.168815  0.320797  \n",
       "Cardigan       0.290540  0.293223  0.166311  \n",
       "Coat           0.230629  0.266812  0.337774  \n",
       "Dress          0.180716  0.329242  0.264302  \n",
       "Flannel Shirt  0.271641  0.336158  0.178089  \n",
       "Hoodie         0.216589  0.227414  0.268333  \n",
       "Jacket         0.184581  0.219295  0.224277  \n",
       "Jeans          0.088180  0.228394  0.404409  \n",
       "Jumpsuit       0.195326  0.263636  0.241632  \n",
       "Kimono         0.208640  0.226523  0.299834  \n",
       "Leggings       0.182825  0.274820  0.248426  \n",
       "Onesie         0.186440  0.206525  0.435640  \n",
       "Overalls       0.286665  0.240898  0.207719  \n",
       "Pajamas        0.317379  0.251790  0.219386  \n",
       "Pants          0.199358  0.392477  0.242852  \n",
       "Polo Shirt     0.177517  0.230633  0.198624  \n",
       "Poncho         0.224823  0.215461  0.194149  \n",
       "Raincoat       0.178579  0.269692  0.251439  \n",
       "Romper         0.192361  0.153114  0.199112  \n",
       "Shorts         0.279022  0.279046  0.323950  \n",
       "Skirt          0.283723  0.367199  0.339399  \n",
       "Sweater        0.190645  0.377072  0.312934  \n",
       "Swimsuit       0.224270  0.168844  0.221270  \n",
       "T-shirt        0.265997  0.274709  0.255391  \n",
       "Tank Top       0.242427  0.270793  0.273075  \n",
       "Trench Coat    0.249658  0.178491  0.255114  \n",
       "Trousers       1.000000  0.157790  0.172856  \n",
       "Tunic          0.157790  1.000000  0.253796  \n",
       "Vest           0.172856  0.253796  1.000000  \n",
       "\n",
       "[31 rows x 31 columns]"
      ]
     },
     "execution_count": 35,
     "metadata": {},
     "output_type": "execute_result"
    }
   ],
   "source": [
    "# load the dataset\n",
    "df = load_and_clean_data()\n",
    "\n",
    "# create user-item review matrix\n",
    "user_item_matrix = df.pivot_table(index='customerID', columns='item', values='review', aggfunc='mean')\n",
    "user_item_filled = user_item_matrix.fillna(0)\n",
    "item_user_matrix = user_item_filled.T\n",
    "\n",
    "# compute cosine similarity between items\n",
    "item_similarity_matrix = cosine_similarity(item_user_matrix)\n",
    "item_similarity_df = pd.DataFrame(item_similarity_matrix, index=item_user_matrix.index, columns=item_user_matrix.index)\n",
    "\n",
    "item_similarity_df"
   ]
  },
  {
   "cell_type": "code",
   "execution_count": 5,
   "id": "e1e4dbc2-1ced-4d7e-9aec-c8bead9c08e9",
   "metadata": {},
   "outputs": [
    {
     "data": {
      "text/html": [
       "<div>\n",
       "<style scoped>\n",
       "    .dataframe tbody tr th:only-of-type {\n",
       "        vertical-align: middle;\n",
       "    }\n",
       "\n",
       "    .dataframe tbody tr th {\n",
       "        vertical-align: top;\n",
       "    }\n",
       "\n",
       "    .dataframe thead th {\n",
       "        text-align: right;\n",
       "    }\n",
       "</style>\n",
       "<table border=\"1\" class=\"dataframe\">\n",
       "  <thead>\n",
       "    <tr style=\"text-align: right;\">\n",
       "      <th>item</th>\n",
       "      <th>Blazer</th>\n",
       "      <th>Blouse</th>\n",
       "      <th>Camisole</th>\n",
       "      <th>Cardigan</th>\n",
       "      <th>Coat</th>\n",
       "      <th>Dress</th>\n",
       "      <th>Flannel Shirt</th>\n",
       "      <th>Hoodie</th>\n",
       "      <th>Jacket</th>\n",
       "      <th>Jeans</th>\n",
       "      <th>...</th>\n",
       "      <th>Shorts</th>\n",
       "      <th>Skirt</th>\n",
       "      <th>Sweater</th>\n",
       "      <th>Swimsuit</th>\n",
       "      <th>T-shirt</th>\n",
       "      <th>Tank Top</th>\n",
       "      <th>Trench Coat</th>\n",
       "      <th>Trousers</th>\n",
       "      <th>Tunic</th>\n",
       "      <th>Vest</th>\n",
       "    </tr>\n",
       "    <tr>\n",
       "      <th>item</th>\n",
       "      <th></th>\n",
       "      <th></th>\n",
       "      <th></th>\n",
       "      <th></th>\n",
       "      <th></th>\n",
       "      <th></th>\n",
       "      <th></th>\n",
       "      <th></th>\n",
       "      <th></th>\n",
       "      <th></th>\n",
       "      <th></th>\n",
       "      <th></th>\n",
       "      <th></th>\n",
       "      <th></th>\n",
       "      <th></th>\n",
       "      <th></th>\n",
       "      <th></th>\n",
       "      <th></th>\n",
       "      <th></th>\n",
       "      <th></th>\n",
       "      <th></th>\n",
       "    </tr>\n",
       "  </thead>\n",
       "  <tbody>\n",
       "    <tr>\n",
       "      <th>Blazer</th>\n",
       "      <td>1.000000</td>\n",
       "      <td>0.613506</td>\n",
       "      <td>-0.037886</td>\n",
       "      <td>-0.325033</td>\n",
       "      <td>0.259020</td>\n",
       "      <td>0.066242</td>\n",
       "      <td>0.063449</td>\n",
       "      <td>0.118534</td>\n",
       "      <td>0.099268</td>\n",
       "      <td>0.352119</td>\n",
       "      <td>...</td>\n",
       "      <td>-0.039342</td>\n",
       "      <td>0.179899</td>\n",
       "      <td>0.315585</td>\n",
       "      <td>-0.815656</td>\n",
       "      <td>0.011009</td>\n",
       "      <td>0.337508</td>\n",
       "      <td>-0.388931</td>\n",
       "      <td>0.149361</td>\n",
       "      <td>0.167213</td>\n",
       "      <td>0.072340</td>\n",
       "    </tr>\n",
       "    <tr>\n",
       "      <th>Blouse</th>\n",
       "      <td>0.613506</td>\n",
       "      <td>1.000000</td>\n",
       "      <td>-0.127418</td>\n",
       "      <td>-0.137590</td>\n",
       "      <td>-0.018213</td>\n",
       "      <td>-0.176739</td>\n",
       "      <td>0.236349</td>\n",
       "      <td>0.140696</td>\n",
       "      <td>0.546358</td>\n",
       "      <td>0.406577</td>\n",
       "      <td>...</td>\n",
       "      <td>0.525952</td>\n",
       "      <td>-0.450925</td>\n",
       "      <td>0.145300</td>\n",
       "      <td>-0.292161</td>\n",
       "      <td>0.104178</td>\n",
       "      <td>-0.272933</td>\n",
       "      <td>-0.045831</td>\n",
       "      <td>0.217683</td>\n",
       "      <td>0.054493</td>\n",
       "      <td>0.035683</td>\n",
       "    </tr>\n",
       "    <tr>\n",
       "      <th>Camisole</th>\n",
       "      <td>-0.037886</td>\n",
       "      <td>-0.127418</td>\n",
       "      <td>1.000000</td>\n",
       "      <td>0.536624</td>\n",
       "      <td>0.188549</td>\n",
       "      <td>0.370970</td>\n",
       "      <td>0.420270</td>\n",
       "      <td>0.127050</td>\n",
       "      <td>-0.126953</td>\n",
       "      <td>0.248921</td>\n",
       "      <td>...</td>\n",
       "      <td>0.270832</td>\n",
       "      <td>0.078684</td>\n",
       "      <td>-0.111787</td>\n",
       "      <td>0.244393</td>\n",
       "      <td>0.252145</td>\n",
       "      <td>0.077898</td>\n",
       "      <td>0.555700</td>\n",
       "      <td>0.460412</td>\n",
       "      <td>-0.100861</td>\n",
       "      <td>-0.198166</td>\n",
       "    </tr>\n",
       "    <tr>\n",
       "      <th>Cardigan</th>\n",
       "      <td>-0.325033</td>\n",
       "      <td>-0.137590</td>\n",
       "      <td>0.536624</td>\n",
       "      <td>1.000000</td>\n",
       "      <td>0.036681</td>\n",
       "      <td>0.378272</td>\n",
       "      <td>0.154291</td>\n",
       "      <td>-0.160901</td>\n",
       "      <td>-0.195337</td>\n",
       "      <td>-0.390998</td>\n",
       "      <td>...</td>\n",
       "      <td>-0.348528</td>\n",
       "      <td>-0.038159</td>\n",
       "      <td>-0.134749</td>\n",
       "      <td>-0.091426</td>\n",
       "      <td>0.351983</td>\n",
       "      <td>-0.138949</td>\n",
       "      <td>-0.020708</td>\n",
       "      <td>-0.437312</td>\n",
       "      <td>-0.405032</td>\n",
       "      <td>-0.221577</td>\n",
       "    </tr>\n",
       "    <tr>\n",
       "      <th>Coat</th>\n",
       "      <td>0.259020</td>\n",
       "      <td>-0.018213</td>\n",
       "      <td>0.188549</td>\n",
       "      <td>0.036681</td>\n",
       "      <td>1.000000</td>\n",
       "      <td>-0.322471</td>\n",
       "      <td>0.225955</td>\n",
       "      <td>0.184268</td>\n",
       "      <td>-0.587789</td>\n",
       "      <td>-0.108071</td>\n",
       "      <td>...</td>\n",
       "      <td>0.439758</td>\n",
       "      <td>-0.082531</td>\n",
       "      <td>-0.703612</td>\n",
       "      <td>0.194207</td>\n",
       "      <td>0.414359</td>\n",
       "      <td>0.472660</td>\n",
       "      <td>-0.190402</td>\n",
       "      <td>-0.334232</td>\n",
       "      <td>0.513978</td>\n",
       "      <td>0.035437</td>\n",
       "    </tr>\n",
       "    <tr>\n",
       "      <th>Dress</th>\n",
       "      <td>0.066242</td>\n",
       "      <td>-0.176739</td>\n",
       "      <td>0.370970</td>\n",
       "      <td>0.378272</td>\n",
       "      <td>-0.322471</td>\n",
       "      <td>1.000000</td>\n",
       "      <td>0.459280</td>\n",
       "      <td>-0.140405</td>\n",
       "      <td>0.120283</td>\n",
       "      <td>-0.214259</td>\n",
       "      <td>...</td>\n",
       "      <td>-0.075904</td>\n",
       "      <td>0.180964</td>\n",
       "      <td>-0.105547</td>\n",
       "      <td>-0.225323</td>\n",
       "      <td>-0.268401</td>\n",
       "      <td>0.091954</td>\n",
       "      <td>-0.067197</td>\n",
       "      <td>-0.116869</td>\n",
       "      <td>-0.209117</td>\n",
       "      <td>-0.457003</td>\n",
       "    </tr>\n",
       "    <tr>\n",
       "      <th>Flannel Shirt</th>\n",
       "      <td>0.063449</td>\n",
       "      <td>0.236349</td>\n",
       "      <td>0.420270</td>\n",
       "      <td>0.154291</td>\n",
       "      <td>0.225955</td>\n",
       "      <td>0.459280</td>\n",
       "      <td>1.000000</td>\n",
       "      <td>-0.276561</td>\n",
       "      <td>0.248943</td>\n",
       "      <td>-0.074626</td>\n",
       "      <td>...</td>\n",
       "      <td>0.256468</td>\n",
       "      <td>0.355701</td>\n",
       "      <td>0.147627</td>\n",
       "      <td>0.312887</td>\n",
       "      <td>-0.267070</td>\n",
       "      <td>0.075576</td>\n",
       "      <td>-0.174452</td>\n",
       "      <td>0.332925</td>\n",
       "      <td>0.275561</td>\n",
       "      <td>0.059581</td>\n",
       "    </tr>\n",
       "    <tr>\n",
       "      <th>Hoodie</th>\n",
       "      <td>0.118534</td>\n",
       "      <td>0.140696</td>\n",
       "      <td>0.127050</td>\n",
       "      <td>-0.160901</td>\n",
       "      <td>0.184268</td>\n",
       "      <td>-0.140405</td>\n",
       "      <td>-0.276561</td>\n",
       "      <td>1.000000</td>\n",
       "      <td>0.078242</td>\n",
       "      <td>0.261148</td>\n",
       "      <td>...</td>\n",
       "      <td>0.057316</td>\n",
       "      <td>-0.099126</td>\n",
       "      <td>-0.067062</td>\n",
       "      <td>0.547459</td>\n",
       "      <td>0.035324</td>\n",
       "      <td>-0.225263</td>\n",
       "      <td>0.209276</td>\n",
       "      <td>-0.148083</td>\n",
       "      <td>-0.050539</td>\n",
       "      <td>-0.134125</td>\n",
       "    </tr>\n",
       "    <tr>\n",
       "      <th>Jacket</th>\n",
       "      <td>0.099268</td>\n",
       "      <td>0.546358</td>\n",
       "      <td>-0.126953</td>\n",
       "      <td>-0.195337</td>\n",
       "      <td>-0.587789</td>\n",
       "      <td>0.120283</td>\n",
       "      <td>0.248943</td>\n",
       "      <td>0.078242</td>\n",
       "      <td>1.000000</td>\n",
       "      <td>0.485097</td>\n",
       "      <td>...</td>\n",
       "      <td>-0.421419</td>\n",
       "      <td>-0.136521</td>\n",
       "      <td>0.358348</td>\n",
       "      <td>0.069086</td>\n",
       "      <td>-0.398051</td>\n",
       "      <td>-0.413388</td>\n",
       "      <td>-0.334037</td>\n",
       "      <td>0.293137</td>\n",
       "      <td>-0.097857</td>\n",
       "      <td>0.121013</td>\n",
       "    </tr>\n",
       "    <tr>\n",
       "      <th>Jeans</th>\n",
       "      <td>0.352119</td>\n",
       "      <td>0.406577</td>\n",
       "      <td>0.248921</td>\n",
       "      <td>-0.390998</td>\n",
       "      <td>-0.108071</td>\n",
       "      <td>-0.214259</td>\n",
       "      <td>-0.074626</td>\n",
       "      <td>0.261148</td>\n",
       "      <td>0.485097</td>\n",
       "      <td>1.000000</td>\n",
       "      <td>...</td>\n",
       "      <td>-0.491642</td>\n",
       "      <td>0.189174</td>\n",
       "      <td>0.213073</td>\n",
       "      <td>0.192671</td>\n",
       "      <td>-0.008024</td>\n",
       "      <td>-0.044019</td>\n",
       "      <td>0.248585</td>\n",
       "      <td>0.410515</td>\n",
       "      <td>0.258257</td>\n",
       "      <td>-0.417703</td>\n",
       "    </tr>\n",
       "    <tr>\n",
       "      <th>Jumpsuit</th>\n",
       "      <td>-0.088240</td>\n",
       "      <td>-0.294312</td>\n",
       "      <td>0.062078</td>\n",
       "      <td>-0.136726</td>\n",
       "      <td>-0.315476</td>\n",
       "      <td>0.512273</td>\n",
       "      <td>-0.161293</td>\n",
       "      <td>-0.459556</td>\n",
       "      <td>0.034323</td>\n",
       "      <td>-0.411026</td>\n",
       "      <td>...</td>\n",
       "      <td>-0.274299</td>\n",
       "      <td>-0.243260</td>\n",
       "      <td>-0.382911</td>\n",
       "      <td>-0.041001</td>\n",
       "      <td>-0.405616</td>\n",
       "      <td>0.202213</td>\n",
       "      <td>0.266465</td>\n",
       "      <td>0.016390</td>\n",
       "      <td>-0.116819</td>\n",
       "      <td>0.181927</td>\n",
       "    </tr>\n",
       "    <tr>\n",
       "      <th>Kimono</th>\n",
       "      <td>0.176438</td>\n",
       "      <td>0.122722</td>\n",
       "      <td>0.420831</td>\n",
       "      <td>0.154959</td>\n",
       "      <td>-0.049307</td>\n",
       "      <td>0.309165</td>\n",
       "      <td>-0.179408</td>\n",
       "      <td>-0.009759</td>\n",
       "      <td>-0.474674</td>\n",
       "      <td>0.111071</td>\n",
       "      <td>...</td>\n",
       "      <td>-0.245258</td>\n",
       "      <td>-0.317147</td>\n",
       "      <td>-0.137901</td>\n",
       "      <td>-0.359784</td>\n",
       "      <td>-0.037286</td>\n",
       "      <td>-0.025102</td>\n",
       "      <td>0.007702</td>\n",
       "      <td>-0.212316</td>\n",
       "      <td>-0.133893</td>\n",
       "      <td>-0.180325</td>\n",
       "    </tr>\n",
       "    <tr>\n",
       "      <th>Leggings</th>\n",
       "      <td>-0.228298</td>\n",
       "      <td>-0.674152</td>\n",
       "      <td>-0.051771</td>\n",
       "      <td>-0.036101</td>\n",
       "      <td>0.081789</td>\n",
       "      <td>0.190466</td>\n",
       "      <td>-0.562853</td>\n",
       "      <td>0.109780</td>\n",
       "      <td>0.169450</td>\n",
       "      <td>-0.288049</td>\n",
       "      <td>...</td>\n",
       "      <td>-0.464745</td>\n",
       "      <td>0.067806</td>\n",
       "      <td>-0.111685</td>\n",
       "      <td>0.062360</td>\n",
       "      <td>-0.203667</td>\n",
       "      <td>0.321883</td>\n",
       "      <td>0.106253</td>\n",
       "      <td>-0.185782</td>\n",
       "      <td>-0.086736</td>\n",
       "      <td>0.087316</td>\n",
       "    </tr>\n",
       "    <tr>\n",
       "      <th>Onesie</th>\n",
       "      <td>-0.067123</td>\n",
       "      <td>-0.105753</td>\n",
       "      <td>0.005483</td>\n",
       "      <td>0.026995</td>\n",
       "      <td>-0.046790</td>\n",
       "      <td>0.066768</td>\n",
       "      <td>-0.385735</td>\n",
       "      <td>0.356199</td>\n",
       "      <td>0.418512</td>\n",
       "      <td>-0.009004</td>\n",
       "      <td>...</td>\n",
       "      <td>-0.252866</td>\n",
       "      <td>-0.311423</td>\n",
       "      <td>-0.048935</td>\n",
       "      <td>0.296439</td>\n",
       "      <td>0.041322</td>\n",
       "      <td>0.171201</td>\n",
       "      <td>0.554628</td>\n",
       "      <td>-0.451412</td>\n",
       "      <td>-0.443653</td>\n",
       "      <td>0.496938</td>\n",
       "    </tr>\n",
       "    <tr>\n",
       "      <th>Overalls</th>\n",
       "      <td>0.252839</td>\n",
       "      <td>-0.218496</td>\n",
       "      <td>-0.149388</td>\n",
       "      <td>0.431128</td>\n",
       "      <td>-0.239803</td>\n",
       "      <td>0.165372</td>\n",
       "      <td>-0.058715</td>\n",
       "      <td>-0.237254</td>\n",
       "      <td>-0.490295</td>\n",
       "      <td>-0.430399</td>\n",
       "      <td>...</td>\n",
       "      <td>-0.225737</td>\n",
       "      <td>0.148736</td>\n",
       "      <td>-0.132701</td>\n",
       "      <td>0.168110</td>\n",
       "      <td>0.058192</td>\n",
       "      <td>-0.204401</td>\n",
       "      <td>0.128263</td>\n",
       "      <td>0.238804</td>\n",
       "      <td>0.255431</td>\n",
       "      <td>-0.290439</td>\n",
       "    </tr>\n",
       "    <tr>\n",
       "      <th>Pajamas</th>\n",
       "      <td>-0.148599</td>\n",
       "      <td>0.274595</td>\n",
       "      <td>-0.065998</td>\n",
       "      <td>0.108332</td>\n",
       "      <td>0.268644</td>\n",
       "      <td>-0.036379</td>\n",
       "      <td>0.099552</td>\n",
       "      <td>0.055060</td>\n",
       "      <td>-0.293150</td>\n",
       "      <td>-0.517720</td>\n",
       "      <td>...</td>\n",
       "      <td>0.116158</td>\n",
       "      <td>-0.002560</td>\n",
       "      <td>0.107477</td>\n",
       "      <td>0.173191</td>\n",
       "      <td>-0.148546</td>\n",
       "      <td>-0.004274</td>\n",
       "      <td>0.292872</td>\n",
       "      <td>-0.242839</td>\n",
       "      <td>0.060144</td>\n",
       "      <td>0.049776</td>\n",
       "    </tr>\n",
       "    <tr>\n",
       "      <th>Pants</th>\n",
       "      <td>0.313334</td>\n",
       "      <td>0.215930</td>\n",
       "      <td>-0.239926</td>\n",
       "      <td>-0.065113</td>\n",
       "      <td>-0.231527</td>\n",
       "      <td>0.290572</td>\n",
       "      <td>-0.338242</td>\n",
       "      <td>0.058576</td>\n",
       "      <td>0.413351</td>\n",
       "      <td>0.483139</td>\n",
       "      <td>...</td>\n",
       "      <td>0.291849</td>\n",
       "      <td>0.050466</td>\n",
       "      <td>-0.012220</td>\n",
       "      <td>-0.270107</td>\n",
       "      <td>0.345381</td>\n",
       "      <td>-0.050767</td>\n",
       "      <td>-0.193908</td>\n",
       "      <td>0.339906</td>\n",
       "      <td>0.088141</td>\n",
       "      <td>0.003965</td>\n",
       "    </tr>\n",
       "    <tr>\n",
       "      <th>Polo Shirt</th>\n",
       "      <td>0.383158</td>\n",
       "      <td>0.059438</td>\n",
       "      <td>-0.372460</td>\n",
       "      <td>0.056027</td>\n",
       "      <td>-0.116706</td>\n",
       "      <td>-0.234300</td>\n",
       "      <td>-0.202477</td>\n",
       "      <td>0.420669</td>\n",
       "      <td>-0.041431</td>\n",
       "      <td>-0.147593</td>\n",
       "      <td>...</td>\n",
       "      <td>-0.198856</td>\n",
       "      <td>-0.300751</td>\n",
       "      <td>0.139943</td>\n",
       "      <td>0.288747</td>\n",
       "      <td>-0.302874</td>\n",
       "      <td>-0.169122</td>\n",
       "      <td>-0.399150</td>\n",
       "      <td>-0.094065</td>\n",
       "      <td>-0.285061</td>\n",
       "      <td>-0.478966</td>\n",
       "    </tr>\n",
       "    <tr>\n",
       "      <th>Poncho</th>\n",
       "      <td>0.055295</td>\n",
       "      <td>-0.709474</td>\n",
       "      <td>0.087042</td>\n",
       "      <td>-0.098305</td>\n",
       "      <td>-0.288351</td>\n",
       "      <td>-0.290622</td>\n",
       "      <td>0.337362</td>\n",
       "      <td>-0.390775</td>\n",
       "      <td>0.451264</td>\n",
       "      <td>-0.175642</td>\n",
       "      <td>...</td>\n",
       "      <td>-0.037826</td>\n",
       "      <td>-0.529947</td>\n",
       "      <td>-0.293765</td>\n",
       "      <td>0.082819</td>\n",
       "      <td>-0.287670</td>\n",
       "      <td>-0.410261</td>\n",
       "      <td>0.279697</td>\n",
       "      <td>0.146060</td>\n",
       "      <td>0.245464</td>\n",
       "      <td>-0.010640</td>\n",
       "    </tr>\n",
       "    <tr>\n",
       "      <th>Raincoat</th>\n",
       "      <td>0.091662</td>\n",
       "      <td>0.504308</td>\n",
       "      <td>-0.379027</td>\n",
       "      <td>-0.271795</td>\n",
       "      <td>-0.062101</td>\n",
       "      <td>0.259766</td>\n",
       "      <td>0.193283</td>\n",
       "      <td>0.479610</td>\n",
       "      <td>0.347612</td>\n",
       "      <td>-0.005332</td>\n",
       "      <td>...</td>\n",
       "      <td>0.003133</td>\n",
       "      <td>0.332312</td>\n",
       "      <td>0.563154</td>\n",
       "      <td>0.113097</td>\n",
       "      <td>-0.291436</td>\n",
       "      <td>0.058362</td>\n",
       "      <td>-0.446673</td>\n",
       "      <td>-0.357494</td>\n",
       "      <td>0.119827</td>\n",
       "      <td>-0.144026</td>\n",
       "    </tr>\n",
       "    <tr>\n",
       "      <th>Romper</th>\n",
       "      <td>0.032944</td>\n",
       "      <td>0.194155</td>\n",
       "      <td>0.184647</td>\n",
       "      <td>0.169754</td>\n",
       "      <td>0.233378</td>\n",
       "      <td>-0.090044</td>\n",
       "      <td>-0.274133</td>\n",
       "      <td>0.329933</td>\n",
       "      <td>-0.119655</td>\n",
       "      <td>0.835905</td>\n",
       "      <td>...</td>\n",
       "      <td>-0.144758</td>\n",
       "      <td>0.477722</td>\n",
       "      <td>0.067320</td>\n",
       "      <td>-0.507147</td>\n",
       "      <td>0.581017</td>\n",
       "      <td>-0.006398</td>\n",
       "      <td>0.229908</td>\n",
       "      <td>-0.146613</td>\n",
       "      <td>0.327064</td>\n",
       "      <td>-0.170255</td>\n",
       "    </tr>\n",
       "    <tr>\n",
       "      <th>Shorts</th>\n",
       "      <td>-0.039342</td>\n",
       "      <td>0.525952</td>\n",
       "      <td>0.270832</td>\n",
       "      <td>-0.348528</td>\n",
       "      <td>0.439758</td>\n",
       "      <td>-0.075904</td>\n",
       "      <td>0.256468</td>\n",
       "      <td>0.057316</td>\n",
       "      <td>-0.421419</td>\n",
       "      <td>-0.491642</td>\n",
       "      <td>...</td>\n",
       "      <td>1.000000</td>\n",
       "      <td>0.087749</td>\n",
       "      <td>-0.060623</td>\n",
       "      <td>0.055256</td>\n",
       "      <td>0.182162</td>\n",
       "      <td>-0.099784</td>\n",
       "      <td>-0.043719</td>\n",
       "      <td>-0.060843</td>\n",
       "      <td>0.130547</td>\n",
       "      <td>0.146625</td>\n",
       "    </tr>\n",
       "    <tr>\n",
       "      <th>Skirt</th>\n",
       "      <td>0.179899</td>\n",
       "      <td>-0.450925</td>\n",
       "      <td>0.078684</td>\n",
       "      <td>-0.038159</td>\n",
       "      <td>-0.082531</td>\n",
       "      <td>0.180964</td>\n",
       "      <td>0.355701</td>\n",
       "      <td>-0.099126</td>\n",
       "      <td>-0.136521</td>\n",
       "      <td>0.189174</td>\n",
       "      <td>...</td>\n",
       "      <td>0.087749</td>\n",
       "      <td>1.000000</td>\n",
       "      <td>0.102920</td>\n",
       "      <td>-0.626748</td>\n",
       "      <td>0.418043</td>\n",
       "      <td>0.371840</td>\n",
       "      <td>-0.019567</td>\n",
       "      <td>-0.139156</td>\n",
       "      <td>0.348265</td>\n",
       "      <td>-0.448554</td>\n",
       "    </tr>\n",
       "    <tr>\n",
       "      <th>Sweater</th>\n",
       "      <td>0.315585</td>\n",
       "      <td>0.145300</td>\n",
       "      <td>-0.111787</td>\n",
       "      <td>-0.134749</td>\n",
       "      <td>-0.703612</td>\n",
       "      <td>-0.105547</td>\n",
       "      <td>0.147627</td>\n",
       "      <td>-0.067062</td>\n",
       "      <td>0.358348</td>\n",
       "      <td>0.213073</td>\n",
       "      <td>...</td>\n",
       "      <td>-0.060623</td>\n",
       "      <td>0.102920</td>\n",
       "      <td>1.000000</td>\n",
       "      <td>-0.021115</td>\n",
       "      <td>-0.687395</td>\n",
       "      <td>0.424803</td>\n",
       "      <td>-0.397215</td>\n",
       "      <td>-0.006483</td>\n",
       "      <td>0.104767</td>\n",
       "      <td>-0.190125</td>\n",
       "    </tr>\n",
       "    <tr>\n",
       "      <th>Swimsuit</th>\n",
       "      <td>-0.815656</td>\n",
       "      <td>-0.292161</td>\n",
       "      <td>0.244393</td>\n",
       "      <td>-0.091426</td>\n",
       "      <td>0.194207</td>\n",
       "      <td>-0.225323</td>\n",
       "      <td>0.312887</td>\n",
       "      <td>0.547459</td>\n",
       "      <td>0.069086</td>\n",
       "      <td>0.192671</td>\n",
       "      <td>...</td>\n",
       "      <td>0.055256</td>\n",
       "      <td>-0.626748</td>\n",
       "      <td>-0.021115</td>\n",
       "      <td>1.000000</td>\n",
       "      <td>-0.839961</td>\n",
       "      <td>0.198669</td>\n",
       "      <td>-0.009409</td>\n",
       "      <td>0.143483</td>\n",
       "      <td>-0.512103</td>\n",
       "      <td>-0.009385</td>\n",
       "    </tr>\n",
       "    <tr>\n",
       "      <th>T-shirt</th>\n",
       "      <td>0.011009</td>\n",
       "      <td>0.104178</td>\n",
       "      <td>0.252145</td>\n",
       "      <td>0.351983</td>\n",
       "      <td>0.414359</td>\n",
       "      <td>-0.268401</td>\n",
       "      <td>-0.267070</td>\n",
       "      <td>0.035324</td>\n",
       "      <td>-0.398051</td>\n",
       "      <td>-0.008024</td>\n",
       "      <td>...</td>\n",
       "      <td>0.182162</td>\n",
       "      <td>0.418043</td>\n",
       "      <td>-0.687395</td>\n",
       "      <td>-0.839961</td>\n",
       "      <td>1.000000</td>\n",
       "      <td>0.344974</td>\n",
       "      <td>0.201209</td>\n",
       "      <td>-0.331606</td>\n",
       "      <td>0.542376</td>\n",
       "      <td>0.179633</td>\n",
       "    </tr>\n",
       "    <tr>\n",
       "      <th>Tank Top</th>\n",
       "      <td>0.337508</td>\n",
       "      <td>-0.272933</td>\n",
       "      <td>0.077898</td>\n",
       "      <td>-0.138949</td>\n",
       "      <td>0.472660</td>\n",
       "      <td>0.091954</td>\n",
       "      <td>0.075576</td>\n",
       "      <td>-0.225263</td>\n",
       "      <td>-0.413388</td>\n",
       "      <td>-0.044019</td>\n",
       "      <td>...</td>\n",
       "      <td>-0.099784</td>\n",
       "      <td>0.371840</td>\n",
       "      <td>0.424803</td>\n",
       "      <td>0.198669</td>\n",
       "      <td>0.344974</td>\n",
       "      <td>1.000000</td>\n",
       "      <td>0.028549</td>\n",
       "      <td>-0.272839</td>\n",
       "      <td>0.189219</td>\n",
       "      <td>0.188348</td>\n",
       "    </tr>\n",
       "    <tr>\n",
       "      <th>Trench Coat</th>\n",
       "      <td>-0.388931</td>\n",
       "      <td>-0.045831</td>\n",
       "      <td>0.555700</td>\n",
       "      <td>-0.020708</td>\n",
       "      <td>-0.190402</td>\n",
       "      <td>-0.067197</td>\n",
       "      <td>-0.174452</td>\n",
       "      <td>0.209276</td>\n",
       "      <td>-0.334037</td>\n",
       "      <td>0.248585</td>\n",
       "      <td>...</td>\n",
       "      <td>-0.043719</td>\n",
       "      <td>-0.019567</td>\n",
       "      <td>-0.397215</td>\n",
       "      <td>-0.009409</td>\n",
       "      <td>0.201209</td>\n",
       "      <td>0.028549</td>\n",
       "      <td>1.000000</td>\n",
       "      <td>-0.107334</td>\n",
       "      <td>0.081623</td>\n",
       "      <td>0.139267</td>\n",
       "    </tr>\n",
       "    <tr>\n",
       "      <th>Trousers</th>\n",
       "      <td>0.149361</td>\n",
       "      <td>0.217683</td>\n",
       "      <td>0.460412</td>\n",
       "      <td>-0.437312</td>\n",
       "      <td>-0.334232</td>\n",
       "      <td>-0.116869</td>\n",
       "      <td>0.332925</td>\n",
       "      <td>-0.148083</td>\n",
       "      <td>0.293137</td>\n",
       "      <td>0.410515</td>\n",
       "      <td>...</td>\n",
       "      <td>-0.060843</td>\n",
       "      <td>-0.139156</td>\n",
       "      <td>-0.006483</td>\n",
       "      <td>0.143483</td>\n",
       "      <td>-0.331606</td>\n",
       "      <td>-0.272839</td>\n",
       "      <td>-0.107334</td>\n",
       "      <td>1.000000</td>\n",
       "      <td>0.172649</td>\n",
       "      <td>-0.172041</td>\n",
       "    </tr>\n",
       "    <tr>\n",
       "      <th>Tunic</th>\n",
       "      <td>0.167213</td>\n",
       "      <td>0.054493</td>\n",
       "      <td>-0.100861</td>\n",
       "      <td>-0.405032</td>\n",
       "      <td>0.513978</td>\n",
       "      <td>-0.209117</td>\n",
       "      <td>0.275561</td>\n",
       "      <td>-0.050539</td>\n",
       "      <td>-0.097857</td>\n",
       "      <td>0.258257</td>\n",
       "      <td>...</td>\n",
       "      <td>0.130547</td>\n",
       "      <td>0.348265</td>\n",
       "      <td>0.104767</td>\n",
       "      <td>-0.512103</td>\n",
       "      <td>0.542376</td>\n",
       "      <td>0.189219</td>\n",
       "      <td>0.081623</td>\n",
       "      <td>0.172649</td>\n",
       "      <td>1.000000</td>\n",
       "      <td>-0.301532</td>\n",
       "    </tr>\n",
       "    <tr>\n",
       "      <th>Vest</th>\n",
       "      <td>0.072340</td>\n",
       "      <td>0.035683</td>\n",
       "      <td>-0.198166</td>\n",
       "      <td>-0.221577</td>\n",
       "      <td>0.035437</td>\n",
       "      <td>-0.457003</td>\n",
       "      <td>0.059581</td>\n",
       "      <td>-0.134125</td>\n",
       "      <td>0.121013</td>\n",
       "      <td>-0.417703</td>\n",
       "      <td>...</td>\n",
       "      <td>0.146625</td>\n",
       "      <td>-0.448554</td>\n",
       "      <td>-0.190125</td>\n",
       "      <td>-0.009385</td>\n",
       "      <td>0.179633</td>\n",
       "      <td>0.188348</td>\n",
       "      <td>0.139267</td>\n",
       "      <td>-0.172041</td>\n",
       "      <td>-0.301532</td>\n",
       "      <td>1.000000</td>\n",
       "    </tr>\n",
       "  </tbody>\n",
       "</table>\n",
       "<p>31 rows × 31 columns</p>\n",
       "</div>"
      ],
      "text/plain": [
       "item             Blazer    Blouse  Camisole  Cardigan      Coat     Dress  \\\n",
       "item                                                                        \n",
       "Blazer         1.000000  0.613506 -0.037886 -0.325033  0.259020  0.066242   \n",
       "Blouse         0.613506  1.000000 -0.127418 -0.137590 -0.018213 -0.176739   \n",
       "Camisole      -0.037886 -0.127418  1.000000  0.536624  0.188549  0.370970   \n",
       "Cardigan      -0.325033 -0.137590  0.536624  1.000000  0.036681  0.378272   \n",
       "Coat           0.259020 -0.018213  0.188549  0.036681  1.000000 -0.322471   \n",
       "Dress          0.066242 -0.176739  0.370970  0.378272 -0.322471  1.000000   \n",
       "Flannel Shirt  0.063449  0.236349  0.420270  0.154291  0.225955  0.459280   \n",
       "Hoodie         0.118534  0.140696  0.127050 -0.160901  0.184268 -0.140405   \n",
       "Jacket         0.099268  0.546358 -0.126953 -0.195337 -0.587789  0.120283   \n",
       "Jeans          0.352119  0.406577  0.248921 -0.390998 -0.108071 -0.214259   \n",
       "Jumpsuit      -0.088240 -0.294312  0.062078 -0.136726 -0.315476  0.512273   \n",
       "Kimono         0.176438  0.122722  0.420831  0.154959 -0.049307  0.309165   \n",
       "Leggings      -0.228298 -0.674152 -0.051771 -0.036101  0.081789  0.190466   \n",
       "Onesie        -0.067123 -0.105753  0.005483  0.026995 -0.046790  0.066768   \n",
       "Overalls       0.252839 -0.218496 -0.149388  0.431128 -0.239803  0.165372   \n",
       "Pajamas       -0.148599  0.274595 -0.065998  0.108332  0.268644 -0.036379   \n",
       "Pants          0.313334  0.215930 -0.239926 -0.065113 -0.231527  0.290572   \n",
       "Polo Shirt     0.383158  0.059438 -0.372460  0.056027 -0.116706 -0.234300   \n",
       "Poncho         0.055295 -0.709474  0.087042 -0.098305 -0.288351 -0.290622   \n",
       "Raincoat       0.091662  0.504308 -0.379027 -0.271795 -0.062101  0.259766   \n",
       "Romper         0.032944  0.194155  0.184647  0.169754  0.233378 -0.090044   \n",
       "Shorts        -0.039342  0.525952  0.270832 -0.348528  0.439758 -0.075904   \n",
       "Skirt          0.179899 -0.450925  0.078684 -0.038159 -0.082531  0.180964   \n",
       "Sweater        0.315585  0.145300 -0.111787 -0.134749 -0.703612 -0.105547   \n",
       "Swimsuit      -0.815656 -0.292161  0.244393 -0.091426  0.194207 -0.225323   \n",
       "T-shirt        0.011009  0.104178  0.252145  0.351983  0.414359 -0.268401   \n",
       "Tank Top       0.337508 -0.272933  0.077898 -0.138949  0.472660  0.091954   \n",
       "Trench Coat   -0.388931 -0.045831  0.555700 -0.020708 -0.190402 -0.067197   \n",
       "Trousers       0.149361  0.217683  0.460412 -0.437312 -0.334232 -0.116869   \n",
       "Tunic          0.167213  0.054493 -0.100861 -0.405032  0.513978 -0.209117   \n",
       "Vest           0.072340  0.035683 -0.198166 -0.221577  0.035437 -0.457003   \n",
       "\n",
       "item           Flannel Shirt    Hoodie    Jacket     Jeans  ...    Shorts  \\\n",
       "item                                                        ...             \n",
       "Blazer              0.063449  0.118534  0.099268  0.352119  ... -0.039342   \n",
       "Blouse              0.236349  0.140696  0.546358  0.406577  ...  0.525952   \n",
       "Camisole            0.420270  0.127050 -0.126953  0.248921  ...  0.270832   \n",
       "Cardigan            0.154291 -0.160901 -0.195337 -0.390998  ... -0.348528   \n",
       "Coat                0.225955  0.184268 -0.587789 -0.108071  ...  0.439758   \n",
       "Dress               0.459280 -0.140405  0.120283 -0.214259  ... -0.075904   \n",
       "Flannel Shirt       1.000000 -0.276561  0.248943 -0.074626  ...  0.256468   \n",
       "Hoodie             -0.276561  1.000000  0.078242  0.261148  ...  0.057316   \n",
       "Jacket              0.248943  0.078242  1.000000  0.485097  ... -0.421419   \n",
       "Jeans              -0.074626  0.261148  0.485097  1.000000  ... -0.491642   \n",
       "Jumpsuit           -0.161293 -0.459556  0.034323 -0.411026  ... -0.274299   \n",
       "Kimono             -0.179408 -0.009759 -0.474674  0.111071  ... -0.245258   \n",
       "Leggings           -0.562853  0.109780  0.169450 -0.288049  ... -0.464745   \n",
       "Onesie             -0.385735  0.356199  0.418512 -0.009004  ... -0.252866   \n",
       "Overalls           -0.058715 -0.237254 -0.490295 -0.430399  ... -0.225737   \n",
       "Pajamas             0.099552  0.055060 -0.293150 -0.517720  ...  0.116158   \n",
       "Pants              -0.338242  0.058576  0.413351  0.483139  ...  0.291849   \n",
       "Polo Shirt         -0.202477  0.420669 -0.041431 -0.147593  ... -0.198856   \n",
       "Poncho              0.337362 -0.390775  0.451264 -0.175642  ... -0.037826   \n",
       "Raincoat            0.193283  0.479610  0.347612 -0.005332  ...  0.003133   \n",
       "Romper             -0.274133  0.329933 -0.119655  0.835905  ... -0.144758   \n",
       "Shorts              0.256468  0.057316 -0.421419 -0.491642  ...  1.000000   \n",
       "Skirt               0.355701 -0.099126 -0.136521  0.189174  ...  0.087749   \n",
       "Sweater             0.147627 -0.067062  0.358348  0.213073  ... -0.060623   \n",
       "Swimsuit            0.312887  0.547459  0.069086  0.192671  ...  0.055256   \n",
       "T-shirt            -0.267070  0.035324 -0.398051 -0.008024  ...  0.182162   \n",
       "Tank Top            0.075576 -0.225263 -0.413388 -0.044019  ... -0.099784   \n",
       "Trench Coat        -0.174452  0.209276 -0.334037  0.248585  ... -0.043719   \n",
       "Trousers            0.332925 -0.148083  0.293137  0.410515  ... -0.060843   \n",
       "Tunic               0.275561 -0.050539 -0.097857  0.258257  ...  0.130547   \n",
       "Vest                0.059581 -0.134125  0.121013 -0.417703  ...  0.146625   \n",
       "\n",
       "item              Skirt   Sweater  Swimsuit   T-shirt  Tank Top  Trench Coat  \\\n",
       "item                                                                           \n",
       "Blazer         0.179899  0.315585 -0.815656  0.011009  0.337508    -0.388931   \n",
       "Blouse        -0.450925  0.145300 -0.292161  0.104178 -0.272933    -0.045831   \n",
       "Camisole       0.078684 -0.111787  0.244393  0.252145  0.077898     0.555700   \n",
       "Cardigan      -0.038159 -0.134749 -0.091426  0.351983 -0.138949    -0.020708   \n",
       "Coat          -0.082531 -0.703612  0.194207  0.414359  0.472660    -0.190402   \n",
       "Dress          0.180964 -0.105547 -0.225323 -0.268401  0.091954    -0.067197   \n",
       "Flannel Shirt  0.355701  0.147627  0.312887 -0.267070  0.075576    -0.174452   \n",
       "Hoodie        -0.099126 -0.067062  0.547459  0.035324 -0.225263     0.209276   \n",
       "Jacket        -0.136521  0.358348  0.069086 -0.398051 -0.413388    -0.334037   \n",
       "Jeans          0.189174  0.213073  0.192671 -0.008024 -0.044019     0.248585   \n",
       "Jumpsuit      -0.243260 -0.382911 -0.041001 -0.405616  0.202213     0.266465   \n",
       "Kimono        -0.317147 -0.137901 -0.359784 -0.037286 -0.025102     0.007702   \n",
       "Leggings       0.067806 -0.111685  0.062360 -0.203667  0.321883     0.106253   \n",
       "Onesie        -0.311423 -0.048935  0.296439  0.041322  0.171201     0.554628   \n",
       "Overalls       0.148736 -0.132701  0.168110  0.058192 -0.204401     0.128263   \n",
       "Pajamas       -0.002560  0.107477  0.173191 -0.148546 -0.004274     0.292872   \n",
       "Pants          0.050466 -0.012220 -0.270107  0.345381 -0.050767    -0.193908   \n",
       "Polo Shirt    -0.300751  0.139943  0.288747 -0.302874 -0.169122    -0.399150   \n",
       "Poncho        -0.529947 -0.293765  0.082819 -0.287670 -0.410261     0.279697   \n",
       "Raincoat       0.332312  0.563154  0.113097 -0.291436  0.058362    -0.446673   \n",
       "Romper         0.477722  0.067320 -0.507147  0.581017 -0.006398     0.229908   \n",
       "Shorts         0.087749 -0.060623  0.055256  0.182162 -0.099784    -0.043719   \n",
       "Skirt          1.000000  0.102920 -0.626748  0.418043  0.371840    -0.019567   \n",
       "Sweater        0.102920  1.000000 -0.021115 -0.687395  0.424803    -0.397215   \n",
       "Swimsuit      -0.626748 -0.021115  1.000000 -0.839961  0.198669    -0.009409   \n",
       "T-shirt        0.418043 -0.687395 -0.839961  1.000000  0.344974     0.201209   \n",
       "Tank Top       0.371840  0.424803  0.198669  0.344974  1.000000     0.028549   \n",
       "Trench Coat   -0.019567 -0.397215 -0.009409  0.201209  0.028549     1.000000   \n",
       "Trousers      -0.139156 -0.006483  0.143483 -0.331606 -0.272839    -0.107334   \n",
       "Tunic          0.348265  0.104767 -0.512103  0.542376  0.189219     0.081623   \n",
       "Vest          -0.448554 -0.190125 -0.009385  0.179633  0.188348     0.139267   \n",
       "\n",
       "item           Trousers     Tunic      Vest  \n",
       "item                                         \n",
       "Blazer         0.149361  0.167213  0.072340  \n",
       "Blouse         0.217683  0.054493  0.035683  \n",
       "Camisole       0.460412 -0.100861 -0.198166  \n",
       "Cardigan      -0.437312 -0.405032 -0.221577  \n",
       "Coat          -0.334232  0.513978  0.035437  \n",
       "Dress         -0.116869 -0.209117 -0.457003  \n",
       "Flannel Shirt  0.332925  0.275561  0.059581  \n",
       "Hoodie        -0.148083 -0.050539 -0.134125  \n",
       "Jacket         0.293137 -0.097857  0.121013  \n",
       "Jeans          0.410515  0.258257 -0.417703  \n",
       "Jumpsuit       0.016390 -0.116819  0.181927  \n",
       "Kimono        -0.212316 -0.133893 -0.180325  \n",
       "Leggings      -0.185782 -0.086736  0.087316  \n",
       "Onesie        -0.451412 -0.443653  0.496938  \n",
       "Overalls       0.238804  0.255431 -0.290439  \n",
       "Pajamas       -0.242839  0.060144  0.049776  \n",
       "Pants          0.339906  0.088141  0.003965  \n",
       "Polo Shirt    -0.094065 -0.285061 -0.478966  \n",
       "Poncho         0.146060  0.245464 -0.010640  \n",
       "Raincoat      -0.357494  0.119827 -0.144026  \n",
       "Romper        -0.146613  0.327064 -0.170255  \n",
       "Shorts        -0.060843  0.130547  0.146625  \n",
       "Skirt         -0.139156  0.348265 -0.448554  \n",
       "Sweater       -0.006483  0.104767 -0.190125  \n",
       "Swimsuit       0.143483 -0.512103 -0.009385  \n",
       "T-shirt       -0.331606  0.542376  0.179633  \n",
       "Tank Top      -0.272839  0.189219  0.188348  \n",
       "Trench Coat   -0.107334  0.081623  0.139267  \n",
       "Trousers       1.000000  0.172649 -0.172041  \n",
       "Tunic          0.172649  1.000000 -0.301532  \n",
       "Vest          -0.172041 -0.301532  1.000000  \n",
       "\n",
       "[31 rows x 31 columns]"
      ]
     },
     "execution_count": 5,
     "metadata": {},
     "output_type": "execute_result"
    }
   ],
   "source": [
    "from sklearn.metrics.pairwise import cosine_similarity\n",
    "\n",
    "# We'll use the df_sample from earlier (pretending it's the user's actual df)\n",
    "# Step 1: Create user-item review matrix\n",
    "user_item_matrix = df.pivot_table(index='customerID', columns='item', values='review', aggfunc='mean')\n",
    "\n",
    "# Step 2: Convert to numpy array, center by item (column), but preserve NaNs\n",
    "item_mat = user_item_matrix.to_numpy()\n",
    "item_means = np.nanmean(item_mat, axis=0)\n",
    "item_mat_centered = item_mat - item_means  # this will preserve NaNs\n",
    "\n",
    "# Step 3: Compute cosine similarity only using shared (non-NaN) ratings\n",
    "item_names = user_item_matrix.columns\n",
    "n_items = item_mat_centered.shape[1]\n",
    "item_similarity_df = pd.DataFrame(index=item_names, columns=item_names, dtype=float)\n",
    "\n",
    "for i in range(n_items):\n",
    "    for j in range(n_items):\n",
    "        vec_i = item_mat_centered[:, i]\n",
    "        vec_j = item_mat_centered[:, j]\n",
    "\n",
    "        shared = ~np.isnan(vec_i) & ~np.isnan(vec_j)\n",
    "\n",
    "        if np.sum(shared) > 1:\n",
    "            sim = cosine_similarity(vec_i[shared].reshape(1, -1), vec_j[shared].reshape(1, -1))[0, 0]\n",
    "        else:\n",
    "            sim = np.nan\n",
    "\n",
    "        item_similarity_df.iloc[i, j] = sim\n",
    "\n",
    "item_similarity_df"
   ]
  },
  {
   "cell_type": "code",
   "execution_count": null,
   "id": "da6eb943-7e87-4ca2-8fb4-afe9a1716c08",
   "metadata": {},
   "outputs": [
    {
     "data": {
      "text/plain": [
       "array([[nan, 2.1, 4.7, ..., nan, nan, 3.2],\n",
       "       [nan, 3.3, nan, ..., nan, 1.1, nan],\n",
       "       [1.8, nan, nan, ..., 4.5, nan, nan],\n",
       "       ...,\n",
       "       [nan, nan, nan, ..., 2. , 1.2, nan],\n",
       "       [nan, 4.6, nan, ..., 3.4, nan, nan],\n",
       "       [4.6, nan, 4.2, ..., nan, nan, nan]])"
      ]
     },
     "execution_count": 6,
     "metadata": {},
     "output_type": "execute_result"
    }
   ],
   "source": [
    "item_mat"
   ]
  },
  {
   "cell_type": "code",
   "execution_count": 34,
   "id": "4a1af758-0520-41ff-8004-a8db160e37e8",
   "metadata": {},
   "outputs": [
    {
     "data": {
      "image/png": "[encoded data removed]",
      "text/plain": [
       "<Figure size 1400x1000 with 2 Axes>"
      ]
     },
     "metadata": {},
     "output_type": "display_data"
    }
   ],
   "source": [
    "# plot heatmap of item similarity\n",
    "plt.figure(figsize=(14, 10))\n",
    "sns.heatmap(item_similarity_df, cmap=\"coolwarm\", annot=False, fmt=\".2f\", linewidths=0.5,\n",
    "            xticklabels=item_similarity_df.columns, yticklabels=item_similarity_df.index)\n",
    "plt.title(\"item-item similarity heatmap (cosine similarity)\")\n",
    "plt.xticks(rotation=90)\n",
    "plt.yticks(rotation=0)\n",
    "plt.tight_layout()\n",
    "plt.savefig(\"item-item-heatmap.png\", bbox_inches='tight')\n",
    "plt.show()"
   ]
  },
  {
   "cell_type": "code",
   "execution_count": 9,
   "id": "54dfc702-8c5a-406e-9363-6af97b82b3bf",
   "metadata": {},
   "outputs": [
    {
     "data": {
      "text/html": [
       "<div>\n",
       "<style scoped>\n",
       "    .dataframe tbody tr th:only-of-type {\n",
       "        vertical-align: middle;\n",
       "    }\n",
       "\n",
       "    .dataframe tbody tr th {\n",
       "        vertical-align: top;\n",
       "    }\n",
       "\n",
       "    .dataframe thead th {\n",
       "        text-align: right;\n",
       "    }\n",
       "</style>\n",
       "<table border=\"1\" class=\"dataframe\">\n",
       "  <thead>\n",
       "    <tr style=\"text-align: right;\">\n",
       "      <th>item</th>\n",
       "      <th>Blazer</th>\n",
       "      <th>Blouse</th>\n",
       "      <th>Camisole</th>\n",
       "      <th>Cardigan</th>\n",
       "      <th>Coat</th>\n",
       "      <th>Dress</th>\n",
       "      <th>Flannel Shirt</th>\n",
       "      <th>Hoodie</th>\n",
       "      <th>Jacket</th>\n",
       "      <th>Jeans</th>\n",
       "      <th>...</th>\n",
       "      <th>Shorts</th>\n",
       "      <th>Skirt</th>\n",
       "      <th>Sweater</th>\n",
       "      <th>Swimsuit</th>\n",
       "      <th>T-shirt</th>\n",
       "      <th>Tank Top</th>\n",
       "      <th>Trench Coat</th>\n",
       "      <th>Trousers</th>\n",
       "      <th>Tunic</th>\n",
       "      <th>Vest</th>\n",
       "    </tr>\n",
       "    <tr>\n",
       "      <th>item</th>\n",
       "      <th></th>\n",
       "      <th></th>\n",
       "      <th></th>\n",
       "      <th></th>\n",
       "      <th></th>\n",
       "      <th></th>\n",
       "      <th></th>\n",
       "      <th></th>\n",
       "      <th></th>\n",
       "      <th></th>\n",
       "      <th></th>\n",
       "      <th></th>\n",
       "      <th></th>\n",
       "      <th></th>\n",
       "      <th></th>\n",
       "      <th></th>\n",
       "      <th></th>\n",
       "      <th></th>\n",
       "      <th></th>\n",
       "      <th></th>\n",
       "      <th></th>\n",
       "    </tr>\n",
       "  </thead>\n",
       "  <tbody>\n",
       "    <tr>\n",
       "      <th>Blazer</th>\n",
       "      <td>1.000000</td>\n",
       "      <td>-0.042647</td>\n",
       "      <td>-0.048702</td>\n",
       "      <td>-0.067459</td>\n",
       "      <td>0.042011</td>\n",
       "      <td>-0.059204</td>\n",
       "      <td>-0.007822</td>\n",
       "      <td>-0.003825</td>\n",
       "      <td>0.073937</td>\n",
       "      <td>-0.102250</td>\n",
       "      <td>...</td>\n",
       "      <td>0.036745</td>\n",
       "      <td>-0.038421</td>\n",
       "      <td>-0.036108</td>\n",
       "      <td>-0.188733</td>\n",
       "      <td>-0.102325</td>\n",
       "      <td>-0.020347</td>\n",
       "      <td>0.087474</td>\n",
       "      <td>0.006196</td>\n",
       "      <td>-0.023751</td>\n",
       "      <td>-0.073958</td>\n",
       "    </tr>\n",
       "    <tr>\n",
       "      <th>Blouse</th>\n",
       "      <td>-0.042647</td>\n",
       "      <td>1.000000</td>\n",
       "      <td>-0.106959</td>\n",
       "      <td>0.036843</td>\n",
       "      <td>0.048269</td>\n",
       "      <td>-0.061680</td>\n",
       "      <td>-0.082733</td>\n",
       "      <td>-0.058582</td>\n",
       "      <td>-0.082338</td>\n",
       "      <td>-0.144813</td>\n",
       "      <td>...</td>\n",
       "      <td>-0.040515</td>\n",
       "      <td>-0.116777</td>\n",
       "      <td>-0.052414</td>\n",
       "      <td>0.017305</td>\n",
       "      <td>-0.018133</td>\n",
       "      <td>-0.080033</td>\n",
       "      <td>-0.033556</td>\n",
       "      <td>-0.029965</td>\n",
       "      <td>-0.108141</td>\n",
       "      <td>0.008795</td>\n",
       "    </tr>\n",
       "    <tr>\n",
       "      <th>Camisole</th>\n",
       "      <td>-0.048702</td>\n",
       "      <td>-0.106959</td>\n",
       "      <td>1.000000</td>\n",
       "      <td>-0.031530</td>\n",
       "      <td>0.094975</td>\n",
       "      <td>-0.127603</td>\n",
       "      <td>-0.053380</td>\n",
       "      <td>-0.012679</td>\n",
       "      <td>-0.032676</td>\n",
       "      <td>-0.001845</td>\n",
       "      <td>...</td>\n",
       "      <td>-0.159413</td>\n",
       "      <td>-0.012622</td>\n",
       "      <td>0.047503</td>\n",
       "      <td>0.019137</td>\n",
       "      <td>-0.058813</td>\n",
       "      <td>-0.025881</td>\n",
       "      <td>-0.082842</td>\n",
       "      <td>-0.089790</td>\n",
       "      <td>-0.165654</td>\n",
       "      <td>0.040633</td>\n",
       "    </tr>\n",
       "    <tr>\n",
       "      <th>Cardigan</th>\n",
       "      <td>-0.067459</td>\n",
       "      <td>0.036843</td>\n",
       "      <td>-0.031530</td>\n",
       "      <td>1.000000</td>\n",
       "      <td>-0.149087</td>\n",
       "      <td>-0.089621</td>\n",
       "      <td>-0.114730</td>\n",
       "      <td>0.044284</td>\n",
       "      <td>0.119003</td>\n",
       "      <td>-0.173260</td>\n",
       "      <td>...</td>\n",
       "      <td>-0.086623</td>\n",
       "      <td>-0.141501</td>\n",
       "      <td>-0.011940</td>\n",
       "      <td>0.010332</td>\n",
       "      <td>0.049369</td>\n",
       "      <td>-0.022329</td>\n",
       "      <td>-0.028292</td>\n",
       "      <td>0.032546</td>\n",
       "      <td>-0.024577</td>\n",
       "      <td>-0.150341</td>\n",
       "    </tr>\n",
       "    <tr>\n",
       "      <th>Coat</th>\n",
       "      <td>0.042011</td>\n",
       "      <td>0.048269</td>\n",
       "      <td>0.094975</td>\n",
       "      <td>-0.149087</td>\n",
       "      <td>1.000000</td>\n",
       "      <td>0.025366</td>\n",
       "      <td>-0.094802</td>\n",
       "      <td>-0.051134</td>\n",
       "      <td>0.018203</td>\n",
       "      <td>0.032038</td>\n",
       "      <td>...</td>\n",
       "      <td>-0.073152</td>\n",
       "      <td>-0.017139</td>\n",
       "      <td>-0.096922</td>\n",
       "      <td>-0.060285</td>\n",
       "      <td>-0.095121</td>\n",
       "      <td>-0.179489</td>\n",
       "      <td>-0.167289</td>\n",
       "      <td>0.023348</td>\n",
       "      <td>0.008438</td>\n",
       "      <td>0.085074</td>\n",
       "    </tr>\n",
       "    <tr>\n",
       "      <th>Dress</th>\n",
       "      <td>-0.059204</td>\n",
       "      <td>-0.061680</td>\n",
       "      <td>-0.127603</td>\n",
       "      <td>-0.089621</td>\n",
       "      <td>0.025366</td>\n",
       "      <td>1.000000</td>\n",
       "      <td>-0.074868</td>\n",
       "      <td>-0.005371</td>\n",
       "      <td>-0.063261</td>\n",
       "      <td>0.004617</td>\n",
       "      <td>...</td>\n",
       "      <td>-0.081271</td>\n",
       "      <td>-0.037098</td>\n",
       "      <td>-0.071415</td>\n",
       "      <td>0.038396</td>\n",
       "      <td>-0.024620</td>\n",
       "      <td>0.051924</td>\n",
       "      <td>-0.099654</td>\n",
       "      <td>-0.055066</td>\n",
       "      <td>0.082502</td>\n",
       "      <td>0.010690</td>\n",
       "    </tr>\n",
       "    <tr>\n",
       "      <th>Flannel Shirt</th>\n",
       "      <td>-0.007822</td>\n",
       "      <td>-0.082733</td>\n",
       "      <td>-0.053380</td>\n",
       "      <td>-0.114730</td>\n",
       "      <td>-0.094802</td>\n",
       "      <td>-0.074868</td>\n",
       "      <td>1.000000</td>\n",
       "      <td>-0.163470</td>\n",
       "      <td>0.000802</td>\n",
       "      <td>0.011474</td>\n",
       "      <td>...</td>\n",
       "      <td>0.024813</td>\n",
       "      <td>-0.042012</td>\n",
       "      <td>0.155647</td>\n",
       "      <td>-0.090768</td>\n",
       "      <td>0.011973</td>\n",
       "      <td>-0.209526</td>\n",
       "      <td>0.078899</td>\n",
       "      <td>0.045556</td>\n",
       "      <td>0.116887</td>\n",
       "      <td>-0.126943</td>\n",
       "    </tr>\n",
       "    <tr>\n",
       "      <th>Hoodie</th>\n",
       "      <td>-0.003825</td>\n",
       "      <td>-0.058582</td>\n",
       "      <td>-0.012679</td>\n",
       "      <td>0.044284</td>\n",
       "      <td>-0.051134</td>\n",
       "      <td>-0.005371</td>\n",
       "      <td>-0.163470</td>\n",
       "      <td>1.000000</td>\n",
       "      <td>-0.037004</td>\n",
       "      <td>-0.112153</td>\n",
       "      <td>...</td>\n",
       "      <td>-0.150948</td>\n",
       "      <td>-0.022408</td>\n",
       "      <td>-0.024756</td>\n",
       "      <td>-0.076799</td>\n",
       "      <td>-0.023626</td>\n",
       "      <td>-0.093530</td>\n",
       "      <td>-0.011263</td>\n",
       "      <td>-0.015738</td>\n",
       "      <td>-0.083207</td>\n",
       "      <td>-0.016262</td>\n",
       "    </tr>\n",
       "    <tr>\n",
       "      <th>Jacket</th>\n",
       "      <td>0.073937</td>\n",
       "      <td>-0.082338</td>\n",
       "      <td>-0.032676</td>\n",
       "      <td>0.119003</td>\n",
       "      <td>0.018203</td>\n",
       "      <td>-0.063261</td>\n",
       "      <td>0.000802</td>\n",
       "      <td>-0.037004</td>\n",
       "      <td>1.000000</td>\n",
       "      <td>-0.070873</td>\n",
       "      <td>...</td>\n",
       "      <td>-0.130850</td>\n",
       "      <td>-0.145475</td>\n",
       "      <td>-0.000045</td>\n",
       "      <td>-0.082835</td>\n",
       "      <td>-0.121573</td>\n",
       "      <td>-0.070078</td>\n",
       "      <td>-0.030036</td>\n",
       "      <td>-0.055581</td>\n",
       "      <td>-0.058002</td>\n",
       "      <td>-0.090668</td>\n",
       "    </tr>\n",
       "    <tr>\n",
       "      <th>Jeans</th>\n",
       "      <td>-0.102250</td>\n",
       "      <td>-0.144813</td>\n",
       "      <td>-0.001845</td>\n",
       "      <td>-0.173260</td>\n",
       "      <td>0.032038</td>\n",
       "      <td>0.004617</td>\n",
       "      <td>0.011474</td>\n",
       "      <td>-0.112153</td>\n",
       "      <td>-0.070873</td>\n",
       "      <td>1.000000</td>\n",
       "      <td>...</td>\n",
       "      <td>0.171785</td>\n",
       "      <td>0.104702</td>\n",
       "      <td>0.007227</td>\n",
       "      <td>-0.123471</td>\n",
       "      <td>-0.006409</td>\n",
       "      <td>0.002691</td>\n",
       "      <td>-0.070147</td>\n",
       "      <td>-0.150792</td>\n",
       "      <td>-0.041615</td>\n",
       "      <td>0.187233</td>\n",
       "    </tr>\n",
       "    <tr>\n",
       "      <th>Jumpsuit</th>\n",
       "      <td>-0.046516</td>\n",
       "      <td>-0.022820</td>\n",
       "      <td>0.075701</td>\n",
       "      <td>0.041654</td>\n",
       "      <td>-0.091221</td>\n",
       "      <td>0.091880</td>\n",
       "      <td>-0.046251</td>\n",
       "      <td>-0.050532</td>\n",
       "      <td>-0.082798</td>\n",
       "      <td>-0.022113</td>\n",
       "      <td>...</td>\n",
       "      <td>-0.084263</td>\n",
       "      <td>-0.050088</td>\n",
       "      <td>-0.078133</td>\n",
       "      <td>-0.013667</td>\n",
       "      <td>0.047750</td>\n",
       "      <td>-0.066633</td>\n",
       "      <td>0.011899</td>\n",
       "      <td>-0.026098</td>\n",
       "      <td>0.012334</td>\n",
       "      <td>-0.042052</td>\n",
       "    </tr>\n",
       "    <tr>\n",
       "      <th>Kimono</th>\n",
       "      <td>-0.013243</td>\n",
       "      <td>0.166539</td>\n",
       "      <td>0.030754</td>\n",
       "      <td>-0.124619</td>\n",
       "      <td>-0.021118</td>\n",
       "      <td>0.049664</td>\n",
       "      <td>-0.201292</td>\n",
       "      <td>-0.027847</td>\n",
       "      <td>-0.157168</td>\n",
       "      <td>0.061080</td>\n",
       "      <td>...</td>\n",
       "      <td>-0.038884</td>\n",
       "      <td>-0.027911</td>\n",
       "      <td>-0.038313</td>\n",
       "      <td>0.079898</td>\n",
       "      <td>-0.064079</td>\n",
       "      <td>0.030775</td>\n",
       "      <td>-0.142999</td>\n",
       "      <td>-0.065293</td>\n",
       "      <td>-0.086003</td>\n",
       "      <td>0.009343</td>\n",
       "    </tr>\n",
       "    <tr>\n",
       "      <th>Leggings</th>\n",
       "      <td>0.026654</td>\n",
       "      <td>-0.051165</td>\n",
       "      <td>0.073574</td>\n",
       "      <td>-0.072582</td>\n",
       "      <td>0.003411</td>\n",
       "      <td>-0.050232</td>\n",
       "      <td>-0.010042</td>\n",
       "      <td>-0.128780</td>\n",
       "      <td>0.192747</td>\n",
       "      <td>-0.016343</td>\n",
       "      <td>...</td>\n",
       "      <td>0.031146</td>\n",
       "      <td>-0.026272</td>\n",
       "      <td>-0.054234</td>\n",
       "      <td>-0.049583</td>\n",
       "      <td>-0.119115</td>\n",
       "      <td>-0.043461</td>\n",
       "      <td>0.050086</td>\n",
       "      <td>-0.058232</td>\n",
       "      <td>-0.009261</td>\n",
       "      <td>-0.059831</td>\n",
       "    </tr>\n",
       "    <tr>\n",
       "      <th>Onesie</th>\n",
       "      <td>-0.083253</td>\n",
       "      <td>0.054450</td>\n",
       "      <td>0.090709</td>\n",
       "      <td>-0.095314</td>\n",
       "      <td>0.022405</td>\n",
       "      <td>-0.061246</td>\n",
       "      <td>-0.212704</td>\n",
       "      <td>0.071808</td>\n",
       "      <td>-0.043171</td>\n",
       "      <td>-0.005354</td>\n",
       "      <td>...</td>\n",
       "      <td>-0.021389</td>\n",
       "      <td>-0.091375</td>\n",
       "      <td>-0.087324</td>\n",
       "      <td>0.070128</td>\n",
       "      <td>-0.094513</td>\n",
       "      <td>-0.046414</td>\n",
       "      <td>-0.110582</td>\n",
       "      <td>-0.062876</td>\n",
       "      <td>-0.104765</td>\n",
       "      <td>0.170170</td>\n",
       "    </tr>\n",
       "    <tr>\n",
       "      <th>Overalls</th>\n",
       "      <td>-0.000325</td>\n",
       "      <td>0.011957</td>\n",
       "      <td>-0.042696</td>\n",
       "      <td>-0.032159</td>\n",
       "      <td>0.008745</td>\n",
       "      <td>-0.031876</td>\n",
       "      <td>-0.024622</td>\n",
       "      <td>-0.004960</td>\n",
       "      <td>-0.024331</td>\n",
       "      <td>-0.105799</td>\n",
       "      <td>...</td>\n",
       "      <td>-0.019815</td>\n",
       "      <td>-0.027276</td>\n",
       "      <td>0.027876</td>\n",
       "      <td>-0.038349</td>\n",
       "      <td>-0.034848</td>\n",
       "      <td>0.015007</td>\n",
       "      <td>-0.010088</td>\n",
       "      <td>0.008168</td>\n",
       "      <td>-0.024027</td>\n",
       "      <td>-0.120298</td>\n",
       "    </tr>\n",
       "    <tr>\n",
       "      <th>Pajamas</th>\n",
       "      <td>-0.131537</td>\n",
       "      <td>0.021130</td>\n",
       "      <td>-0.035423</td>\n",
       "      <td>-0.053133</td>\n",
       "      <td>0.029512</td>\n",
       "      <td>-0.000940</td>\n",
       "      <td>0.074459</td>\n",
       "      <td>-0.035337</td>\n",
       "      <td>-0.113376</td>\n",
       "      <td>-0.041881</td>\n",
       "      <td>...</td>\n",
       "      <td>0.085248</td>\n",
       "      <td>0.008583</td>\n",
       "      <td>0.069305</td>\n",
       "      <td>0.044125</td>\n",
       "      <td>0.000921</td>\n",
       "      <td>-0.118825</td>\n",
       "      <td>-0.122954</td>\n",
       "      <td>0.074560</td>\n",
       "      <td>-0.020160</td>\n",
       "      <td>-0.131216</td>\n",
       "    </tr>\n",
       "    <tr>\n",
       "      <th>Pants</th>\n",
       "      <td>-0.040633</td>\n",
       "      <td>0.014154</td>\n",
       "      <td>-0.103212</td>\n",
       "      <td>-0.029205</td>\n",
       "      <td>-0.064940</td>\n",
       "      <td>-0.040697</td>\n",
       "      <td>0.101556</td>\n",
       "      <td>-0.088185</td>\n",
       "      <td>-0.015722</td>\n",
       "      <td>0.045250</td>\n",
       "      <td>...</td>\n",
       "      <td>-0.055226</td>\n",
       "      <td>-0.036985</td>\n",
       "      <td>-0.028174</td>\n",
       "      <td>0.017769</td>\n",
       "      <td>-0.107308</td>\n",
       "      <td>-0.003865</td>\n",
       "      <td>0.021403</td>\n",
       "      <td>-0.072697</td>\n",
       "      <td>0.131860</td>\n",
       "      <td>-0.078597</td>\n",
       "    </tr>\n",
       "    <tr>\n",
       "      <th>Polo Shirt</th>\n",
       "      <td>-0.031592</td>\n",
       "      <td>-0.123396</td>\n",
       "      <td>0.040666</td>\n",
       "      <td>-0.005746</td>\n",
       "      <td>-0.007933</td>\n",
       "      <td>-0.055010</td>\n",
       "      <td>0.053021</td>\n",
       "      <td>0.113794</td>\n",
       "      <td>0.122946</td>\n",
       "      <td>-0.040890</td>\n",
       "      <td>...</td>\n",
       "      <td>-0.017873</td>\n",
       "      <td>-0.138359</td>\n",
       "      <td>-0.129358</td>\n",
       "      <td>-0.115178</td>\n",
       "      <td>-0.036815</td>\n",
       "      <td>-0.040494</td>\n",
       "      <td>-0.147469</td>\n",
       "      <td>-0.017035</td>\n",
       "      <td>0.034442</td>\n",
       "      <td>-0.017057</td>\n",
       "    </tr>\n",
       "    <tr>\n",
       "      <th>Poncho</th>\n",
       "      <td>-0.057070</td>\n",
       "      <td>-0.110712</td>\n",
       "      <td>-0.119438</td>\n",
       "      <td>0.064589</td>\n",
       "      <td>-0.033621</td>\n",
       "      <td>-0.055183</td>\n",
       "      <td>-0.022868</td>\n",
       "      <td>0.100869</td>\n",
       "      <td>0.116655</td>\n",
       "      <td>-0.167746</td>\n",
       "      <td>...</td>\n",
       "      <td>-0.053889</td>\n",
       "      <td>-0.040217</td>\n",
       "      <td>-0.056634</td>\n",
       "      <td>-0.056373</td>\n",
       "      <td>-0.115179</td>\n",
       "      <td>-0.050637</td>\n",
       "      <td>-0.059359</td>\n",
       "      <td>0.036084</td>\n",
       "      <td>-0.041849</td>\n",
       "      <td>-0.111476</td>\n",
       "    </tr>\n",
       "    <tr>\n",
       "      <th>Raincoat</th>\n",
       "      <td>-0.021575</td>\n",
       "      <td>0.005207</td>\n",
       "      <td>-0.070270</td>\n",
       "      <td>0.042193</td>\n",
       "      <td>-0.112867</td>\n",
       "      <td>-0.069010</td>\n",
       "      <td>0.069790</td>\n",
       "      <td>0.008640</td>\n",
       "      <td>-0.016345</td>\n",
       "      <td>-0.121058</td>\n",
       "      <td>...</td>\n",
       "      <td>-0.060536</td>\n",
       "      <td>-0.103743</td>\n",
       "      <td>-0.078423</td>\n",
       "      <td>0.016189</td>\n",
       "      <td>-0.072726</td>\n",
       "      <td>0.031918</td>\n",
       "      <td>-0.043096</td>\n",
       "      <td>-0.052688</td>\n",
       "      <td>-0.013551</td>\n",
       "      <td>-0.039827</td>\n",
       "    </tr>\n",
       "    <tr>\n",
       "      <th>Romper</th>\n",
       "      <td>-0.000250</td>\n",
       "      <td>-0.039634</td>\n",
       "      <td>-0.059919</td>\n",
       "      <td>-0.043776</td>\n",
       "      <td>-0.036397</td>\n",
       "      <td>-0.052164</td>\n",
       "      <td>0.012165</td>\n",
       "      <td>-0.083543</td>\n",
       "      <td>0.014975</td>\n",
       "      <td>-0.138370</td>\n",
       "      <td>...</td>\n",
       "      <td>-0.059734</td>\n",
       "      <td>0.088830</td>\n",
       "      <td>-0.022158</td>\n",
       "      <td>-0.084838</td>\n",
       "      <td>0.017373</td>\n",
       "      <td>0.064610</td>\n",
       "      <td>0.054293</td>\n",
       "      <td>-0.069955</td>\n",
       "      <td>-0.135506</td>\n",
       "      <td>-0.120658</td>\n",
       "    </tr>\n",
       "    <tr>\n",
       "      <th>Shorts</th>\n",
       "      <td>0.036745</td>\n",
       "      <td>-0.040515</td>\n",
       "      <td>-0.159413</td>\n",
       "      <td>-0.086623</td>\n",
       "      <td>-0.073152</td>\n",
       "      <td>-0.081271</td>\n",
       "      <td>0.024813</td>\n",
       "      <td>-0.150948</td>\n",
       "      <td>-0.130850</td>\n",
       "      <td>0.171785</td>\n",
       "      <td>...</td>\n",
       "      <td>1.000000</td>\n",
       "      <td>-0.124323</td>\n",
       "      <td>0.053065</td>\n",
       "      <td>-0.088682</td>\n",
       "      <td>-0.003941</td>\n",
       "      <td>0.019205</td>\n",
       "      <td>-0.036847</td>\n",
       "      <td>0.000676</td>\n",
       "      <td>-0.026301</td>\n",
       "      <td>-0.014850</td>\n",
       "    </tr>\n",
       "    <tr>\n",
       "      <th>Skirt</th>\n",
       "      <td>-0.038421</td>\n",
       "      <td>-0.116777</td>\n",
       "      <td>-0.012622</td>\n",
       "      <td>-0.141501</td>\n",
       "      <td>-0.017139</td>\n",
       "      <td>-0.037098</td>\n",
       "      <td>-0.042012</td>\n",
       "      <td>-0.022408</td>\n",
       "      <td>-0.145475</td>\n",
       "      <td>0.104702</td>\n",
       "      <td>...</td>\n",
       "      <td>-0.124323</td>\n",
       "      <td>1.000000</td>\n",
       "      <td>-0.054353</td>\n",
       "      <td>-0.073091</td>\n",
       "      <td>-0.078213</td>\n",
       "      <td>0.097727</td>\n",
       "      <td>-0.105575</td>\n",
       "      <td>-0.021796</td>\n",
       "      <td>0.059118</td>\n",
       "      <td>0.047450</td>\n",
       "    </tr>\n",
       "    <tr>\n",
       "      <th>Sweater</th>\n",
       "      <td>-0.036108</td>\n",
       "      <td>-0.052414</td>\n",
       "      <td>0.047503</td>\n",
       "      <td>-0.011940</td>\n",
       "      <td>-0.096922</td>\n",
       "      <td>-0.071415</td>\n",
       "      <td>0.155647</td>\n",
       "      <td>-0.024756</td>\n",
       "      <td>-0.000045</td>\n",
       "      <td>0.007227</td>\n",
       "      <td>...</td>\n",
       "      <td>0.053065</td>\n",
       "      <td>-0.054353</td>\n",
       "      <td>1.000000</td>\n",
       "      <td>-0.187767</td>\n",
       "      <td>-0.106184</td>\n",
       "      <td>-0.126282</td>\n",
       "      <td>-0.011225</td>\n",
       "      <td>-0.066411</td>\n",
       "      <td>0.136014</td>\n",
       "      <td>-0.013628</td>\n",
       "    </tr>\n",
       "    <tr>\n",
       "      <th>Swimsuit</th>\n",
       "      <td>-0.188733</td>\n",
       "      <td>0.017305</td>\n",
       "      <td>0.019137</td>\n",
       "      <td>0.010332</td>\n",
       "      <td>-0.060285</td>\n",
       "      <td>0.038396</td>\n",
       "      <td>-0.090768</td>\n",
       "      <td>-0.076799</td>\n",
       "      <td>-0.082835</td>\n",
       "      <td>-0.123471</td>\n",
       "      <td>...</td>\n",
       "      <td>-0.088682</td>\n",
       "      <td>-0.073091</td>\n",
       "      <td>-0.187767</td>\n",
       "      <td>1.000000</td>\n",
       "      <td>0.097799</td>\n",
       "      <td>-0.070117</td>\n",
       "      <td>0.072251</td>\n",
       "      <td>-0.013852</td>\n",
       "      <td>-0.116585</td>\n",
       "      <td>-0.043726</td>\n",
       "    </tr>\n",
       "    <tr>\n",
       "      <th>T-shirt</th>\n",
       "      <td>-0.102325</td>\n",
       "      <td>-0.018133</td>\n",
       "      <td>-0.058813</td>\n",
       "      <td>0.049369</td>\n",
       "      <td>-0.095121</td>\n",
       "      <td>-0.024620</td>\n",
       "      <td>0.011973</td>\n",
       "      <td>-0.023626</td>\n",
       "      <td>-0.121573</td>\n",
       "      <td>-0.006409</td>\n",
       "      <td>...</td>\n",
       "      <td>-0.003941</td>\n",
       "      <td>-0.078213</td>\n",
       "      <td>-0.106184</td>\n",
       "      <td>0.097799</td>\n",
       "      <td>1.000000</td>\n",
       "      <td>0.002829</td>\n",
       "      <td>0.011365</td>\n",
       "      <td>0.020275</td>\n",
       "      <td>0.000603</td>\n",
       "      <td>-0.049905</td>\n",
       "    </tr>\n",
       "    <tr>\n",
       "      <th>Tank Top</th>\n",
       "      <td>-0.020347</td>\n",
       "      <td>-0.080033</td>\n",
       "      <td>-0.025881</td>\n",
       "      <td>-0.022329</td>\n",
       "      <td>-0.179489</td>\n",
       "      <td>0.051924</td>\n",
       "      <td>-0.209526</td>\n",
       "      <td>-0.093530</td>\n",
       "      <td>-0.070078</td>\n",
       "      <td>0.002691</td>\n",
       "      <td>...</td>\n",
       "      <td>0.019205</td>\n",
       "      <td>0.097727</td>\n",
       "      <td>-0.126282</td>\n",
       "      <td>-0.070117</td>\n",
       "      <td>0.002829</td>\n",
       "      <td>1.000000</td>\n",
       "      <td>-0.011884</td>\n",
       "      <td>-0.056548</td>\n",
       "      <td>-0.063879</td>\n",
       "      <td>-0.095853</td>\n",
       "    </tr>\n",
       "    <tr>\n",
       "      <th>Trench Coat</th>\n",
       "      <td>0.087474</td>\n",
       "      <td>-0.033556</td>\n",
       "      <td>-0.082842</td>\n",
       "      <td>-0.028292</td>\n",
       "      <td>-0.167289</td>\n",
       "      <td>-0.099654</td>\n",
       "      <td>0.078899</td>\n",
       "      <td>-0.011263</td>\n",
       "      <td>-0.030036</td>\n",
       "      <td>-0.070147</td>\n",
       "      <td>...</td>\n",
       "      <td>-0.036847</td>\n",
       "      <td>-0.105575</td>\n",
       "      <td>-0.011225</td>\n",
       "      <td>0.072251</td>\n",
       "      <td>0.011365</td>\n",
       "      <td>-0.011884</td>\n",
       "      <td>1.000000</td>\n",
       "      <td>-0.013546</td>\n",
       "      <td>-0.144537</td>\n",
       "      <td>-0.024468</td>\n",
       "    </tr>\n",
       "    <tr>\n",
       "      <th>Trousers</th>\n",
       "      <td>0.006196</td>\n",
       "      <td>-0.029965</td>\n",
       "      <td>-0.089790</td>\n",
       "      <td>0.032546</td>\n",
       "      <td>0.023348</td>\n",
       "      <td>-0.055066</td>\n",
       "      <td>0.045556</td>\n",
       "      <td>-0.015738</td>\n",
       "      <td>-0.055581</td>\n",
       "      <td>-0.150792</td>\n",
       "      <td>...</td>\n",
       "      <td>0.000676</td>\n",
       "      <td>-0.021796</td>\n",
       "      <td>-0.066411</td>\n",
       "      <td>-0.013852</td>\n",
       "      <td>0.020275</td>\n",
       "      <td>-0.056548</td>\n",
       "      <td>-0.013546</td>\n",
       "      <td>1.000000</td>\n",
       "      <td>-0.077145</td>\n",
       "      <td>-0.121869</td>\n",
       "    </tr>\n",
       "    <tr>\n",
       "      <th>Tunic</th>\n",
       "      <td>-0.023751</td>\n",
       "      <td>-0.108141</td>\n",
       "      <td>-0.165654</td>\n",
       "      <td>-0.024577</td>\n",
       "      <td>0.008438</td>\n",
       "      <td>0.082502</td>\n",
       "      <td>0.116887</td>\n",
       "      <td>-0.083207</td>\n",
       "      <td>-0.058002</td>\n",
       "      <td>-0.041615</td>\n",
       "      <td>...</td>\n",
       "      <td>-0.026301</td>\n",
       "      <td>0.059118</td>\n",
       "      <td>0.136014</td>\n",
       "      <td>-0.116585</td>\n",
       "      <td>0.000603</td>\n",
       "      <td>-0.063879</td>\n",
       "      <td>-0.144537</td>\n",
       "      <td>-0.077145</td>\n",
       "      <td>1.000000</td>\n",
       "      <td>-0.068117</td>\n",
       "    </tr>\n",
       "    <tr>\n",
       "      <th>Vest</th>\n",
       "      <td>-0.073958</td>\n",
       "      <td>0.008795</td>\n",
       "      <td>0.040633</td>\n",
       "      <td>-0.150341</td>\n",
       "      <td>0.085074</td>\n",
       "      <td>0.010690</td>\n",
       "      <td>-0.126943</td>\n",
       "      <td>-0.016262</td>\n",
       "      <td>-0.090668</td>\n",
       "      <td>0.187233</td>\n",
       "      <td>...</td>\n",
       "      <td>-0.014850</td>\n",
       "      <td>0.047450</td>\n",
       "      <td>-0.013628</td>\n",
       "      <td>-0.043726</td>\n",
       "      <td>-0.049905</td>\n",
       "      <td>-0.095853</td>\n",
       "      <td>-0.024468</td>\n",
       "      <td>-0.121869</td>\n",
       "      <td>-0.068117</td>\n",
       "      <td>1.000000</td>\n",
       "    </tr>\n",
       "  </tbody>\n",
       "</table>\n",
       "<p>31 rows × 31 columns</p>\n",
       "</div>"
      ],
      "text/plain": [
       "item             Blazer    Blouse  Camisole  Cardigan      Coat     Dress  \\\n",
       "item                                                                        \n",
       "Blazer         1.000000 -0.042647 -0.048702 -0.067459  0.042011 -0.059204   \n",
       "Blouse        -0.042647  1.000000 -0.106959  0.036843  0.048269 -0.061680   \n",
       "Camisole      -0.048702 -0.106959  1.000000 -0.031530  0.094975 -0.127603   \n",
       "Cardigan      -0.067459  0.036843 -0.031530  1.000000 -0.149087 -0.089621   \n",
       "Coat           0.042011  0.048269  0.094975 -0.149087  1.000000  0.025366   \n",
       "Dress         -0.059204 -0.061680 -0.127603 -0.089621  0.025366  1.000000   \n",
       "Flannel Shirt -0.007822 -0.082733 -0.053380 -0.114730 -0.094802 -0.074868   \n",
       "Hoodie        -0.003825 -0.058582 -0.012679  0.044284 -0.051134 -0.005371   \n",
       "Jacket         0.073937 -0.082338 -0.032676  0.119003  0.018203 -0.063261   \n",
       "Jeans         -0.102250 -0.144813 -0.001845 -0.173260  0.032038  0.004617   \n",
       "Jumpsuit      -0.046516 -0.022820  0.075701  0.041654 -0.091221  0.091880   \n",
       "Kimono        -0.013243  0.166539  0.030754 -0.124619 -0.021118  0.049664   \n",
       "Leggings       0.026654 -0.051165  0.073574 -0.072582  0.003411 -0.050232   \n",
       "Onesie        -0.083253  0.054450  0.090709 -0.095314  0.022405 -0.061246   \n",
       "Overalls      -0.000325  0.011957 -0.042696 -0.032159  0.008745 -0.031876   \n",
       "Pajamas       -0.131537  0.021130 -0.035423 -0.053133  0.029512 -0.000940   \n",
       "Pants         -0.040633  0.014154 -0.103212 -0.029205 -0.064940 -0.040697   \n",
       "Polo Shirt    -0.031592 -0.123396  0.040666 -0.005746 -0.007933 -0.055010   \n",
       "Poncho        -0.057070 -0.110712 -0.119438  0.064589 -0.033621 -0.055183   \n",
       "Raincoat      -0.021575  0.005207 -0.070270  0.042193 -0.112867 -0.069010   \n",
       "Romper        -0.000250 -0.039634 -0.059919 -0.043776 -0.036397 -0.052164   \n",
       "Shorts         0.036745 -0.040515 -0.159413 -0.086623 -0.073152 -0.081271   \n",
       "Skirt         -0.038421 -0.116777 -0.012622 -0.141501 -0.017139 -0.037098   \n",
       "Sweater       -0.036108 -0.052414  0.047503 -0.011940 -0.096922 -0.071415   \n",
       "Swimsuit      -0.188733  0.017305  0.019137  0.010332 -0.060285  0.038396   \n",
       "T-shirt       -0.102325 -0.018133 -0.058813  0.049369 -0.095121 -0.024620   \n",
       "Tank Top      -0.020347 -0.080033 -0.025881 -0.022329 -0.179489  0.051924   \n",
       "Trench Coat    0.087474 -0.033556 -0.082842 -0.028292 -0.167289 -0.099654   \n",
       "Trousers       0.006196 -0.029965 -0.089790  0.032546  0.023348 -0.055066   \n",
       "Tunic         -0.023751 -0.108141 -0.165654 -0.024577  0.008438  0.082502   \n",
       "Vest          -0.073958  0.008795  0.040633 -0.150341  0.085074  0.010690   \n",
       "\n",
       "item           Flannel Shirt    Hoodie    Jacket     Jeans  ...    Shorts  \\\n",
       "item                                                        ...             \n",
       "Blazer             -0.007822 -0.003825  0.073937 -0.102250  ...  0.036745   \n",
       "Blouse             -0.082733 -0.058582 -0.082338 -0.144813  ... -0.040515   \n",
       "Camisole           -0.053380 -0.012679 -0.032676 -0.001845  ... -0.159413   \n",
       "Cardigan           -0.114730  0.044284  0.119003 -0.173260  ... -0.086623   \n",
       "Coat               -0.094802 -0.051134  0.018203  0.032038  ... -0.073152   \n",
       "Dress              -0.074868 -0.005371 -0.063261  0.004617  ... -0.081271   \n",
       "Flannel Shirt       1.000000 -0.163470  0.000802  0.011474  ...  0.024813   \n",
       "Hoodie             -0.163470  1.000000 -0.037004 -0.112153  ... -0.150948   \n",
       "Jacket              0.000802 -0.037004  1.000000 -0.070873  ... -0.130850   \n",
       "Jeans               0.011474 -0.112153 -0.070873  1.000000  ...  0.171785   \n",
       "Jumpsuit           -0.046251 -0.050532 -0.082798 -0.022113  ... -0.084263   \n",
       "Kimono             -0.201292 -0.027847 -0.157168  0.061080  ... -0.038884   \n",
       "Leggings           -0.010042 -0.128780  0.192747 -0.016343  ...  0.031146   \n",
       "Onesie             -0.212704  0.071808 -0.043171 -0.005354  ... -0.021389   \n",
       "Overalls           -0.024622 -0.004960 -0.024331 -0.105799  ... -0.019815   \n",
       "Pajamas             0.074459 -0.035337 -0.113376 -0.041881  ...  0.085248   \n",
       "Pants               0.101556 -0.088185 -0.015722  0.045250  ... -0.055226   \n",
       "Polo Shirt          0.053021  0.113794  0.122946 -0.040890  ... -0.017873   \n",
       "Poncho             -0.022868  0.100869  0.116655 -0.167746  ... -0.053889   \n",
       "Raincoat            0.069790  0.008640 -0.016345 -0.121058  ... -0.060536   \n",
       "Romper              0.012165 -0.083543  0.014975 -0.138370  ... -0.059734   \n",
       "Shorts              0.024813 -0.150948 -0.130850  0.171785  ...  1.000000   \n",
       "Skirt              -0.042012 -0.022408 -0.145475  0.104702  ... -0.124323   \n",
       "Sweater             0.155647 -0.024756 -0.000045  0.007227  ...  0.053065   \n",
       "Swimsuit           -0.090768 -0.076799 -0.082835 -0.123471  ... -0.088682   \n",
       "T-shirt             0.011973 -0.023626 -0.121573 -0.006409  ... -0.003941   \n",
       "Tank Top           -0.209526 -0.093530 -0.070078  0.002691  ...  0.019205   \n",
       "Trench Coat         0.078899 -0.011263 -0.030036 -0.070147  ... -0.036847   \n",
       "Trousers            0.045556 -0.015738 -0.055581 -0.150792  ...  0.000676   \n",
       "Tunic               0.116887 -0.083207 -0.058002 -0.041615  ... -0.026301   \n",
       "Vest               -0.126943 -0.016262 -0.090668  0.187233  ... -0.014850   \n",
       "\n",
       "item              Skirt   Sweater  Swimsuit   T-shirt  Tank Top  Trench Coat  \\\n",
       "item                                                                           \n",
       "Blazer        -0.038421 -0.036108 -0.188733 -0.102325 -0.020347     0.087474   \n",
       "Blouse        -0.116777 -0.052414  0.017305 -0.018133 -0.080033    -0.033556   \n",
       "Camisole      -0.012622  0.047503  0.019137 -0.058813 -0.025881    -0.082842   \n",
       "Cardigan      -0.141501 -0.011940  0.010332  0.049369 -0.022329    -0.028292   \n",
       "Coat          -0.017139 -0.096922 -0.060285 -0.095121 -0.179489    -0.167289   \n",
       "Dress         -0.037098 -0.071415  0.038396 -0.024620  0.051924    -0.099654   \n",
       "Flannel Shirt -0.042012  0.155647 -0.090768  0.011973 -0.209526     0.078899   \n",
       "Hoodie        -0.022408 -0.024756 -0.076799 -0.023626 -0.093530    -0.011263   \n",
       "Jacket        -0.145475 -0.000045 -0.082835 -0.121573 -0.070078    -0.030036   \n",
       "Jeans          0.104702  0.007227 -0.123471 -0.006409  0.002691    -0.070147   \n",
       "Jumpsuit      -0.050088 -0.078133 -0.013667  0.047750 -0.066633     0.011899   \n",
       "Kimono        -0.027911 -0.038313  0.079898 -0.064079  0.030775    -0.142999   \n",
       "Leggings      -0.026272 -0.054234 -0.049583 -0.119115 -0.043461     0.050086   \n",
       "Onesie        -0.091375 -0.087324  0.070128 -0.094513 -0.046414    -0.110582   \n",
       "Overalls      -0.027276  0.027876 -0.038349 -0.034848  0.015007    -0.010088   \n",
       "Pajamas        0.008583  0.069305  0.044125  0.000921 -0.118825    -0.122954   \n",
       "Pants         -0.036985 -0.028174  0.017769 -0.107308 -0.003865     0.021403   \n",
       "Polo Shirt    -0.138359 -0.129358 -0.115178 -0.036815 -0.040494    -0.147469   \n",
       "Poncho        -0.040217 -0.056634 -0.056373 -0.115179 -0.050637    -0.059359   \n",
       "Raincoat      -0.103743 -0.078423  0.016189 -0.072726  0.031918    -0.043096   \n",
       "Romper         0.088830 -0.022158 -0.084838  0.017373  0.064610     0.054293   \n",
       "Shorts        -0.124323  0.053065 -0.088682 -0.003941  0.019205    -0.036847   \n",
       "Skirt          1.000000 -0.054353 -0.073091 -0.078213  0.097727    -0.105575   \n",
       "Sweater       -0.054353  1.000000 -0.187767 -0.106184 -0.126282    -0.011225   \n",
       "Swimsuit      -0.073091 -0.187767  1.000000  0.097799 -0.070117     0.072251   \n",
       "T-shirt       -0.078213 -0.106184  0.097799  1.000000  0.002829     0.011365   \n",
       "Tank Top       0.097727 -0.126282 -0.070117  0.002829  1.000000    -0.011884   \n",
       "Trench Coat   -0.105575 -0.011225  0.072251  0.011365 -0.011884     1.000000   \n",
       "Trousers      -0.021796 -0.066411 -0.013852  0.020275 -0.056548    -0.013546   \n",
       "Tunic          0.059118  0.136014 -0.116585  0.000603 -0.063879    -0.144537   \n",
       "Vest           0.047450 -0.013628 -0.043726 -0.049905 -0.095853    -0.024468   \n",
       "\n",
       "item           Trousers     Tunic      Vest  \n",
       "item                                         \n",
       "Blazer         0.006196 -0.023751 -0.073958  \n",
       "Blouse        -0.029965 -0.108141  0.008795  \n",
       "Camisole      -0.089790 -0.165654  0.040633  \n",
       "Cardigan       0.032546 -0.024577 -0.150341  \n",
       "Coat           0.023348  0.008438  0.085074  \n",
       "Dress         -0.055066  0.082502  0.010690  \n",
       "Flannel Shirt  0.045556  0.116887 -0.126943  \n",
       "Hoodie        -0.015738 -0.083207 -0.016262  \n",
       "Jacket        -0.055581 -0.058002 -0.090668  \n",
       "Jeans         -0.150792 -0.041615  0.187233  \n",
       "Jumpsuit      -0.026098  0.012334 -0.042052  \n",
       "Kimono        -0.065293 -0.086003  0.009343  \n",
       "Leggings      -0.058232 -0.009261 -0.059831  \n",
       "Onesie        -0.062876 -0.104765  0.170170  \n",
       "Overalls       0.008168 -0.024027 -0.120298  \n",
       "Pajamas        0.074560 -0.020160 -0.131216  \n",
       "Pants         -0.072697  0.131860 -0.078597  \n",
       "Polo Shirt    -0.017035  0.034442 -0.017057  \n",
       "Poncho         0.036084 -0.041849 -0.111476  \n",
       "Raincoat      -0.052688 -0.013551 -0.039827  \n",
       "Romper        -0.069955 -0.135506 -0.120658  \n",
       "Shorts         0.000676 -0.026301 -0.014850  \n",
       "Skirt         -0.021796  0.059118  0.047450  \n",
       "Sweater       -0.066411  0.136014 -0.013628  \n",
       "Swimsuit      -0.013852 -0.116585 -0.043726  \n",
       "T-shirt        0.020275  0.000603 -0.049905  \n",
       "Tank Top      -0.056548 -0.063879 -0.095853  \n",
       "Trench Coat   -0.013546 -0.144537 -0.024468  \n",
       "Trousers       1.000000 -0.077145 -0.121869  \n",
       "Tunic         -0.077145  1.000000 -0.068117  \n",
       "Vest          -0.121869 -0.068117  1.000000  \n",
       "\n",
       "[31 rows x 31 columns]"
      ]
     },
     "execution_count": 9,
     "metadata": {},
     "output_type": "execute_result"
    }
   ],
   "source": [
    "from sklearn.preprocessing import StandardScaler\n",
    "from sklearn.metrics.pairwise import cosine_similarity\n",
    "\n",
    "# Step 1: Create user-item review matrix\n",
    "user_item_matrix = df.pivot_table(index='customerID', columns='item', values='review', aggfunc='mean')\n",
    "\n",
    "# Step 2: Fill missing with 0 (or leave NaN depending on strategy)\n",
    "user_item_filled = user_item_matrix.fillna(0)\n",
    "\n",
    "# Step 3: Transpose to item-user (each row = item vector across users)\n",
    "item_user_matrix = user_item_filled.T\n",
    "\n",
    "# Step 4: Center and scale each item vector\n",
    "scaler = StandardScaler(with_mean=True, with_std=True)\n",
    "item_user_scaled = scaler.fit_transform(item_user_matrix)\n",
    "\n",
    "# Step 5: Compute cosine similarity manually or with sklearn\n",
    "item_similarity_matrix = cosine_similarity(item_user_scaled)\n",
    "\n",
    "# Step 6: Store in a DataFrame\n",
    "item_similarity_df = pd.DataFrame(item_similarity_matrix, index=item_user_matrix.index, columns=item_user_matrix.index)\n",
    "\n",
    "item_similarity_df\n"
   ]
  },
  {
   "cell_type": "code",
   "execution_count": null,
   "id": "5440a8ea-021b-4a5b-9ba1-bd99f5436fb9",
   "metadata": {},
   "outputs": [],
   "source": [
    "# plot heatmap of item similarity\n",
    "plt.figure(figsize=(14, 10))\n",
    "sns.heatmap(item_similarity_df, cmap=\"coolwarm\", annot=False, fmt=\".2f\", linewidths=0.5,\n",
    "            xticklabels=item_similarity_df.columns, yticklabels=item_similarity_df.index)\n",
    "plt.title(\"item-item similarity heatmap (cosine similarity)\")\n",
    "plt.xticks(rotation=90)\n",
    "plt.yticks(rotation=0)\n",
    "plt.tight_layout()\n",
    "plt.savefig(\"item-item-heatmap.png\", bbox_inches='tight')\n",
    "plt.show()"
   ]
  },
  {
   "cell_type": "code",
   "execution_count": null,
   "id": "5173056c-490c-4606-8cdc-818d449864b4",
   "metadata": {},
   "outputs": [],
   "source": [
    "#MANUAL SIMILARITY MATRIX\n",
    "user_item_matrix = df.pivot_table(index='customerID', columns='item', values='review', aggfunc='mean').fillna(0)\n",
    "item_user_matrix = user_item_matrix.T\n",
    "import numpy as np\n",
    "manual_similarity = pd.DataFrame(index=item_user_matrix.index, columns=item_user_matrix.index)\n",
    "\n",
    "for item_i in item_user_matrix.index:\n",
    "    for item_j in item_user_matrix.index:\n",
    "        vec_i = item_user_matrix.loc[item_i].values\n",
    "        vec_j = item_user_matrix.loc[item_j].values\n",
    "        \n",
    "        dot_product = np.dot(vec_i, vec_j)\n",
    "        norm_i = np.linalg.norm(vec_i)\n",
    "        norm_j = np.linalg.norm(vec_j)\n",
    "        \n",
    "        if norm_i == 0 or norm_j == 0:\n",
    "            similarity = 0  \n",
    "        else:\n",
    "            similarity = dot_product / (norm_i * norm_j)\n",
    "        \n",
    "        manual_similarity.loc[item_i, item_j] = similarity\n",
    "manual_similarity = manual_similarity.astype(float)\n",
    "print(manual_similarity)"
   ]
  },
  {
   "cell_type": "code",
   "execution_count": null,
   "id": "9003710f-fb09-43ec-b906-479449eff700",
   "metadata": {},
   "outputs": [],
   "source": [
    "# plot heatmap of item similarity\n",
    "plt.figure(figsize=(14, 10))\n",
    "sns.heatmap(manual_similarity, cmap=\"coolwarm\", annot=False, fmt=\".2f\", linewidths=0.5,\n",
    "            xticklabels=item_similarity_df.columns, yticklabels=item_similarity_df.index)\n",
    "plt.title(\"item-item similarity heatmap (cosine similarity)\")\n",
    "plt.xticks(rotation=90)\n",
    "plt.yticks(rotation=0)\n",
    "plt.tight_layout()\n",
    "plt.savefig(\"item-item-heatmap.png\", bbox_inches='tight')\n",
    "plt.show()"
   ]
  },
  {
   "cell_type": "code",
   "execution_count": null,
   "id": "235f111d-5bb9-4d82-8911-575bd59a6b04",
   "metadata": {},
   "outputs": [],
   "source": [
    "df['month'] = pd.to_datetime(df['date']).dt.to_period(\"M\")\n",
    "ts_sales = df.groupby(['item', 'month']).agg(\n",
    "    Total_Sales=('amount_usd', 'sum')\n",
    ").reset_index()\n",
    "ts_sales['month'] = ts_sales['month'].dt.to_timestamp()\n",
    "\n",
    "# Plotly graph Time Series\n",
    "fig = go.Figure()\n",
    "\n",
    "for item in ts_sales['item'].unique():\n",
    "    item_data = ts_sales[ts_sales['item'] == item]\n",
    "    fig.add_trace(go.Scatter(\n",
    "        x=item_data['month'],\n",
    "        y=item_data['Total_Sales'],\n",
    "        mode='lines+markers',\n",
    "        name=item,\n",
    "        hoverinfo='text',\n",
    "        text=[f\"Item: {item}<br>Sales: ${val}\" for val in item_data['Total_Sales']],\n",
    "        line=dict(width=2),\n",
    "        opacity=0.6\n",
    "    ))\n",
    "\n",
    "fig.update_layout(\n",
    "    title=\"Total Sales Over Time by Item\",\n",
    "    xaxis_title=\"Month\",\n",
    "    yaxis_title=\"Total Sales (USD)\",\n",
    "    hovermode='x unified',\n",
    "    template='plotly_white',\n",
    "    height=500\n",
    ")\n",
    "\n",
    "fig.show()"
   ]
  },
  {
   "cell_type": "code",
   "execution_count": null,
   "id": "941832a6-a3b4-4fdd-9e7b-22dadf866b37",
   "metadata": {},
   "outputs": [],
   "source": [
    "# function to find and print top-n similar items based on cosine similarity\n",
    "def find_similar_items(item_name, top_n=5):\n",
    "    # convert input to lowercase for case-insensitive matching\n",
    "    item_name_lower = item_name.lower()\n",
    "    all_items = list(item_similarity_df.columns)\n",
    "    \n",
    "    # match the input item ignoring case\n",
    "    matched_items = [item for item in all_items if item.lower() == item_name_lower]\n",
    "    \n",
    "    if not matched_items:\n",
    "        print(f\"item '{item_name}' not found. please check the spelling or try another item.\")\n",
    "        return\n",
    "    \n",
    "    matched_item = matched_items[0]\n",
    "    \n",
    "    # get top n similar items\n",
    "    similar_items = item_similarity_df[matched_item].drop(matched_item).sort_values(ascending=False).head(top_n)\n",
    "    print(f\"\\ntop {top_n} items similar to '{matched_item}':\")\n",
    "    for similar_item, score in similar_items.items():\n",
    "        print(f\"{similar_item}: similarity score = {score:.2f}\")\n",
    "\n",
    "# prompt user to input item and number of similar items to display\n",
    "user_input = input(\"enter an item name to find similar products: \").strip()\n",
    "n = int(input(\"how many similar items do you want to see? (default 5): \") or 5)\n",
    "\n",
    "find_similar_items(user_input, top_n=n)\n"
   ]
  },
  {
   "cell_type": "code",
   "execution_count": null,
   "id": "96fb9c9e-9598-4dac-a797-924e34b963a4",
   "metadata": {},
   "outputs": [],
   "source": [
    "# count total number of sales\n",
    "total_sales = len(df)\n",
    "\n",
    "# count number of unique items\n",
    "unique_items = df['item'].nunique()\n",
    "\n",
    "# count item frequency\n",
    "item_counts = df['item'].value_counts()\n",
    "\n",
    "# display results\n",
    "print(f\"\\ntotal number of sales: {total_sales}\")\n",
    "print(f\"number of unique items: {unique_items}\")\n",
    "print(\"\\nitems sold (sorted by quantity):\")\n",
    "print(item_counts)\n"
   ]
  },
  {
   "cell_type": "code",
   "execution_count": null,
   "id": "dcb8501d-1862-4083-aecf-3e00aa0f2f66",
   "metadata": {},
   "outputs": [],
   "source": [
    "# group by item and month: sum of sales and units sold\n",
    "ts_sales_full = df.groupby(['item', 'month']).agg(\n",
    "    Total_Sales=('amount_usd', 'sum'),\n",
    "    Units_Sold=('item', 'count')\n",
    ").reset_index()\n",
    "ts_sales_full['month'] = ts_sales_full['month'].dt.to_timestamp()\n",
    "\n",
    "# dropdown options\n",
    "items_list = sorted(ts_sales_full['item'].unique())\n",
    "\n",
    "# plot function (single item)\n",
    "def plot_single_item(selected_item):\n",
    "    if not selected_item:\n",
    "        return\n",
    "\n",
    "    item_data = ts_sales_full[ts_sales_full['item'] == selected_item]\n",
    "    \n",
    "    fig = go.Figure()\n",
    "    fig.add_trace(go.Scatter(\n",
    "        x=item_data['month'],\n",
    "        y=item_data['Total_Sales'],\n",
    "        mode='lines+markers',\n",
    "        name=selected_item,\n",
    "        customdata=item_data[['Units_Sold']],\n",
    "        hovertemplate=(\n",
    "            f\"<b>{selected_item}</b><br>\" +\n",
    "            \"month: %{x|%b %Y}<br>\" +\n",
    "            \"sales: $%{y:.2f}<br>\" +\n",
    "            \"units sold: %{customdata[0]}<extra></extra>\"\n",
    "        ),\n",
    "        line=dict(width=2)\n",
    "    ))\n",
    "    \n",
    "    fig.update_layout(\n",
    "        title=f\"Seasonal Sales Trend: {selected_item}\",\n",
    "        xaxis_title=\"Month\",\n",
    "        yaxis_title=\"Total Sales (USD)\",\n",
    "        hovermode='closest',\n",
    "        template='plotly_white',\n",
    "        height=600\n",
    "    )\n",
    "    \n",
    "    from IPython.display import display\n",
    "    display(fig)\n",
    "\n",
    "# single-select dropdown widget\n",
    "single_dropdown = widgets.Dropdown(\n",
    "    options=items_list,\n",
    "    description='Choose item:',\n",
    "    style={'description_width': 'initial'},\n",
    "    layout={'width': '50%'}\n",
    ")\n",
    "\n",
    "# connect and display the widget\n",
    "plot_ui = interactive(plot_single_item, selected_item=single_dropdown)\n",
    "display(plot_ui)\n"
   ]
  },
  {
   "cell_type": "code",
   "execution_count": null,
   "id": "01a66e33-dc73-4f4c-823b-660296f7e71c",
   "metadata": {},
   "outputs": [],
   "source": [
    "import pandas as pd\n",
    "import plotly.graph_objects as go\n",
    "from statsmodels.tsa.arima.model import ARIMA\n",
    "from ipywidgets import Dropdown\n",
    "from IPython.display import display\n",
    "\n",
    "# create monthly total sales dataframe\n",
    "monthly_sales = df.groupby(['item', 'month']).agg(\n",
    "    Total_Sales=('amount_usd', 'sum')\n",
    ").reset_index()\n",
    "\n",
    "# define forecast function\n",
    "def forecast_item(item_name, periods=6):\n",
    "    item_data = monthly_sales[monthly_sales['item'] == item_name].copy()\n",
    "    item_data['month'] = item_data['month'].dt.to_timestamp()\n",
    "    item_data = item_data.set_index('month').resample('M').sum().fillna(0)\n",
    "\n",
    "    model = ARIMA(item_data['Total_Sales'], order=(1, 1, 1))\n",
    "    model_fit = model.fit()\n",
    "    forecast = model_fit.get_forecast(steps=periods)\n",
    "    \n",
    "    forecast_index = pd.date_range(item_data.index[-1] + pd.DateOffset(months=1), periods=periods, freq='M')\n",
    "    \n",
    "    fig = go.Figure()\n",
    "    fig.add_trace(go.Scatter(x=item_data.index, y=item_data['Total_Sales'],\n",
    "                             mode='lines+markers', name='historical sales'))\n",
    "    fig.add_trace(go.Scatter(x=forecast_index, y=forecast.predicted_mean,\n",
    "                             mode='lines+markers', name='forecasted sales'))\n",
    "    \n",
    "    fig.update_layout(\n",
    "        title=f\"Sales Forecast for {item_name}\",\n",
    "        xaxis_title=\"Month\",\n",
    "        yaxis_title=\"Total Sales (USD)\",\n",
    "        template=\"plotly_white\"\n",
    "    )\n",
    "    fig.show()\n",
    "\n",
    "# plain dropdown\n",
    "item_dropdown = Dropdown(\n",
    "    options=sorted(monthly_sales['item'].unique()),\n",
    "    description='Select item:',\n",
    "    layout={'width': '50%'}\n",
    ")\n",
    "\n",
    "# display dropdown and trigger function manually\n",
    "display(item_dropdown)"
   ]
  },
  {
   "cell_type": "code",
   "execution_count": null,
   "id": "21ae0cce-9592-454c-8c23-61d8c533547c",
   "metadata": {
    "scrolled": true
   },
   "outputs": [],
   "source": [
    "forecast_item(item_dropdown.value)"
   ]
  },
  {
   "cell_type": "code",
   "execution_count": null,
   "id": "40f39b0f-2eaa-4d57-8a5e-3e84f25fb4b1",
   "metadata": {},
   "outputs": [],
   "source": [
    "# find peak sales month for each item\n",
    "peak_months = monthly_sales.loc[\n",
    "    monthly_sales.groupby('item')['Total_Sales'].idxmax()\n",
    "][['item', 'month', 'Total_Sales']].sort_values(by='month')\n",
    "\n",
    "# display peak month and sales value for each item\n",
    "print(peak_months)\n",
    "\n",
    "# this shows the single month each item had its highest total sales\n",
    "# useful for identifying when to market specific products\n",
    "\n",
    "# Ordered by month to see which items peak early in the year vs. later.\n",
    "# ➤ “When should I market this product?”\n",
    "# ➤ “Which items peak in summer vs. winter?”\n"
   ]
  },
  {
   "cell_type": "code",
   "execution_count": null,
   "id": "caf2ed70-b878-4279-a847-4083bd1f5f48",
   "metadata": {},
   "outputs": [],
   "source": [
    "import pandas as pd\n",
    "from ipywidgets import Dropdown\n",
    "from IPython.display import display\n",
    "\n",
    "# Step 1: Create binary customer-item matrix\n",
    "basket = df.groupby(['customerID', 'item']).size().unstack(fill_value=0)\n",
    "basket[basket > 0] = 1  # convert to binary matrix\n",
    "\n",
    "# Step 2: Co-purchase frequency (item-item)\n",
    "co_purchase = basket.T.dot(basket).fillna(0)\n",
    "\n",
    "# Step 3: Combine with cosine similarity to score bundles\n",
    "bundle_recommendations = []\n",
    "\n",
    "for item in co_purchase.columns:\n",
    "    if item not in item_similarity_df.columns:\n",
    "        continue  # skip if item not in similarity matrix\n",
    "\n",
    "    # Normalize scores\n",
    "    co_score = co_purchase[item] / co_purchase[item].max()\n",
    "    sim_score = item_similarity_df[item] / item_similarity_df[item].max()\n",
    "\n",
    "    # Combine scores\n",
    "    combined_score = (co_score.fillna(0) * 0.5) + (sim_score.fillna(0) * 0.5)\n",
    "    top_bundle = combined_score.drop(item, errors='ignore').sort_values(ascending=False).head(3)\n",
    "\n",
    "    for related_item, score in top_bundle.items():\n",
    "        bundle_recommendations.append({\n",
    "            'item': item,\n",
    "            'recommended_bundle': related_item,\n",
    "            'bundle_score': round(score, 3)\n",
    "        })\n",
    "\n",
    "# Step 4: Create bundle dataframe\n",
    "bundle_df = pd.DataFrame(bundle_recommendations)\n",
    "\n",
    "# Step 5: Dropdown for selecting item\n",
    "bundle_dropdown = Dropdown(\n",
    "    options=bundle_df['item'].unique(),\n",
    "    description=\"Select item:\",\n",
    "    layout={'width': '50%'}\n",
    ")\n",
    "display(bundle_dropdown)"
   ]
  },
  {
   "cell_type": "code",
   "execution_count": null,
   "id": "f39b19e3-fec6-4dd8-947e-1002e4eb7cdf",
   "metadata": {},
   "outputs": [],
   "source": [
    "top_related = bundle_df[bundle_df['item'] == bundle_dropdown.value].sort_values(by='bundle_score', ascending=False)\n",
    "display(top_related[['recommended_bundle', 'bundle_score']])"
   ]
  },
  {
   "cell_type": "code",
   "execution_count": null,
   "id": "f6c691d7-fbff-4560-a010-b5980f0ed819",
   "metadata": {},
   "outputs": [],
   "source": [
    "# segment sales by payment method and review score\n",
    "# categorize review scores into bins\n",
    "bins = [0, 2, 3.5, 5]\n",
    "labels = ['low (<=2)', 'medium (2-3.5)', 'high (>3.5)']\n",
    "df['review_level'] = pd.cut(df['review'], bins=bins, labels=labels, include_lowest=True)\n",
    "\n",
    "# group by item, payment method, and review level\n",
    "segmented_sales = df.groupby(['item', 'payment', 'review_level']).agg(\n",
    "    total_sales=('amount_usd', 'sum'),\n",
    "    units_sold=('item', 'count'),\n",
    "    avg_review=('review', 'mean')\n",
    ").reset_index().sort_values(['item', 'total_sales'], ascending=[True, False])\n",
    "\n",
    "# display segmented results\n",
    "print(segmented_sales)\n",
    "\n",
    "# interactive dropdown to view segmented sales by item\n",
    "@interact(item=Dropdown(options=sorted(segmented_sales['item'].unique()), description=\"item\"))\n",
    "def segment_view(item):\n",
    "    seg_view = segmented_sales[segmented_sales['item'] == item]\n",
    "    display(seg_view[['payment', 'review_level', 'total_sales', 'units_sold', 'avg_review']])"
   ]
  },
  {
   "cell_type": "code",
   "execution_count": null,
   "id": "33167063-9e41-4b50-9be5-71e7be223601",
   "metadata": {},
   "outputs": [],
   "source": [
    "from ipywidgets import Dropdown\n",
    "from IPython.display import display\n",
    "\n",
    "# Step 1: Create dropdown widget\n",
    "customer_dropdown = Dropdown(\n",
    "    options=sorted(df['customerID'].unique()),\n",
    "    description='Customer ID:',\n",
    "    layout={'width': '50%'}\n",
    ")\n",
    "\n",
    "# Step 2: Display the dropdown\n",
    "display(customer_dropdown)\n",
    "\n",
    "# Step 3: After selecting a customer, run this:\n",
    "# customer_data = df[df['customerID'] == customer_dropdown.value].sort_values(by='date')\n",
    "# display(customer_data[['date', 'item', 'amount_usd', 'review', 'payment']].reset_index(drop=True))\n"
   ]
  },
  {
   "cell_type": "code",
   "execution_count": null,
   "id": "00d0155a-c9e6-42f7-b7a1-6fea7e1aa550",
   "metadata": {},
   "outputs": [],
   "source": [
    "customer_data = df[df['customerID'] == customer_dropdown.value].sort_values(by='date')\n",
    "display(customer_data[['date', 'item', 'amount_usd', 'review', 'payment']].reset_index(drop=True))\n"
   ]
  },
  {
   "cell_type": "code",
   "execution_count": null,
   "id": "941be5be-83b5-48c9-8792-7e5c347c4b78",
   "metadata": {},
   "outputs": [],
   "source": [
    "from ipywidgets import Dropdown\n",
    "from IPython.display import display\n",
    "import plotly.graph_objects as go\n",
    "\n",
    "# Step 1: Create and display dropdown\n",
    "review_dropdown = Dropdown(\n",
    "    options=sorted(df['customerID'].unique()),\n",
    "    description='Customer ID:',\n",
    "    layout={'width': '50%'}\n",
    ")\n",
    "display(review_dropdown)\n"
   ]
  },
  {
   "cell_type": "code",
   "execution_count": null,
   "id": "20b9dea9-3823-4279-9e64-828bee9df804",
   "metadata": {},
   "outputs": [],
   "source": [
    "# Step 2: Plot reviews for selected customer\n",
    "cust_data = df[df['customerID'] == review_dropdown.value].sort_values('date')\n",
    "\n",
    "fig = go.Figure()\n",
    "fig.add_trace(go.Scatter(\n",
    "    x=cust_data['date'],\n",
    "    y=cust_data['review'],\n",
    "    mode='lines+markers',\n",
    "    name=f\"customer {review_dropdown.value}\",\n",
    "    text=[f\"item: {item}<br>amount: ${amt:.2f}\" \n",
    "          for item, amt in zip(cust_data['item'], cust_data['amount_usd'])],\n",
    "    hoverinfo='text+x+y',\n",
    "    line=dict(color='royalblue', width=2)\n",
    "))\n",
    "\n",
    "fig.update_layout(\n",
    "    title=f\"Review Ratings Over Time for Customer {review_dropdown.value}\",\n",
    "    xaxis_title='Purchase Date',\n",
    "    yaxis_title='Review Score',\n",
    "    yaxis=dict(range=[0, 5.5]),\n",
    "    template='plotly_white',\n",
    "    height=400\n",
    ")\n",
    "\n",
    "fig.show()\n"
   ]
  },
  {
   "cell_type": "code",
   "execution_count": null,
   "id": "aac069d3-24ab-4c87-9625-1ea5cab7cab5",
   "metadata": {},
   "outputs": [],
   "source": [
    "# calculate first and peak month per item\n",
    "first_months = monthly_sales.groupby('item')['month'].min().reset_index(name='first_month')\n",
    "peak_months = monthly_sales.loc[\n",
    "    monthly_sales.groupby('item')['Total_Sales'].idxmax()\n",
    "][['item', 'month']].rename(columns={'month': 'peak_month'})\n",
    "\n",
    "# merge to compute lead time from first sale to peak sale\n",
    "timing_df = pd.merge(first_months, peak_months, on='item')\n",
    "timing_df['lead_time_months'] = (\n",
    "    timing_df['peak_month'].dt.to_period('M') - timing_df['first_month'].dt.to_period('M')\n",
    ").apply(lambda x: x.n)\n",
    "\n",
    "# display results\n",
    "print(timing_df)\n",
    "\n",
    "# first_month: when the item first appeared in the dataset\n",
    "# peak_month: when the item had its highest total sales\n",
    "# lead_time_months: number of months it took to reach peak\n",
    "\n",
    "# ➤ “How long after launch does this product usually take to become popular?”\n",
    "# ➤ “How early should I introduce it before expecting strong sales?”"
   ]
  },
  {
   "cell_type": "code",
   "execution_count": 42,
   "id": "03c02d3e-13a4-49ed-bf4f-788f1bb2714e",
   "metadata": {},
   "outputs": [
    {
     "data": {
      "application/vnd.plotly.v1+json": {
       "config": {
        "plotlyServerURL": "https://plot.ly"
       },
       "data": [
        {
         "mode": "lines+markers",
         "name": "Historical Sales",
         "type": "scatter",
         "x": [
          "2022-10-31T00:00:00",
          "2022-11-30T00:00:00",
          "2022-12-31T00:00:00",
          "2023-01-31T00:00:00",
          "2023-02-28T00:00:00",
          "2023-03-31T00:00:00",
          "2023-04-30T00:00:00",
          "2023-05-31T00:00:00",
          "2023-06-30T00:00:00",
          "2023-07-31T00:00:00",
          "2023-08-31T00:00:00",
          "2023-09-30T00:00:00"
         ],
         "y": [
          499,
          152,
          583,
          243,
          185,
          747,
          336,
          1323,
          0,
          3117,
          528,
          186
         ]
        },
        {
         "mode": "lines+markers",
         "name": "Forecasted Sales",
         "type": "scatter",
         "x": [
          "2023-10-31T00:00:00",
          "2023-11-30T00:00:00",
          "2023-12-31T00:00:00",
          "2024-01-31T00:00:00",
          "2024-02-29T00:00:00",
          "2024-03-31T00:00:00"
         ],
         "y": [
          2189.5740010334916,
          464.84842347468384,
          1035.820350102102,
          1414.23999750232,
          748.7168207863442,
          1180.0451045825032
         ]
        }
       ],
       "layout": {
        "autosize": true,
        "template": {
         "data": {
          "bar": [
           {
            "error_x": {
             "color": "#2a3f5f"
            },
            "error_y": {
             "color": "#2a3f5f"
            },
            "marker": {
             "line": {
              "color": "white",
              "width": 0.5
             },
             "pattern": {
              "fillmode": "overlay",
              "size": 10,
              "solidity": 0.2
             }
            },
            "type": "bar"
           }
          ],
          "barpolar": [
           {
            "marker": {
             "line": {
              "color": "white",
              "width": 0.5
             },
             "pattern": {
              "fillmode": "overlay",
              "size": 10,
              "solidity": 0.2
             }
            },
            "type": "barpolar"
           }
          ],
          "carpet": [
           {
            "aaxis": {
             "endlinecolor": "#2a3f5f",
             "gridcolor": "#C8D4E3",
             "linecolor": "#C8D4E3",
             "minorgridcolor": "#C8D4E3",
             "startlinecolor": "#2a3f5f"
            },
            "baxis": {
             "endlinecolor": "#2a3f5f",
             "gridcolor": "#C8D4E3",
             "linecolor": "#C8D4E3",
             "minorgridcolor": "#C8D4E3",
             "startlinecolor": "#2a3f5f"
            },
            "type": "carpet"
           }
          ],
          "choropleth": [
           {
            "colorbar": {
             "outlinewidth": 0,
             "ticks": ""
            },
            "type": "choropleth"
           }
          ],
          "contour": [
           {
            "colorbar": {
             "outlinewidth": 0,
             "ticks": ""
            },
            "colorscale": [
             [
              0,
              "#0d0887"
             ],
             [
              0.1111111111111111,
              "#46039f"
             ],
             [
              0.2222222222222222,
              "#7201a8"
             ],
             [
              0.3333333333333333,
              "#9c179e"
             ],
             [
              0.4444444444444444,
              "#bd3786"
             ],
             [
              0.5555555555555556,
              "#d8576b"
             ],
             [
              0.6666666666666666,
              "#ed7953"
             ],
             [
              0.7777777777777778,
              "#fb9f3a"
             ],
             [
              0.8888888888888888,
              "#fdca26"
             ],
             [
              1,
              "#f0f921"
             ]
            ],
            "type": "contour"
           }
          ],
          "contourcarpet": [
           {
            "colorbar": {
             "outlinewidth": 0,
             "ticks": ""
            },
            "type": "contourcarpet"
           }
          ],
          "heatmap": [
           {
            "colorbar": {
             "outlinewidth": 0,
             "ticks": ""
            },
            "colorscale": [
             [
              0,
              "#0d0887"
             ],
             [
              0.1111111111111111,
              "#46039f"
             ],
             [
              0.2222222222222222,
              "#7201a8"
             ],
             [
              0.3333333333333333,
              "#9c179e"
             ],
             [
              0.4444444444444444,
              "#bd3786"
             ],
             [
              0.5555555555555556,
              "#d8576b"
             ],
             [
              0.6666666666666666,
              "#ed7953"
             ],
             [
              0.7777777777777778,
              "#fb9f3a"
             ],
             [
              0.8888888888888888,
              "#fdca26"
             ],
             [
              1,
              "#f0f921"
             ]
            ],
            "type": "heatmap"
           }
          ],
          "heatmapgl": [
           {
            "colorbar": {
             "outlinewidth": 0,
             "ticks": ""
            },
            "colorscale": [
             [
              0,
              "#0d0887"
             ],
             [
              0.1111111111111111,
              "#46039f"
             ],
             [
              0.2222222222222222,
              "#7201a8"
             ],
             [
              0.3333333333333333,
              "#9c179e"
             ],
             [
              0.4444444444444444,
              "#bd3786"
             ],
             [
              0.5555555555555556,
              "#d8576b"
             ],
             [
              0.6666666666666666,
              "#ed7953"
             ],
             [
              0.7777777777777778,
              "#fb9f3a"
             ],
             [
              0.8888888888888888,
              "#fdca26"
             ],
             [
              1,
              "#f0f921"
             ]
            ],
            "type": "heatmapgl"
           }
          ],
          "histogram": [
           {
            "marker": {
             "pattern": {
              "fillmode": "overlay",
              "size": 10,
              "solidity": 0.2
             }
            },
            "type": "histogram"
           }
          ],
          "histogram2d": [
           {
            "colorbar": {
             "outlinewidth": 0,
             "ticks": ""
            },
            "colorscale": [
             [
              0,
              "#0d0887"
             ],
             [
              0.1111111111111111,
              "#46039f"
             ],
             [
              0.2222222222222222,
              "#7201a8"
             ],
             [
              0.3333333333333333,
              "#9c179e"
             ],
             [
              0.4444444444444444,
              "#bd3786"
             ],
             [
              0.5555555555555556,
              "#d8576b"
             ],
             [
              0.6666666666666666,
              "#ed7953"
             ],
             [
              0.7777777777777778,
              "#fb9f3a"
             ],
             [
              0.8888888888888888,
              "#fdca26"
             ],
             [
              1,
              "#f0f921"
             ]
            ],
            "type": "histogram2d"
           }
          ],
          "histogram2dcontour": [
           {
            "colorbar": {
             "outlinewidth": 0,
             "ticks": ""
            },
            "colorscale": [
             [
              0,
              "#0d0887"
             ],
             [
              0.1111111111111111,
              "#46039f"
             ],
             [
              0.2222222222222222,
              "#7201a8"
             ],
             [
              0.3333333333333333,
              "#9c179e"
             ],
             [
              0.4444444444444444,
              "#bd3786"
             ],
             [
              0.5555555555555556,
              "#d8576b"
             ],
             [
              0.6666666666666666,
              "#ed7953"
             ],
             [
              0.7777777777777778,
              "#fb9f3a"
             ],
             [
              0.8888888888888888,
              "#fdca26"
             ],
             [
              1,
              "#f0f921"
             ]
            ],
            "type": "histogram2dcontour"
           }
          ],
          "mesh3d": [
           {
            "colorbar": {
             "outlinewidth": 0,
             "ticks": ""
            },
            "type": "mesh3d"
           }
          ],
          "parcoords": [
           {
            "line": {
             "colorbar": {
              "outlinewidth": 0,
              "ticks": ""
             }
            },
            "type": "parcoords"
           }
          ],
          "pie": [
           {
            "automargin": true,
            "type": "pie"
           }
          ],
          "scatter": [
           {
            "fillpattern": {
             "fillmode": "overlay",
             "size": 10,
             "solidity": 0.2
            },
            "type": "scatter"
           }
          ],
          "scatter3d": [
           {
            "line": {
             "colorbar": {
              "outlinewidth": 0,
              "ticks": ""
             }
            },
            "marker": {
             "colorbar": {
              "outlinewidth": 0,
              "ticks": ""
             }
            },
            "type": "scatter3d"
           }
          ],
          "scattercarpet": [
           {
            "marker": {
             "colorbar": {
              "outlinewidth": 0,
              "ticks": ""
             }
            },
            "type": "scattercarpet"
           }
          ],
          "scattergeo": [
           {
            "marker": {
             "colorbar": {
              "outlinewidth": 0,
              "ticks": ""
             }
            },
            "type": "scattergeo"
           }
          ],
          "scattergl": [
           {
            "marker": {
             "colorbar": {
              "outlinewidth": 0,
              "ticks": ""
             }
            },
            "type": "scattergl"
           }
          ],
          "scattermapbox": [
           {
            "marker": {
             "colorbar": {
              "outlinewidth": 0,
              "ticks": ""
             }
            },
            "type": "scattermapbox"
           }
          ],
          "scatterpolar": [
           {
            "marker": {
             "colorbar": {
              "outlinewidth": 0,
              "ticks": ""
             }
            },
            "type": "scatterpolar"
           }
          ],
          "scatterpolargl": [
           {
            "marker": {
             "colorbar": {
              "outlinewidth": 0,
              "ticks": ""
             }
            },
            "type": "scatterpolargl"
           }
          ],
          "scatterternary": [
           {
            "marker": {
             "colorbar": {
              "outlinewidth": 0,
              "ticks": ""
             }
            },
            "type": "scatterternary"
           }
          ],
          "surface": [
           {
            "colorbar": {
             "outlinewidth": 0,
             "ticks": ""
            },
            "colorscale": [
             [
              0,
              "#0d0887"
             ],
             [
              0.1111111111111111,
              "#46039f"
             ],
             [
              0.2222222222222222,
              "#7201a8"
             ],
             [
              0.3333333333333333,
              "#9c179e"
             ],
             [
              0.4444444444444444,
              "#bd3786"
             ],
             [
              0.5555555555555556,
              "#d8576b"
             ],
             [
              0.6666666666666666,
              "#ed7953"
             ],
             [
              0.7777777777777778,
              "#fb9f3a"
             ],
             [
              0.8888888888888888,
              "#fdca26"
             ],
             [
              1,
              "#f0f921"
             ]
            ],
            "type": "surface"
           }
          ],
          "table": [
           {
            "cells": {
             "fill": {
              "color": "#EBF0F8"
             },
             "line": {
              "color": "white"
             }
            },
            "header": {
             "fill": {
              "color": "#C8D4E3"
             },
             "line": {
              "color": "white"
             }
            },
            "type": "table"
           }
          ]
         },
         "layout": {
          "annotationdefaults": {
           "arrowcolor": "#2a3f5f",
           "arrowhead": 0,
           "arrowwidth": 1
          },
          "autotypenumbers": "strict",
          "coloraxis": {
           "colorbar": {
            "outlinewidth": 0,
            "ticks": ""
           }
          },
          "colorscale": {
           "diverging": [
            [
             0,
             "#8e0152"
            ],
            [
             0.1,
             "#c51b7d"
            ],
            [
             0.2,
             "#de77ae"
            ],
            [
             0.3,
             "#f1b6da"
            ],
            [
             0.4,
             "#fde0ef"
            ],
            [
             0.5,
             "#f7f7f7"
            ],
            [
             0.6,
             "#e6f5d0"
            ],
            [
             0.7,
             "#b8e186"
            ],
            [
             0.8,
             "#7fbc41"
            ],
            [
             0.9,
             "#4d9221"
            ],
            [
             1,
             "#276419"
            ]
           ],
           "sequential": [
            [
             0,
             "#0d0887"
            ],
            [
             0.1111111111111111,
             "#46039f"
            ],
            [
             0.2222222222222222,
             "#7201a8"
            ],
            [
             0.3333333333333333,
             "#9c179e"
            ],
            [
             0.4444444444444444,
             "#bd3786"
            ],
            [
             0.5555555555555556,
             "#d8576b"
            ],
            [
             0.6666666666666666,
             "#ed7953"
            ],
            [
             0.7777777777777778,
             "#fb9f3a"
            ],
            [
             0.8888888888888888,
             "#fdca26"
            ],
            [
             1,
             "#f0f921"
            ]
           ],
           "sequentialminus": [
            [
             0,
             "#0d0887"
            ],
            [
             0.1111111111111111,
             "#46039f"
            ],
            [
             0.2222222222222222,
             "#7201a8"
            ],
            [
             0.3333333333333333,
             "#9c179e"
            ],
            [
             0.4444444444444444,
             "#bd3786"
            ],
            [
             0.5555555555555556,
             "#d8576b"
            ],
            [
             0.6666666666666666,
             "#ed7953"
            ],
            [
             0.7777777777777778,
             "#fb9f3a"
            ],
            [
             0.8888888888888888,
             "#fdca26"
            ],
            [
             1,
             "#f0f921"
            ]
           ]
          },
          "colorway": [
           "#636efa",
           "#EF553B",
           "#00cc96",
           "#ab63fa",
           "#FFA15A",
           "#19d3f3",
           "#FF6692",
           "#B6E880",
           "#FF97FF",
           "#FECB52"
          ],
          "font": {
           "color": "#2a3f5f"
          },
          "geo": {
           "bgcolor": "white",
           "lakecolor": "white",
           "landcolor": "white",
           "showlakes": true,
           "showland": true,
           "subunitcolor": "#C8D4E3"
          },
          "hoverlabel": {
           "align": "left"
          },
          "hovermode": "closest",
          "mapbox": {
           "style": "light"
          },
          "paper_bgcolor": "white",
          "plot_bgcolor": "white",
          "polar": {
           "angularaxis": {
            "gridcolor": "#EBF0F8",
            "linecolor": "#EBF0F8",
            "ticks": ""
           },
           "bgcolor": "white",
           "radialaxis": {
            "gridcolor": "#EBF0F8",
            "linecolor": "#EBF0F8",
            "ticks": ""
           }
          },
          "scene": {
           "xaxis": {
            "backgroundcolor": "white",
            "gridcolor": "#DFE8F3",
            "gridwidth": 2,
            "linecolor": "#EBF0F8",
            "showbackground": true,
            "ticks": "",
            "zerolinecolor": "#EBF0F8"
           },
           "yaxis": {
            "backgroundcolor": "white",
            "gridcolor": "#DFE8F3",
            "gridwidth": 2,
            "linecolor": "#EBF0F8",
            "showbackground": true,
            "ticks": "",
            "zerolinecolor": "#EBF0F8"
           },
           "zaxis": {
            "backgroundcolor": "white",
            "gridcolor": "#DFE8F3",
            "gridwidth": 2,
            "linecolor": "#EBF0F8",
            "showbackground": true,
            "ticks": "",
            "zerolinecolor": "#EBF0F8"
           }
          },
          "shapedefaults": {
           "line": {
            "color": "#2a3f5f"
           }
          },
          "ternary": {
           "aaxis": {
            "gridcolor": "#DFE8F3",
            "linecolor": "#A2B1C6",
            "ticks": ""
           },
           "baxis": {
            "gridcolor": "#DFE8F3",
            "linecolor": "#A2B1C6",
            "ticks": ""
           },
           "bgcolor": "white",
           "caxis": {
            "gridcolor": "#DFE8F3",
            "linecolor": "#A2B1C6",
            "ticks": ""
           }
          },
          "title": {
           "x": 0.05
          },
          "xaxis": {
           "automargin": true,
           "gridcolor": "#EBF0F8",
           "linecolor": "#EBF0F8",
           "ticks": "",
           "title": {
            "standoff": 15
           },
           "zerolinecolor": "#EBF0F8",
           "zerolinewidth": 2
          },
          "yaxis": {
           "automargin": true,
           "gridcolor": "#EBF0F8",
           "linecolor": "#EBF0F8",
           "ticks": "",
           "title": {
            "standoff": 15
           },
           "zerolinecolor": "#EBF0F8",
           "zerolinewidth": 2
          }
         }
        },
        "title": {
         "text": "Sales Forecast for Jacket"
        },
        "xaxis": {
         "autorange": true,
         "range": [
          "2022-09-29 09:45:39.2243",
          "2024-05-01 14:14:20.7757"
         ],
         "title": {
          "text": "Month"
         },
         "type": "date"
        },
        "yaxis": {
         "autorange": true,
         "range": [
          -257.2281553398058,
          3374.2281553398057
         ],
         "title": {
          "text": "Total Sales (USD)"
         },
         "type": "linear"
        }
       }
      },
      "image/png": "[encoded data removed]",
      "text/html": [
       "<div>                            <div id=\"e49e0844-80e2-449f-8ad6-f5db8e99e405\" class=\"plotly-graph-div\" style=\"height:525px; width:100%;\"></div>            <script type=\"text/javascript\">                require([\"plotly\"], function(Plotly) {                    window.PLOTLYENV=window.PLOTLYENV || {};                                    if (document.getElementById(\"e49e0844-80e2-449f-8ad6-f5db8e99e405\")) {                    Plotly.newPlot(                        \"e49e0844-80e2-449f-8ad6-f5db8e99e405\",                        [{\"mode\":\"lines+markers\",\"name\":\"Historical Sales\",\"x\":[\"2022-10-31T00:00:00\",\"2022-11-30T00:00:00\",\"2022-12-31T00:00:00\",\"2023-01-31T00:00:00\",\"2023-02-28T00:00:00\",\"2023-03-31T00:00:00\",\"2023-04-30T00:00:00\",\"2023-05-31T00:00:00\",\"2023-06-30T00:00:00\",\"2023-07-31T00:00:00\",\"2023-08-31T00:00:00\",\"2023-09-30T00:00:00\"],\"y\":[499.0,152.0,583.0,243.0,185.0,747.0,336.0,1323.0,0.0,3117.0,528.0,186.0],\"type\":\"scatter\"},{\"mode\":\"lines+markers\",\"name\":\"Forecasted Sales\",\"x\":[\"2023-10-31T00:00:00\",\"2023-11-30T00:00:00\",\"2023-12-31T00:00:00\",\"2024-01-31T00:00:00\",\"2024-02-29T00:00:00\",\"2024-03-31T00:00:00\"],\"y\":[2189.5740010334916,464.84842347468384,1035.820350102102,1414.23999750232,748.7168207863442,1180.0451045825032],\"type\":\"scatter\"}],                        {\"template\":{\"data\":{\"barpolar\":[{\"marker\":{\"line\":{\"color\":\"white\",\"width\":0.5},\"pattern\":{\"fillmode\":\"overlay\",\"size\":10,\"solidity\":0.2}},\"type\":\"barpolar\"}],\"bar\":[{\"error_x\":{\"color\":\"#2a3f5f\"},\"error_y\":{\"color\":\"#2a3f5f\"},\"marker\":{\"line\":{\"color\":\"white\",\"width\":0.5},\"pattern\":{\"fillmode\":\"overlay\",\"size\":10,\"solidity\":0.2}},\"type\":\"bar\"}],\"carpet\":[{\"aaxis\":{\"endlinecolor\":\"#2a3f5f\",\"gridcolor\":\"#C8D4E3\",\"linecolor\":\"#C8D4E3\",\"minorgridcolor\":\"#C8D4E3\",\"startlinecolor\":\"#2a3f5f\"},\"baxis\":{\"endlinecolor\":\"#2a3f5f\",\"gridcolor\":\"#C8D4E3\",\"linecolor\":\"#C8D4E3\",\"minorgridcolor\":\"#C8D4E3\",\"startlinecolor\":\"#2a3f5f\"},\"type\":\"carpet\"}],\"choropleth\":[{\"colorbar\":{\"outlinewidth\":0,\"ticks\":\"\"},\"type\":\"choropleth\"}],\"contourcarpet\":[{\"colorbar\":{\"outlinewidth\":0,\"ticks\":\"\"},\"type\":\"contourcarpet\"}],\"contour\":[{\"colorbar\":{\"outlinewidth\":0,\"ticks\":\"\"},\"colorscale\":[[0.0,\"#0d0887\"],[0.1111111111111111,\"#46039f\"],[0.2222222222222222,\"#7201a8\"],[0.3333333333333333,\"#9c179e\"],[0.4444444444444444,\"#bd3786\"],[0.5555555555555556,\"#d8576b\"],[0.6666666666666666,\"#ed7953\"],[0.7777777777777778,\"#fb9f3a\"],[0.8888888888888888,\"#fdca26\"],[1.0,\"#f0f921\"]],\"type\":\"contour\"}],\"heatmapgl\":[{\"colorbar\":{\"outlinewidth\":0,\"ticks\":\"\"},\"colorscale\":[[0.0,\"#0d0887\"],[0.1111111111111111,\"#46039f\"],[0.2222222222222222,\"#7201a8\"],[0.3333333333333333,\"#9c179e\"],[0.4444444444444444,\"#bd3786\"],[0.5555555555555556,\"#d8576b\"],[0.6666666666666666,\"#ed7953\"],[0.7777777777777778,\"#fb9f3a\"],[0.8888888888888888,\"#fdca26\"],[1.0,\"#f0f921\"]],\"type\":\"heatmapgl\"}],\"heatmap\":[{\"colorbar\":{\"outlinewidth\":0,\"ticks\":\"\"},\"colorscale\":[[0.0,\"#0d0887\"],[0.1111111111111111,\"#46039f\"],[0.2222222222222222,\"#7201a8\"],[0.3333333333333333,\"#9c179e\"],[0.4444444444444444,\"#bd3786\"],[0.5555555555555556,\"#d8576b\"],[0.6666666666666666,\"#ed7953\"],[0.7777777777777778,\"#fb9f3a\"],[0.8888888888888888,\"#fdca26\"],[1.0,\"#f0f921\"]],\"type\":\"heatmap\"}],\"histogram2dcontour\":[{\"colorbar\":{\"outlinewidth\":0,\"ticks\":\"\"},\"colorscale\":[[0.0,\"#0d0887\"],[0.1111111111111111,\"#46039f\"],[0.2222222222222222,\"#7201a8\"],[0.3333333333333333,\"#9c179e\"],[0.4444444444444444,\"#bd3786\"],[0.5555555555555556,\"#d8576b\"],[0.6666666666666666,\"#ed7953\"],[0.7777777777777778,\"#fb9f3a\"],[0.8888888888888888,\"#fdca26\"],[1.0,\"#f0f921\"]],\"type\":\"histogram2dcontour\"}],\"histogram2d\":[{\"colorbar\":{\"outlinewidth\":0,\"ticks\":\"\"},\"colorscale\":[[0.0,\"#0d0887\"],[0.1111111111111111,\"#46039f\"],[0.2222222222222222,\"#7201a8\"],[0.3333333333333333,\"#9c179e\"],[0.4444444444444444,\"#bd3786\"],[0.5555555555555556,\"#d8576b\"],[0.6666666666666666,\"#ed7953\"],[0.7777777777777778,\"#fb9f3a\"],[0.8888888888888888,\"#fdca26\"],[1.0,\"#f0f921\"]],\"type\":\"histogram2d\"}],\"histogram\":[{\"marker\":{\"pattern\":{\"fillmode\":\"overlay\",\"size\":10,\"solidity\":0.2}},\"type\":\"histogram\"}],\"mesh3d\":[{\"colorbar\":{\"outlinewidth\":0,\"ticks\":\"\"},\"type\":\"mesh3d\"}],\"parcoords\":[{\"line\":{\"colorbar\":{\"outlinewidth\":0,\"ticks\":\"\"}},\"type\":\"parcoords\"}],\"pie\":[{\"automargin\":true,\"type\":\"pie\"}],\"scatter3d\":[{\"line\":{\"colorbar\":{\"outlinewidth\":0,\"ticks\":\"\"}},\"marker\":{\"colorbar\":{\"outlinewidth\":0,\"ticks\":\"\"}},\"type\":\"scatter3d\"}],\"scattercarpet\":[{\"marker\":{\"colorbar\":{\"outlinewidth\":0,\"ticks\":\"\"}},\"type\":\"scattercarpet\"}],\"scattergeo\":[{\"marker\":{\"colorbar\":{\"outlinewidth\":0,\"ticks\":\"\"}},\"type\":\"scattergeo\"}],\"scattergl\":[{\"marker\":{\"colorbar\":{\"outlinewidth\":0,\"ticks\":\"\"}},\"type\":\"scattergl\"}],\"scattermapbox\":[{\"marker\":{\"colorbar\":{\"outlinewidth\":0,\"ticks\":\"\"}},\"type\":\"scattermapbox\"}],\"scatterpolargl\":[{\"marker\":{\"colorbar\":{\"outlinewidth\":0,\"ticks\":\"\"}},\"type\":\"scatterpolargl\"}],\"scatterpolar\":[{\"marker\":{\"colorbar\":{\"outlinewidth\":0,\"ticks\":\"\"}},\"type\":\"scatterpolar\"}],\"scatter\":[{\"fillpattern\":{\"fillmode\":\"overlay\",\"size\":10,\"solidity\":0.2},\"type\":\"scatter\"}],\"scatterternary\":[{\"marker\":{\"colorbar\":{\"outlinewidth\":0,\"ticks\":\"\"}},\"type\":\"scatterternary\"}],\"surface\":[{\"colorbar\":{\"outlinewidth\":0,\"ticks\":\"\"},\"colorscale\":[[0.0,\"#0d0887\"],[0.1111111111111111,\"#46039f\"],[0.2222222222222222,\"#7201a8\"],[0.3333333333333333,\"#9c179e\"],[0.4444444444444444,\"#bd3786\"],[0.5555555555555556,\"#d8576b\"],[0.6666666666666666,\"#ed7953\"],[0.7777777777777778,\"#fb9f3a\"],[0.8888888888888888,\"#fdca26\"],[1.0,\"#f0f921\"]],\"type\":\"surface\"}],\"table\":[{\"cells\":{\"fill\":{\"color\":\"#EBF0F8\"},\"line\":{\"color\":\"white\"}},\"header\":{\"fill\":{\"color\":\"#C8D4E3\"},\"line\":{\"color\":\"white\"}},\"type\":\"table\"}]},\"layout\":{\"annotationdefaults\":{\"arrowcolor\":\"#2a3f5f\",\"arrowhead\":0,\"arrowwidth\":1},\"autotypenumbers\":\"strict\",\"coloraxis\":{\"colorbar\":{\"outlinewidth\":0,\"ticks\":\"\"}},\"colorscale\":{\"diverging\":[[0,\"#8e0152\"],[0.1,\"#c51b7d\"],[0.2,\"#de77ae\"],[0.3,\"#f1b6da\"],[0.4,\"#fde0ef\"],[0.5,\"#f7f7f7\"],[0.6,\"#e6f5d0\"],[0.7,\"#b8e186\"],[0.8,\"#7fbc41\"],[0.9,\"#4d9221\"],[1,\"#276419\"]],\"sequential\":[[0.0,\"#0d0887\"],[0.1111111111111111,\"#46039f\"],[0.2222222222222222,\"#7201a8\"],[0.3333333333333333,\"#9c179e\"],[0.4444444444444444,\"#bd3786\"],[0.5555555555555556,\"#d8576b\"],[0.6666666666666666,\"#ed7953\"],[0.7777777777777778,\"#fb9f3a\"],[0.8888888888888888,\"#fdca26\"],[1.0,\"#f0f921\"]],\"sequentialminus\":[[0.0,\"#0d0887\"],[0.1111111111111111,\"#46039f\"],[0.2222222222222222,\"#7201a8\"],[0.3333333333333333,\"#9c179e\"],[0.4444444444444444,\"#bd3786\"],[0.5555555555555556,\"#d8576b\"],[0.6666666666666666,\"#ed7953\"],[0.7777777777777778,\"#fb9f3a\"],[0.8888888888888888,\"#fdca26\"],[1.0,\"#f0f921\"]]},\"colorway\":[\"#636efa\",\"#EF553B\",\"#00cc96\",\"#ab63fa\",\"#FFA15A\",\"#19d3f3\",\"#FF6692\",\"#B6E880\",\"#FF97FF\",\"#FECB52\"],\"font\":{\"color\":\"#2a3f5f\"},\"geo\":{\"bgcolor\":\"white\",\"lakecolor\":\"white\",\"landcolor\":\"white\",\"showlakes\":true,\"showland\":true,\"subunitcolor\":\"#C8D4E3\"},\"hoverlabel\":{\"align\":\"left\"},\"hovermode\":\"closest\",\"mapbox\":{\"style\":\"light\"},\"paper_bgcolor\":\"white\",\"plot_bgcolor\":\"white\",\"polar\":{\"angularaxis\":{\"gridcolor\":\"#EBF0F8\",\"linecolor\":\"#EBF0F8\",\"ticks\":\"\"},\"bgcolor\":\"white\",\"radialaxis\":{\"gridcolor\":\"#EBF0F8\",\"linecolor\":\"#EBF0F8\",\"ticks\":\"\"}},\"scene\":{\"xaxis\":{\"backgroundcolor\":\"white\",\"gridcolor\":\"#DFE8F3\",\"gridwidth\":2,\"linecolor\":\"#EBF0F8\",\"showbackground\":true,\"ticks\":\"\",\"zerolinecolor\":\"#EBF0F8\"},\"yaxis\":{\"backgroundcolor\":\"white\",\"gridcolor\":\"#DFE8F3\",\"gridwidth\":2,\"linecolor\":\"#EBF0F8\",\"showbackground\":true,\"ticks\":\"\",\"zerolinecolor\":\"#EBF0F8\"},\"zaxis\":{\"backgroundcolor\":\"white\",\"gridcolor\":\"#DFE8F3\",\"gridwidth\":2,\"linecolor\":\"#EBF0F8\",\"showbackground\":true,\"ticks\":\"\",\"zerolinecolor\":\"#EBF0F8\"}},\"shapedefaults\":{\"line\":{\"color\":\"#2a3f5f\"}},\"ternary\":{\"aaxis\":{\"gridcolor\":\"#DFE8F3\",\"linecolor\":\"#A2B1C6\",\"ticks\":\"\"},\"baxis\":{\"gridcolor\":\"#DFE8F3\",\"linecolor\":\"#A2B1C6\",\"ticks\":\"\"},\"bgcolor\":\"white\",\"caxis\":{\"gridcolor\":\"#DFE8F3\",\"linecolor\":\"#A2B1C6\",\"ticks\":\"\"}},\"title\":{\"x\":0.05},\"xaxis\":{\"automargin\":true,\"gridcolor\":\"#EBF0F8\",\"linecolor\":\"#EBF0F8\",\"ticks\":\"\",\"title\":{\"standoff\":15},\"zerolinecolor\":\"#EBF0F8\",\"zerolinewidth\":2},\"yaxis\":{\"automargin\":true,\"gridcolor\":\"#EBF0F8\",\"linecolor\":\"#EBF0F8\",\"ticks\":\"\",\"title\":{\"standoff\":15},\"zerolinecolor\":\"#EBF0F8\",\"zerolinewidth\":2}}},\"title\":{\"text\":\"Sales Forecast for Jacket\"},\"xaxis\":{\"title\":{\"text\":\"Month\"}},\"yaxis\":{\"title\":{\"text\":\"Total Sales (USD)\"}}},                        {\"responsive\": true}                    ).then(function(){\n",
       "                            \n",
       "var gd = document.getElementById('e49e0844-80e2-449f-8ad6-f5db8e99e405');\n",
       "var x = new MutationObserver(function (mutations, observer) {{\n",
       "        var display = window.getComputedStyle(gd).display;\n",
       "        if (!display || display === 'none') {{\n",
       "            console.log([gd, 'removed!']);\n",
       "            Plotly.purge(gd);\n",
       "            observer.disconnect();\n",
       "        }}\n",
       "}});\n",
       "\n",
       "// Listen for the removal of the full notebook cells\n",
       "var notebookContainer = gd.closest('#notebook-container');\n",
       "if (notebookContainer) {{\n",
       "    x.observe(notebookContainer, {childList: true});\n",
       "}}\n",
       "\n",
       "// Listen for the clearing of the current output cell\n",
       "var outputEl = gd.closest('.output');\n",
       "if (outputEl) {{\n",
       "    x.observe(outputEl, {childList: true});\n",
       "}}\n",
       "\n",
       "                        })                };                });            </script>        </div>"
      ]
     },
     "metadata": {},
     "output_type": "display_data"
    }
   ],
   "source": [
    "import pandas as pd\n",
    "import plotly.graph_objects as go\n",
    "from statsmodels.tsa.arima.model import ARIMA\n",
    "\n",
    "# Create monthly total sales DataFrame\n",
    "monthly_sales = df.groupby(['item', 'month']).agg(\n",
    "    Total_Sales=('amount_usd', 'sum')\n",
    ").reset_index()\n",
    "\n",
    "# Forecast function with ARIMA(1,1,1)\n",
    "def forecast_item(item_name, periods=6):\n",
    "    item_data = monthly_sales[monthly_sales['item'] == item_name].copy()\n",
    "    \n",
    "    # Set index and resample monthly\n",
    "    item_data = item_data.set_index('month').resample('M').sum().fillna(0)\n",
    "    \n",
    "    # Fit ARIMA model\n",
    "    model = ARIMA(item_data['Total_Sales'], order=(2, 1, 1))\n",
    "    model_fit = model.fit()\n",
    "    forecast_result = model_fit.get_forecast(steps=periods)\n",
    "    \n",
    "    # Forecast index\n",
    "    forecast_index = pd.date_range(item_data.index[-1] + pd.DateOffset(months=1), periods=periods, freq='M')\n",
    "\n",
    "    # Plot\n",
    "    fig = go.Figure()\n",
    "    fig.add_trace(go.Scatter(\n",
    "        x=item_data.index, y=item_data['Total_Sales'],\n",
    "        mode='lines+markers', name='Historical Sales'\n",
    "    ))\n",
    "    fig.add_trace(go.Scatter(\n",
    "        x=forecast_index, y=forecast_result.predicted_mean,\n",
    "        mode='lines+markers', name='Forecasted Sales'\n",
    "    ))\n",
    "\n",
    "    fig.update_layout(\n",
    "        title=f\"Sales Forecast for {item_name}\",\n",
    "        xaxis_title=\"Month\",\n",
    "        yaxis_title=\"Total Sales (USD)\",\n",
    "        template=\"plotly_white\"\n",
    "    )\n",
    "\n",
    "    fig.show()\n",
    "\n",
    "# 📌 Call this function with the item name, e.g.:\n",
    "forecast_item(\"Jacket\", periods=6)\n",
    "\n"
   ]
  },
  {
   "cell_type": "code",
   "execution_count": 68,
   "id": "e99bd743-8d36-4b01-939a-df0da959b4e3",
   "metadata": {},
   "outputs": [
    {
     "data": {
      "application/vnd.plotly.v1+json": {
       "config": {
        "plotlyServerURL": "https://plot.ly"
       },
       "data": [
        {
         "mode": "lines+markers",
         "name": "Historical Sales",
         "type": "scatter",
         "x": [
          "2022-10-31T00:00:00",
          "2022-11-30T00:00:00",
          "2022-12-31T00:00:00",
          "2023-01-31T00:00:00",
          "2023-02-28T00:00:00",
          "2023-03-31T00:00:00",
          "2023-04-30T00:00:00",
          "2023-05-31T00:00:00",
          "2023-06-30T00:00:00",
          "2023-07-31T00:00:00",
          "2023-08-31T00:00:00",
          "2023-09-30T00:00:00"
         ],
         "y": [
          3255,
          588,
          482,
          887,
          119,
          562,
          94,
          791,
          708,
          544,
          1186,
          363
         ]
        },
        {
         "hovertemplate": "Forecast: %{y:.2f}<br>Date: %{x|%b %Y}<extra></extra>",
         "mode": "lines+markers",
         "name": "Forecasted Sales",
         "type": "scatter",
         "x": [
          "2023-10-31T00:00:00",
          "2023-11-30T00:00:00",
          "2023-12-31T00:00:00",
          "2024-01-31T00:00:00",
          "2024-02-29T00:00:00",
          "2024-03-31T00:00:00"
         ],
         "y": [
          774.829220496984,
          774.829220496984,
          774.829220496984,
          774.829220496984,
          774.829220496984,
          774.829220496984
         ]
        },
        {
         "fill": "toself",
         "fillcolor": "rgba(0,100,80,0.2)",
         "hoverinfo": "skip",
         "line": {
          "color": "rgba(255,255,255,0)"
         },
         "name": "95% Confidence Interval",
         "showlegend": true,
         "type": "scatter",
         "x": [
          "2023-10-31T00:00:00",
          "2023-11-30T00:00:00",
          "2023-12-31T00:00:00",
          "2024-01-31T00:00:00",
          "2024-02-29T00:00:00",
          "2024-03-31T00:00:00",
          "2024-03-31T00:00:00",
          "2024-02-29T00:00:00",
          "2024-01-31T00:00:00",
          "2023-12-31T00:00:00",
          "2023-11-30T00:00:00",
          "2023-10-31T00:00:00"
         ],
         "y": [
          -762.4860933194142,
          -762.4860953837348,
          -762.4860974480556,
          -762.4860995123762,
          -762.486101576697,
          -762.4861036410176,
          2312.144544634986,
          2312.144542570665,
          2312.144540506344,
          2312.1445384420235,
          2312.144536377703,
          2312.1445343133823
         ]
        },
        {
         "hovertemplate": "Error Margin: %{y:.2f}%<br>Date: %{x|%b %Y}<extra></extra>",
         "marker": {
          "color": "orange",
          "symbol": "x"
         },
         "mode": "markers",
         "name": "Error Margin (%)",
         "type": "scatter",
         "x": [
          "2023-10-31T00:00:00",
          "2023-11-30T00:00:00",
          "2023-12-31T00:00:00",
          "2024-01-31T00:00:00",
          "2024-02-29T00:00:00",
          "2024-03-31T00:00:00"
         ],
         "y": [
          198.4069873914083,
          198.40698765783094,
          198.40698792425366,
          198.4069881906763,
          198.40698845709898,
          198.40698872352164
         ]
        }
       ],
       "layout": {
        "autosize": true,
        "template": {
         "data": {
          "bar": [
           {
            "error_x": {
             "color": "#2a3f5f"
            },
            "error_y": {
             "color": "#2a3f5f"
            },
            "marker": {
             "line": {
              "color": "white",
              "width": 0.5
             },
             "pattern": {
              "fillmode": "overlay",
              "size": 10,
              "solidity": 0.2
             }
            },
            "type": "bar"
           }
          ],
          "barpolar": [
           {
            "marker": {
             "line": {
              "color": "white",
              "width": 0.5
             },
             "pattern": {
              "fillmode": "overlay",
              "size": 10,
              "solidity": 0.2
             }
            },
            "type": "barpolar"
           }
          ],
          "carpet": [
           {
            "aaxis": {
             "endlinecolor": "#2a3f5f",
             "gridcolor": "#C8D4E3",
             "linecolor": "#C8D4E3",
             "minorgridcolor": "#C8D4E3",
             "startlinecolor": "#2a3f5f"
            },
            "baxis": {
             "endlinecolor": "#2a3f5f",
             "gridcolor": "#C8D4E3",
             "linecolor": "#C8D4E3",
             "minorgridcolor": "#C8D4E3",
             "startlinecolor": "#2a3f5f"
            },
            "type": "carpet"
           }
          ],
          "choropleth": [
           {
            "colorbar": {
             "outlinewidth": 0,
             "ticks": ""
            },
            "type": "choropleth"
           }
          ],
          "contour": [
           {
            "colorbar": {
             "outlinewidth": 0,
             "ticks": ""
            },
            "colorscale": [
             [
              0,
              "#0d0887"
             ],
             [
              0.1111111111111111,
              "#46039f"
             ],
             [
              0.2222222222222222,
              "#7201a8"
             ],
             [
              0.3333333333333333,
              "#9c179e"
             ],
             [
              0.4444444444444444,
              "#bd3786"
             ],
             [
              0.5555555555555556,
              "#d8576b"
             ],
             [
              0.6666666666666666,
              "#ed7953"
             ],
             [
              0.7777777777777778,
              "#fb9f3a"
             ],
             [
              0.8888888888888888,
              "#fdca26"
             ],
             [
              1,
              "#f0f921"
             ]
            ],
            "type": "contour"
           }
          ],
          "contourcarpet": [
           {
            "colorbar": {
             "outlinewidth": 0,
             "ticks": ""
            },
            "type": "contourcarpet"
           }
          ],
          "heatmap": [
           {
            "colorbar": {
             "outlinewidth": 0,
             "ticks": ""
            },
            "colorscale": [
             [
              0,
              "#0d0887"
             ],
             [
              0.1111111111111111,
              "#46039f"
             ],
             [
              0.2222222222222222,
              "#7201a8"
             ],
             [
              0.3333333333333333,
              "#9c179e"
             ],
             [
              0.4444444444444444,
              "#bd3786"
             ],
             [
              0.5555555555555556,
              "#d8576b"
             ],
             [
              0.6666666666666666,
              "#ed7953"
             ],
             [
              0.7777777777777778,
              "#fb9f3a"
             ],
             [
              0.8888888888888888,
              "#fdca26"
             ],
             [
              1,
              "#f0f921"
             ]
            ],
            "type": "heatmap"
           }
          ],
          "heatmapgl": [
           {
            "colorbar": {
             "outlinewidth": 0,
             "ticks": ""
            },
            "colorscale": [
             [
              0,
              "#0d0887"
             ],
             [
              0.1111111111111111,
              "#46039f"
             ],
             [
              0.2222222222222222,
              "#7201a8"
             ],
             [
              0.3333333333333333,
              "#9c179e"
             ],
             [
              0.4444444444444444,
              "#bd3786"
             ],
             [
              0.5555555555555556,
              "#d8576b"
             ],
             [
              0.6666666666666666,
              "#ed7953"
             ],
             [
              0.7777777777777778,
              "#fb9f3a"
             ],
             [
              0.8888888888888888,
              "#fdca26"
             ],
             [
              1,
              "#f0f921"
             ]
            ],
            "type": "heatmapgl"
           }
          ],
          "histogram": [
           {
            "marker": {
             "pattern": {
              "fillmode": "overlay",
              "size": 10,
              "solidity": 0.2
             }
            },
            "type": "histogram"
           }
          ],
          "histogram2d": [
           {
            "colorbar": {
             "outlinewidth": 0,
             "ticks": ""
            },
            "colorscale": [
             [
              0,
              "#0d0887"
             ],
             [
              0.1111111111111111,
              "#46039f"
             ],
             [
              0.2222222222222222,
              "#7201a8"
             ],
             [
              0.3333333333333333,
              "#9c179e"
             ],
             [
              0.4444444444444444,
              "#bd3786"
             ],
             [
              0.5555555555555556,
              "#d8576b"
             ],
             [
              0.6666666666666666,
              "#ed7953"
             ],
             [
              0.7777777777777778,
              "#fb9f3a"
             ],
             [
              0.8888888888888888,
              "#fdca26"
             ],
             [
              1,
              "#f0f921"
             ]
            ],
            "type": "histogram2d"
           }
          ],
          "histogram2dcontour": [
           {
            "colorbar": {
             "outlinewidth": 0,
             "ticks": ""
            },
            "colorscale": [
             [
              0,
              "#0d0887"
             ],
             [
              0.1111111111111111,
              "#46039f"
             ],
             [
              0.2222222222222222,
              "#7201a8"
             ],
             [
              0.3333333333333333,
              "#9c179e"
             ],
             [
              0.4444444444444444,
              "#bd3786"
             ],
             [
              0.5555555555555556,
              "#d8576b"
             ],
             [
              0.6666666666666666,
              "#ed7953"
             ],
             [
              0.7777777777777778,
              "#fb9f3a"
             ],
             [
              0.8888888888888888,
              "#fdca26"
             ],
             [
              1,
              "#f0f921"
             ]
            ],
            "type": "histogram2dcontour"
           }
          ],
          "mesh3d": [
           {
            "colorbar": {
             "outlinewidth": 0,
             "ticks": ""
            },
            "type": "mesh3d"
           }
          ],
          "parcoords": [
           {
            "line": {
             "colorbar": {
              "outlinewidth": 0,
              "ticks": ""
             }
            },
            "type": "parcoords"
           }
          ],
          "pie": [
           {
            "automargin": true,
            "type": "pie"
           }
          ],
          "scatter": [
           {
            "fillpattern": {
             "fillmode": "overlay",
             "size": 10,
             "solidity": 0.2
            },
            "type": "scatter"
           }
          ],
          "scatter3d": [
           {
            "line": {
             "colorbar": {
              "outlinewidth": 0,
              "ticks": ""
             }
            },
            "marker": {
             "colorbar": {
              "outlinewidth": 0,
              "ticks": ""
             }
            },
            "type": "scatter3d"
           }
          ],
          "scattercarpet": [
           {
            "marker": {
             "colorbar": {
              "outlinewidth": 0,
              "ticks": ""
             }
            },
            "type": "scattercarpet"
           }
          ],
          "scattergeo": [
           {
            "marker": {
             "colorbar": {
              "outlinewidth": 0,
              "ticks": ""
             }
            },
            "type": "scattergeo"
           }
          ],
          "scattergl": [
           {
            "marker": {
             "colorbar": {
              "outlinewidth": 0,
              "ticks": ""
             }
            },
            "type": "scattergl"
           }
          ],
          "scattermapbox": [
           {
            "marker": {
             "colorbar": {
              "outlinewidth": 0,
              "ticks": ""
             }
            },
            "type": "scattermapbox"
           }
          ],
          "scatterpolar": [
           {
            "marker": {
             "colorbar": {
              "outlinewidth": 0,
              "ticks": ""
             }
            },
            "type": "scatterpolar"
           }
          ],
          "scatterpolargl": [
           {
            "marker": {
             "colorbar": {
              "outlinewidth": 0,
              "ticks": ""
             }
            },
            "type": "scatterpolargl"
           }
          ],
          "scatterternary": [
           {
            "marker": {
             "colorbar": {
              "outlinewidth": 0,
              "ticks": ""
             }
            },
            "type": "scatterternary"
           }
          ],
          "surface": [
           {
            "colorbar": {
             "outlinewidth": 0,
             "ticks": ""
            },
            "colorscale": [
             [
              0,
              "#0d0887"
             ],
             [
              0.1111111111111111,
              "#46039f"
             ],
             [
              0.2222222222222222,
              "#7201a8"
             ],
             [
              0.3333333333333333,
              "#9c179e"
             ],
             [
              0.4444444444444444,
              "#bd3786"
             ],
             [
              0.5555555555555556,
              "#d8576b"
             ],
             [
              0.6666666666666666,
              "#ed7953"
             ],
             [
              0.7777777777777778,
              "#fb9f3a"
             ],
             [
              0.8888888888888888,
              "#fdca26"
             ],
             [
              1,
              "#f0f921"
             ]
            ],
            "type": "surface"
           }
          ],
          "table": [
           {
            "cells": {
             "fill": {
              "color": "#EBF0F8"
             },
             "line": {
              "color": "white"
             }
            },
            "header": {
             "fill": {
              "color": "#C8D4E3"
             },
             "line": {
              "color": "white"
             }
            },
            "type": "table"
           }
          ]
         },
         "layout": {
          "annotationdefaults": {
           "arrowcolor": "#2a3f5f",
           "arrowhead": 0,
           "arrowwidth": 1
          },
          "autotypenumbers": "strict",
          "coloraxis": {
           "colorbar": {
            "outlinewidth": 0,
            "ticks": ""
           }
          },
          "colorscale": {
           "diverging": [
            [
             0,
             "#8e0152"
            ],
            [
             0.1,
             "#c51b7d"
            ],
            [
             0.2,
             "#de77ae"
            ],
            [
             0.3,
             "#f1b6da"
            ],
            [
             0.4,
             "#fde0ef"
            ],
            [
             0.5,
             "#f7f7f7"
            ],
            [
             0.6,
             "#e6f5d0"
            ],
            [
             0.7,
             "#b8e186"
            ],
            [
             0.8,
             "#7fbc41"
            ],
            [
             0.9,
             "#4d9221"
            ],
            [
             1,
             "#276419"
            ]
           ],
           "sequential": [
            [
             0,
             "#0d0887"
            ],
            [
             0.1111111111111111,
             "#46039f"
            ],
            [
             0.2222222222222222,
             "#7201a8"
            ],
            [
             0.3333333333333333,
             "#9c179e"
            ],
            [
             0.4444444444444444,
             "#bd3786"
            ],
            [
             0.5555555555555556,
             "#d8576b"
            ],
            [
             0.6666666666666666,
             "#ed7953"
            ],
            [
             0.7777777777777778,
             "#fb9f3a"
            ],
            [
             0.8888888888888888,
             "#fdca26"
            ],
            [
             1,
             "#f0f921"
            ]
           ],
           "sequentialminus": [
            [
             0,
             "#0d0887"
            ],
            [
             0.1111111111111111,
             "#46039f"
            ],
            [
             0.2222222222222222,
             "#7201a8"
            ],
            [
             0.3333333333333333,
             "#9c179e"
            ],
            [
             0.4444444444444444,
             "#bd3786"
            ],
            [
             0.5555555555555556,
             "#d8576b"
            ],
            [
             0.6666666666666666,
             "#ed7953"
            ],
            [
             0.7777777777777778,
             "#fb9f3a"
            ],
            [
             0.8888888888888888,
             "#fdca26"
            ],
            [
             1,
             "#f0f921"
            ]
           ]
          },
          "colorway": [
           "#636efa",
           "#EF553B",
           "#00cc96",
           "#ab63fa",
           "#FFA15A",
           "#19d3f3",
           "#FF6692",
           "#B6E880",
           "#FF97FF",
           "#FECB52"
          ],
          "font": {
           "color": "#2a3f5f"
          },
          "geo": {
           "bgcolor": "white",
           "lakecolor": "white",
           "landcolor": "white",
           "showlakes": true,
           "showland": true,
           "subunitcolor": "#C8D4E3"
          },
          "hoverlabel": {
           "align": "left"
          },
          "hovermode": "closest",
          "mapbox": {
           "style": "light"
          },
          "paper_bgcolor": "white",
          "plot_bgcolor": "white",
          "polar": {
           "angularaxis": {
            "gridcolor": "#EBF0F8",
            "linecolor": "#EBF0F8",
            "ticks": ""
           },
           "bgcolor": "white",
           "radialaxis": {
            "gridcolor": "#EBF0F8",
            "linecolor": "#EBF0F8",
            "ticks": ""
           }
          },
          "scene": {
           "xaxis": {
            "backgroundcolor": "white",
            "gridcolor": "#DFE8F3",
            "gridwidth": 2,
            "linecolor": "#EBF0F8",
            "showbackground": true,
            "ticks": "",
            "zerolinecolor": "#EBF0F8"
           },
           "yaxis": {
            "backgroundcolor": "white",
            "gridcolor": "#DFE8F3",
            "gridwidth": 2,
            "linecolor": "#EBF0F8",
            "showbackground": true,
            "ticks": "",
            "zerolinecolor": "#EBF0F8"
           },
           "zaxis": {
            "backgroundcolor": "white",
            "gridcolor": "#DFE8F3",
            "gridwidth": 2,
            "linecolor": "#EBF0F8",
            "showbackground": true,
            "ticks": "",
            "zerolinecolor": "#EBF0F8"
           }
          },
          "shapedefaults": {
           "line": {
            "color": "#2a3f5f"
           }
          },
          "ternary": {
           "aaxis": {
            "gridcolor": "#DFE8F3",
            "linecolor": "#A2B1C6",
            "ticks": ""
           },
           "baxis": {
            "gridcolor": "#DFE8F3",
            "linecolor": "#A2B1C6",
            "ticks": ""
           },
           "bgcolor": "white",
           "caxis": {
            "gridcolor": "#DFE8F3",
            "linecolor": "#A2B1C6",
            "ticks": ""
           }
          },
          "title": {
           "x": 0.05
          },
          "xaxis": {
           "automargin": true,
           "gridcolor": "#EBF0F8",
           "linecolor": "#EBF0F8",
           "ticks": "",
           "title": {
            "standoff": 15
           },
           "zerolinecolor": "#EBF0F8",
           "zerolinewidth": 2
          },
          "yaxis": {
           "automargin": true,
           "gridcolor": "#EBF0F8",
           "linecolor": "#EBF0F8",
           "ticks": "",
           "title": {
            "standoff": 15
           },
           "zerolinecolor": "#EBF0F8",
           "zerolinewidth": 2
          }
         }
        },
        "title": {
         "text": "Sales Forecast for Hoodie"
        },
        "xaxis": {
         "autorange": true,
         "range": [
          "2022-09-29 05:38:38.6441",
          "2024-05-01 18:21:21.3559"
         ],
         "title": {
          "text": "Month"
         },
         "type": "date"
        },
        "yaxis": {
         "autorange": true,
         "range": [
          -1094.0262189900336,
          3586.540115349016
         ],
         "title": {
          "text": "Total Sales (USD)"
         },
         "type": "linear"
        }
       }
      },
      "image/png": "[encoded data removed]",
      "text/html": [
       "<div>                            <div id=\"5991a005-7b5b-46c7-8bbe-fa2f092c2a31\" class=\"plotly-graph-div\" style=\"height:525px; width:100%;\"></div>            <script type=\"text/javascript\">                require([\"plotly\"], function(Plotly) {                    window.PLOTLYENV=window.PLOTLYENV || {};                                    if (document.getElementById(\"5991a005-7b5b-46c7-8bbe-fa2f092c2a31\")) {                    Plotly.newPlot(                        \"5991a005-7b5b-46c7-8bbe-fa2f092c2a31\",                        [{\"mode\":\"lines+markers\",\"name\":\"Historical Sales\",\"x\":[\"2022-10-31T00:00:00\",\"2022-11-30T00:00:00\",\"2022-12-31T00:00:00\",\"2023-01-31T00:00:00\",\"2023-02-28T00:00:00\",\"2023-03-31T00:00:00\",\"2023-04-30T00:00:00\",\"2023-05-31T00:00:00\",\"2023-06-30T00:00:00\",\"2023-07-31T00:00:00\",\"2023-08-31T00:00:00\",\"2023-09-30T00:00:00\"],\"y\":[3255.0,588.0,482.0,887.0,119.0,562.0,94.0,791.0,708.0,544.0,1186.0,363.0],\"type\":\"scatter\"},{\"hovertemplate\":\"Forecast: %{y:.2f}\\u003cbr\\u003eDate: %{x|%b %Y}\\u003cextra\\u003e\\u003c\\u002fextra\\u003e\",\"mode\":\"lines+markers\",\"name\":\"Forecasted Sales\",\"x\":[\"2023-10-31T00:00:00\",\"2023-11-30T00:00:00\",\"2023-12-31T00:00:00\",\"2024-01-31T00:00:00\",\"2024-02-29T00:00:00\",\"2024-03-31T00:00:00\"],\"y\":[774.829220496984,774.829220496984,774.829220496984,774.829220496984,774.829220496984,774.829220496984],\"type\":\"scatter\"},{\"fill\":\"toself\",\"fillcolor\":\"rgba(0,100,80,0.2)\",\"hoverinfo\":\"skip\",\"line\":{\"color\":\"rgba(255,255,255,0)\"},\"name\":\"95% Confidence Interval\",\"showlegend\":true,\"x\":[\"2023-10-31T00:00:00\",\"2023-11-30T00:00:00\",\"2023-12-31T00:00:00\",\"2024-01-31T00:00:00\",\"2024-02-29T00:00:00\",\"2024-03-31T00:00:00\",\"2024-03-31T00:00:00\",\"2024-02-29T00:00:00\",\"2024-01-31T00:00:00\",\"2023-12-31T00:00:00\",\"2023-11-30T00:00:00\",\"2023-10-31T00:00:00\"],\"y\":[-762.4860933194142,-762.4860953837348,-762.4860974480556,-762.4860995123762,-762.486101576697,-762.4861036410176,2312.144544634986,2312.144542570665,2312.144540506344,2312.1445384420235,2312.144536377703,2312.1445343133823],\"type\":\"scatter\"},{\"hovertemplate\":\"Error Margin: %{y:.2f}%\\u003cbr\\u003eDate: %{x|%b %Y}\\u003cextra\\u003e\\u003c\\u002fextra\\u003e\",\"marker\":{\"color\":\"orange\",\"symbol\":\"x\"},\"mode\":\"markers\",\"name\":\"Error Margin (%)\",\"x\":[\"2023-10-31T00:00:00\",\"2023-11-30T00:00:00\",\"2023-12-31T00:00:00\",\"2024-01-31T00:00:00\",\"2024-02-29T00:00:00\",\"2024-03-31T00:00:00\"],\"y\":[198.4069873914083,198.40698765783094,198.40698792425366,198.4069881906763,198.40698845709898,198.40698872352164],\"type\":\"scatter\"}],                        {\"template\":{\"data\":{\"barpolar\":[{\"marker\":{\"line\":{\"color\":\"white\",\"width\":0.5},\"pattern\":{\"fillmode\":\"overlay\",\"size\":10,\"solidity\":0.2}},\"type\":\"barpolar\"}],\"bar\":[{\"error_x\":{\"color\":\"#2a3f5f\"},\"error_y\":{\"color\":\"#2a3f5f\"},\"marker\":{\"line\":{\"color\":\"white\",\"width\":0.5},\"pattern\":{\"fillmode\":\"overlay\",\"size\":10,\"solidity\":0.2}},\"type\":\"bar\"}],\"carpet\":[{\"aaxis\":{\"endlinecolor\":\"#2a3f5f\",\"gridcolor\":\"#C8D4E3\",\"linecolor\":\"#C8D4E3\",\"minorgridcolor\":\"#C8D4E3\",\"startlinecolor\":\"#2a3f5f\"},\"baxis\":{\"endlinecolor\":\"#2a3f5f\",\"gridcolor\":\"#C8D4E3\",\"linecolor\":\"#C8D4E3\",\"minorgridcolor\":\"#C8D4E3\",\"startlinecolor\":\"#2a3f5f\"},\"type\":\"carpet\"}],\"choropleth\":[{\"colorbar\":{\"outlinewidth\":0,\"ticks\":\"\"},\"type\":\"choropleth\"}],\"contourcarpet\":[{\"colorbar\":{\"outlinewidth\":0,\"ticks\":\"\"},\"type\":\"contourcarpet\"}],\"contour\":[{\"colorbar\":{\"outlinewidth\":0,\"ticks\":\"\"},\"colorscale\":[[0.0,\"#0d0887\"],[0.1111111111111111,\"#46039f\"],[0.2222222222222222,\"#7201a8\"],[0.3333333333333333,\"#9c179e\"],[0.4444444444444444,\"#bd3786\"],[0.5555555555555556,\"#d8576b\"],[0.6666666666666666,\"#ed7953\"],[0.7777777777777778,\"#fb9f3a\"],[0.8888888888888888,\"#fdca26\"],[1.0,\"#f0f921\"]],\"type\":\"contour\"}],\"heatmapgl\":[{\"colorbar\":{\"outlinewidth\":0,\"ticks\":\"\"},\"colorscale\":[[0.0,\"#0d0887\"],[0.1111111111111111,\"#46039f\"],[0.2222222222222222,\"#7201a8\"],[0.3333333333333333,\"#9c179e\"],[0.4444444444444444,\"#bd3786\"],[0.5555555555555556,\"#d8576b\"],[0.6666666666666666,\"#ed7953\"],[0.7777777777777778,\"#fb9f3a\"],[0.8888888888888888,\"#fdca26\"],[1.0,\"#f0f921\"]],\"type\":\"heatmapgl\"}],\"heatmap\":[{\"colorbar\":{\"outlinewidth\":0,\"ticks\":\"\"},\"colorscale\":[[0.0,\"#0d0887\"],[0.1111111111111111,\"#46039f\"],[0.2222222222222222,\"#7201a8\"],[0.3333333333333333,\"#9c179e\"],[0.4444444444444444,\"#bd3786\"],[0.5555555555555556,\"#d8576b\"],[0.6666666666666666,\"#ed7953\"],[0.7777777777777778,\"#fb9f3a\"],[0.8888888888888888,\"#fdca26\"],[1.0,\"#f0f921\"]],\"type\":\"heatmap\"}],\"histogram2dcontour\":[{\"colorbar\":{\"outlinewidth\":0,\"ticks\":\"\"},\"colorscale\":[[0.0,\"#0d0887\"],[0.1111111111111111,\"#46039f\"],[0.2222222222222222,\"#7201a8\"],[0.3333333333333333,\"#9c179e\"],[0.4444444444444444,\"#bd3786\"],[0.5555555555555556,\"#d8576b\"],[0.6666666666666666,\"#ed7953\"],[0.7777777777777778,\"#fb9f3a\"],[0.8888888888888888,\"#fdca26\"],[1.0,\"#f0f921\"]],\"type\":\"histogram2dcontour\"}],\"histogram2d\":[{\"colorbar\":{\"outlinewidth\":0,\"ticks\":\"\"},\"colorscale\":[[0.0,\"#0d0887\"],[0.1111111111111111,\"#46039f\"],[0.2222222222222222,\"#7201a8\"],[0.3333333333333333,\"#9c179e\"],[0.4444444444444444,\"#bd3786\"],[0.5555555555555556,\"#d8576b\"],[0.6666666666666666,\"#ed7953\"],[0.7777777777777778,\"#fb9f3a\"],[0.8888888888888888,\"#fdca26\"],[1.0,\"#f0f921\"]],\"type\":\"histogram2d\"}],\"histogram\":[{\"marker\":{\"pattern\":{\"fillmode\":\"overlay\",\"size\":10,\"solidity\":0.2}},\"type\":\"histogram\"}],\"mesh3d\":[{\"colorbar\":{\"outlinewidth\":0,\"ticks\":\"\"},\"type\":\"mesh3d\"}],\"parcoords\":[{\"line\":{\"colorbar\":{\"outlinewidth\":0,\"ticks\":\"\"}},\"type\":\"parcoords\"}],\"pie\":[{\"automargin\":true,\"type\":\"pie\"}],\"scatter3d\":[{\"line\":{\"colorbar\":{\"outlinewidth\":0,\"ticks\":\"\"}},\"marker\":{\"colorbar\":{\"outlinewidth\":0,\"ticks\":\"\"}},\"type\":\"scatter3d\"}],\"scattercarpet\":[{\"marker\":{\"colorbar\":{\"outlinewidth\":0,\"ticks\":\"\"}},\"type\":\"scattercarpet\"}],\"scattergeo\":[{\"marker\":{\"colorbar\":{\"outlinewidth\":0,\"ticks\":\"\"}},\"type\":\"scattergeo\"}],\"scattergl\":[{\"marker\":{\"colorbar\":{\"outlinewidth\":0,\"ticks\":\"\"}},\"type\":\"scattergl\"}],\"scattermapbox\":[{\"marker\":{\"colorbar\":{\"outlinewidth\":0,\"ticks\":\"\"}},\"type\":\"scattermapbox\"}],\"scatterpolargl\":[{\"marker\":{\"colorbar\":{\"outlinewidth\":0,\"ticks\":\"\"}},\"type\":\"scatterpolargl\"}],\"scatterpolar\":[{\"marker\":{\"colorbar\":{\"outlinewidth\":0,\"ticks\":\"\"}},\"type\":\"scatterpolar\"}],\"scatter\":[{\"fillpattern\":{\"fillmode\":\"overlay\",\"size\":10,\"solidity\":0.2},\"type\":\"scatter\"}],\"scatterternary\":[{\"marker\":{\"colorbar\":{\"outlinewidth\":0,\"ticks\":\"\"}},\"type\":\"scatterternary\"}],\"surface\":[{\"colorbar\":{\"outlinewidth\":0,\"ticks\":\"\"},\"colorscale\":[[0.0,\"#0d0887\"],[0.1111111111111111,\"#46039f\"],[0.2222222222222222,\"#7201a8\"],[0.3333333333333333,\"#9c179e\"],[0.4444444444444444,\"#bd3786\"],[0.5555555555555556,\"#d8576b\"],[0.6666666666666666,\"#ed7953\"],[0.7777777777777778,\"#fb9f3a\"],[0.8888888888888888,\"#fdca26\"],[1.0,\"#f0f921\"]],\"type\":\"surface\"}],\"table\":[{\"cells\":{\"fill\":{\"color\":\"#EBF0F8\"},\"line\":{\"color\":\"white\"}},\"header\":{\"fill\":{\"color\":\"#C8D4E3\"},\"line\":{\"color\":\"white\"}},\"type\":\"table\"}]},\"layout\":{\"annotationdefaults\":{\"arrowcolor\":\"#2a3f5f\",\"arrowhead\":0,\"arrowwidth\":1},\"autotypenumbers\":\"strict\",\"coloraxis\":{\"colorbar\":{\"outlinewidth\":0,\"ticks\":\"\"}},\"colorscale\":{\"diverging\":[[0,\"#8e0152\"],[0.1,\"#c51b7d\"],[0.2,\"#de77ae\"],[0.3,\"#f1b6da\"],[0.4,\"#fde0ef\"],[0.5,\"#f7f7f7\"],[0.6,\"#e6f5d0\"],[0.7,\"#b8e186\"],[0.8,\"#7fbc41\"],[0.9,\"#4d9221\"],[1,\"#276419\"]],\"sequential\":[[0.0,\"#0d0887\"],[0.1111111111111111,\"#46039f\"],[0.2222222222222222,\"#7201a8\"],[0.3333333333333333,\"#9c179e\"],[0.4444444444444444,\"#bd3786\"],[0.5555555555555556,\"#d8576b\"],[0.6666666666666666,\"#ed7953\"],[0.7777777777777778,\"#fb9f3a\"],[0.8888888888888888,\"#fdca26\"],[1.0,\"#f0f921\"]],\"sequentialminus\":[[0.0,\"#0d0887\"],[0.1111111111111111,\"#46039f\"],[0.2222222222222222,\"#7201a8\"],[0.3333333333333333,\"#9c179e\"],[0.4444444444444444,\"#bd3786\"],[0.5555555555555556,\"#d8576b\"],[0.6666666666666666,\"#ed7953\"],[0.7777777777777778,\"#fb9f3a\"],[0.8888888888888888,\"#fdca26\"],[1.0,\"#f0f921\"]]},\"colorway\":[\"#636efa\",\"#EF553B\",\"#00cc96\",\"#ab63fa\",\"#FFA15A\",\"#19d3f3\",\"#FF6692\",\"#B6E880\",\"#FF97FF\",\"#FECB52\"],\"font\":{\"color\":\"#2a3f5f\"},\"geo\":{\"bgcolor\":\"white\",\"lakecolor\":\"white\",\"landcolor\":\"white\",\"showlakes\":true,\"showland\":true,\"subunitcolor\":\"#C8D4E3\"},\"hoverlabel\":{\"align\":\"left\"},\"hovermode\":\"closest\",\"mapbox\":{\"style\":\"light\"},\"paper_bgcolor\":\"white\",\"plot_bgcolor\":\"white\",\"polar\":{\"angularaxis\":{\"gridcolor\":\"#EBF0F8\",\"linecolor\":\"#EBF0F8\",\"ticks\":\"\"},\"bgcolor\":\"white\",\"radialaxis\":{\"gridcolor\":\"#EBF0F8\",\"linecolor\":\"#EBF0F8\",\"ticks\":\"\"}},\"scene\":{\"xaxis\":{\"backgroundcolor\":\"white\",\"gridcolor\":\"#DFE8F3\",\"gridwidth\":2,\"linecolor\":\"#EBF0F8\",\"showbackground\":true,\"ticks\":\"\",\"zerolinecolor\":\"#EBF0F8\"},\"yaxis\":{\"backgroundcolor\":\"white\",\"gridcolor\":\"#DFE8F3\",\"gridwidth\":2,\"linecolor\":\"#EBF0F8\",\"showbackground\":true,\"ticks\":\"\",\"zerolinecolor\":\"#EBF0F8\"},\"zaxis\":{\"backgroundcolor\":\"white\",\"gridcolor\":\"#DFE8F3\",\"gridwidth\":2,\"linecolor\":\"#EBF0F8\",\"showbackground\":true,\"ticks\":\"\",\"zerolinecolor\":\"#EBF0F8\"}},\"shapedefaults\":{\"line\":{\"color\":\"#2a3f5f\"}},\"ternary\":{\"aaxis\":{\"gridcolor\":\"#DFE8F3\",\"linecolor\":\"#A2B1C6\",\"ticks\":\"\"},\"baxis\":{\"gridcolor\":\"#DFE8F3\",\"linecolor\":\"#A2B1C6\",\"ticks\":\"\"},\"bgcolor\":\"white\",\"caxis\":{\"gridcolor\":\"#DFE8F3\",\"linecolor\":\"#A2B1C6\",\"ticks\":\"\"}},\"title\":{\"x\":0.05},\"xaxis\":{\"automargin\":true,\"gridcolor\":\"#EBF0F8\",\"linecolor\":\"#EBF0F8\",\"ticks\":\"\",\"title\":{\"standoff\":15},\"zerolinecolor\":\"#EBF0F8\",\"zerolinewidth\":2},\"yaxis\":{\"automargin\":true,\"gridcolor\":\"#EBF0F8\",\"linecolor\":\"#EBF0F8\",\"ticks\":\"\",\"title\":{\"standoff\":15},\"zerolinecolor\":\"#EBF0F8\",\"zerolinewidth\":2}}},\"title\":{\"text\":\"Sales Forecast for Hoodie\"},\"xaxis\":{\"title\":{\"text\":\"Month\"}},\"yaxis\":{\"title\":{\"text\":\"Total Sales (USD)\"}}},                        {\"responsive\": true}                    ).then(function(){\n",
       "                            \n",
       "var gd = document.getElementById('5991a005-7b5b-46c7-8bbe-fa2f092c2a31');\n",
       "var x = new MutationObserver(function (mutations, observer) {{\n",
       "        var display = window.getComputedStyle(gd).display;\n",
       "        if (!display || display === 'none') {{\n",
       "            console.log([gd, 'removed!']);\n",
       "            Plotly.purge(gd);\n",
       "            observer.disconnect();\n",
       "        }}\n",
       "}});\n",
       "\n",
       "// Listen for the removal of the full notebook cells\n",
       "var notebookContainer = gd.closest('#notebook-container');\n",
       "if (notebookContainer) {{\n",
       "    x.observe(notebookContainer, {childList: true});\n",
       "}}\n",
       "\n",
       "// Listen for the clearing of the current output cell\n",
       "var outputEl = gd.closest('.output');\n",
       "if (outputEl) {{\n",
       "    x.observe(outputEl, {childList: true});\n",
       "}}\n",
       "\n",
       "                        })                };                });            </script>        </div>"
      ]
     },
     "metadata": {},
     "output_type": "display_data"
    }
   ],
   "source": [
    "import pandas as pd\n",
    "import plotly.graph_objects as go\n",
    "from statsmodels.tsa.arima.model import ARIMA\n",
    "\n",
    "# Step 1: Create monthly sales summary\n",
    "monthly_sales = df.groupby(['item', 'month']).agg(\n",
    "    Total_Sales=('amount_usd', 'sum')\n",
    ").reset_index()\n",
    "\n",
    "# Step 2: Define the forecasting function\n",
    "def forecast_item(item_name, periods=6):\n",
    "    item_data = monthly_sales[monthly_sales['item'] == item_name].copy()\n",
    "    item_data = item_data.set_index('month').resample('M').sum().fillna(0)\n",
    "\n",
    "    try:\n",
    "        model = ARIMA(item_data['Total_Sales'], order=(0, 1, 1))\n",
    "        model_fit = model.fit()\n",
    "        forecast_result = model_fit.get_forecast(steps=periods)\n",
    "    except Exception as e:\n",
    "        print(f\"Forecast failed for '{item_name}': {e}\")\n",
    "        return\n",
    "\n",
    "    forecast_mean = forecast_result.predicted_mean\n",
    "    conf_int = forecast_result.conf_int(alpha=0.05)\n",
    "    forecast_index = pd.date_range(item_data.index[-1] + pd.DateOffset(months=1), periods=periods, freq='M')\n",
    "\n",
    "    fig = go.Figure()\n",
    "\n",
    "    fig.add_trace(go.Scatter(\n",
    "        x=item_data.index, y=item_data['Total_Sales'],\n",
    "        mode='lines+markers', name='Historical Sales'\n",
    "    ))\n",
    "\n",
    "    fig.add_trace(go.Scatter(\n",
    "        x=forecast_index, y=forecast_mean,\n",
    "        mode='lines+markers', name='Forecasted Sales',\n",
    "        hovertemplate='Forecast: %{y:.2f}<br>Date: %{x|%b %Y}<extra></extra>'\n",
    "    ))\n",
    "\n",
    "    fig.add_trace(go.Scatter(\n",
    "        x=forecast_index.tolist() + forecast_index[::-1].tolist(),\n",
    "        y=conf_int.iloc[:, 0].tolist() + conf_int.iloc[:, 1][::-1].tolist(),\n",
    "        fill='toself',\n",
    "        fillcolor='rgba(0,100,80,0.2)',\n",
    "        line=dict(color='rgba(255,255,255,0)'),\n",
    "        hoverinfo=\"skip\",\n",
    "        showlegend=True,\n",
    "        name='95% Confidence Interval'\n",
    "    ))\n",
    "\n",
    "    # Error margin in %\n",
    "    margin_error = ((conf_int.iloc[:, 1] - conf_int.iloc[:, 0]) / (2 * forecast_mean.abs())) * 100\n",
    "\n",
    "    fig.add_trace(go.Scatter(\n",
    "        x=forecast_index, y=margin_error,\n",
    "        mode='markers',\n",
    "        name='Error Margin (%)',\n",
    "        marker=dict(symbol='x', color='orange'),\n",
    "        hovertemplate='Error Margin: %{y:.2f}%<br>Date: %{x|%b %Y}<extra></extra>'\n",
    "    ))\n",
    "\n",
    "    fig.update_layout(\n",
    "        title=f\"Sales Forecast for {item_name}\",\n",
    "        xaxis_title=\"Month\",\n",
    "        yaxis_title=\"Total Sales (USD)\",\n",
    "        template=\"plotly_white\"\n",
    "    )\n",
    "\n",
    "    fig.show()\n",
    "forecast_item(\"Hoodie\", periods=6)"
   ]
  },
  {
   "cell_type": "code",
   "execution_count": 61,
   "id": "f1cadb4a-8625-4c05-a3d2-d94d5d408918",
   "metadata": {},
   "outputs": [
    {
     "name": "stdout",
     "output_type": "stream",
     "text": [
      "Forecast Error Margin Table (Next 10 Months):\n",
      "             Item  Avg Error Margin (%)\n",
      "0          Blazer                  0.02\n",
      "1          Blouse                  0.03\n",
      "2        Camisole                   NaN\n",
      "3        Cardigan                 37.44\n",
      "4            Coat                 39.32\n",
      "5           Dress                 80.56\n",
      "6   Flannel Shirt                  0.01\n",
      "7          Hoodie                  0.01\n",
      "8          Jacket                  0.03\n",
      "9           Jeans                  0.01\n",
      "10       Jumpsuit                116.62\n",
      "11         Kimono                300.12\n",
      "12       Leggings                 74.26\n",
      "13         Onesie                 17.66\n",
      "14       Overalls                121.66\n",
      "15        Pajamas                212.66\n",
      "16          Pants                   NaN\n",
      "17     Polo Shirt               4897.16\n",
      "18         Poncho                100.74\n",
      "19       Raincoat                 77.69\n",
      "20         Romper                   NaN\n",
      "21         Shorts                  0.01\n",
      "22          Skirt                  0.01\n",
      "23        Sweater                 37.93\n",
      "24       Swimsuit                  0.01\n",
      "25        T-shirt                  0.01\n",
      "26    Trench Coat                 19.21\n",
      "27       Trousers                  0.00\n",
      "28          Tunic                   NaN\n",
      "29           Vest                 90.01\n",
      "\n",
      "Overall Average Error Margin Across All Items: 239.35%\n"
     ]
    }
   ],
   "source": [
    "# Forecast horizon\n",
    "forecast_periods = 10  # you can change this\n",
    "\n",
    "# Prepare item list\n",
    "items = monthly_sales['item'].unique()\n",
    "results = []\n",
    "\n",
    "# Loop through each item\n",
    "for item in items:\n",
    "    item_data = monthly_sales[monthly_sales['item'] == item].copy()\n",
    "    \n",
    "    # Prepare monthly series\n",
    "    item_data = item_data.set_index('month').resample('M').sum().fillna(0)\n",
    "    \n",
    "    # Skip if not enough data points\n",
    "    if len(item_data) < forecast_periods + 2:\n",
    "        continue\n",
    "\n",
    "    try:\n",
    "        # Fit ARIMA\n",
    "        model = ARIMA(item_data['Total_Sales'], order=(3,1,2))\n",
    "        model_fit = model.fit()\n",
    "        forecast_result = model_fit.get_forecast(steps=forecast_periods)\n",
    "\n",
    "        # Confidence interval\n",
    "        forecast_mean = forecast_result.predicted_mean\n",
    "        conf_int = forecast_result.conf_int(alpha=0.05)\n",
    "        \n",
    "        # Calculate margin of error (absolute or percent)\n",
    "        margin_error_pct = ((conf_int.iloc[:, 1] - conf_int.iloc[:, 0]) / (2 * forecast_mean.abs())) * 100\n",
    "        \n",
    "        # Store results\n",
    "        avg_margin_error = margin_error_pct.mean()\n",
    "        results.append({'Item': item, 'Avg Error Margin (%)': round(avg_margin_error, 2)})\n",
    "\n",
    "    except:\n",
    "        # In case ARIMA fails to converge\n",
    "        results.append({'Item': item, 'Avg Error Margin (%)': None})\n",
    "\n",
    "# Final results DataFrame\n",
    "error_table = pd.DataFrame(results)\n",
    "\n",
    "# Overall model error margin\n",
    "overall_avg_error = error_table['Avg Error Margin (%)'].mean()\n",
    "\n",
    "# Show result\n",
    "print(\"Forecast Error Margin Table (Next\", forecast_periods, \"Months):\")\n",
    "print(error_table)\n",
    "\n",
    "print(\"\\nOverall Average Error Margin Across All Items: {:.2f}%\".format(overall_avg_error))"
   ]
  },
  {
   "cell_type": "code",
   "execution_count": 73,
   "id": "733b9928-3fb6-4f36-af48-21e1827d658e",
   "metadata": {},
   "outputs": [
    {
     "data": {
      "application/vnd.plotly.v1+json": {
       "config": {
        "plotlyServerURL": "https://plot.ly"
       },
       "data": [
        {
         "mode": "lines+markers",
         "name": "Actual Sales",
         "type": "scatter",
         "x": [
          "2022-10-31T00:00:00",
          "2022-11-30T00:00:00",
          "2022-12-31T00:00:00",
          "2023-01-31T00:00:00",
          "2023-02-28T00:00:00",
          "2023-03-31T00:00:00",
          "2023-04-30T00:00:00",
          "2023-05-31T00:00:00",
          "2023-06-30T00:00:00",
          "2023-07-31T00:00:00",
          "2023-08-31T00:00:00",
          "2023-09-30T00:00:00"
         ],
         "y": [
          457,
          458,
          707,
          183,
          405,
          1196,
          343,
          244,
          109,
          497,
          394,
          433
         ]
        },
        {
         "hovertemplate": "Forecast: %{y:.2f}<br>Date: %{x|%b %Y}<extra></extra>",
         "mode": "lines+markers",
         "name": "Forecasted Sales",
         "type": "scatter",
         "x": [
          "2023-07-31T00:00:00",
          "2023-08-31T00:00:00",
          "2023-09-30T00:00:00"
         ],
         "y": [
          444.04898496464386,
          449.9352053345926,
          450.03861585603397
         ]
        },
        {
         "fill": "toself",
         "fillcolor": "rgba(0,100,80,0.2)",
         "hoverinfo": "skip",
         "line": {
          "color": "rgba(255,255,255,0)"
         },
         "name": "95% Confidence Interval",
         "showlegend": true,
         "type": "scatter",
         "x": [
          "2023-07-31T00:00:00",
          "2023-08-31T00:00:00",
          "2023-09-30T00:00:00",
          "2023-09-30T00:00:00",
          "2023-08-31T00:00:00",
          "2023-07-31T00:00:00"
         ],
         "y": [
          -238.74994285348953,
          -234.16687403875534,
          -234.09891688596724,
          1134.176148598035,
          1134.0372847079404,
          1126.8479127827773
         ]
        },
        {
         "hovertemplate": "Error Margin: %{y:.2f}%<br>Date: %{x|%b %Y}<extra></extra>",
         "marker": {
          "color": "orange",
          "symbol": "x"
         },
         "mode": "markers",
         "name": "Error Margin (%)",
         "type": "scatter",
         "x": [
          "2023-07-31T00:00:00",
          "2023-08-31T00:00:00",
          "2023-09-30T00:00:00"
         ],
         "y": [
          153.76657777350832,
          152.0445769218299,
          152.01751775026676
         ]
        }
       ],
       "layout": {
        "autosize": true,
        "template": {
         "data": {
          "bar": [
           {
            "error_x": {
             "color": "#2a3f5f"
            },
            "error_y": {
             "color": "#2a3f5f"
            },
            "marker": {
             "line": {
              "color": "white",
              "width": 0.5
             },
             "pattern": {
              "fillmode": "overlay",
              "size": 10,
              "solidity": 0.2
             }
            },
            "type": "bar"
           }
          ],
          "barpolar": [
           {
            "marker": {
             "line": {
              "color": "white",
              "width": 0.5
             },
             "pattern": {
              "fillmode": "overlay",
              "size": 10,
              "solidity": 0.2
             }
            },
            "type": "barpolar"
           }
          ],
          "carpet": [
           {
            "aaxis": {
             "endlinecolor": "#2a3f5f",
             "gridcolor": "#C8D4E3",
             "linecolor": "#C8D4E3",
             "minorgridcolor": "#C8D4E3",
             "startlinecolor": "#2a3f5f"
            },
            "baxis": {
             "endlinecolor": "#2a3f5f",
             "gridcolor": "#C8D4E3",
             "linecolor": "#C8D4E3",
             "minorgridcolor": "#C8D4E3",
             "startlinecolor": "#2a3f5f"
            },
            "type": "carpet"
           }
          ],
          "choropleth": [
           {
            "colorbar": {
             "outlinewidth": 0,
             "ticks": ""
            },
            "type": "choropleth"
           }
          ],
          "contour": [
           {
            "colorbar": {
             "outlinewidth": 0,
             "ticks": ""
            },
            "colorscale": [
             [
              0,
              "#0d0887"
             ],
             [
              0.1111111111111111,
              "#46039f"
             ],
             [
              0.2222222222222222,
              "#7201a8"
             ],
             [
              0.3333333333333333,
              "#9c179e"
             ],
             [
              0.4444444444444444,
              "#bd3786"
             ],
             [
              0.5555555555555556,
              "#d8576b"
             ],
             [
              0.6666666666666666,
              "#ed7953"
             ],
             [
              0.7777777777777778,
              "#fb9f3a"
             ],
             [
              0.8888888888888888,
              "#fdca26"
             ],
             [
              1,
              "#f0f921"
             ]
            ],
            "type": "contour"
           }
          ],
          "contourcarpet": [
           {
            "colorbar": {
             "outlinewidth": 0,
             "ticks": ""
            },
            "type": "contourcarpet"
           }
          ],
          "heatmap": [
           {
            "colorbar": {
             "outlinewidth": 0,
             "ticks": ""
            },
            "colorscale": [
             [
              0,
              "#0d0887"
             ],
             [
              0.1111111111111111,
              "#46039f"
             ],
             [
              0.2222222222222222,
              "#7201a8"
             ],
             [
              0.3333333333333333,
              "#9c179e"
             ],
             [
              0.4444444444444444,
              "#bd3786"
             ],
             [
              0.5555555555555556,
              "#d8576b"
             ],
             [
              0.6666666666666666,
              "#ed7953"
             ],
             [
              0.7777777777777778,
              "#fb9f3a"
             ],
             [
              0.8888888888888888,
              "#fdca26"
             ],
             [
              1,
              "#f0f921"
             ]
            ],
            "type": "heatmap"
           }
          ],
          "heatmapgl": [
           {
            "colorbar": {
             "outlinewidth": 0,
             "ticks": ""
            },
            "colorscale": [
             [
              0,
              "#0d0887"
             ],
             [
              0.1111111111111111,
              "#46039f"
             ],
             [
              0.2222222222222222,
              "#7201a8"
             ],
             [
              0.3333333333333333,
              "#9c179e"
             ],
             [
              0.4444444444444444,
              "#bd3786"
             ],
             [
              0.5555555555555556,
              "#d8576b"
             ],
             [
              0.6666666666666666,
              "#ed7953"
             ],
             [
              0.7777777777777778,
              "#fb9f3a"
             ],
             [
              0.8888888888888888,
              "#fdca26"
             ],
             [
              1,
              "#f0f921"
             ]
            ],
            "type": "heatmapgl"
           }
          ],
          "histogram": [
           {
            "marker": {
             "pattern": {
              "fillmode": "overlay",
              "size": 10,
              "solidity": 0.2
             }
            },
            "type": "histogram"
           }
          ],
          "histogram2d": [
           {
            "colorbar": {
             "outlinewidth": 0,
             "ticks": ""
            },
            "colorscale": [
             [
              0,
              "#0d0887"
             ],
             [
              0.1111111111111111,
              "#46039f"
             ],
             [
              0.2222222222222222,
              "#7201a8"
             ],
             [
              0.3333333333333333,
              "#9c179e"
             ],
             [
              0.4444444444444444,
              "#bd3786"
             ],
             [
              0.5555555555555556,
              "#d8576b"
             ],
             [
              0.6666666666666666,
              "#ed7953"
             ],
             [
              0.7777777777777778,
              "#fb9f3a"
             ],
             [
              0.8888888888888888,
              "#fdca26"
             ],
             [
              1,
              "#f0f921"
             ]
            ],
            "type": "histogram2d"
           }
          ],
          "histogram2dcontour": [
           {
            "colorbar": {
             "outlinewidth": 0,
             "ticks": ""
            },
            "colorscale": [
             [
              0,
              "#0d0887"
             ],
             [
              0.1111111111111111,
              "#46039f"
             ],
             [
              0.2222222222222222,
              "#7201a8"
             ],
             [
              0.3333333333333333,
              "#9c179e"
             ],
             [
              0.4444444444444444,
              "#bd3786"
             ],
             [
              0.5555555555555556,
              "#d8576b"
             ],
             [
              0.6666666666666666,
              "#ed7953"
             ],
             [
              0.7777777777777778,
              "#fb9f3a"
             ],
             [
              0.8888888888888888,
              "#fdca26"
             ],
             [
              1,
              "#f0f921"
             ]
            ],
            "type": "histogram2dcontour"
           }
          ],
          "mesh3d": [
           {
            "colorbar": {
             "outlinewidth": 0,
             "ticks": ""
            },
            "type": "mesh3d"
           }
          ],
          "parcoords": [
           {
            "line": {
             "colorbar": {
              "outlinewidth": 0,
              "ticks": ""
             }
            },
            "type": "parcoords"
           }
          ],
          "pie": [
           {
            "automargin": true,
            "type": "pie"
           }
          ],
          "scatter": [
           {
            "fillpattern": {
             "fillmode": "overlay",
             "size": 10,
             "solidity": 0.2
            },
            "type": "scatter"
           }
          ],
          "scatter3d": [
           {
            "line": {
             "colorbar": {
              "outlinewidth": 0,
              "ticks": ""
             }
            },
            "marker": {
             "colorbar": {
              "outlinewidth": 0,
              "ticks": ""
             }
            },
            "type": "scatter3d"
           }
          ],
          "scattercarpet": [
           {
            "marker": {
             "colorbar": {
              "outlinewidth": 0,
              "ticks": ""
             }
            },
            "type": "scattercarpet"
           }
          ],
          "scattergeo": [
           {
            "marker": {
             "colorbar": {
              "outlinewidth": 0,
              "ticks": ""
             }
            },
            "type": "scattergeo"
           }
          ],
          "scattergl": [
           {
            "marker": {
             "colorbar": {
              "outlinewidth": 0,
              "ticks": ""
             }
            },
            "type": "scattergl"
           }
          ],
          "scattermapbox": [
           {
            "marker": {
             "colorbar": {
              "outlinewidth": 0,
              "ticks": ""
             }
            },
            "type": "scattermapbox"
           }
          ],
          "scatterpolar": [
           {
            "marker": {
             "colorbar": {
              "outlinewidth": 0,
              "ticks": ""
             }
            },
            "type": "scatterpolar"
           }
          ],
          "scatterpolargl": [
           {
            "marker": {
             "colorbar": {
              "outlinewidth": 0,
              "ticks": ""
             }
            },
            "type": "scatterpolargl"
           }
          ],
          "scatterternary": [
           {
            "marker": {
             "colorbar": {
              "outlinewidth": 0,
              "ticks": ""
             }
            },
            "type": "scatterternary"
           }
          ],
          "surface": [
           {
            "colorbar": {
             "outlinewidth": 0,
             "ticks": ""
            },
            "colorscale": [
             [
              0,
              "#0d0887"
             ],
             [
              0.1111111111111111,
              "#46039f"
             ],
             [
              0.2222222222222222,
              "#7201a8"
             ],
             [
              0.3333333333333333,
              "#9c179e"
             ],
             [
              0.4444444444444444,
              "#bd3786"
             ],
             [
              0.5555555555555556,
              "#d8576b"
             ],
             [
              0.6666666666666666,
              "#ed7953"
             ],
             [
              0.7777777777777778,
              "#fb9f3a"
             ],
             [
              0.8888888888888888,
              "#fdca26"
             ],
             [
              1,
              "#f0f921"
             ]
            ],
            "type": "surface"
           }
          ],
          "table": [
           {
            "cells": {
             "fill": {
              "color": "#EBF0F8"
             },
             "line": {
              "color": "white"
             }
            },
            "header": {
             "fill": {
              "color": "#C8D4E3"
             },
             "line": {
              "color": "white"
             }
            },
            "type": "table"
           }
          ]
         },
         "layout": {
          "annotationdefaults": {
           "arrowcolor": "#2a3f5f",
           "arrowhead": 0,
           "arrowwidth": 1
          },
          "autotypenumbers": "strict",
          "coloraxis": {
           "colorbar": {
            "outlinewidth": 0,
            "ticks": ""
           }
          },
          "colorscale": {
           "diverging": [
            [
             0,
             "#8e0152"
            ],
            [
             0.1,
             "#c51b7d"
            ],
            [
             0.2,
             "#de77ae"
            ],
            [
             0.3,
             "#f1b6da"
            ],
            [
             0.4,
             "#fde0ef"
            ],
            [
             0.5,
             "#f7f7f7"
            ],
            [
             0.6,
             "#e6f5d0"
            ],
            [
             0.7,
             "#b8e186"
            ],
            [
             0.8,
             "#7fbc41"
            ],
            [
             0.9,
             "#4d9221"
            ],
            [
             1,
             "#276419"
            ]
           ],
           "sequential": [
            [
             0,
             "#0d0887"
            ],
            [
             0.1111111111111111,
             "#46039f"
            ],
            [
             0.2222222222222222,
             "#7201a8"
            ],
            [
             0.3333333333333333,
             "#9c179e"
            ],
            [
             0.4444444444444444,
             "#bd3786"
            ],
            [
             0.5555555555555556,
             "#d8576b"
            ],
            [
             0.6666666666666666,
             "#ed7953"
            ],
            [
             0.7777777777777778,
             "#fb9f3a"
            ],
            [
             0.8888888888888888,
             "#fdca26"
            ],
            [
             1,
             "#f0f921"
            ]
           ],
           "sequentialminus": [
            [
             0,
             "#0d0887"
            ],
            [
             0.1111111111111111,
             "#46039f"
            ],
            [
             0.2222222222222222,
             "#7201a8"
            ],
            [
             0.3333333333333333,
             "#9c179e"
            ],
            [
             0.4444444444444444,
             "#bd3786"
            ],
            [
             0.5555555555555556,
             "#d8576b"
            ],
            [
             0.6666666666666666,
             "#ed7953"
            ],
            [
             0.7777777777777778,
             "#fb9f3a"
            ],
            [
             0.8888888888888888,
             "#fdca26"
            ],
            [
             1,
             "#f0f921"
            ]
           ]
          },
          "colorway": [
           "#636efa",
           "#EF553B",
           "#00cc96",
           "#ab63fa",
           "#FFA15A",
           "#19d3f3",
           "#FF6692",
           "#B6E880",
           "#FF97FF",
           "#FECB52"
          ],
          "font": {
           "color": "#2a3f5f"
          },
          "geo": {
           "bgcolor": "white",
           "lakecolor": "white",
           "landcolor": "white",
           "showlakes": true,
           "showland": true,
           "subunitcolor": "#C8D4E3"
          },
          "hoverlabel": {
           "align": "left"
          },
          "hovermode": "closest",
          "mapbox": {
           "style": "light"
          },
          "paper_bgcolor": "white",
          "plot_bgcolor": "white",
          "polar": {
           "angularaxis": {
            "gridcolor": "#EBF0F8",
            "linecolor": "#EBF0F8",
            "ticks": ""
           },
           "bgcolor": "white",
           "radialaxis": {
            "gridcolor": "#EBF0F8",
            "linecolor": "#EBF0F8",
            "ticks": ""
           }
          },
          "scene": {
           "xaxis": {
            "backgroundcolor": "white",
            "gridcolor": "#DFE8F3",
            "gridwidth": 2,
            "linecolor": "#EBF0F8",
            "showbackground": true,
            "ticks": "",
            "zerolinecolor": "#EBF0F8"
           },
           "yaxis": {
            "backgroundcolor": "white",
            "gridcolor": "#DFE8F3",
            "gridwidth": 2,
            "linecolor": "#EBF0F8",
            "showbackground": true,
            "ticks": "",
            "zerolinecolor": "#EBF0F8"
           },
           "zaxis": {
            "backgroundcolor": "white",
            "gridcolor": "#DFE8F3",
            "gridwidth": 2,
            "linecolor": "#EBF0F8",
            "showbackground": true,
            "ticks": "",
            "zerolinecolor": "#EBF0F8"
           }
          },
          "shapedefaults": {
           "line": {
            "color": "#2a3f5f"
           }
          },
          "ternary": {
           "aaxis": {
            "gridcolor": "#DFE8F3",
            "linecolor": "#A2B1C6",
            "ticks": ""
           },
           "baxis": {
            "gridcolor": "#DFE8F3",
            "linecolor": "#A2B1C6",
            "ticks": ""
           },
           "bgcolor": "white",
           "caxis": {
            "gridcolor": "#DFE8F3",
            "linecolor": "#A2B1C6",
            "ticks": ""
           }
          },
          "title": {
           "x": 0.05
          },
          "xaxis": {
           "automargin": true,
           "gridcolor": "#EBF0F8",
           "linecolor": "#EBF0F8",
           "ticks": "",
           "title": {
            "standoff": 15
           },
           "zerolinecolor": "#EBF0F8",
           "zerolinewidth": 2
          },
          "yaxis": {
           "automargin": true,
           "gridcolor": "#EBF0F8",
           "linecolor": "#EBF0F8",
           "ticks": "",
           "title": {
            "standoff": 15
           },
           "zerolinecolor": "#EBF0F8",
           "zerolinewidth": 2
          }
         }
        },
        "title": {
         "text": "Backtest Forecast for Flannel Shirt | MAPE: 9.60%"
        },
        "xaxis": {
         "autorange": true,
         "range": [
          "2022-10-10 11:29:29.4915",
          "2023-10-20 12:30:30.5085"
         ],
         "title": {
          "text": "Month"
         },
         "type": "date"
        },
        "yaxis": {
         "autorange": true,
         "range": [
          -357.1516371666416,
          1314.4016943131521
         ],
         "title": {
          "text": "Total Sales (USD)"
         },
         "type": "linear"
        }
       }
      },
      "image/png": "[encoded data removed]",
      "text/html": [
       "<div>                            <div id=\"b4c4a616-788c-4572-888f-f531d4bd89e0\" class=\"plotly-graph-div\" style=\"height:525px; width:100%;\"></div>            <script type=\"text/javascript\">                require([\"plotly\"], function(Plotly) {                    window.PLOTLYENV=window.PLOTLYENV || {};                                    if (document.getElementById(\"b4c4a616-788c-4572-888f-f531d4bd89e0\")) {                    Plotly.newPlot(                        \"b4c4a616-788c-4572-888f-f531d4bd89e0\",                        [{\"mode\":\"lines+markers\",\"name\":\"Actual Sales\",\"x\":[\"2022-10-31T00:00:00\",\"2022-11-30T00:00:00\",\"2022-12-31T00:00:00\",\"2023-01-31T00:00:00\",\"2023-02-28T00:00:00\",\"2023-03-31T00:00:00\",\"2023-04-30T00:00:00\",\"2023-05-31T00:00:00\",\"2023-06-30T00:00:00\",\"2023-07-31T00:00:00\",\"2023-08-31T00:00:00\",\"2023-09-30T00:00:00\"],\"y\":[457.0,458.0,707.0,183.0,405.0,1196.0,343.0,244.0,109.0,497.0,394.0,433.0],\"type\":\"scatter\"},{\"hovertemplate\":\"Forecast: %{y:.2f}\\u003cbr\\u003eDate: %{x|%b %Y}\\u003cextra\\u003e\\u003c\\u002fextra\\u003e\",\"mode\":\"lines+markers\",\"name\":\"Forecasted Sales\",\"x\":[\"2023-07-31T00:00:00\",\"2023-08-31T00:00:00\",\"2023-09-30T00:00:00\"],\"y\":[444.04898496464386,449.9352053345926,450.03861585603397],\"type\":\"scatter\"},{\"fill\":\"toself\",\"fillcolor\":\"rgba(0,100,80,0.2)\",\"hoverinfo\":\"skip\",\"line\":{\"color\":\"rgba(255,255,255,0)\"},\"name\":\"95% Confidence Interval\",\"showlegend\":true,\"x\":[\"2023-07-31T00:00:00\",\"2023-08-31T00:00:00\",\"2023-09-30T00:00:00\",\"2023-09-30T00:00:00\",\"2023-08-31T00:00:00\",\"2023-07-31T00:00:00\"],\"y\":[-238.74994285348953,-234.16687403875534,-234.09891688596724,1134.176148598035,1134.0372847079404,1126.8479127827773],\"type\":\"scatter\"},{\"hovertemplate\":\"Error Margin: %{y:.2f}%\\u003cbr\\u003eDate: %{x|%b %Y}\\u003cextra\\u003e\\u003c\\u002fextra\\u003e\",\"marker\":{\"color\":\"orange\",\"symbol\":\"x\"},\"mode\":\"markers\",\"name\":\"Error Margin (%)\",\"x\":[\"2023-07-31T00:00:00\",\"2023-08-31T00:00:00\",\"2023-09-30T00:00:00\"],\"y\":[153.76657777350832,152.0445769218299,152.01751775026676],\"type\":\"scatter\"}],                        {\"template\":{\"data\":{\"barpolar\":[{\"marker\":{\"line\":{\"color\":\"white\",\"width\":0.5},\"pattern\":{\"fillmode\":\"overlay\",\"size\":10,\"solidity\":0.2}},\"type\":\"barpolar\"}],\"bar\":[{\"error_x\":{\"color\":\"#2a3f5f\"},\"error_y\":{\"color\":\"#2a3f5f\"},\"marker\":{\"line\":{\"color\":\"white\",\"width\":0.5},\"pattern\":{\"fillmode\":\"overlay\",\"size\":10,\"solidity\":0.2}},\"type\":\"bar\"}],\"carpet\":[{\"aaxis\":{\"endlinecolor\":\"#2a3f5f\",\"gridcolor\":\"#C8D4E3\",\"linecolor\":\"#C8D4E3\",\"minorgridcolor\":\"#C8D4E3\",\"startlinecolor\":\"#2a3f5f\"},\"baxis\":{\"endlinecolor\":\"#2a3f5f\",\"gridcolor\":\"#C8D4E3\",\"linecolor\":\"#C8D4E3\",\"minorgridcolor\":\"#C8D4E3\",\"startlinecolor\":\"#2a3f5f\"},\"type\":\"carpet\"}],\"choropleth\":[{\"colorbar\":{\"outlinewidth\":0,\"ticks\":\"\"},\"type\":\"choropleth\"}],\"contourcarpet\":[{\"colorbar\":{\"outlinewidth\":0,\"ticks\":\"\"},\"type\":\"contourcarpet\"}],\"contour\":[{\"colorbar\":{\"outlinewidth\":0,\"ticks\":\"\"},\"colorscale\":[[0.0,\"#0d0887\"],[0.1111111111111111,\"#46039f\"],[0.2222222222222222,\"#7201a8\"],[0.3333333333333333,\"#9c179e\"],[0.4444444444444444,\"#bd3786\"],[0.5555555555555556,\"#d8576b\"],[0.6666666666666666,\"#ed7953\"],[0.7777777777777778,\"#fb9f3a\"],[0.8888888888888888,\"#fdca26\"],[1.0,\"#f0f921\"]],\"type\":\"contour\"}],\"heatmapgl\":[{\"colorbar\":{\"outlinewidth\":0,\"ticks\":\"\"},\"colorscale\":[[0.0,\"#0d0887\"],[0.1111111111111111,\"#46039f\"],[0.2222222222222222,\"#7201a8\"],[0.3333333333333333,\"#9c179e\"],[0.4444444444444444,\"#bd3786\"],[0.5555555555555556,\"#d8576b\"],[0.6666666666666666,\"#ed7953\"],[0.7777777777777778,\"#fb9f3a\"],[0.8888888888888888,\"#fdca26\"],[1.0,\"#f0f921\"]],\"type\":\"heatmapgl\"}],\"heatmap\":[{\"colorbar\":{\"outlinewidth\":0,\"ticks\":\"\"},\"colorscale\":[[0.0,\"#0d0887\"],[0.1111111111111111,\"#46039f\"],[0.2222222222222222,\"#7201a8\"],[0.3333333333333333,\"#9c179e\"],[0.4444444444444444,\"#bd3786\"],[0.5555555555555556,\"#d8576b\"],[0.6666666666666666,\"#ed7953\"],[0.7777777777777778,\"#fb9f3a\"],[0.8888888888888888,\"#fdca26\"],[1.0,\"#f0f921\"]],\"type\":\"heatmap\"}],\"histogram2dcontour\":[{\"colorbar\":{\"outlinewidth\":0,\"ticks\":\"\"},\"colorscale\":[[0.0,\"#0d0887\"],[0.1111111111111111,\"#46039f\"],[0.2222222222222222,\"#7201a8\"],[0.3333333333333333,\"#9c179e\"],[0.4444444444444444,\"#bd3786\"],[0.5555555555555556,\"#d8576b\"],[0.6666666666666666,\"#ed7953\"],[0.7777777777777778,\"#fb9f3a\"],[0.8888888888888888,\"#fdca26\"],[1.0,\"#f0f921\"]],\"type\":\"histogram2dcontour\"}],\"histogram2d\":[{\"colorbar\":{\"outlinewidth\":0,\"ticks\":\"\"},\"colorscale\":[[0.0,\"#0d0887\"],[0.1111111111111111,\"#46039f\"],[0.2222222222222222,\"#7201a8\"],[0.3333333333333333,\"#9c179e\"],[0.4444444444444444,\"#bd3786\"],[0.5555555555555556,\"#d8576b\"],[0.6666666666666666,\"#ed7953\"],[0.7777777777777778,\"#fb9f3a\"],[0.8888888888888888,\"#fdca26\"],[1.0,\"#f0f921\"]],\"type\":\"histogram2d\"}],\"histogram\":[{\"marker\":{\"pattern\":{\"fillmode\":\"overlay\",\"size\":10,\"solidity\":0.2}},\"type\":\"histogram\"}],\"mesh3d\":[{\"colorbar\":{\"outlinewidth\":0,\"ticks\":\"\"},\"type\":\"mesh3d\"}],\"parcoords\":[{\"line\":{\"colorbar\":{\"outlinewidth\":0,\"ticks\":\"\"}},\"type\":\"parcoords\"}],\"pie\":[{\"automargin\":true,\"type\":\"pie\"}],\"scatter3d\":[{\"line\":{\"colorbar\":{\"outlinewidth\":0,\"ticks\":\"\"}},\"marker\":{\"colorbar\":{\"outlinewidth\":0,\"ticks\":\"\"}},\"type\":\"scatter3d\"}],\"scattercarpet\":[{\"marker\":{\"colorbar\":{\"outlinewidth\":0,\"ticks\":\"\"}},\"type\":\"scattercarpet\"}],\"scattergeo\":[{\"marker\":{\"colorbar\":{\"outlinewidth\":0,\"ticks\":\"\"}},\"type\":\"scattergeo\"}],\"scattergl\":[{\"marker\":{\"colorbar\":{\"outlinewidth\":0,\"ticks\":\"\"}},\"type\":\"scattergl\"}],\"scattermapbox\":[{\"marker\":{\"colorbar\":{\"outlinewidth\":0,\"ticks\":\"\"}},\"type\":\"scattermapbox\"}],\"scatterpolargl\":[{\"marker\":{\"colorbar\":{\"outlinewidth\":0,\"ticks\":\"\"}},\"type\":\"scatterpolargl\"}],\"scatterpolar\":[{\"marker\":{\"colorbar\":{\"outlinewidth\":0,\"ticks\":\"\"}},\"type\":\"scatterpolar\"}],\"scatter\":[{\"fillpattern\":{\"fillmode\":\"overlay\",\"size\":10,\"solidity\":0.2},\"type\":\"scatter\"}],\"scatterternary\":[{\"marker\":{\"colorbar\":{\"outlinewidth\":0,\"ticks\":\"\"}},\"type\":\"scatterternary\"}],\"surface\":[{\"colorbar\":{\"outlinewidth\":0,\"ticks\":\"\"},\"colorscale\":[[0.0,\"#0d0887\"],[0.1111111111111111,\"#46039f\"],[0.2222222222222222,\"#7201a8\"],[0.3333333333333333,\"#9c179e\"],[0.4444444444444444,\"#bd3786\"],[0.5555555555555556,\"#d8576b\"],[0.6666666666666666,\"#ed7953\"],[0.7777777777777778,\"#fb9f3a\"],[0.8888888888888888,\"#fdca26\"],[1.0,\"#f0f921\"]],\"type\":\"surface\"}],\"table\":[{\"cells\":{\"fill\":{\"color\":\"#EBF0F8\"},\"line\":{\"color\":\"white\"}},\"header\":{\"fill\":{\"color\":\"#C8D4E3\"},\"line\":{\"color\":\"white\"}},\"type\":\"table\"}]},\"layout\":{\"annotationdefaults\":{\"arrowcolor\":\"#2a3f5f\",\"arrowhead\":0,\"arrowwidth\":1},\"autotypenumbers\":\"strict\",\"coloraxis\":{\"colorbar\":{\"outlinewidth\":0,\"ticks\":\"\"}},\"colorscale\":{\"diverging\":[[0,\"#8e0152\"],[0.1,\"#c51b7d\"],[0.2,\"#de77ae\"],[0.3,\"#f1b6da\"],[0.4,\"#fde0ef\"],[0.5,\"#f7f7f7\"],[0.6,\"#e6f5d0\"],[0.7,\"#b8e186\"],[0.8,\"#7fbc41\"],[0.9,\"#4d9221\"],[1,\"#276419\"]],\"sequential\":[[0.0,\"#0d0887\"],[0.1111111111111111,\"#46039f\"],[0.2222222222222222,\"#7201a8\"],[0.3333333333333333,\"#9c179e\"],[0.4444444444444444,\"#bd3786\"],[0.5555555555555556,\"#d8576b\"],[0.6666666666666666,\"#ed7953\"],[0.7777777777777778,\"#fb9f3a\"],[0.8888888888888888,\"#fdca26\"],[1.0,\"#f0f921\"]],\"sequentialminus\":[[0.0,\"#0d0887\"],[0.1111111111111111,\"#46039f\"],[0.2222222222222222,\"#7201a8\"],[0.3333333333333333,\"#9c179e\"],[0.4444444444444444,\"#bd3786\"],[0.5555555555555556,\"#d8576b\"],[0.6666666666666666,\"#ed7953\"],[0.7777777777777778,\"#fb9f3a\"],[0.8888888888888888,\"#fdca26\"],[1.0,\"#f0f921\"]]},\"colorway\":[\"#636efa\",\"#EF553B\",\"#00cc96\",\"#ab63fa\",\"#FFA15A\",\"#19d3f3\",\"#FF6692\",\"#B6E880\",\"#FF97FF\",\"#FECB52\"],\"font\":{\"color\":\"#2a3f5f\"},\"geo\":{\"bgcolor\":\"white\",\"lakecolor\":\"white\",\"landcolor\":\"white\",\"showlakes\":true,\"showland\":true,\"subunitcolor\":\"#C8D4E3\"},\"hoverlabel\":{\"align\":\"left\"},\"hovermode\":\"closest\",\"mapbox\":{\"style\":\"light\"},\"paper_bgcolor\":\"white\",\"plot_bgcolor\":\"white\",\"polar\":{\"angularaxis\":{\"gridcolor\":\"#EBF0F8\",\"linecolor\":\"#EBF0F8\",\"ticks\":\"\"},\"bgcolor\":\"white\",\"radialaxis\":{\"gridcolor\":\"#EBF0F8\",\"linecolor\":\"#EBF0F8\",\"ticks\":\"\"}},\"scene\":{\"xaxis\":{\"backgroundcolor\":\"white\",\"gridcolor\":\"#DFE8F3\",\"gridwidth\":2,\"linecolor\":\"#EBF0F8\",\"showbackground\":true,\"ticks\":\"\",\"zerolinecolor\":\"#EBF0F8\"},\"yaxis\":{\"backgroundcolor\":\"white\",\"gridcolor\":\"#DFE8F3\",\"gridwidth\":2,\"linecolor\":\"#EBF0F8\",\"showbackground\":true,\"ticks\":\"\",\"zerolinecolor\":\"#EBF0F8\"},\"zaxis\":{\"backgroundcolor\":\"white\",\"gridcolor\":\"#DFE8F3\",\"gridwidth\":2,\"linecolor\":\"#EBF0F8\",\"showbackground\":true,\"ticks\":\"\",\"zerolinecolor\":\"#EBF0F8\"}},\"shapedefaults\":{\"line\":{\"color\":\"#2a3f5f\"}},\"ternary\":{\"aaxis\":{\"gridcolor\":\"#DFE8F3\",\"linecolor\":\"#A2B1C6\",\"ticks\":\"\"},\"baxis\":{\"gridcolor\":\"#DFE8F3\",\"linecolor\":\"#A2B1C6\",\"ticks\":\"\"},\"bgcolor\":\"white\",\"caxis\":{\"gridcolor\":\"#DFE8F3\",\"linecolor\":\"#A2B1C6\",\"ticks\":\"\"}},\"title\":{\"x\":0.05},\"xaxis\":{\"automargin\":true,\"gridcolor\":\"#EBF0F8\",\"linecolor\":\"#EBF0F8\",\"ticks\":\"\",\"title\":{\"standoff\":15},\"zerolinecolor\":\"#EBF0F8\",\"zerolinewidth\":2},\"yaxis\":{\"automargin\":true,\"gridcolor\":\"#EBF0F8\",\"linecolor\":\"#EBF0F8\",\"ticks\":\"\",\"title\":{\"standoff\":15},\"zerolinecolor\":\"#EBF0F8\",\"zerolinewidth\":2}}},\"title\":{\"text\":\"Backtest Forecast for Flannel Shirt | MAPE: 9.60%\"},\"xaxis\":{\"title\":{\"text\":\"Month\"}},\"yaxis\":{\"title\":{\"text\":\"Total Sales (USD)\"}}},                        {\"responsive\": true}                    ).then(function(){\n",
       "                            \n",
       "var gd = document.getElementById('b4c4a616-788c-4572-888f-f531d4bd89e0');\n",
       "var x = new MutationObserver(function (mutations, observer) {{\n",
       "        var display = window.getComputedStyle(gd).display;\n",
       "        if (!display || display === 'none') {{\n",
       "            console.log([gd, 'removed!']);\n",
       "            Plotly.purge(gd);\n",
       "            observer.disconnect();\n",
       "        }}\n",
       "}});\n",
       "\n",
       "// Listen for the removal of the full notebook cells\n",
       "var notebookContainer = gd.closest('#notebook-container');\n",
       "if (notebookContainer) {{\n",
       "    x.observe(notebookContainer, {childList: true});\n",
       "}}\n",
       "\n",
       "// Listen for the clearing of the current output cell\n",
       "var outputEl = gd.closest('.output');\n",
       "if (outputEl) {{\n",
       "    x.observe(outputEl, {childList: true});\n",
       "}}\n",
       "\n",
       "                        })                };                });            </script>        </div>"
      ]
     },
     "metadata": {},
     "output_type": "display_data"
    }
   ],
   "source": [
    "import pandas as pd\n",
    "import plotly.graph_objects as go\n",
    "from statsmodels.tsa.arima.model import ARIMA\n",
    "import numpy as np\n",
    "\n",
    "# Step 1: Monthly sales summary\n",
    "monthly_sales = df.groupby(['item', 'month']).agg(\n",
    "    Total_Sales=('amount_usd', 'sum')\n",
    ").reset_index()\n",
    "\n",
    "# Step 2: Forecasting function with train/test split\n",
    "def forecast_item(item_name):\n",
    "    item_data = monthly_sales[monthly_sales['item'] == item_name].copy()\n",
    "    item_data = item_data.set_index('month').resample('M').sum().fillna(0)\n",
    "\n",
    "    if len(item_data) < 12:\n",
    "        print(f\"Not enough data for {item_name}\")\n",
    "        return\n",
    "\n",
    "    # Split into 80% train, 20% test\n",
    "    split_idx = int(len(item_data) * 0.8)\n",
    "    train = item_data.iloc[:split_idx]\n",
    "    test = item_data.iloc[split_idx:]\n",
    "\n",
    "    try:\n",
    "        model = ARIMA(train['Total_Sales'], order=(1, 1, 1))\n",
    "        model_fit = model.fit()\n",
    "        forecast_result = model_fit.get_forecast(steps=len(test))\n",
    "    except Exception as e:\n",
    "        print(f\"Forecast failed for '{item_name}': {e}\")\n",
    "        return\n",
    "\n",
    "    forecast_mean = forecast_result.predicted_mean\n",
    "    conf_int = forecast_result.conf_int(alpha=0.05)\n",
    "    forecast_index = test.index\n",
    "\n",
    "    # Error margin in %\n",
    "    margin_error = ((conf_int.iloc[:, 1] - conf_int.iloc[:, 0]) / (2 * forecast_mean.abs())) * 100\n",
    "    abs_error = (forecast_mean - test['Total_Sales']).abs()\n",
    "    mape = (abs_error / test['Total_Sales'].replace(0, np.nan)).mean() * 100\n",
    "\n",
    "    # Plot\n",
    "    fig = go.Figure()\n",
    "\n",
    "    fig.add_trace(go.Scatter(\n",
    "        x=item_data.index, y=item_data['Total_Sales'],\n",
    "        mode='lines+markers', name='Actual Sales'\n",
    "    ))\n",
    "\n",
    "    fig.add_trace(go.Scatter(\n",
    "        x=forecast_index, y=forecast_mean,\n",
    "        mode='lines+markers', name='Forecasted Sales',\n",
    "        hovertemplate='Forecast: %{y:.2f}<br>Date: %{x|%b %Y}<extra></extra>'\n",
    "    ))\n",
    "\n",
    "    fig.add_trace(go.Scatter(\n",
    "        x=forecast_index.tolist() + forecast_index[::-1].tolist(),\n",
    "        y=conf_int.iloc[:, 0].tolist() + conf_int.iloc[:, 1][::-1].tolist(),\n",
    "        fill='toself',\n",
    "        fillcolor='rgba(0,100,80,0.2)',\n",
    "        line=dict(color='rgba(255,255,255,0)'),\n",
    "        hoverinfo=\"skip\",\n",
    "        showlegend=True,\n",
    "        name='95% Confidence Interval'\n",
    "    ))\n",
    "\n",
    "    fig.add_trace(go.Scatter(\n",
    "        x=forecast_index, y=margin_error,\n",
    "        mode='markers',\n",
    "        name='Error Margin (%)',\n",
    "        marker=dict(symbol='x', color='orange'),\n",
    "        hovertemplate='Error Margin: %{y:.2f}%<br>Date: %{x|%b %Y}<extra></extra>'\n",
    "    ))\n",
    "\n",
    "    fig.update_layout(\n",
    "        title=f\"Backtest Forecast for {item_name} | MAPE: {mape:.2f}%\",\n",
    "        xaxis_title=\"Month\",\n",
    "        yaxis_title=\"Total Sales (USD)\",\n",
    "        template=\"plotly_white\"\n",
    "    )\n",
    "\n",
    "    fig.show()\n",
    "\n",
    "# Example usage\n",
    "forecast_item(\"Flannel Shirt\")\n"
   ]
  },
  {
   "cell_type": "code",
   "execution_count": 76,
   "id": "d2157411-9c62-4b9f-8715-401753fbbb5e",
   "metadata": {},
   "outputs": [
    {
     "name": "stdout",
     "output_type": "stream",
     "text": [
      "MAPE Table for ARIMA(3,1,2):\n",
      "\n",
      "             Item  MAPE (%)\n",
      "0          Blazer    123.66\n",
      "1          Blouse    186.46\n",
      "2        Camisole    499.35\n",
      "3        Cardigan     94.08\n",
      "4            Coat     31.04\n",
      "5           Dress     54.88\n",
      "6   Flannel Shirt      9.28\n",
      "7          Hoodie     66.09\n",
      "8          Jacket     80.24\n",
      "9           Jeans    101.01\n",
      "10       Jumpsuit    477.88\n",
      "11         Kimono    882.44\n",
      "12       Leggings     90.89\n",
      "13         Onesie     65.21\n",
      "14       Overalls     39.21\n",
      "15        Pajamas    240.13\n",
      "16          Pants    244.84\n",
      "17     Polo Shirt    166.58\n",
      "18         Poncho     79.98\n",
      "19       Raincoat     90.36\n",
      "20         Romper    179.70\n",
      "21         Shorts     35.99\n",
      "22          Skirt     24.39\n",
      "23        Sweater    101.74\n",
      "24       Swimsuit     30.25\n",
      "25        T-shirt     41.08\n",
      "26    Trench Coat    557.12\n",
      "27       Trousers     82.27\n",
      "28          Tunic    181.92\n",
      "29           Vest    111.36\n",
      "\n",
      "Overall Average MAPE Across All Items: 165.65%\n"
     ]
    }
   ],
   "source": [
    "import pandas as pd\n",
    "from statsmodels.tsa.arima.model import ARIMA\n",
    "import numpy as np\n",
    "\n",
    "# Set forecast horizon and prepare item list\n",
    "forecast_periods = 10\n",
    "items = monthly_sales['item'].unique()\n",
    "results = []\n",
    "\n",
    "# Loop through each clothing item\n",
    "for item in items:\n",
    "    item_data = monthly_sales[monthly_sales['item'] == item].copy()\n",
    "    item_data = item_data.set_index('month').resample('M').sum().fillna(0)\n",
    "\n",
    "    # Ensure there's enough data for a split and test set\n",
    "    if len(item_data) < forecast_periods + 2:\n",
    "        continue\n",
    "\n",
    "    # 80/20 split\n",
    "    split_idx = int(len(item_data) * 0.8)\n",
    "    train = item_data.iloc[:split_idx]\n",
    "    test = item_data.iloc[split_idx:]\n",
    "\n",
    "    if len(test) < 1:\n",
    "        continue\n",
    "\n",
    "    try:\n",
    "        # Fit ARIMA model\n",
    "        model = ARIMA(train['Total_Sales'], order=(0,1,1))\n",
    "        model_fit = model.fit()\n",
    "\n",
    "        # Forecast on test set\n",
    "        forecast_result = model_fit.get_forecast(steps=len(test))\n",
    "        forecast_mean = forecast_result.predicted_mean\n",
    "\n",
    "        # Compute MAPE (handle division by zero)\n",
    "        abs_error = (forecast_mean - test['Total_Sales']).abs()\n",
    "        mape = (abs_error / test['Total_Sales'].replace(0, np.nan)).mean() * 100\n",
    "\n",
    "        results.append({'Item': item, 'MAPE (%)': round(mape, 2)})\n",
    "    except:\n",
    "        # In case model fails, record as None\n",
    "        results.append({'Item': item, 'MAPE (%)': None})\n",
    "\n",
    "# Create DataFrame\n",
    "mape_table = pd.DataFrame(results)\n",
    "\n",
    "# Compute and print overall average MAPE\n",
    "overall_mape = mape_table['MAPE (%)'].mean()\n",
    "print(\"MAPE Table for ARIMA(3,1,2):\\n\")\n",
    "print(mape_table)\n",
    "print(\"\\nOverall Average MAPE Across All Items: {:.2f}%\".format(overall_mape))\n"
   ]
  },
  {
   "cell_type": "code",
   "execution_count": null,
   "id": "1fd4bc68-15fe-465d-8f30-2816e5a272a9",
   "metadata": {},
   "outputs": [],
   "source": []
  }
 ],
 "metadata": {
  "kernelspec": {
   "display_name": "Python [conda env:base] *",
   "language": "python",
   "name": "conda-base-py"
  },
  "language_info": {
   "codemirror_mode": {
    "name": "ipython",
    "version": 3
   },
   "file_extension": ".py",
   "mimetype": "text/x-python",
   "name": "python",
   "nbconvert_exporter": "python",
   "pygments_lexer": "ipython3",
   "version": "3.12.7"
  }
 },
 "nbformat": 4,
 "nbformat_minor": 5
}
